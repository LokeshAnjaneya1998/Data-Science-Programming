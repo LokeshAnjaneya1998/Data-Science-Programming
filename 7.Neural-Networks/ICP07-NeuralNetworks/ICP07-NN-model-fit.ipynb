{
 "cells": [
  {
   "cell_type": "markdown",
   "metadata": {
    "id": "w0tyra0NWJvI"
   },
   "source": [
    "## ICP07 Neural Networks comparing models with Logestic regression\n",
    "\n",
    "In this exercise I will compare the performance of three different modeling approaches(Neural networks and Logestiv regressions) at predicting handwritten numbers.\n",
    "\n",
    "\n",
    "\n",
    "We use the MNIST data set;\n",
    "\n",
    "![mnist data](https://upload.wikimedia.org/wikipedia/commons/2/27/MnistExamples.png)"
   ]
  },
  {
   "cell_type": "markdown",
   "metadata": {
    "id": "pmAFVhDJXFBb"
   },
   "source": [
    "## Load libraries"
   ]
  },
  {
   "cell_type": "code",
   "execution_count": 1,
   "metadata": {
    "id": "48VnFR9cXFP0"
   },
   "outputs": [],
   "source": [
    "from __future__ import print_function\n",
    "import numpy as np\n",
    "import pandas as pd\n",
    "from sklearn.neural_network import MLPClassifier\n",
    "from sklearn.model_selection import train_test_split\n",
    "from sklearn.metrics import classification_report, confusion_matrix, ConfusionMatrixDisplay\n",
    "from sklearn.metrics import f1_score, recall_score, precision_score, accuracy_score\n",
    "from sklearn.model_selection import GridSearchCV, RandomizedSearchCV\n",
    "from sklearn.linear_model import LogisticRegression\n",
    "import matplotlib.pyplot as plt\n",
    "from sklearn.metrics import mean_squared_error\n",
    "import collections\n",
    "\n",
    "\n",
    "from sklearn import datasets\n",
    "\n",
    "\n",
    "np.random.seed(1)"
   ]
  },
  {
   "cell_type": "markdown",
   "metadata": {
    "id": "YI7yVb-VW2zi"
   },
   "source": [
    "## Load data and explore/get to know the data structure\n",
    "\n"
   ]
  },
  {
   "cell_type": "markdown",
   "metadata": {},
   "source": [
    "Load the MNIST digits dataset. It's originally from UCI machine learning library, but included in SKLearn."
   ]
  },
  {
   "cell_type": "code",
   "execution_count": 2,
   "metadata": {
    "colab": {
     "base_uri": "https://localhost:8080/",
     "height": 34
    },
    "id": "M8CjaVlYW2Jx",
    "outputId": "e90a4dd3-3781-477f-b02f-97ac3e75be91"
   },
   "outputs": [],
   "source": [
    "mnist = datasets.load_digits() # sklearn includes this data set .. https://archive.ics.uci.edu/ml/datasets/Optical+Recognition+of+Handwritten+Digits"
   ]
  },
  {
   "cell_type": "markdown",
   "metadata": {},
   "source": [
    "Notice that the dataset is stored in a dictionary"
   ]
  },
  {
   "cell_type": "code",
   "execution_count": 3,
   "metadata": {
    "colab": {
     "base_uri": "https://localhost:8080/",
     "height": 34
    },
    "id": "5pPXrazAfUoL",
    "outputId": "593b0df0-7b98-4c9b-e01d-36930d653723"
   },
   "outputs": [
    {
     "data": {
      "text/plain": [
       "dict_keys(['data', 'target', 'frame', 'feature_names', 'target_names', 'images', 'DESCR'])"
      ]
     },
     "execution_count": 3,
     "metadata": {},
     "output_type": "execute_result"
    }
   ],
   "source": [
    "mnist.keys()"
   ]
  },
  {
   "cell_type": "markdown",
   "metadata": {},
   "source": [
    "Note thjat there are 1797 images."
   ]
  },
  {
   "cell_type": "code",
   "execution_count": 4,
   "metadata": {
    "colab": {
     "base_uri": "https://localhost:8080/",
     "height": 34
    },
    "id": "rTQ7qNp4ffaW",
    "outputId": "3d267533-ac01-4747-abee-369aae5d3d79"
   },
   "outputs": [
    {
     "name": "stdout",
     "output_type": "stream",
     "text": [
      "1797\n"
     ]
    }
   ],
   "source": [
    "print(len(mnist.data))"
   ]
  },
  {
   "cell_type": "markdown",
   "metadata": {},
   "source": [
    "Let's look at the frequency of each digit in the data set. This will allow us to see if the data set is balanced or not."
   ]
  },
  {
   "cell_type": "code",
   "execution_count": 5,
   "metadata": {},
   "outputs": [
    {
     "data": {
      "text/plain": [
       "Counter({0: 178,\n",
       "         1: 182,\n",
       "         2: 177,\n",
       "         3: 183,\n",
       "         4: 181,\n",
       "         5: 182,\n",
       "         6: 181,\n",
       "         7: 179,\n",
       "         8: 174,\n",
       "         9: 180})"
      ]
     },
     "execution_count": 5,
     "metadata": {},
     "output_type": "execute_result"
    }
   ],
   "source": [
    "import collections\n",
    "\n",
    "counts = collections.Counter(mnist.target)\n",
    "counts"
   ]
  },
  {
   "cell_type": "markdown",
   "metadata": {},
   "source": [
    "We can look at the count of each digit using a histogram as well..."
   ]
  },
  {
   "cell_type": "code",
   "execution_count": 6,
   "metadata": {},
   "outputs": [
    {
     "data": {
      "image/png": "[encoded data removed]",
      "text/plain": [
       "<Figure size 700x350 with 1 Axes>"
      ]
     },
     "metadata": {},
     "output_type": "display_data"
    }
   ],
   "source": [
    "from matplotlib import pyplot as plt\n",
    "\n",
    "# Set the figure size\n",
    "plt.rcParams[\"figure.figsize\"] = [7.00, 3.50]\n",
    "plt.rcParams[\"figure.autolayout\"] = True\n",
    "\n",
    "# Plot bar chart with data points\n",
    "plt.bar(counts.keys(), counts.values())\n",
    "\n",
    "# Display the plot\n",
    "plt.show()"
   ]
  },
  {
   "cell_type": "markdown",
   "metadata": {},
   "source": [
    "Images are 8x8 grid of values epresenting the gray level for each pixel (16 levels of grey -- from 0 (black) to 15 (white)). "
   ]
  },
  {
   "cell_type": "code",
   "execution_count": 7,
   "metadata": {
    "colab": {
     "base_uri": "https://localhost:8080/",
     "height": 153
    },
    "id": "B0ZaSvLlfva0",
    "outputId": "7735e16a-6f2e-41cd-e4e3-55c1dbd5a89d"
   },
   "outputs": [
    {
     "data": {
      "text/plain": [
       "array([[ 0.,  0.,  5., 13.,  9.,  1.,  0.,  0.],\n",
       "       [ 0.,  0., 13., 15., 10., 15.,  5.,  0.],\n",
       "       [ 0.,  3., 15.,  2.,  0., 11.,  8.,  0.],\n",
       "       [ 0.,  4., 12.,  0.,  0.,  8.,  8.,  0.],\n",
       "       [ 0.,  5.,  8.,  0.,  0.,  9.,  8.,  0.],\n",
       "       [ 0.,  4., 11.,  0.,  1., 12.,  7.,  0.],\n",
       "       [ 0.,  2., 14.,  5., 10., 12.,  0.,  0.],\n",
       "       [ 0.,  0.,  6., 13., 10.,  0.,  0.,  0.]])"
      ]
     },
     "execution_count": 7,
     "metadata": {},
     "output_type": "execute_result"
    }
   ],
   "source": [
    "mnist.images[0]"
   ]
  },
  {
   "cell_type": "markdown",
   "metadata": {},
   "source": [
    "To analyze this, we simple turn this into a one dimensional array (so we will x1, x2, ... x63, x64). This has already been done for us, and is stored in the data key."
   ]
  },
  {
   "cell_type": "code",
   "execution_count": 8,
   "metadata": {
    "colab": {
     "base_uri": "https://localhost:8080/",
     "height": 102
    },
    "id": "sjDP19CWfT6S",
    "outputId": "f3643de4-6fc9-4810-d5d5-21fb633970fa"
   },
   "outputs": [
    {
     "data": {
      "text/plain": [
       "array([ 0.,  0.,  5., 13.,  9.,  1.,  0.,  0.,  0.,  0., 13., 15., 10.,\n",
       "       15.,  5.,  0.,  0.,  3., 15.,  2.,  0., 11.,  8.,  0.,  0.,  4.,\n",
       "       12.,  0.,  0.,  8.,  8.,  0.,  0.,  5.,  8.,  0.,  0.,  9.,  8.,\n",
       "        0.,  0.,  4., 11.,  0.,  1., 12.,  7.,  0.,  0.,  2., 14.,  5.,\n",
       "       10., 12.,  0.,  0.,  0.,  0.,  6., 13., 10.,  0.,  0.,  0.])"
      ]
     },
     "execution_count": 8,
     "metadata": {},
     "output_type": "execute_result"
    }
   ],
   "source": [
    "mnist.data[0]"
   ]
  },
  {
   "cell_type": "code",
   "execution_count": 9,
   "metadata": {
    "colab": {
     "base_uri": "https://localhost:8080/",
     "height": 102
    },
    "id": "Pi5Fvsd_dry5",
    "outputId": "d61e56b6-99c4-486c-b4fa-523f3cb7f1d3"
   },
   "outputs": [
    {
     "name": "stdout",
     "output_type": "stream",
     "text": [
      "0\n",
      "1\n",
      "2\n",
      "3\n",
      "4\n",
      "5\n",
      "6\n"
     ]
    }
   ],
   "source": [
    "print(mnist.target[0])\n",
    "print(mnist.target[1])\n",
    "print(mnist.target[2])\n",
    "print(mnist.target[3])\n",
    "print(mnist.target[4])\n",
    "print(mnist.target[5])\n",
    "print(mnist.target[6])"
   ]
  },
  {
   "cell_type": "markdown",
   "metadata": {},
   "source": [
    "We can use matplotlib to display a sample of these images from the data."
   ]
  },
  {
   "cell_type": "code",
   "execution_count": 10,
   "metadata": {
    "colab": {
     "base_uri": "https://localhost:8080/",
     "height": 1000
    },
    "id": "qW162_28WC60",
    "outputId": "c7bf771d-ebd1-4a42-e9e4-719d243b814a"
   },
   "outputs": [
    {
     "data": {
      "image/png": "[encoded data removed]",
      "text/plain": [
       "<Figure size 700x350 with 1 Axes>"
      ]
     },
     "metadata": {},
     "output_type": "display_data"
    },
    {
     "data": {
      "image/png": "[encoded data removed]",
      "text/plain": [
       "<Figure size 700x350 with 1 Axes>"
      ]
     },
     "metadata": {},
     "output_type": "display_data"
    },
    {
     "data": {
      "image/png": "[encoded data removed]",
      "text/plain": [
       "<Figure size 700x350 with 1 Axes>"
      ]
     },
     "metadata": {},
     "output_type": "display_data"
    },
    {
     "data": {
      "image/png": "[encoded data removed]",
      "text/plain": [
       "<Figure size 700x350 with 1 Axes>"
      ]
     },
     "metadata": {},
     "output_type": "display_data"
    }
   ],
   "source": [
    "for i in np.random.choice(range(0,len(mnist.images)), 4): # choose 4 at random\n",
    "  plt.imshow(mnist.images[i], cmap='gray')\n",
    "  plt.show()"
   ]
  },
  {
   "cell_type": "markdown",
   "metadata": {},
   "source": [
    "## Split data into training and test sets\n"
   ]
  },
  {
   "cell_type": "markdown",
   "metadata": {},
   "source": [
    "Now that we understand data splitting, we can now use this in our model building process."
   ]
  },
  {
   "cell_type": "code",
   "execution_count": 11,
   "metadata": {},
   "outputs": [],
   "source": [
    "X_train, X_test, y_train, y_test = train_test_split(mnist.data, mnist.target, test_size=0.2, random_state=1)"
   ]
  },
  {
   "cell_type": "markdown",
   "metadata": {},
   "source": [
    "## Normalize/Standardize the data"
   ]
  },
  {
   "cell_type": "code",
   "execution_count": 12,
   "metadata": {},
   "outputs": [],
   "source": [
    "from sklearn.preprocessing import StandardScaler\n",
    "scaler = StandardScaler()\n",
    "scaler.fit(X_train)\n",
    "X_train = scaler.transform(X_train)\n",
    "X_test  = scaler.transform(X_test)"
   ]
  },
  {
   "cell_type": "markdown",
   "metadata": {},
   "source": [
    "### Neural Net"
   ]
  },
  {
   "cell_type": "code",
   "execution_count": 13,
   "metadata": {
    "id": "5WfGTWb3hYd-"
   },
   "outputs": [
    {
     "name": "stdout",
     "output_type": "stream",
     "text": [
      "CPU times: total: 8.67 s\n",
      "Wall time: 20.7 s\n"
     ]
    }
   ],
   "source": [
    "%%time\n",
    "\n",
    "ann = MLPClassifier(hidden_layer_sizes=(128,64,32), solver='adam', max_iter=200)\n",
    "_ = ann.fit(X_train, y_train)"
   ]
  },
  {
   "cell_type": "code",
   "execution_count": 14,
   "metadata": {},
   "outputs": [
    {
     "name": "stdout",
     "output_type": "stream",
     "text": [
      "CPU times: total: 0 ns\n",
      "Wall time: 0 ns\n"
     ]
    }
   ],
   "source": [
    "%%time\n",
    "y_pred = ann.predict(X_test)"
   ]
  },
  {
   "cell_type": "markdown",
   "metadata": {},
   "source": [
    "Sinc this is a multi-class target (0 through 9), our confusion matrix is a 10x10 matrix."
   ]
  },
  {
   "cell_type": "code",
   "execution_count": 15,
   "metadata": {},
   "outputs": [
    {
     "data": {
      "text/plain": [
       "array([[42,  0,  0,  0,  1,  0,  0,  0,  0,  0],\n",
       "       [ 0, 35,  0,  0,  0,  0,  0,  0,  0,  0],\n",
       "       [ 0,  0, 35,  1,  0,  0,  0,  0,  0,  0],\n",
       "       [ 0,  0,  0, 41,  0,  0,  0,  0,  0,  0],\n",
       "       [ 0,  0,  0,  0, 38,  0,  0,  0,  0,  0],\n",
       "       [ 0,  1,  0,  0,  0, 29,  0,  0,  0,  0],\n",
       "       [ 0,  0,  0,  0,  0,  0, 37,  0,  0,  0],\n",
       "       [ 0,  0,  0,  0,  0,  0,  0, 36,  0,  1],\n",
       "       [ 0,  0,  0,  1,  0,  1,  0,  0, 27,  0],\n",
       "       [ 0,  0,  0,  0,  0,  1,  0,  0,  0, 33]], dtype=int64)"
      ]
     },
     "execution_count": 15,
     "metadata": {},
     "output_type": "execute_result"
    }
   ],
   "source": [
    "confusion_matrix(y_test, y_pred)"
   ]
  },
  {
   "cell_type": "markdown",
   "metadata": {},
   "source": [
    "## Interpretting Multi-Class Confusion Matrix\n",
    "\n",
    "Interpretting a multi-class confusion matrix is a bit more complicated than a binary confusion matrix. The issue is how to 'aggregate' the results. Micro-averaging and macro-averaging are two common approaches. \n",
    "\n",
    "* In micro-averaging, we simply sum up all the cells in the confusion matrix and then compute the metric (accuracy, recall, precision, f1-score). \n",
    "* In macro-averaging, we compute the metric (accuracy, recall, precision, f1-sscore) for each class and then average the results. \n",
    "\n",
    "The difference between macro and micro averaging is that macro averaging gives equal weight to each category while micro averaging gives equal weight to each sample. If we have the same number of samples for each class, both macro and micro will provide the same score."
   ]
  },
  {
   "cell_type": "markdown",
   "metadata": {},
   "source": [
    "For example, if we had a 3-class problem with the following actual and predicted values"
   ]
  },
  {
   "cell_type": "code",
   "execution_count": 16,
   "metadata": {},
   "outputs": [],
   "source": [
    "actual =    [0,0,1,1,0,2,2,2,0,1]\n",
    "predicted = [0,1,1,0,0,2,1,2,2,1]"
   ]
  },
  {
   "cell_type": "markdown",
   "metadata": {},
   "source": [
    "The confusion matrix for this would be:"
   ]
  },
  {
   "cell_type": "code",
   "execution_count": 17,
   "metadata": {},
   "outputs": [
    {
     "data": {
      "text/plain": [
       "array([[2, 1, 1],\n",
       "       [1, 2, 0],\n",
       "       [0, 1, 2]], dtype=int64)"
      ]
     },
     "execution_count": 17,
     "metadata": {},
     "output_type": "execute_result"
    }
   ],
   "source": [
    "c_matrix = confusion_matrix(actual, predicted)\n",
    "c_matrix"
   ]
  },
  {
   "cell_type": "markdown",
   "metadata": {},
   "source": [
    "**ACCURACY**\n",
    "  * The micro-averaged accuracy would be ```0.60``` (sum of the diagonal divided by all total of all cells). \n",
    "    * (2) + (2) + (2) = 6\n",
    "    * (2+1+1) + (1+2+0) + (0+1+2) = 10\n",
    "    * 6/10 = 0.60\n",
    "  * The macro-averaged accuracy would be ```0.94``` (average of the accuracy of each class prediction - each row). \n",
    "    * ((2/4) + (2/3) + (1/3)) / 3 = (.5+.66666+.33)/3 = 0.5\n",
    "  * The weighted marco average accuraccy woudl be ```0.6``` (average of the accuracy of each class prediction weighted by the number of samples in each class). \n",
    "    * ((2/4)*4 + (2/3)*3 + (1/3)*3) / 3 = (2+2+1)/3 = 0.6\n",
    "  * *NOTE1: For a multi-class problem, the accuracy is the same as the micro f1-score.*\n",
    "  * *NOTE2: For a multi-class problem, the micro and weighted macro accuracy are the same.*"
   ]
  },
  {
   "cell_type": "code",
   "execution_count": 18,
   "metadata": {},
   "outputs": [
    {
     "data": {
      "text/plain": [
       "0.6"
      ]
     },
     "execution_count": 18,
     "metadata": {},
     "output_type": "execute_result"
    }
   ],
   "source": [
    "accuracy = np.sum(np.diag(c_matrix)) / np.sum(c_matrix)\n",
    "accuracy"
   ]
  },
  {
   "cell_type": "code",
   "execution_count": 19,
   "metadata": {},
   "outputs": [
    {
     "data": {
      "text/plain": [
       "0.6"
      ]
     },
     "execution_count": 19,
     "metadata": {},
     "output_type": "execute_result"
    }
   ],
   "source": [
    "accuracy_score(actual, predicted)"
   ]
  },
  {
   "cell_type": "code",
   "execution_count": 20,
   "metadata": {},
   "outputs": [
    {
     "data": {
      "text/plain": [
       "array([[2, 1, 1],\n",
       "       [1, 2, 0],\n",
       "       [0, 1, 2]], dtype=int64)"
      ]
     },
     "execution_count": 20,
     "metadata": {},
     "output_type": "execute_result"
    }
   ],
   "source": [
    "c_matrix"
   ]
  },
  {
   "cell_type": "code",
   "execution_count": 21,
   "metadata": {},
   "outputs": [
    {
     "data": {
      "text/plain": [
       "array([[2, 1, 1],\n",
       "       [1, 2, 0],\n",
       "       [0, 1, 2]], dtype=int64)"
      ]
     },
     "execution_count": 21,
     "metadata": {},
     "output_type": "execute_result"
    }
   ],
   "source": [
    "confusion_matrix(actual, predicted)"
   ]
  },
  {
   "cell_type": "code",
   "execution_count": 22,
   "metadata": {},
   "outputs": [
    {
     "name": "stdout",
     "output_type": "stream",
     "text": [
      "              precision    recall  f1-score   support\n",
      "\n",
      "           0       0.67      0.50      0.57         4\n",
      "           1       0.50      0.67      0.57         3\n",
      "           2       0.67      0.67      0.67         3\n",
      "\n",
      "    accuracy                           0.60        10\n",
      "   macro avg       0.61      0.61      0.60        10\n",
      "weighted avg       0.62      0.60      0.60        10\n",
      "\n"
     ]
    }
   ],
   "source": [
    "print(classification_report(actual, predicted))"
   ]
  },
  {
   "cell_type": "markdown",
   "metadata": {},
   "source": [
    "**RECALL**\n",
    "  * The micro-averaged recall would be ```0.600``` (sum of all cells divided by the sum of the row totals). \n",
    "    * 2 + 2 + 2 = 6\n",
    "    * (1+1) + (1+0) + (0+1) = 4\n",
    "    * 6/10 = 0.600\n",
    "  * The macro-averaged recall would be ```0.611``` (average of the recall of each class prediction - each row). \n",
    "    * ((2/3) + (2/4) + (2/3))/3 = 0.611\n",
    "  * The weighted-macro-averaged recall would be `````` (average of the recall of each class prediction weighted by the number of samples in each class). \n",
    "    * ((2/3)*3 + (2/4)*4 + (2/3)*3)/ (4+3+3) = 0.600\n",
    "  * *NOTE1: For a multi-class problem, the recall micro is the same as the micro f1-score.*"
   ]
  },
  {
   "cell_type": "code",
   "execution_count": 23,
   "metadata": {},
   "outputs": [
    {
     "data": {
      "text/plain": [
       "0.6"
      ]
     },
     "execution_count": 23,
     "metadata": {},
     "output_type": "execute_result"
    }
   ],
   "source": [
    "recall_score(actual, predicted, average='micro')"
   ]
  },
  {
   "cell_type": "code",
   "execution_count": 24,
   "metadata": {},
   "outputs": [
    {
     "data": {
      "text/plain": [
       "0.611111111111111"
      ]
     },
     "execution_count": 24,
     "metadata": {},
     "output_type": "execute_result"
    }
   ],
   "source": [
    "recall_score(actual, predicted, average='macro')"
   ]
  },
  {
   "cell_type": "code",
   "execution_count": 25,
   "metadata": {},
   "outputs": [
    {
     "data": {
      "text/plain": [
       "0.6"
      ]
     },
     "execution_count": 25,
     "metadata": {},
     "output_type": "execute_result"
    }
   ],
   "source": [
    "recall_score(actual, predicted, average='weighted')"
   ]
  },
  {
   "cell_type": "code",
   "execution_count": 26,
   "metadata": {},
   "outputs": [
    {
     "data": {
      "text/plain": [
       "array([[2, 1, 1],\n",
       "       [1, 2, 0],\n",
       "       [0, 1, 2]], dtype=int64)"
      ]
     },
     "execution_count": 26,
     "metadata": {},
     "output_type": "execute_result"
    }
   ],
   "source": [
    "c_matrix"
   ]
  },
  {
   "cell_type": "code",
   "execution_count": 27,
   "metadata": {},
   "outputs": [
    {
     "name": "stdout",
     "output_type": "stream",
     "text": [
      "              precision    recall  f1-score   support\n",
      "\n",
      "           0       0.67      0.50      0.57         4\n",
      "           1       0.50      0.67      0.57         3\n",
      "           2       0.67      0.67      0.67         3\n",
      "\n",
      "    accuracy                           0.60        10\n",
      "   macro avg       0.61      0.61      0.60        10\n",
      "weighted avg       0.62      0.60      0.60        10\n",
      "\n"
     ]
    }
   ],
   "source": [
    "print(classification_report(actual, predicted))"
   ]
  },
  {
   "cell_type": "markdown",
   "metadata": {},
   "source": [
    "**PRECISION**\n",
    "  * The micro-averaged precision would be ```0.600``` (sum of all cells divided by the sum of the column totals). \n",
    "    * 2 + 2 + 2 = 6\n",
    "    * (1+1) + (1+0) + (0+1) = 4\n",
    "    * 6/10 = 0.600\n",
    "  * The macro-averaged precision would be ```0.611``` (average of the precision of each class prediction - each row). \n",
    "    * ((2/4) + (2/3) + (2/3))/3 = 0.611\n",
    "  * The weighted macro-averaged precision would be ```0.617``` (average of the precision of each class prediction weighted by the number of samples in each class). \n",
    "    * ((2/4)*3 + (2/3)*4 + (2/3)*3)/ (4+3+3) = 0.617\n"
   ]
  },
  {
   "cell_type": "code",
   "execution_count": 28,
   "metadata": {},
   "outputs": [
    {
     "data": {
      "text/plain": [
       "0.6"
      ]
     },
     "execution_count": 28,
     "metadata": {},
     "output_type": "execute_result"
    }
   ],
   "source": [
    "precision_score(actual, predicted, average='micro')"
   ]
  },
  {
   "cell_type": "code",
   "execution_count": 29,
   "metadata": {},
   "outputs": [
    {
     "data": {
      "text/plain": [
       "0.611111111111111"
      ]
     },
     "execution_count": 29,
     "metadata": {},
     "output_type": "execute_result"
    }
   ],
   "source": [
    "precision_score(actual, predicted, average='macro')"
   ]
  },
  {
   "cell_type": "code",
   "execution_count": 30,
   "metadata": {},
   "outputs": [
    {
     "data": {
      "text/plain": [
       "0.6166666666666666"
      ]
     },
     "execution_count": 30,
     "metadata": {},
     "output_type": "execute_result"
    }
   ],
   "source": [
    "precision_score(actual, predicted, average='weighted')"
   ]
  },
  {
   "cell_type": "markdown",
   "metadata": {},
   "source": [
    "**F1-SCORE**\n",
    "  * Manual Calculation: I'll leave this for an exercise for you to try "
   ]
  },
  {
   "cell_type": "code",
   "execution_count": 31,
   "metadata": {},
   "outputs": [
    {
     "data": {
      "text/plain": [
       "0.6"
      ]
     },
     "execution_count": 31,
     "metadata": {},
     "output_type": "execute_result"
    }
   ],
   "source": [
    "f1_score(actual, predicted, average='micro')"
   ]
  },
  {
   "cell_type": "code",
   "execution_count": 32,
   "metadata": {},
   "outputs": [
    {
     "data": {
      "text/plain": [
       "0.6031746031746033"
      ]
     },
     "execution_count": 32,
     "metadata": {},
     "output_type": "execute_result"
    }
   ],
   "source": [
    "f1_score(actual, predicted, average='macro')"
   ]
  },
  {
   "cell_type": "code",
   "execution_count": 33,
   "metadata": {},
   "outputs": [
    {
     "data": {
      "text/plain": [
       "0.6"
      ]
     },
     "execution_count": 33,
     "metadata": {},
     "output_type": "execute_result"
    }
   ],
   "source": [
    "f1_score(actual, predicted, average='weighted')"
   ]
  },
  {
   "cell_type": "markdown",
   "metadata": {},
   "source": [
    "> In general, the micro-average is usually preferred for multi-class problems."
   ]
  },
  {
   "cell_type": "markdown",
   "metadata": {},
   "source": [
    "Now, for our model, we can summarize each of these metrics as follows:"
   ]
  },
  {
   "cell_type": "code",
   "execution_count": 34,
   "metadata": {},
   "outputs": [],
   "source": [
    "performance = pd.DataFrame({\"model\": [], \"accuracy\": [], \"f1_micro\": [], \"f1_macro\": [], \"f1_weighted\": [],\n",
    "                           \"recall_micro\": [], \"recall_macro\": [], \"recall_weighted\": [], \n",
    "                            \"precision_micro\": [], \"precision_macro\": [], \"precision_weighted\": []})\n",
    "rmses = pd.DataFrame({\"model\": [], \"rmse\": []})"
   ]
  },
  {
   "cell_type": "code",
   "execution_count": 35,
   "metadata": {},
   "outputs": [
    {
     "name": "stdout",
     "output_type": "stream",
     "text": [
      "Accuracy:           0.9806\n",
      "F1 Micro:           0.9806\n",
      "F1 Macro:           0.9795\n",
      "F1 Weighted:        0.9806\n",
      "Recall Micro:       0.9806\n",
      "Recall Macro:       0.9790\n",
      "Recall Weighted:    0.9790\n",
      "Precision Micro:    0.9806\n",
      "Precision Macro:    0.9806\n",
      "Precision Weighted: 0.9806\n"
     ]
    }
   ],
   "source": [
    "accuracy = ann.score(X_test, y_test)\n",
    "print(f\"{'Accuracy:':20s}{accuracy:.4f}\")\n",
    "\n",
    "\n",
    "f1_micro = f1_score(y_test, y_pred, average='micro')\n",
    "print(f\"{'F1 Micro:':20s}{f1_micro:.4f}\")\n",
    "\n",
    "f1_macro = f1_score(y_test, y_pred, average='macro')\n",
    "print(f\"{'F1 Macro:':20s}{f1_macro:.4f}\")\n",
    "\n",
    "f1_weighted = f1_score(y_test, y_pred, average='weighted')\n",
    "print(f\"{'F1 Weighted:':20s}{f1_weighted:.4f}\")\n",
    "\n",
    "\n",
    "recall_micro = recall_score(y_test, y_pred, average='micro')\n",
    "print(f\"{'Recall Micro:':20s}{recall_micro:.4f}\")\n",
    "\n",
    "recall_macro = recall_score(y_test, y_pred, average='macro')\n",
    "print(f\"{'Recall Macro:':20s}{recall_macro:.4f}\")\n",
    "\n",
    "recall_weighted = recall_score(y_test, y_pred, average='weighted')\n",
    "print(f\"{'Recall Weighted:':20s}{recall_macro:.4f}\")\n",
    "\n",
    "\n",
    "precision_micro = precision_score(y_test, y_pred, average='micro')\n",
    "print(f\"{'Precision Micro:':20s}{precision_micro:.4f}\")\n",
    "\n",
    "precision_macro = precision_score(y_test, y_pred, average='macro')\n",
    "print(f\"{'Precision Macro:':20s}{precision_macro:.4f}\")\n",
    "\n",
    "precision_weighted = precision_score(y_test, y_pred, average='weighted')\n",
    "print(f\"{'Precision Weighted:':20s}{precision_macro:.4f}\")\n",
    "\n",
    "performance = pd.concat([performance, pd.DataFrame({\"model\": 'Neural Networks', \"accuracy\": [accuracy], \n",
    "                                                    \"f1_micro\": [f1_micro], \"f1_macro\": [f1_macro], \"f1_weighted\": [f1_weighted],\n",
    "                                                    \"recall_micro\": [recall_micro], \"recall_macro\": [recall_macro], \"recall_weighted\": [recall_weighted], \n",
    "                                                    \"precision_micro\": [precision_micro], \"precision_macro\": [precision_macro], \"precision_weighted\": [precision_weighted]})])\n"
   ]
  },
  {
   "cell_type": "markdown",
   "metadata": {},
   "source": [
    "But, we often are most concerned with the values displayed in the classification report summary table."
   ]
  },
  {
   "cell_type": "code",
   "execution_count": 36,
   "metadata": {},
   "outputs": [
    {
     "name": "stdout",
     "output_type": "stream",
     "text": [
      "              precision    recall  f1-score   support\n",
      "\n",
      "           0     1.0000    0.9767    0.9882        43\n",
      "           1     0.9722    1.0000    0.9859        35\n",
      "           2     1.0000    0.9722    0.9859        36\n",
      "           3     0.9535    1.0000    0.9762        41\n",
      "           4     0.9744    1.0000    0.9870        38\n",
      "           5     0.9355    0.9667    0.9508        30\n",
      "           6     1.0000    1.0000    1.0000        37\n",
      "           7     1.0000    0.9730    0.9863        37\n",
      "           8     1.0000    0.9310    0.9643        29\n",
      "           9     0.9706    0.9706    0.9706        34\n",
      "\n",
      "    accuracy                         0.9806       360\n",
      "   macro avg     0.9806    0.9790    0.9795       360\n",
      "weighted avg     0.9811    0.9806    0.9806       360\n",
      "\n"
     ]
    }
   ],
   "source": [
    "print(classification_report(y_test, y_pred, digits=4))"
   ]
  },
  {
   "cell_type": "markdown",
   "metadata": {},
   "source": [
    "It might help for you to visualize the performance of this model as follows:"
   ]
  },
  {
   "cell_type": "code",
   "execution_count": 37,
   "metadata": {},
   "outputs": [
    {
     "name": "stdout",
     "output_type": "stream",
     "text": [
      "[(0, 43), (1, 35), (2, 36), (3, 41), (4, 38), (5, 30), (6, 37), (7, 37), (8, 29), (9, 34)]\n"
     ]
    },
    {
     "data": {
      "image/png": "[encoded data removed]",
      "text/plain": [
       "<Figure size 700x350 with 2 Axes>"
      ]
     },
     "metadata": {},
     "output_type": "display_data"
    }
   ],
   "source": [
    "# for reference, list the frequency of each digit found in the y_test data\n",
    "counts = sorted(collections.Counter(y_test).items(), key=lambda i: i[0])\n",
    "print(counts)\n",
    "\n",
    "# display the confusion matrix\n",
    "cm = confusion_matrix(y_test, y_pred)\n",
    "disp = ConfusionMatrixDisplay(confusion_matrix=cm)\n",
    "disp.plot(cmap=plt.cm.Blues)\n",
    "plt.show()"
   ]
  },
  {
   "cell_type": "code",
   "execution_count": 38,
   "metadata": {},
   "outputs": [
    {
     "name": "stdout",
     "output_type": "stream",
     "text": [
      "Neural Network Test RMSE: 0.4915960401250875\n"
     ]
    }
   ],
   "source": [
    "test_rmse = np.sqrt(mean_squared_error(y_test, y_pred))\n",
    "print(f\"Neural Network Test RMSE: {test_rmse}\")\n",
    "rmses = pd.concat([rmses,pd.DataFrame({\"model\": 'Neural Networks', \"rmse\": [test_rmse]})])"
   ]
  },
  {
   "cell_type": "markdown",
   "metadata": {},
   "source": [
    "We can see in the above table which digits are a problem for this model. We can see that most of our predictions are correct, but we have a small issue with 0's (one false positive where it thought a 0 was a 4), 2 (where it thought a 2 was a 3), 5's (where it thought a 5 was a 1) 7s (where it thought a 7 was a 9), 8s (where it thought a 8 was a 5, and another 8 was a 3) and 9s  (where it thought a 9 was a 5).\n",
    "\n",
    "In the next sections, we will use hyperparameter tuning to see if we can improve the performance of this model.\n",
    "\n",
    "NOTE: Since we don't really have a difference in cost between false positives and false negatives, and we have a relatively balanced dataset, we will use accuracy as our metric for hyperparameter tuning.\n",
    "\n",
    "NOTE2: If we had a very unbalanced dataset, we might want to use a different metric for hyperparameter tuning. For example, if we had a dataset where 99% of the samples were 0s, and 1% of the samples were 1s, then we would want to use a different metric for hyperparameter tuning. In such imbalanced cases, we would want to use the f1-score for the 1s (since this is the class we are most concerned with). Another approach would be to under-sample the 0s (so we have a balanced dataset) and then use accuracy as our metric for hyperparameter tuning.; or similaryly, over-sample the 1s (so we have a balanced dataset) and then use accuracy as our metric for hyperparameter tuning. We will see oversampleing and undersampling in a later exercise."
   ]
  },
  {
   "cell_type": "markdown",
   "metadata": {},
   "source": [
    "## With RandomizedSearchCV"
   ]
  },
  {
   "cell_type": "code",
   "execution_count": 39,
   "metadata": {},
   "outputs": [
    {
     "name": "stdout",
     "output_type": "stream",
     "text": [
      "{'solver': 'adam', 'max_iter': 9000, 'learning_rate_init': 0.01, 'learning_rate': 'constant', 'hidden_layer_sizes': (128,), 'alpha': 0.2, 'activation': 'relu'}\n",
      "CPU times: total: 4.75 s\n",
      "Wall time: 20min 3s\n"
     ]
    }
   ],
   "source": [
    "%%time\n",
    "\n",
    "score_measure = \"accuracy\"\n",
    "kfolds = 4\n",
    "\n",
    "param_grid = {\n",
    "    'hidden_layer_sizes': [ (32,), (64,), (128,), (32,16), (64,32)],\n",
    "    'activation': ['logistic', 'tanh', 'relu'],\n",
    "    'solver': ['adam', 'sgd'],\n",
    "    'alpha': [0, .2, .5, .7, 1],\n",
    "    'learning_rate': ['constant', 'invscaling', 'adaptive'],\n",
    "    'learning_rate_init': [0.0001, 0.001, 0.01],\n",
    "    'max_iter': [9000]\n",
    "}\n",
    "\n",
    "ann = MLPClassifier(random_state=1)\n",
    "rand_search = RandomizedSearchCV(\n",
    "    estimator = ann,                    # the model to use\n",
    "    param_distributions=param_grid,     # the parameter grid\n",
    "    cv=kfolds,                      # number of folds\n",
    "    n_iter=200,                     # number of iterations; this is the number of parameter settings that are sampled\n",
    "    scoring=score_measure,          # score measure used to evaluate parameter combinations\n",
    "    verbose=0,                      # verbose level; the higher, the more messages. 0 for no messages\n",
    "    n_jobs=-1,                      # number of parallel jobs to run >> n_jobs=-1 will utilize all available CPUs \n",
    "    random_state=1                  # random state ensures that the splits are the same for each iteration\n",
    ")\n",
    "\n",
    "rand_search.fit(X_train, y_train)\n",
    "\n",
    "bestMLPClassifier = rand_search.best_estimator_\n",
    "\n",
    "print(rand_search.best_params_)"
   ]
  },
  {
   "cell_type": "code",
   "execution_count": 40,
   "metadata": {},
   "outputs": [
    {
     "name": "stdout",
     "output_type": "stream",
     "text": [
      "              precision    recall  f1-score   support\n",
      "\n",
      "           0     1.0000    1.0000    1.0000        43\n",
      "           1     1.0000    1.0000    1.0000        35\n",
      "           2     1.0000    0.9722    0.9859        36\n",
      "           3     1.0000    1.0000    1.0000        41\n",
      "           4     1.0000    1.0000    1.0000        38\n",
      "           5     0.9091    1.0000    0.9524        30\n",
      "           6     1.0000    1.0000    1.0000        37\n",
      "           7     1.0000    0.9730    0.9863        37\n",
      "           8     0.9655    0.9655    0.9655        29\n",
      "           9     1.0000    0.9706    0.9851        34\n",
      "\n",
      "    accuracy                         0.9889       360\n",
      "   macro avg     0.9875    0.9881    0.9875       360\n",
      "weighted avg     0.9896    0.9889    0.9890       360\n",
      "\n",
      "CPU times: total: 109 ms\n",
      "Wall time: 16.2 ms\n"
     ]
    }
   ],
   "source": [
    "%%time\n",
    "y_pred = bestMLPClassifier.predict(X_test)\n",
    "\n",
    "print(classification_report(y_test, y_pred, digits=4))"
   ]
  },
  {
   "cell_type": "code",
   "execution_count": 41,
   "metadata": {},
   "outputs": [
    {
     "name": "stdout",
     "output_type": "stream",
     "text": [
      "[(0, 43), (1, 35), (2, 36), (3, 41), (4, 38), (5, 30), (6, 37), (7, 37), (8, 29), (9, 34)]\n"
     ]
    },
    {
     "data": {
      "image/png": "[encoded data removed]",
      "text/plain": [
       "<Figure size 700x350 with 2 Axes>"
      ]
     },
     "metadata": {},
     "output_type": "display_data"
    }
   ],
   "source": [
    "# for reference, list the frequency of each digit found in the y_test data\n",
    "counts = sorted(collections.Counter(y_test).items(), key=lambda i: i[0])\n",
    "print(counts)\n",
    "\n",
    "# display the confusion matrix\n",
    "cm = confusion_matrix(y_test, y_pred)\n",
    "disp = ConfusionMatrixDisplay(confusion_matrix=cm)\n",
    "disp.plot(cmap=plt.cm.Blues)\n",
    "plt.show()"
   ]
  },
  {
   "cell_type": "code",
   "execution_count": 42,
   "metadata": {},
   "outputs": [
    {
     "name": "stdout",
     "output_type": "stream",
     "text": [
      "Accuracy:           0.9889\n",
      "F1 Micro:           0.9889\n",
      "F1 Macro:           0.9875\n",
      "F1 Weighted:        0.9890\n",
      "Recall Micro:       0.9889\n",
      "Recall Macro:       0.9881\n",
      "Recall Weighted:    0.9881\n",
      "Precision Micro:    0.9889\n",
      "Precision Macro:    0.9875\n",
      "Precision Weighted: 0.9875\n"
     ]
    }
   ],
   "source": [
    "accuracy = bestMLPClassifier.score(X_test, y_test)\n",
    "print(f\"{'Accuracy:':20s}{accuracy:.4f}\")\n",
    "\n",
    "f1_micro = f1_score(y_test, y_pred, average='micro')\n",
    "print(f\"{'F1 Micro:':20s}{f1_micro:.4f}\")\n",
    "\n",
    "f1_macro = f1_score(y_test, y_pred, average='macro')\n",
    "print(f\"{'F1 Macro:':20s}{f1_macro:.4f}\")\n",
    "\n",
    "f1_weighted = f1_score(y_test, y_pred, average='weighted')\n",
    "print(f\"{'F1 Weighted:':20s}{f1_weighted:.4f}\")\n",
    "\n",
    "\n",
    "recall_micro = recall_score(y_test, y_pred, average='micro')\n",
    "print(f\"{'Recall Micro:':20s}{recall_micro:.4f}\")\n",
    "\n",
    "recall_macro = recall_score(y_test, y_pred, average='macro')\n",
    "print(f\"{'Recall Macro:':20s}{recall_macro:.4f}\")\n",
    "\n",
    "recall_weighted = recall_score(y_test, y_pred, average='weighted')\n",
    "print(f\"{'Recall Weighted:':20s}{recall_macro:.4f}\")\n",
    "\n",
    "\n",
    "precision_micro = precision_score(y_test, y_pred, average='micro')\n",
    "print(f\"{'Precision Micro:':20s}{precision_micro:.4f}\")\n",
    "\n",
    "precision_macro = precision_score(y_test, y_pred, average='macro')\n",
    "print(f\"{'Precision Macro:':20s}{precision_macro:.4f}\")\n",
    "\n",
    "precision_weighted = precision_score(y_test, y_pred, average='weighted')\n",
    "print(f\"{'Precision Weighted:':20s}{precision_macro:.4f}\")\n",
    "\n",
    "performance = pd.concat([performance, pd.DataFrame({\"model\": 'Neural Networks random search', \"accuracy\": [accuracy], \n",
    "                                                    \"f1_micro\": [f1_micro], \"f1_macro\": [f1_macro], \"f1_weighted\": [f1_weighted],\n",
    "                                                    \"recall_micro\": [recall_micro], \"recall_macro\": [recall_macro], \"recall_weighted\": [recall_weighted], \n",
    "                                                    \"precision_micro\": [precision_micro], \"precision_macro\": [precision_macro], \"precision_weighted\": [precision_weighted]})])\n",
    "\n"
   ]
  },
  {
   "cell_type": "code",
   "execution_count": 43,
   "metadata": {},
   "outputs": [
    {
     "name": "stdout",
     "output_type": "stream",
     "text": [
      "Neural Network random search RMSE: 0.42491829279939874\n"
     ]
    }
   ],
   "source": [
    "test_rmse = np.sqrt(mean_squared_error(y_test, y_pred))\n",
    "print(f\"Neural Network random search RMSE: {test_rmse}\")\n",
    "rmses = pd.concat([rmses,pd.DataFrame({\"model\": 'Neural Networks random search', \"rmse\": [test_rmse]})])"
   ]
  },
  {
   "cell_type": "markdown",
   "metadata": {},
   "source": [
    "## With GridSearchCV"
   ]
  },
  {
   "cell_type": "code",
   "execution_count": 44,
   "metadata": {},
   "outputs": [
    {
     "name": "stdout",
     "output_type": "stream",
     "text": [
      "{'activation': 'relu', 'alpha': 0.4, 'hidden_layer_sizes': (124, 60), 'learning_rate': 'constant', 'learning_rate_init': 0.00991, 'max_iter': 5000, 'solver': 'adam'}\n",
      "CPU times: total: 5.47 s\n",
      "Wall time: 2min 15s\n"
     ]
    }
   ],
   "source": [
    "%%time\n",
    "\n",
    "score_measure = \"accuracy\"\n",
    "kfolds = 4\n",
    "\n",
    "activation = rand_search.best_params_['activation']\n",
    "solver = rand_search.best_params_['solver']\n",
    "alpha = rand_search.best_params_['alpha']\n",
    "learning_rate = rand_search.best_params_['learning_rate']\n",
    "learning_rate_init = rand_search.best_params_['learning_rate_init']\n",
    "max_iter = rand_search.best_params_['max_iter']\n",
    "\n",
    "param_grid = {\n",
    "    'hidden_layer_sizes': [ (127,63), (126,62), (125,61), (124,60), (129,65)],\n",
    "    'activation': [activation],\n",
    "    'solver': [solver],\n",
    "    'alpha': [alpha-0.1, alpha, alpha+0.1, alpha+0.2, alpha+0.3, alpha+0.4, alpha+0.5, alpha+0.6, alpha+0.7, alpha+0.8, alpha+0.9],\n",
    "    'learning_rate': [learning_rate],\n",
    "    'learning_rate_init': [learning_rate_init-0.00009, learning_rate_init, learning_rate_init+0.0005],\n",
    "    'max_iter': [5000]\n",
    "}\n",
    "\n",
    "ann = MLPClassifier(random_state=0)\n",
    "grid_search = GridSearchCV(\n",
    "    estimator = ann,        # the model that will be evaluated\n",
    "    param_grid=param_grid,  # the dictionary of hyperparameters\n",
    "    cv=kfolds,              # number of folds to use for k-fold cross validation\n",
    "    scoring=score_measure,  # the scoring metric to optimize for\n",
    "    verbose=0,              # controls the amount of diagnostic information displayed, 0 means none\n",
    "    n_jobs=-1,              # Number of similtaneous threads to run to accomplish this n_jobs=-1 will utilize all available CPUs \n",
    ")\n",
    "grid_search.fit(X_train, np.ravel(y_train))\n",
    "\n",
    "bestMLPClassifier = grid_search.best_estimator_\n",
    "\n",
    "print(grid_search.best_params_)"
   ]
  },
  {
   "cell_type": "code",
   "execution_count": 45,
   "metadata": {},
   "outputs": [
    {
     "name": "stdout",
     "output_type": "stream",
     "text": [
      "              precision    recall  f1-score   support\n",
      "\n",
      "           0     1.0000    0.9767    0.9882        43\n",
      "           1     0.9722    1.0000    0.9859        35\n",
      "           2     1.0000    0.9722    0.9859        36\n",
      "           3     1.0000    1.0000    1.0000        41\n",
      "           4     0.9500    1.0000    0.9744        38\n",
      "           5     0.9677    1.0000    0.9836        30\n",
      "           6     1.0000    1.0000    1.0000        37\n",
      "           7     1.0000    0.9459    0.9722        37\n",
      "           8     0.9655    0.9655    0.9655        29\n",
      "           9     0.9706    0.9706    0.9706        34\n",
      "\n",
      "    accuracy                         0.9833       360\n",
      "   macro avg     0.9826    0.9831    0.9826       360\n",
      "weighted avg     0.9838    0.9833    0.9833       360\n",
      "\n",
      "CPU times: total: 31.2 ms\n",
      "Wall time: 15.8 ms\n"
     ]
    }
   ],
   "source": [
    "%%time\n",
    "y_pred = bestMLPClassifier.predict(X_test)\n",
    "\n",
    "print(classification_report(y_test, y_pred, digits=4))"
   ]
  },
  {
   "cell_type": "code",
   "execution_count": 46,
   "metadata": {
    "tags": []
   },
   "outputs": [
    {
     "name": "stdout",
     "output_type": "stream",
     "text": [
      "[(0, 43), (1, 35), (2, 36), (3, 41), (4, 38), (5, 30), (6, 37), (7, 37), (8, 29), (9, 34)]\n"
     ]
    },
    {
     "data": {
      "image/png": "[encoded data removed]",
      "text/plain": [
       "<Figure size 700x350 with 2 Axes>"
      ]
     },
     "metadata": {},
     "output_type": "display_data"
    }
   ],
   "source": [
    "# for reference, list the frequency of each digit found in the y_test data\n",
    "counts = sorted(collections.Counter(y_test).items(), key=lambda i: i[0])\n",
    "print(counts)\n",
    "\n",
    "# display the confusion matrix\n",
    "cm = confusion_matrix(y_test, y_pred)\n",
    "disp = ConfusionMatrixDisplay(confusion_matrix=cm)\n",
    "disp.plot(cmap=plt.cm.Blues)\n",
    "plt.show()"
   ]
  },
  {
   "cell_type": "code",
   "execution_count": 47,
   "metadata": {},
   "outputs": [
    {
     "name": "stdout",
     "output_type": "stream",
     "text": [
      "Accuracy:           0.9833\n",
      "F1 Micro:           0.9833\n",
      "F1 Macro:           0.9826\n",
      "F1 Weighted:        0.9833\n",
      "Recall Micro:       0.9833\n",
      "Recall Macro:       0.9831\n",
      "Recall Weighted:    0.9831\n",
      "Precision Micro:    0.9833\n",
      "Precision Macro:    0.9826\n",
      "Precision Weighted: 0.9826\n"
     ]
    }
   ],
   "source": [
    "accuracy = bestMLPClassifier.score(X_test, y_test)\n",
    "print(f\"{'Accuracy:':20s}{accuracy:.4f}\")\n",
    "\n",
    "f1_micro = f1_score(y_test, y_pred, average='micro')\n",
    "print(f\"{'F1 Micro:':20s}{f1_micro:.4f}\")\n",
    "\n",
    "f1_macro = f1_score(y_test, y_pred, average='macro')\n",
    "print(f\"{'F1 Macro:':20s}{f1_macro:.4f}\")\n",
    "\n",
    "f1_weighted = f1_score(y_test, y_pred, average='weighted')\n",
    "print(f\"{'F1 Weighted:':20s}{f1_weighted:.4f}\")\n",
    "\n",
    "\n",
    "recall_micro = recall_score(y_test, y_pred, average='micro')\n",
    "print(f\"{'Recall Micro:':20s}{recall_micro:.4f}\")\n",
    "\n",
    "recall_macro = recall_score(y_test, y_pred, average='macro')\n",
    "print(f\"{'Recall Macro:':20s}{recall_macro:.4f}\")\n",
    "\n",
    "recall_weighted = recall_score(y_test, y_pred, average='weighted')\n",
    "print(f\"{'Recall Weighted:':20s}{recall_macro:.4f}\")\n",
    "\n",
    "\n",
    "precision_micro = precision_score(y_test, y_pred, average='micro')\n",
    "print(f\"{'Precision Micro:':20s}{precision_micro:.4f}\")\n",
    "\n",
    "precision_macro = precision_score(y_test, y_pred, average='macro')\n",
    "print(f\"{'Precision Macro:':20s}{precision_macro:.4f}\")\n",
    "\n",
    "precision_weighted = precision_score(y_test, y_pred, average='weighted')\n",
    "print(f\"{'Precision Weighted:':20s}{precision_macro:.4f}\")\n",
    "\n",
    "performance = pd.concat([performance, pd.DataFrame({\"model\": 'Neural Networks grid search', \"accuracy\": [accuracy], \n",
    "                                                    \"f1_micro\": [f1_micro], \"f1_macro\": [f1_macro], \"f1_weighted\": [f1_weighted],\n",
    "                                                    \"recall_micro\": [recall_micro], \"recall_macro\": [recall_macro], \"recall_weighted\": [recall_weighted], \n",
    "                                                    \"precision_micro\": [precision_micro], \"precision_macro\": [precision_macro], \"precision_weighted\": [precision_weighted]})])\n"
   ]
  },
  {
   "cell_type": "code",
   "execution_count": 48,
   "metadata": {},
   "outputs": [
    {
     "name": "stdout",
     "output_type": "stream",
     "text": [
      "Neural Network grid search RMSE: 0.6009252125773316\n"
     ]
    }
   ],
   "source": [
    "test_rmse = np.sqrt(mean_squared_error(y_test, y_pred))\n",
    "print(f\"Neural Network grid search RMSE: {test_rmse}\")\n",
    "\n",
    "rmses = pd.concat([rmses,pd.DataFrame({\"model\": 'Neural Networks grid search', \"rmse\": [test_rmse]})])"
   ]
  },
  {
   "cell_type": "markdown",
   "metadata": {},
   "source": [
    "### Prediction using Logestic regression"
   ]
  },
  {
   "cell_type": "code",
   "execution_count": 49,
   "metadata": {},
   "outputs": [
    {
     "name": "stdout",
     "output_type": "stream",
     "text": [
      "              precision    recall  f1-score   support\n",
      "\n",
      "           0     1.0000    0.9767    0.9882        43\n",
      "           1     0.9706    0.9429    0.9565        35\n",
      "           2     0.9730    1.0000    0.9863        36\n",
      "           3     0.9535    1.0000    0.9762        41\n",
      "           4     0.9500    1.0000    0.9744        38\n",
      "           5     0.8750    0.9333    0.9032        30\n",
      "           6     1.0000    1.0000    1.0000        37\n",
      "           7     1.0000    0.9189    0.9577        37\n",
      "           8     0.9630    0.8966    0.9286        29\n",
      "           9     0.9706    0.9706    0.9706        34\n",
      "\n",
      "    accuracy                         0.9667       360\n",
      "   macro avg     0.9656    0.9639    0.9642       360\n",
      "weighted avg     0.9677    0.9667    0.9666       360\n",
      "\n"
     ]
    }
   ],
   "source": [
    "log_reg_model = LogisticRegression(penalty=None, max_iter=900)\n",
    "_ = log_reg_model.fit(X_train,y_train)\n",
    "\n",
    "y_pred = log_reg_model.predict(X_test)\n",
    "print(classification_report(y_test, y_pred, digits=4))\n"
   ]
  },
  {
   "cell_type": "code",
   "execution_count": 50,
   "metadata": {},
   "outputs": [
    {
     "name": "stdout",
     "output_type": "stream",
     "text": [
      "[(0, 43), (1, 35), (2, 36), (3, 41), (4, 38), (5, 30), (6, 37), (7, 37), (8, 29), (9, 34)]\n"
     ]
    },
    {
     "data": {
      "image/png": "[encoded data removed]",
      "text/plain": [
       "<Figure size 700x350 with 2 Axes>"
      ]
     },
     "metadata": {},
     "output_type": "display_data"
    }
   ],
   "source": [
    "# for reference, list the frequency of each digit found in the y_test data\n",
    "counts = sorted(collections.Counter(y_test).items(), key=lambda i: i[0])\n",
    "print(counts)\n",
    "\n",
    "# display the confusion matrix\n",
    "cm = confusion_matrix(y_test, y_pred)\n",
    "disp = ConfusionMatrixDisplay(confusion_matrix=cm)\n",
    "disp.plot(cmap=plt.cm.Blues)\n",
    "plt.show()"
   ]
  },
  {
   "cell_type": "code",
   "execution_count": 51,
   "metadata": {},
   "outputs": [
    {
     "name": "stdout",
     "output_type": "stream",
     "text": [
      "Accuracy:           0.9667\n",
      "F1 Micro:           0.9667\n",
      "F1 Macro:           0.9642\n",
      "F1 Weighted:        0.9666\n",
      "Recall Micro:       0.9667\n",
      "Recall Macro:       0.9639\n",
      "Recall Weighted:    0.9639\n",
      "Precision Micro:    0.9667\n",
      "Precision Macro:    0.9656\n",
      "Precision Weighted: 0.9656\n"
     ]
    }
   ],
   "source": [
    "accuracy = log_reg_model.score(X_test, y_test)\n",
    "print(f\"{'Accuracy:':20s}{accuracy:.4f}\")\n",
    "\n",
    "f1_micro = f1_score(y_test, y_pred, average='micro')\n",
    "print(f\"{'F1 Micro:':20s}{f1_micro:.4f}\")\n",
    "\n",
    "f1_macro = f1_score(y_test, y_pred, average='macro')\n",
    "print(f\"{'F1 Macro:':20s}{f1_macro:.4f}\")\n",
    "\n",
    "f1_weighted = f1_score(y_test, y_pred, average='weighted')\n",
    "print(f\"{'F1 Weighted:':20s}{f1_weighted:.4f}\")\n",
    "\n",
    "\n",
    "recall_micro = recall_score(y_test, y_pred, average='micro')\n",
    "print(f\"{'Recall Micro:':20s}{recall_micro:.4f}\")\n",
    "\n",
    "recall_macro = recall_score(y_test, y_pred, average='macro')\n",
    "print(f\"{'Recall Macro:':20s}{recall_macro:.4f}\")\n",
    "\n",
    "recall_weighted = recall_score(y_test, y_pred, average='weighted')\n",
    "print(f\"{'Recall Weighted:':20s}{recall_macro:.4f}\")\n",
    "\n",
    "\n",
    "precision_micro = precision_score(y_test, y_pred, average='micro')\n",
    "print(f\"{'Precision Micro:':20s}{precision_micro:.4f}\")\n",
    "\n",
    "precision_macro = precision_score(y_test, y_pred, average='macro')\n",
    "print(f\"{'Precision Macro:':20s}{precision_macro:.4f}\")\n",
    "\n",
    "precision_weighted = precision_score(y_test, y_pred, average='weighted')\n",
    "print(f\"{'Precision Weighted:':20s}{precision_macro:.4f}\")\n",
    "\n",
    "performance = pd.concat([performance, pd.DataFrame({\"model\": 'Logestic Regression', \"accuracy\": [accuracy], \n",
    "                                                    \"f1_micro\": [f1_micro], \"f1_macro\": [f1_macro], \"f1_weighted\": [f1_weighted],\n",
    "                                                    \"recall_micro\": [recall_micro], \"recall_macro\": [recall_macro], \"recall_weighted\": [recall_weighted], \n",
    "                                                    \"precision_micro\": [precision_micro], \"precision_macro\": [precision_macro], \"precision_weighted\": [precision_weighted]})])\n"
   ]
  },
  {
   "cell_type": "code",
   "execution_count": 52,
   "metadata": {},
   "outputs": [
    {
     "name": "stdout",
     "output_type": "stream",
     "text": [
      "Logestic regression Test RMSE: 0.8299933065325822\n"
     ]
    }
   ],
   "source": [
    "test_rmse = np.sqrt(mean_squared_error(y_test, y_pred))\n",
    "print(f\"Logestic regression Test RMSE: {test_rmse}\")\n",
    "\n",
    "rmses = pd.concat([rmses,pd.DataFrame({\"model\": 'Logestic Regression', \"rmse\": [test_rmse]})])"
   ]
  },
  {
   "cell_type": "markdown",
   "metadata": {},
   "source": [
    "### Change to liblinear solver"
   ]
  },
  {
   "cell_type": "code",
   "execution_count": 53,
   "metadata": {},
   "outputs": [
    {
     "name": "stdout",
     "output_type": "stream",
     "text": [
      "              precision    recall  f1-score   support\n",
      "\n",
      "           0     1.0000    1.0000    1.0000        43\n",
      "           1     1.0000    0.9714    0.9855        35\n",
      "           2     1.0000    1.0000    1.0000        36\n",
      "           3     1.0000    0.9756    0.9877        41\n",
      "           4     0.9500    1.0000    0.9744        38\n",
      "           5     0.9062    0.9667    0.9355        30\n",
      "           6     1.0000    1.0000    1.0000        37\n",
      "           7     1.0000    0.9189    0.9577        37\n",
      "           8     0.9310    0.9310    0.9310        29\n",
      "           9     0.9143    0.9412    0.9275        34\n",
      "\n",
      "    accuracy                         0.9722       360\n",
      "   macro avg     0.9702    0.9705    0.9699       360\n",
      "weighted avg     0.9733    0.9722    0.9724       360\n",
      "\n"
     ]
    }
   ],
   "source": [
    "log_reg_liblin_model = LogisticRegression(solver='liblinear').fit(X_train, np.ravel(y_train))\n",
    "y_pred = log_reg_liblin_model.predict(X_test)\n",
    "print(classification_report(y_test, y_pred, digits=4))"
   ]
  },
  {
   "cell_type": "code",
   "execution_count": 54,
   "metadata": {},
   "outputs": [
    {
     "name": "stdout",
     "output_type": "stream",
     "text": [
      "[(0, 43), (1, 35), (2, 36), (3, 41), (4, 38), (5, 30), (6, 37), (7, 37), (8, 29), (9, 34)]\n"
     ]
    },
    {
     "data": {
      "image/png": "[encoded data removed]",
      "text/plain": [
       "<Figure size 700x350 with 2 Axes>"
      ]
     },
     "metadata": {},
     "output_type": "display_data"
    }
   ],
   "source": [
    "# for reference, list the frequency of each digit found in the y_test data\n",
    "counts = sorted(collections.Counter(y_test).items(), key=lambda i: i[0])\n",
    "print(counts)\n",
    "\n",
    "# display the confusion matrix\n",
    "cm = confusion_matrix(y_test, y_pred)\n",
    "disp = ConfusionMatrixDisplay(confusion_matrix=cm)\n",
    "disp.plot(cmap=plt.cm.Blues)\n",
    "plt.show()"
   ]
  },
  {
   "cell_type": "code",
   "execution_count": 55,
   "metadata": {},
   "outputs": [
    {
     "name": "stdout",
     "output_type": "stream",
     "text": [
      "Accuracy:           0.9722\n",
      "F1 Micro:           0.9722\n",
      "F1 Macro:           0.9699\n",
      "F1 Weighted:        0.9724\n",
      "Recall Micro:       0.9722\n",
      "Recall Macro:       0.9705\n",
      "Recall Weighted:    0.9705\n",
      "Precision Micro:    0.9722\n",
      "Precision Macro:    0.9702\n",
      "Precision Weighted: 0.9702\n"
     ]
    }
   ],
   "source": [
    "accuracy = log_reg_liblin_model.score(X_test, y_test)\n",
    "print(f\"{'Accuracy:':20s}{accuracy:.4f}\")\n",
    "\n",
    "f1_micro = f1_score(y_test, y_pred, average='micro')\n",
    "print(f\"{'F1 Micro:':20s}{f1_micro:.4f}\")\n",
    "\n",
    "f1_macro = f1_score(y_test, y_pred, average='macro')\n",
    "print(f\"{'F1 Macro:':20s}{f1_macro:.4f}\")\n",
    "\n",
    "f1_weighted = f1_score(y_test, y_pred, average='weighted')\n",
    "print(f\"{'F1 Weighted:':20s}{f1_weighted:.4f}\")\n",
    "\n",
    "\n",
    "recall_micro = recall_score(y_test, y_pred, average='micro')\n",
    "print(f\"{'Recall Micro:':20s}{recall_micro:.4f}\")\n",
    "\n",
    "recall_macro = recall_score(y_test, y_pred, average='macro')\n",
    "print(f\"{'Recall Macro:':20s}{recall_macro:.4f}\")\n",
    "\n",
    "recall_weighted = recall_score(y_test, y_pred, average='weighted')\n",
    "print(f\"{'Recall Weighted:':20s}{recall_macro:.4f}\")\n",
    "\n",
    "\n",
    "precision_micro = precision_score(y_test, y_pred, average='micro')\n",
    "print(f\"{'Precision Micro:':20s}{precision_micro:.4f}\")\n",
    "\n",
    "precision_macro = precision_score(y_test, y_pred, average='macro')\n",
    "print(f\"{'Precision Macro:':20s}{precision_macro:.4f}\")\n",
    "\n",
    "precision_weighted = precision_score(y_test, y_pred, average='weighted')\n",
    "print(f\"{'Precision Weighted:':20s}{precision_macro:.4f}\")\n",
    "\n",
    "performance = pd.concat([performance, pd.DataFrame({\"model\": 'Logestic Regression liblin', \"accuracy\": [accuracy], \n",
    "                                                    \"f1_micro\": [f1_micro], \"f1_macro\": [f1_macro], \"f1_weighted\": [f1_weighted],\n",
    "                                                    \"recall_micro\": [recall_micro], \"recall_macro\": [recall_macro], \"recall_weighted\": [recall_weighted], \n",
    "                                                    \"precision_micro\": [precision_micro], \"precision_macro\": [precision_macro], \"precision_weighted\": [precision_weighted]})])\n"
   ]
  },
  {
   "cell_type": "code",
   "execution_count": 56,
   "metadata": {},
   "outputs": [
    {
     "name": "stdout",
     "output_type": "stream",
     "text": [
      "Logestic regression liblin Test RMSE: 0.5725188012439223\n"
     ]
    }
   ],
   "source": [
    "test_rmse = np.sqrt(mean_squared_error(y_test, y_pred))\n",
    "print(f\"Logestic regression liblin Test RMSE: {test_rmse}\")\n",
    "rmses = pd.concat([rmses,pd.DataFrame({\"model\": 'Logestic Regression liblin', \"rmse\": [test_rmse]})])"
   ]
  },
  {
   "cell_type": "markdown",
   "metadata": {},
   "source": [
    "### L2 Regularization"
   ]
  },
  {
   "cell_type": "code",
   "execution_count": 57,
   "metadata": {},
   "outputs": [
    {
     "name": "stdout",
     "output_type": "stream",
     "text": [
      "              precision    recall  f1-score   support\n",
      "\n",
      "           0     1.0000    1.0000    1.0000        43\n",
      "           1     0.9714    0.9714    0.9714        35\n",
      "           2     1.0000    1.0000    1.0000        36\n",
      "           3     0.9762    1.0000    0.9880        41\n",
      "           4     1.0000    1.0000    1.0000        38\n",
      "           5     0.9032    0.9333    0.9180        30\n",
      "           6     1.0000    1.0000    1.0000        37\n",
      "           7     1.0000    0.9730    0.9863        37\n",
      "           8     1.0000    0.9655    0.9825        29\n",
      "           9     0.9706    0.9706    0.9706        34\n",
      "\n",
      "    accuracy                         0.9833       360\n",
      "   macro avg     0.9821    0.9814    0.9817       360\n",
      "weighted avg     0.9837    0.9833    0.9834       360\n",
      "\n"
     ]
    }
   ],
   "source": [
    "log_reg_L2_model = LogisticRegression(penalty='l2', max_iter=1000)\n",
    "_ = log_reg_L2_model.fit(X_train, np.ravel(y_train))\n",
    "\n",
    "y_pred = log_reg_L2_model.predict(X_test)\n",
    "print(classification_report(y_test, y_pred, digits=4))"
   ]
  },
  {
   "cell_type": "code",
   "execution_count": 58,
   "metadata": {},
   "outputs": [
    {
     "name": "stdout",
     "output_type": "stream",
     "text": [
      "[(0, 43), (1, 35), (2, 36), (3, 41), (4, 38), (5, 30), (6, 37), (7, 37), (8, 29), (9, 34)]\n"
     ]
    },
    {
     "data": {
      "image/png": "[encoded data removed]",
      "text/plain": [
       "<Figure size 700x350 with 2 Axes>"
      ]
     },
     "metadata": {},
     "output_type": "display_data"
    }
   ],
   "source": [
    "# for reference, list the frequency of each digit found in the y_test data\n",
    "counts = sorted(collections.Counter(y_test).items(), key=lambda i: i[0])\n",
    "print(counts)\n",
    "\n",
    "# display the confusion matrix\n",
    "cm = confusion_matrix(y_test, y_pred)\n",
    "disp = ConfusionMatrixDisplay(confusion_matrix=cm)\n",
    "disp.plot(cmap=plt.cm.Blues)\n",
    "plt.show()"
   ]
  },
  {
   "cell_type": "code",
   "execution_count": 59,
   "metadata": {},
   "outputs": [
    {
     "name": "stdout",
     "output_type": "stream",
     "text": [
      "Accuracy:           0.9833\n",
      "F1 Micro:           0.9833\n",
      "F1 Macro:           0.9817\n",
      "F1 Weighted:        0.9834\n",
      "Recall Micro:       0.9833\n",
      "Recall Macro:       0.9814\n",
      "Recall Weighted:    0.9814\n",
      "Precision Micro:    0.9833\n",
      "Precision Macro:    0.9821\n",
      "Precision Weighted: 0.9821\n"
     ]
    }
   ],
   "source": [
    "accuracy = log_reg_L2_model.score(X_test, y_test)\n",
    "print(f\"{'Accuracy:':20s}{accuracy:.4f}\")\n",
    "\n",
    "f1_micro = f1_score(y_test, y_pred, average='micro')\n",
    "print(f\"{'F1 Micro:':20s}{f1_micro:.4f}\")\n",
    "\n",
    "f1_macro = f1_score(y_test, y_pred, average='macro')\n",
    "print(f\"{'F1 Macro:':20s}{f1_macro:.4f}\")\n",
    "\n",
    "f1_weighted = f1_score(y_test, y_pred, average='weighted')\n",
    "print(f\"{'F1 Weighted:':20s}{f1_weighted:.4f}\")\n",
    "\n",
    "\n",
    "recall_micro = recall_score(y_test, y_pred, average='micro')\n",
    "print(f\"{'Recall Micro:':20s}{recall_micro:.4f}\")\n",
    "\n",
    "recall_macro = recall_score(y_test, y_pred, average='macro')\n",
    "print(f\"{'Recall Macro:':20s}{recall_macro:.4f}\")\n",
    "\n",
    "recall_weighted = recall_score(y_test, y_pred, average='weighted')\n",
    "print(f\"{'Recall Weighted:':20s}{recall_macro:.4f}\")\n",
    "\n",
    "\n",
    "precision_micro = precision_score(y_test, y_pred, average='micro')\n",
    "print(f\"{'Precision Micro:':20s}{precision_micro:.4f}\")\n",
    "\n",
    "precision_macro = precision_score(y_test, y_pred, average='macro')\n",
    "print(f\"{'Precision Macro:':20s}{precision_macro:.4f}\")\n",
    "\n",
    "precision_weighted = precision_score(y_test, y_pred, average='weighted')\n",
    "print(f\"{'Precision Weighted:':20s}{precision_macro:.4f}\")\n",
    "\n",
    "performance = pd.concat([performance, pd.DataFrame({\"model\": 'Logestic Regression L2', \"accuracy\": [accuracy], \n",
    "                                                    \"f1_micro\": [f1_micro], \"f1_macro\": [f1_macro], \"f1_weighted\": [f1_weighted],\n",
    "                                                    \"recall_micro\": [recall_micro], \"recall_macro\": [recall_macro], \"recall_weighted\": [recall_weighted], \n",
    "                                                    \"precision_micro\": [precision_micro], \"precision_macro\": [precision_macro], \"precision_weighted\": [precision_weighted]})])\n"
   ]
  },
  {
   "cell_type": "code",
   "execution_count": 60,
   "metadata": {},
   "outputs": [
    {
     "name": "stdout",
     "output_type": "stream",
     "text": [
      "Logestic regression L2 Test RMSE: 0.5602578771323871\n"
     ]
    }
   ],
   "source": [
    "test_rmse = np.sqrt(mean_squared_error(y_test, y_pred))\n",
    "print(f\"Logestic regression L2 Test RMSE: {test_rmse}\")\n",
    "\n",
    "rmses = pd.concat([rmses,pd.DataFrame({\"model\": 'Logestic Regression  L2', \"rmse\": [test_rmse]})])"
   ]
  },
  {
   "cell_type": "markdown",
   "metadata": {},
   "source": [
    "### L1 Regularization"
   ]
  },
  {
   "cell_type": "code",
   "execution_count": 61,
   "metadata": {},
   "outputs": [
    {
     "name": "stdout",
     "output_type": "stream",
     "text": [
      "              precision    recall  f1-score   support\n",
      "\n",
      "           0     0.9773    1.0000    0.9885        43\n",
      "           1     1.0000    1.0000    1.0000        35\n",
      "           2     1.0000    0.9722    0.9859        36\n",
      "           3     1.0000    0.9756    0.9877        41\n",
      "           4     1.0000    1.0000    1.0000        38\n",
      "           5     0.9062    0.9667    0.9355        30\n",
      "           6     1.0000    1.0000    1.0000        37\n",
      "           7     0.9730    0.9730    0.9730        37\n",
      "           8     1.0000    0.9655    0.9825        29\n",
      "           9     0.9412    0.9412    0.9412        34\n",
      "\n",
      "    accuracy                         0.9806       360\n",
      "   macro avg     0.9798    0.9794    0.9794       360\n",
      "weighted avg     0.9811    0.9806    0.9807       360\n",
      "\n"
     ]
    }
   ],
   "source": [
    "log_reg_L1_model = LogisticRegression(solver='liblinear', penalty='l1')\n",
    "_ = log_reg_L1_model.fit(X_train, np.ravel(y_train))\n",
    "\n",
    "y_pred = log_reg_L1_model.predict(X_test)\n",
    "print(classification_report(y_test, y_pred, digits=4))"
   ]
  },
  {
   "cell_type": "code",
   "execution_count": 62,
   "metadata": {},
   "outputs": [
    {
     "name": "stdout",
     "output_type": "stream",
     "text": [
      "[(0, 43), (1, 35), (2, 36), (3, 41), (4, 38), (5, 30), (6, 37), (7, 37), (8, 29), (9, 34)]\n"
     ]
    },
    {
     "data": {
      "image/png": "[encoded data removed]",
      "text/plain": [
       "<Figure size 700x350 with 2 Axes>"
      ]
     },
     "metadata": {},
     "output_type": "display_data"
    }
   ],
   "source": [
    "# for reference, list the frequency of each digit found in the y_test data\n",
    "counts = sorted(collections.Counter(y_test).items(), key=lambda i: i[0])\n",
    "print(counts)\n",
    "\n",
    "# display the confusion matrix\n",
    "cm = confusion_matrix(y_test, y_pred)\n",
    "disp = ConfusionMatrixDisplay(confusion_matrix=cm)\n",
    "disp.plot(cmap=plt.cm.Blues)\n",
    "plt.show()"
   ]
  },
  {
   "cell_type": "code",
   "execution_count": 63,
   "metadata": {},
   "outputs": [
    {
     "name": "stdout",
     "output_type": "stream",
     "text": [
      "Accuracy:           0.9806\n",
      "F1 Micro:           0.9806\n",
      "F1 Macro:           0.9794\n",
      "F1 Weighted:        0.9807\n",
      "Recall Micro:       0.9806\n",
      "Recall Macro:       0.9794\n",
      "Recall Weighted:    0.9794\n",
      "Precision Micro:    0.9806\n",
      "Precision Macro:    0.9798\n",
      "Precision Weighted: 0.9798\n"
     ]
    }
   ],
   "source": [
    "accuracy = log_reg_L1_model.score(X_test, y_test)\n",
    "print(f\"{'Accuracy:':20s}{accuracy:.4f}\")\n",
    "\n",
    "f1_micro = f1_score(y_test, y_pred, average='micro')\n",
    "print(f\"{'F1 Micro:':20s}{f1_micro:.4f}\")\n",
    "\n",
    "f1_macro = f1_score(y_test, y_pred, average='macro')\n",
    "print(f\"{'F1 Macro:':20s}{f1_macro:.4f}\")\n",
    "\n",
    "f1_weighted = f1_score(y_test, y_pred, average='weighted')\n",
    "print(f\"{'F1 Weighted:':20s}{f1_weighted:.4f}\")\n",
    "\n",
    "\n",
    "recall_micro = recall_score(y_test, y_pred, average='micro')\n",
    "print(f\"{'Recall Micro:':20s}{recall_micro:.4f}\")\n",
    "\n",
    "recall_macro = recall_score(y_test, y_pred, average='macro')\n",
    "print(f\"{'Recall Macro:':20s}{recall_macro:.4f}\")\n",
    "\n",
    "recall_weighted = recall_score(y_test, y_pred, average='weighted')\n",
    "print(f\"{'Recall Weighted:':20s}{recall_macro:.4f}\")\n",
    "\n",
    "\n",
    "precision_micro = precision_score(y_test, y_pred, average='micro')\n",
    "print(f\"{'Precision Micro:':20s}{precision_micro:.4f}\")\n",
    "\n",
    "precision_macro = precision_score(y_test, y_pred, average='macro')\n",
    "print(f\"{'Precision Macro:':20s}{precision_macro:.4f}\")\n",
    "\n",
    "precision_weighted = precision_score(y_test, y_pred, average='weighted')\n",
    "print(f\"{'Precision Weighted:':20s}{precision_macro:.4f}\")\n",
    "\n",
    "performance = pd.concat([performance, pd.DataFrame({\"model\": 'Logestic Regression L1', \"accuracy\": [accuracy], \n",
    "                                                    \"f1_micro\": [f1_micro], \"f1_macro\": [f1_macro], \"f1_weighted\": [f1_weighted],\n",
    "                                                    \"recall_micro\": [recall_micro], \"recall_macro\": [recall_macro], \"recall_weighted\": [recall_weighted], \n",
    "                                                    \"precision_micro\": [precision_micro], \"precision_macro\": [precision_macro], \"precision_weighted\": [precision_weighted]})])\n"
   ]
  },
  {
   "cell_type": "code",
   "execution_count": 64,
   "metadata": {},
   "outputs": [
    {
     "name": "stdout",
     "output_type": "stream",
     "text": [
      "Logestic regression L1 Test RMSE: 0.6561673228343176\n"
     ]
    }
   ],
   "source": [
    "test_rmse = np.sqrt(mean_squared_error(y_test, y_pred))\n",
    "print(f\"Logestic regression L1 Test RMSE: {test_rmse}\")\n",
    "\n",
    "rmses = pd.concat([rmses,pd.DataFrame({\"model\": 'Logestic Regression L1', \"rmse\": [test_rmse]})])"
   ]
  },
  {
   "cell_type": "markdown",
   "metadata": {},
   "source": [
    "### Elastic Net Regularization"
   ]
  },
  {
   "cell_type": "code",
   "execution_count": 65,
   "metadata": {},
   "outputs": [
    {
     "name": "stdout",
     "output_type": "stream",
     "text": [
      "              precision    recall  f1-score   support\n",
      "\n",
      "           0     1.0000    1.0000    1.0000        43\n",
      "           1     1.0000    0.9714    0.9855        35\n",
      "           2     1.0000    1.0000    1.0000        36\n",
      "           3     1.0000    0.9756    0.9877        41\n",
      "           4     0.9500    1.0000    0.9744        38\n",
      "           5     0.9062    0.9667    0.9355        30\n",
      "           6     1.0000    1.0000    1.0000        37\n",
      "           7     1.0000    0.9189    0.9577        37\n",
      "           8     0.9310    0.9310    0.9310        29\n",
      "           9     0.9143    0.9412    0.9275        34\n",
      "\n",
      "    accuracy                         0.9722       360\n",
      "   macro avg     0.9702    0.9705    0.9699       360\n",
      "weighted avg     0.9733    0.9722    0.9724       360\n",
      "\n"
     ]
    }
   ],
   "source": [
    "log_reg_elastic_model = LogisticRegression(solver='saga', penalty='elasticnet', l1_ratio=0.5, max_iter=1500)\n",
    "_ = log_reg_elastic_model.fit(X_train, np.ravel(y_train))\n",
    "\n",
    "y_pred = log_reg_liblin_model.predict(X_test)\n",
    "print(classification_report(y_test, y_pred, digits=4))"
   ]
  },
  {
   "cell_type": "code",
   "execution_count": 66,
   "metadata": {},
   "outputs": [
    {
     "name": "stdout",
     "output_type": "stream",
     "text": [
      "[(0, 43), (1, 35), (2, 36), (3, 41), (4, 38), (5, 30), (6, 37), (7, 37), (8, 29), (9, 34)]\n"
     ]
    },
    {
     "data": {
      "image/png": "[encoded data removed]",
      "text/plain": [
       "<Figure size 700x350 with 2 Axes>"
      ]
     },
     "metadata": {},
     "output_type": "display_data"
    }
   ],
   "source": [
    "# for reference, list the frequency of each digit found in the y_test data\n",
    "counts = sorted(collections.Counter(y_test).items(), key=lambda i: i[0])\n",
    "print(counts)\n",
    "\n",
    "# display the confusion matrix\n",
    "cm = confusion_matrix(y_test, y_pred)\n",
    "disp = ConfusionMatrixDisplay(confusion_matrix=cm)\n",
    "disp.plot(cmap=plt.cm.Blues)\n",
    "plt.show()"
   ]
  },
  {
   "cell_type": "code",
   "execution_count": 67,
   "metadata": {},
   "outputs": [
    {
     "name": "stdout",
     "output_type": "stream",
     "text": [
      "Accuracy:           0.9833\n",
      "F1 Micro:           0.9722\n",
      "F1 Macro:           0.9699\n",
      "F1 Weighted:        0.9724\n",
      "Recall Micro:       0.9722\n",
      "Recall Macro:       0.9705\n",
      "Recall Weighted:    0.9705\n",
      "Precision Micro:    0.9722\n",
      "Precision Macro:    0.9702\n",
      "Precision Weighted: 0.9702\n"
     ]
    }
   ],
   "source": [
    "accuracy = log_reg_elastic_model.score(X_test, y_test)\n",
    "print(f\"{'Accuracy:':20s}{accuracy:.4f}\")\n",
    "\n",
    "f1_micro = f1_score(y_test, y_pred, average='micro')\n",
    "print(f\"{'F1 Micro:':20s}{f1_micro:.4f}\")\n",
    "\n",
    "f1_macro = f1_score(y_test, y_pred, average='macro')\n",
    "print(f\"{'F1 Macro:':20s}{f1_macro:.4f}\")\n",
    "\n",
    "f1_weighted = f1_score(y_test, y_pred, average='weighted')\n",
    "print(f\"{'F1 Weighted:':20s}{f1_weighted:.4f}\")\n",
    "\n",
    "\n",
    "recall_micro = recall_score(y_test, y_pred, average='micro')\n",
    "print(f\"{'Recall Micro:':20s}{recall_micro:.4f}\")\n",
    "\n",
    "recall_macro = recall_score(y_test, y_pred, average='macro')\n",
    "print(f\"{'Recall Macro:':20s}{recall_macro:.4f}\")\n",
    "\n",
    "recall_weighted = recall_score(y_test, y_pred, average='weighted')\n",
    "print(f\"{'Recall Weighted:':20s}{recall_macro:.4f}\")\n",
    "\n",
    "\n",
    "precision_micro = precision_score(y_test, y_pred, average='micro')\n",
    "print(f\"{'Precision Micro:':20s}{precision_micro:.4f}\")\n",
    "\n",
    "precision_macro = precision_score(y_test, y_pred, average='macro')\n",
    "print(f\"{'Precision Macro:':20s}{precision_macro:.4f}\")\n",
    "\n",
    "precision_weighted = precision_score(y_test, y_pred, average='weighted')\n",
    "print(f\"{'Precision Weighted:':20s}{precision_macro:.4f}\")\n",
    "\n",
    "performance = pd.concat([performance, pd.DataFrame({\"model\": 'Logestic Regression Elastic', \"accuracy\": [accuracy], \n",
    "                                                    \"f1_micro\": [f1_micro], \"f1_macro\": [f1_macro], \"f1_weighted\": [f1_weighted],\n",
    "                                                    \"recall_micro\": [recall_micro], \"recall_macro\": [recall_macro], \"recall_weighted\": [recall_weighted], \n",
    "                                                    \"precision_micro\": [precision_micro], \"precision_macro\": [precision_macro], \"precision_weighted\": [precision_weighted]})])"
   ]
  },
  {
   "cell_type": "code",
   "execution_count": 68,
   "metadata": {},
   "outputs": [
    {
     "name": "stdout",
     "output_type": "stream",
     "text": [
      "Logestic regression Test RMSE: 0.5725188012439223\n"
     ]
    }
   ],
   "source": [
    "test_rmse = np.sqrt(mean_squared_error(y_test, y_pred))\n",
    "print(f\"Logestic regression Test RMSE: {test_rmse}\")\n",
    "\n",
    "rmses = pd.concat([rmses,pd.DataFrame({\"model\": 'Logestic Regression Elastic', \"rmse\": [test_rmse]})])"
   ]
  },
  {
   "cell_type": "code",
   "execution_count": 69,
   "metadata": {},
   "outputs": [
    {
     "data": {
      "text/html": [
       "<div>\n",
       "<style scoped>\n",
       "    .dataframe tbody tr th:only-of-type {\n",
       "        vertical-align: middle;\n",
       "    }\n",
       "\n",
       "    .dataframe tbody tr th {\n",
       "        vertical-align: top;\n",
       "    }\n",
       "\n",
       "    .dataframe thead th {\n",
       "        text-align: right;\n",
       "    }\n",
       "</style>\n",
       "<table border=\"1\" class=\"dataframe\">\n",
       "  <thead>\n",
       "    <tr style=\"text-align: right;\">\n",
       "      <th></th>\n",
       "      <th>model</th>\n",
       "      <th>rmse</th>\n",
       "    </tr>\n",
       "  </thead>\n",
       "  <tbody>\n",
       "    <tr>\n",
       "      <th>0</th>\n",
       "      <td>Neural Networks</td>\n",
       "      <td>0.491596</td>\n",
       "    </tr>\n",
       "    <tr>\n",
       "      <th>0</th>\n",
       "      <td>Neural Networks random search</td>\n",
       "      <td>0.424918</td>\n",
       "    </tr>\n",
       "    <tr>\n",
       "      <th>0</th>\n",
       "      <td>Neural Networks grid search</td>\n",
       "      <td>0.600925</td>\n",
       "    </tr>\n",
       "    <tr>\n",
       "      <th>0</th>\n",
       "      <td>Logestic Regression</td>\n",
       "      <td>0.829993</td>\n",
       "    </tr>\n",
       "    <tr>\n",
       "      <th>0</th>\n",
       "      <td>Logestic Regression liblin</td>\n",
       "      <td>0.572519</td>\n",
       "    </tr>\n",
       "    <tr>\n",
       "      <th>0</th>\n",
       "      <td>Logestic Regression  L2</td>\n",
       "      <td>0.560258</td>\n",
       "    </tr>\n",
       "    <tr>\n",
       "      <th>0</th>\n",
       "      <td>Logestic Regression L1</td>\n",
       "      <td>0.656167</td>\n",
       "    </tr>\n",
       "    <tr>\n",
       "      <th>0</th>\n",
       "      <td>Logestic Regression Elastic</td>\n",
       "      <td>0.572519</td>\n",
       "    </tr>\n",
       "  </tbody>\n",
       "</table>\n",
       "</div>"
      ],
      "text/plain": [
       "                           model      rmse\n",
       "0                Neural Networks  0.491596\n",
       "0  Neural Networks random search  0.424918\n",
       "0    Neural Networks grid search  0.600925\n",
       "0            Logestic Regression  0.829993\n",
       "0     Logestic Regression liblin  0.572519\n",
       "0        Logestic Regression  L2  0.560258\n",
       "0         Logestic Regression L1  0.656167\n",
       "0    Logestic Regression Elastic  0.572519"
      ]
     },
     "execution_count": 69,
     "metadata": {},
     "output_type": "execute_result"
    }
   ],
   "source": [
    "rmses"
   ]
  },
  {
   "cell_type": "code",
   "execution_count": 70,
   "metadata": {},
   "outputs": [
    {
     "data": {
      "text/html": [
       "<div>\n",
       "<style scoped>\n",
       "    .dataframe tbody tr th:only-of-type {\n",
       "        vertical-align: middle;\n",
       "    }\n",
       "\n",
       "    .dataframe tbody tr th {\n",
       "        vertical-align: top;\n",
       "    }\n",
       "\n",
       "    .dataframe thead th {\n",
       "        text-align: right;\n",
       "    }\n",
       "</style>\n",
       "<table border=\"1\" class=\"dataframe\">\n",
       "  <thead>\n",
       "    <tr style=\"text-align: right;\">\n",
       "      <th></th>\n",
       "      <th>model</th>\n",
       "      <th>accuracy</th>\n",
       "      <th>f1_micro</th>\n",
       "      <th>f1_macro</th>\n",
       "      <th>f1_weighted</th>\n",
       "      <th>recall_micro</th>\n",
       "      <th>recall_macro</th>\n",
       "      <th>recall_weighted</th>\n",
       "      <th>precision_micro</th>\n",
       "      <th>precision_macro</th>\n",
       "      <th>precision_weighted</th>\n",
       "    </tr>\n",
       "  </thead>\n",
       "  <tbody>\n",
       "    <tr>\n",
       "      <th>0</th>\n",
       "      <td>Neural Networks</td>\n",
       "      <td>0.980556</td>\n",
       "      <td>0.980556</td>\n",
       "      <td>0.979526</td>\n",
       "      <td>0.980573</td>\n",
       "      <td>0.980556</td>\n",
       "      <td>0.979023</td>\n",
       "      <td>0.980556</td>\n",
       "      <td>0.980556</td>\n",
       "      <td>0.980614</td>\n",
       "      <td>0.981142</td>\n",
       "    </tr>\n",
       "    <tr>\n",
       "      <th>0</th>\n",
       "      <td>Neural Networks random search</td>\n",
       "      <td>0.988889</td>\n",
       "      <td>0.988889</td>\n",
       "      <td>0.987519</td>\n",
       "      <td>0.989028</td>\n",
       "      <td>0.988889</td>\n",
       "      <td>0.988130</td>\n",
       "      <td>0.988889</td>\n",
       "      <td>0.988889</td>\n",
       "      <td>0.987461</td>\n",
       "      <td>0.989646</td>\n",
       "    </tr>\n",
       "    <tr>\n",
       "      <th>0</th>\n",
       "      <td>Neural Networks grid search</td>\n",
       "      <td>0.983333</td>\n",
       "      <td>0.983333</td>\n",
       "      <td>0.982636</td>\n",
       "      <td>0.983334</td>\n",
       "      <td>0.983333</td>\n",
       "      <td>0.983102</td>\n",
       "      <td>0.983333</td>\n",
       "      <td>0.983333</td>\n",
       "      <td>0.982607</td>\n",
       "      <td>0.983778</td>\n",
       "    </tr>\n",
       "    <tr>\n",
       "      <th>0</th>\n",
       "      <td>Logestic Regression</td>\n",
       "      <td>0.966667</td>\n",
       "      <td>0.966667</td>\n",
       "      <td>0.964174</td>\n",
       "      <td>0.966641</td>\n",
       "      <td>0.966667</td>\n",
       "      <td>0.963899</td>\n",
       "      <td>0.966667</td>\n",
       "      <td>0.966667</td>\n",
       "      <td>0.965560</td>\n",
       "      <td>0.967685</td>\n",
       "    </tr>\n",
       "    <tr>\n",
       "      <th>0</th>\n",
       "      <td>Logestic Regression liblin</td>\n",
       "      <td>0.972222</td>\n",
       "      <td>0.972222</td>\n",
       "      <td>0.969932</td>\n",
       "      <td>0.972360</td>\n",
       "      <td>0.972222</td>\n",
       "      <td>0.970483</td>\n",
       "      <td>0.972222</td>\n",
       "      <td>0.972222</td>\n",
       "      <td>0.970157</td>\n",
       "      <td>0.973259</td>\n",
       "    </tr>\n",
       "    <tr>\n",
       "      <th>0</th>\n",
       "      <td>Logestic Regression L2</td>\n",
       "      <td>0.983333</td>\n",
       "      <td>0.983333</td>\n",
       "      <td>0.981676</td>\n",
       "      <td>0.983421</td>\n",
       "      <td>0.983333</td>\n",
       "      <td>0.981384</td>\n",
       "      <td>0.983333</td>\n",
       "      <td>0.983333</td>\n",
       "      <td>0.982143</td>\n",
       "      <td>0.983668</td>\n",
       "    </tr>\n",
       "    <tr>\n",
       "      <th>0</th>\n",
       "      <td>Logestic Regression L1</td>\n",
       "      <td>0.980556</td>\n",
       "      <td>0.980556</td>\n",
       "      <td>0.979417</td>\n",
       "      <td>0.980690</td>\n",
       "      <td>0.980556</td>\n",
       "      <td>0.979417</td>\n",
       "      <td>0.980556</td>\n",
       "      <td>0.980556</td>\n",
       "      <td>0.979767</td>\n",
       "      <td>0.981140</td>\n",
       "    </tr>\n",
       "    <tr>\n",
       "      <th>0</th>\n",
       "      <td>Logestic Regression Elastic</td>\n",
       "      <td>0.983333</td>\n",
       "      <td>0.972222</td>\n",
       "      <td>0.969932</td>\n",
       "      <td>0.972360</td>\n",
       "      <td>0.972222</td>\n",
       "      <td>0.970483</td>\n",
       "      <td>0.972222</td>\n",
       "      <td>0.972222</td>\n",
       "      <td>0.970157</td>\n",
       "      <td>0.973259</td>\n",
       "    </tr>\n",
       "  </tbody>\n",
       "</table>\n",
       "</div>"
      ],
      "text/plain": [
       "                           model  accuracy  f1_micro  f1_macro  f1_weighted  \\\n",
       "0                Neural Networks  0.980556  0.980556  0.979526     0.980573   \n",
       "0  Neural Networks random search  0.988889  0.988889  0.987519     0.989028   \n",
       "0    Neural Networks grid search  0.983333  0.983333  0.982636     0.983334   \n",
       "0            Logestic Regression  0.966667  0.966667  0.964174     0.966641   \n",
       "0     Logestic Regression liblin  0.972222  0.972222  0.969932     0.972360   \n",
       "0         Logestic Regression L2  0.983333  0.983333  0.981676     0.983421   \n",
       "0         Logestic Regression L1  0.980556  0.980556  0.979417     0.980690   \n",
       "0    Logestic Regression Elastic  0.983333  0.972222  0.969932     0.972360   \n",
       "\n",
       "   recall_micro  recall_macro  recall_weighted  precision_micro  \\\n",
       "0      0.980556      0.979023         0.980556         0.980556   \n",
       "0      0.988889      0.988130         0.988889         0.988889   \n",
       "0      0.983333      0.983102         0.983333         0.983333   \n",
       "0      0.966667      0.963899         0.966667         0.966667   \n",
       "0      0.972222      0.970483         0.972222         0.972222   \n",
       "0      0.983333      0.981384         0.983333         0.983333   \n",
       "0      0.980556      0.979417         0.980556         0.980556   \n",
       "0      0.972222      0.970483         0.972222         0.972222   \n",
       "\n",
       "   precision_macro  precision_weighted  \n",
       "0         0.980614            0.981142  \n",
       "0         0.987461            0.989646  \n",
       "0         0.982607            0.983778  \n",
       "0         0.965560            0.967685  \n",
       "0         0.970157            0.973259  \n",
       "0         0.982143            0.983668  \n",
       "0         0.979767            0.981140  \n",
       "0         0.970157            0.973259  "
      ]
     },
     "execution_count": 70,
     "metadata": {},
     "output_type": "execute_result"
    }
   ],
   "source": [
    "performance"
   ]
  },
  {
   "cell_type": "markdown",
   "metadata": {},
   "source": [
    "### Conclusion\n",
    "\n",
    "Based on the above results, the following conclusions can be drawn:\n",
    "\n",
    "* The Neural Networks with a random search performs the best in terms of accuracy, precision, recall, and F1 score. The Neural Networks with random search achieved the highest accuracy (0.988889), precision (0.988889), recall (0.988889), and F1 scores (0.988889 micro and 0.987519 macro), indicating that this model predicted the majority of the MNIST data correctly.\n",
    "\n",
    "* Looking at other metrics, we can see that the Neural Networks with a random search also achieved the highest weighted F1 score (0.989028), precision (0.989646), and recall (0.988130). These values indicate that the model had an excellent balance between precision (how many of the items that it labeled as positive are truly positive) and recall (how many of the true positives it was able to find), which also directly contributes to the high F1 score, as it is the harmonic mean of precision and recall. \n",
    "\n",
    "* The models trained using Logistic Regression, including variants with L1 and L2 regularization, liblinear solver, and Elastic Net, show a respectable performance but are noticeably outperformed by the Neural Networks models, with the Neural Networks random search variant in particular.\n",
    "\n",
    "* Although RMSE is not the primary performance metric in this scenario, a lower RMSE score does indicate a better fit of the model. Here, the Neural Networks random search model also outperforms others with the lowest RMSE of 0.424918, further solidifying its place as the best-performing model.\n",
    "\n",
    "Regarding cost of having FN, FP\n",
    "\n",
    "* True Positives (TP): These are the correctly identified digits. A high number of TPs is desirable because it demonstrates the model's ability to accurately recognize and categorize the handwritten digits.\n",
    "\n",
    "* False Positives (FP): These are instances where the model incorrectly identifies a digit. For example, the model predicts a digit to be '8' when it's actually '3'. The cost of a FP could be considered relatively low compared to high-stakes scenarios such as medical diagnoses or fraud detection. However, a high number of FPs could indicate that the model is overly sensitive, leading to many incorrect classifications and reducing the system's overall reliability.\n",
    "\n",
    "* True Negatives (TN): These are the also correctly identified digits. A high number of TNs is also desirable because it demonstrates the model's ability to accurately recognize and categorize the handwritten digits.\n",
    "\n",
    "* False Negatives (FN): These are instances where the model fails to identify a digit correctly. For example, the model predicts a digit to be '2' when it's actually '8'. The cost of FNs in the MNIST dataset context could lead to misclassifications, impacting the overall performance of the system."
   ]
  },
  {
   "cell_type": "code",
   "execution_count": null,
   "metadata": {},
   "outputs": [],
   "source": []
  }
 ],
 "metadata": {
  "colab": {
   "authorship_tag": "ABX9TyOig4eSm144+FaPk1GKk187",
   "collapsed_sections": [],
   "include_colab_link": true,
   "name": "mnist_compete_3_models.ipynb",
   "provenance": []
  },
  "kernelspec": {
   "display_name": "Python 3 (ipykernel)",
   "language": "python",
   "name": "python3"
  },
  "language_info": {
   "codemirror_mode": {
    "name": "ipython",
    "version": 3
   },
   "file_extension": ".py",
   "mimetype": "text/x-python",
   "name": "python",
   "nbconvert_exporter": "python",
   "pygments_lexer": "ipython3",
   "version": "3.10.11"
  },
  "vscode": {
   "interpreter": {
    "hash": "b056086e24cb5602cbcb82122035cd3d6ee2ccbf5df29c16e348c108b0f83be3"
   }
  }
 },
 "nbformat": 4,
 "nbformat_minor": 4
}
