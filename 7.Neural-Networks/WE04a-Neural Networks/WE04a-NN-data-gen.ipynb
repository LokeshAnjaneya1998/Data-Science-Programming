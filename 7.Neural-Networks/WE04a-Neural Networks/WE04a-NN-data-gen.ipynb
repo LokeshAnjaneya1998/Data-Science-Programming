{
 "cells": [
  {
   "cell_type": "markdown",
   "id": "79f833f4-aaeb-4170-a4e5-365e7ec574de",
   "metadata": {},
   "source": [
    "# Generating data for WE04a Neural Networks\n",
    "In this notebook I am creating one input variable and one target variable. Randomly select input variables from a uniform distribution with values from 10 to 100 for a data size of1000.  A target variable where values greater than or equal to 55 are considered True, and any values less than 55, are considered False. "
   ]
  },
  {
   "cell_type": "markdown",
   "id": "44a6e68c-a6a0-4c84-b18b-20d0dcc9f608",
   "metadata": {},
   "source": [
    "### Importing necessary libraries and set 1 as random seed"
   ]
  },
  {
   "cell_type": "code",
   "execution_count": 1,
   "id": "2bea6f19-dffb-4da7-8e62-fde8a0fd2066",
   "metadata": {},
   "outputs": [],
   "source": [
    "import matplotlib.pyplot as plt\n",
    "import numpy as np\n",
    "import pandas as pd\n",
    "\n",
    "np.random.seed(1)"
   ]
  },
  {
   "cell_type": "markdown",
   "id": "25cbeacd-d437-4c90-abcc-1eab816a62eb",
   "metadata": {},
   "source": [
    "### Defining size of data set."
   ]
  },
  {
   "cell_type": "code",
   "execution_count": 2,
   "id": "3b5c628c-6a0a-4f02-b987-67a57dc9de8c",
   "metadata": {},
   "outputs": [],
   "source": [
    "dataSize = 1000"
   ]
  },
  {
   "cell_type": "markdown",
   "id": "f5593854-ffd6-4e4d-bae2-debab81445d9",
   "metadata": {},
   "source": [
    "### Creating one input variable and one target variable. Randomly selecting input variables from a uniform distribution with values from 10 to 100."
   ]
  },
  {
   "cell_type": "code",
   "execution_count": 3,
   "id": "e7703222-0f81-4dcc-b056-27ff2d7d78d3",
   "metadata": {},
   "outputs": [],
   "source": [
    "input_variables = np.random.uniform(10,100,dataSize)"
   ]
  },
  {
   "cell_type": "markdown",
   "id": "669c4b21-cce5-47c7-9316-f9ad354274f7",
   "metadata": {},
   "source": [
    "### Adding noise to the data"
   ]
  },
  {
   "cell_type": "code",
   "execution_count": 4,
   "id": "bde29b26-de9b-4c7f-817e-ebc4c5c1b37f",
   "metadata": {},
   "outputs": [],
   "source": [
    "e_mean = 0\n",
    "e_stdev = 1\n",
    "e = np.random.normal(e_mean, e_stdev, dataSize)\n"
   ]
  },
  {
   "cell_type": "code",
   "execution_count": 5,
   "id": "d2602ea9-fffc-4a44-8148-eb2583f6f985",
   "metadata": {},
   "outputs": [],
   "source": [
    "input_variable_wnoise = input_variables + e"
   ]
  },
  {
   "cell_type": "markdown",
   "id": "41fd0df1-09a7-4ba8-9fe7-8f4a8b3aba4b",
   "metadata": {},
   "source": [
    "### Creating a target variable where values greater than or equal to 55 are considered True, and any values less than 55, are considered False."
   ]
  },
  {
   "cell_type": "code",
   "execution_count": 6,
   "id": "52dbdb60-4b06-4a6e-aa8a-5e3e6944f686",
   "metadata": {},
   "outputs": [],
   "source": [
    "target_variable = input_variable_wnoise >= 55"
   ]
  },
  {
   "cell_type": "markdown",
   "id": "ea5431df-3fcd-458c-a1a7-4f8f35600ce0",
   "metadata": {},
   "source": [
    "### Encoding target variable.\n",
    "Changing the categorical variable to binary variable"
   ]
  },
  {
   "cell_type": "code",
   "execution_count": 7,
   "id": "d1d3d20b-b30d-4e30-9d59-594ff2f19304",
   "metadata": {},
   "outputs": [],
   "source": [
    "target_variable_encoded = target_variable.astype(int)"
   ]
  },
  {
   "cell_type": "markdown",
   "id": "7725a03b-6476-43c1-b4f4-4c6df76d41ce",
   "metadata": {},
   "source": [
    "### Keeping the values in a data frame"
   ]
  },
  {
   "cell_type": "code",
   "execution_count": 8,
   "id": "31da4abc-ab04-4232-81e3-d10a4e2b4087",
   "metadata": {},
   "outputs": [],
   "source": [
    "data = pd.DataFrame({'input': input_variable_wnoise, 'target': target_variable_encoded})"
   ]
  },
  {
   "cell_type": "code",
   "execution_count": 9,
   "id": "05b04be3-9596-4fc8-b179-abea1543128b",
   "metadata": {},
   "outputs": [
    {
     "name": "stdout",
     "output_type": "stream",
     "text": [
      "       input  target\n",
      "0  48.257531       0\n",
      "1  74.505000       1\n",
      "2  10.824637       0\n",
      "3  37.990401       0\n",
      "4  21.743977       0\n"
     ]
    }
   ],
   "source": [
    "print(data.head(5))"
   ]
  },
  {
   "cell_type": "code",
   "execution_count": 10,
   "id": "a7a72de3-a251-4c86-b69b-84d6f770b065",
   "metadata": {},
   "outputs": [
    {
     "data": {
      "text/plain": [
       "(1000, 2)"
      ]
     },
     "execution_count": 10,
     "metadata": {},
     "output_type": "execute_result"
    }
   ],
   "source": [
    "data.shape"
   ]
  },
  {
   "cell_type": "code",
   "execution_count": 11,
   "id": "6795b32d-a798-4866-a2f0-2628330546e4",
   "metadata": {},
   "outputs": [
    {
     "data": {
      "text/plain": [
       "input     float64\n",
       "target      int32\n",
       "dtype: object"
      ]
     },
     "execution_count": 11,
     "metadata": {},
     "output_type": "execute_result"
    }
   ],
   "source": [
    "data.dtypes"
   ]
  },
  {
   "cell_type": "code",
   "execution_count": 12,
   "id": "09e39f40-6ec1-4108-ab90-e47dd9b1e02e",
   "metadata": {},
   "outputs": [
    {
     "data": {
      "text/html": [
       "<div>\n",
       "<style scoped>\n",
       "    .dataframe tbody tr th:only-of-type {\n",
       "        vertical-align: middle;\n",
       "    }\n",
       "\n",
       "    .dataframe tbody tr th {\n",
       "        vertical-align: top;\n",
       "    }\n",
       "\n",
       "    .dataframe thead th {\n",
       "        text-align: right;\n",
       "    }\n",
       "</style>\n",
       "<table border=\"1\" class=\"dataframe\">\n",
       "  <thead>\n",
       "    <tr style=\"text-align: right;\">\n",
       "      <th></th>\n",
       "      <th>input</th>\n",
       "      <th>target</th>\n",
       "    </tr>\n",
       "  </thead>\n",
       "  <tbody>\n",
       "    <tr>\n",
       "      <th>count</th>\n",
       "      <td>1000.000000</td>\n",
       "      <td>1000.000000</td>\n",
       "    </tr>\n",
       "    <tr>\n",
       "      <th>mean</th>\n",
       "      <td>55.101735</td>\n",
       "      <td>0.508000</td>\n",
       "    </tr>\n",
       "    <tr>\n",
       "      <th>std</th>\n",
       "      <td>25.988103</td>\n",
       "      <td>0.500186</td>\n",
       "    </tr>\n",
       "    <tr>\n",
       "      <th>min</th>\n",
       "      <td>9.297066</td>\n",
       "      <td>0.000000</td>\n",
       "    </tr>\n",
       "    <tr>\n",
       "      <th>25%</th>\n",
       "      <td>32.705059</td>\n",
       "      <td>0.000000</td>\n",
       "    </tr>\n",
       "    <tr>\n",
       "      <th>50%</th>\n",
       "      <td>55.778229</td>\n",
       "      <td>1.000000</td>\n",
       "    </tr>\n",
       "    <tr>\n",
       "      <th>75%</th>\n",
       "      <td>77.739883</td>\n",
       "      <td>1.000000</td>\n",
       "    </tr>\n",
       "    <tr>\n",
       "      <th>max</th>\n",
       "      <td>100.852092</td>\n",
       "      <td>1.000000</td>\n",
       "    </tr>\n",
       "  </tbody>\n",
       "</table>\n",
       "</div>"
      ],
      "text/plain": [
       "             input       target\n",
       "count  1000.000000  1000.000000\n",
       "mean     55.101735     0.508000\n",
       "std      25.988103     0.500186\n",
       "min       9.297066     0.000000\n",
       "25%      32.705059     0.000000\n",
       "50%      55.778229     1.000000\n",
       "75%      77.739883     1.000000\n",
       "max     100.852092     1.000000"
      ]
     },
     "execution_count": 12,
     "metadata": {},
     "output_type": "execute_result"
    }
   ],
   "source": [
    "data.describe()"
   ]
  },
  {
   "cell_type": "code",
   "execution_count": 13,
   "id": "284cafbf-4153-4bfc-921e-d88b2eb84407",
   "metadata": {},
   "outputs": [
    {
     "data": {
      "text/html": [
       "<div>\n",
       "<style scoped>\n",
       "    .dataframe tbody tr th:only-of-type {\n",
       "        vertical-align: middle;\n",
       "    }\n",
       "\n",
       "    .dataframe tbody tr th {\n",
       "        vertical-align: top;\n",
       "    }\n",
       "\n",
       "    .dataframe thead th {\n",
       "        text-align: right;\n",
       "    }\n",
       "</style>\n",
       "<table border=\"1\" class=\"dataframe\">\n",
       "  <thead>\n",
       "    <tr style=\"text-align: right;\">\n",
       "      <th></th>\n",
       "      <th>input</th>\n",
       "      <th>target</th>\n",
       "    </tr>\n",
       "  </thead>\n",
       "  <tbody>\n",
       "    <tr>\n",
       "      <th>0</th>\n",
       "      <td>48.257531</td>\n",
       "      <td>0</td>\n",
       "    </tr>\n",
       "    <tr>\n",
       "      <th>1</th>\n",
       "      <td>74.505000</td>\n",
       "      <td>1</td>\n",
       "    </tr>\n",
       "    <tr>\n",
       "      <th>2</th>\n",
       "      <td>10.824637</td>\n",
       "      <td>0</td>\n",
       "    </tr>\n",
       "    <tr>\n",
       "      <th>3</th>\n",
       "      <td>37.990401</td>\n",
       "      <td>0</td>\n",
       "    </tr>\n",
       "    <tr>\n",
       "      <th>4</th>\n",
       "      <td>21.743977</td>\n",
       "      <td>0</td>\n",
       "    </tr>\n",
       "    <tr>\n",
       "      <th>...</th>\n",
       "      <td>...</td>\n",
       "      <td>...</td>\n",
       "    </tr>\n",
       "    <tr>\n",
       "      <th>995</th>\n",
       "      <td>98.629565</td>\n",
       "      <td>1</td>\n",
       "    </tr>\n",
       "    <tr>\n",
       "      <th>996</th>\n",
       "      <td>37.837107</td>\n",
       "      <td>0</td>\n",
       "    </tr>\n",
       "    <tr>\n",
       "      <th>997</th>\n",
       "      <td>71.025373</td>\n",
       "      <td>1</td>\n",
       "    </tr>\n",
       "    <tr>\n",
       "      <th>998</th>\n",
       "      <td>41.497504</td>\n",
       "      <td>0</td>\n",
       "    </tr>\n",
       "    <tr>\n",
       "      <th>999</th>\n",
       "      <td>81.701946</td>\n",
       "      <td>1</td>\n",
       "    </tr>\n",
       "  </tbody>\n",
       "</table>\n",
       "<p>1000 rows × 2 columns</p>\n",
       "</div>"
      ],
      "text/plain": [
       "         input  target\n",
       "0    48.257531       0\n",
       "1    74.505000       1\n",
       "2    10.824637       0\n",
       "3    37.990401       0\n",
       "4    21.743977       0\n",
       "..         ...     ...\n",
       "995  98.629565       1\n",
       "996  37.837107       0\n",
       "997  71.025373       1\n",
       "998  41.497504       0\n",
       "999  81.701946       1\n",
       "\n",
       "[1000 rows x 2 columns]"
      ]
     },
     "execution_count": 13,
     "metadata": {},
     "output_type": "execute_result"
    }
   ],
   "source": [
    "data"
   ]
  },
  {
   "cell_type": "markdown",
   "id": "60b99682-4bcc-44bb-b831-3f6d2263cb8a",
   "metadata": {},
   "source": [
    "### Using scatter plot visualizing the data"
   ]
  },
  {
   "cell_type": "code",
   "execution_count": 14,
   "id": "3653c77f-dd84-4861-9433-ae692f3d4ed2",
   "metadata": {
    "tags": []
   },
   "outputs": [
    {
     "data": {
      "image/png": "[encoded data removed]",
      "text/plain": [
       "<Figure size 800x600 with 1 Axes>"
      ]
     },
     "metadata": {},
     "output_type": "display_data"
    }
   ],
   "source": [
    "fig = plt.figure(figsize=(8, 6))\n",
    "ax = fig.add_subplot()\n",
    "colors = np.array([\"red\", \"green\"])\n",
    "ax.scatter(data['input'], data['target'], c=colors[np.ravel(data['target'].astype(int))])\n",
    "plt.axvline(55, color=\"black\", label=\"cutoff\", linestyle='--', alpha=.1)\n",
    "ax.set_xlabel('Input Variables')\n",
    "ax.set_ylabel('Target Variables')\n",
    "plt.show()"
   ]
  },
  {
   "cell_type": "markdown",
   "id": "d20a6e56-90da-44df-b8c0-d29328cca311",
   "metadata": {},
   "source": [
    "In the above graph 0 being false and 1 being true. "
   ]
  },
  {
   "cell_type": "markdown",
   "id": "3ea5cd1e-d3d9-4168-998c-441209bcd5e8",
   "metadata": {},
   "source": [
    "### Saving the data to a csv file"
   ]
  },
  {
   "cell_type": "code",
   "execution_count": 15,
   "id": "c6b66baf-779c-4909-b669-e5a2ccecacea",
   "metadata": {
    "tags": []
   },
   "outputs": [],
   "source": [
    "data.to_csv('we04a_dataset.csv', index=False)"
   ]
  },
  {
   "cell_type": "markdown",
   "id": "07f78655-891a-45cb-86ef-fe72c7c19aa7",
   "metadata": {},
   "source": [
    "## I have created a synthetic dataset that I can do logistic modeling in WE02a-DataPrep model fitting notebook."
   ]
  }
 ],
 "metadata": {
  "kernelspec": {
   "display_name": "Python 3 (ipykernel)",
   "language": "python",
   "name": "python3"
  },
  "language_info": {
   "codemirror_mode": {
    "name": "ipython",
    "version": 3
   },
   "file_extension": ".py",
   "mimetype": "text/x-python",
   "name": "python",
   "nbconvert_exporter": "python",
   "pygments_lexer": "ipython3",
   "version": "3.10.11"
  }
 },
 "nbformat": 4,
 "nbformat_minor": 5
}
