{
 "cells": [
  {
   "cell_type": "markdown",
   "id": "4a3ea158-2f01-47ea-9ec1-55d74ee0bde2",
   "metadata": {},
   "source": [
    "# Fitting a logistic regression model and Neural network model and evaluating the performance.\n",
    "\n",
    "In this notebook, I will import data that was generated from WE04a-NN-data-gen. I will  fit a logistic regression model to the data, and evaluate the resulting performance of this model (use the confusion matrix and associated metrics). Add a section at the end of the notebook and discuss how well the model performed on the test data."
   ]
  },
  {
   "cell_type": "markdown",
   "id": "61f6a28c-eeef-4f18-94ae-f516586dc6c7",
   "metadata": {},
   "source": [
    "### Importing necessary libraries and set 1 as random seed"
   ]
  },
  {
   "cell_type": "code",
   "execution_count": 1,
   "id": "a77764bc-14d8-4f69-a28e-6c8c0da1463d",
   "metadata": {},
   "outputs": [],
   "source": [
    "import matplotlib.pyplot as plt\n",
    "import numpy as np\n",
    "import pandas as pd\n",
    "from sklearn.linear_model import LogisticRegression\n",
    "from sklearn.model_selection import train_test_split, GridSearchCV, RandomizedSearchCV\n",
    "from sklearn.metrics import classification_report, confusion_matrix, ConfusionMatrixDisplay\n",
    "from sklearn.metrics import f1_score, recall_score, precision_score, accuracy_score\n",
    "from sklearn.metrics import mean_squared_error\n",
    "from sklearn.neural_network import MLPClassifier\n",
    "import collections\n",
    "\n",
    "np.random.seed(1)"
   ]
  },
  {
   "cell_type": "markdown",
   "id": "914b9816-454d-408c-9f19-eade2d3ef474",
   "metadata": {},
   "source": [
    "### Load data from CSV file into dataframe"
   ]
  },
  {
   "cell_type": "code",
   "execution_count": 2,
   "id": "0392cb0e-165c-4280-b93c-754f577f1fa2",
   "metadata": {},
   "outputs": [],
   "source": [
    "data = pd.read_csv('we04a_dataset.csv')"
   ]
  },
  {
   "cell_type": "markdown",
   "id": "abe78455-38a5-4dbd-ac7c-53638ac08093",
   "metadata": {},
   "source": [
    "## Conducting an initial exploration of the data\n",
    "\n",
    "Things are simple with this dataset. There is one input variable and one target variable. The input variable is continuous and the target is boolean. We can see that there are no missing values in the dataset.\n",
    "\n",
    "The following code will:\n",
    "* display the first 5 rows of the dataframe\n",
    "* check the dimensions of the dataframe\n",
    "* check the data types of the columns\n",
    "* check for missing values\n",
    "* develop scatterplot of the data\n",
    "* provide a statistical summary of the data\n"
   ]
  },
  {
   "cell_type": "code",
   "execution_count": 3,
   "id": "b85f2f1a-ce16-4f55-a9a2-c159ff7a57ab",
   "metadata": {},
   "outputs": [
    {
     "data": {
      "text/html": [
       "<div>\n",
       "<style scoped>\n",
       "    .dataframe tbody tr th:only-of-type {\n",
       "        vertical-align: middle;\n",
       "    }\n",
       "\n",
       "    .dataframe tbody tr th {\n",
       "        vertical-align: top;\n",
       "    }\n",
       "\n",
       "    .dataframe thead th {\n",
       "        text-align: right;\n",
       "    }\n",
       "</style>\n",
       "<table border=\"1\" class=\"dataframe\">\n",
       "  <thead>\n",
       "    <tr style=\"text-align: right;\">\n",
       "      <th></th>\n",
       "      <th>input</th>\n",
       "      <th>target</th>\n",
       "    </tr>\n",
       "  </thead>\n",
       "  <tbody>\n",
       "    <tr>\n",
       "      <th>0</th>\n",
       "      <td>48.257531</td>\n",
       "      <td>0</td>\n",
       "    </tr>\n",
       "    <tr>\n",
       "      <th>1</th>\n",
       "      <td>74.505000</td>\n",
       "      <td>1</td>\n",
       "    </tr>\n",
       "    <tr>\n",
       "      <th>2</th>\n",
       "      <td>10.824637</td>\n",
       "      <td>0</td>\n",
       "    </tr>\n",
       "    <tr>\n",
       "      <th>3</th>\n",
       "      <td>37.990401</td>\n",
       "      <td>0</td>\n",
       "    </tr>\n",
       "    <tr>\n",
       "      <th>4</th>\n",
       "      <td>21.743977</td>\n",
       "      <td>0</td>\n",
       "    </tr>\n",
       "  </tbody>\n",
       "</table>\n",
       "</div>"
      ],
      "text/plain": [
       "       input  target\n",
       "0  48.257531       0\n",
       "1  74.505000       1\n",
       "2  10.824637       0\n",
       "3  37.990401       0\n",
       "4  21.743977       0"
      ]
     },
     "execution_count": 3,
     "metadata": {},
     "output_type": "execute_result"
    }
   ],
   "source": [
    "data.head(5)"
   ]
  },
  {
   "cell_type": "code",
   "execution_count": 4,
   "id": "0f9fcace-0a7a-49a5-bbba-d64bda146b23",
   "metadata": {},
   "outputs": [
    {
     "data": {
      "text/plain": [
       "(1000, 2)"
      ]
     },
     "execution_count": 4,
     "metadata": {},
     "output_type": "execute_result"
    }
   ],
   "source": [
    "data.shape"
   ]
  },
  {
   "cell_type": "code",
   "execution_count": 5,
   "id": "9180a559-e27d-4303-bc23-1953c753ecfd",
   "metadata": {},
   "outputs": [
    {
     "data": {
      "text/plain": [
       "input     float64\n",
       "target      int64\n",
       "dtype: object"
      ]
     },
     "execution_count": 5,
     "metadata": {},
     "output_type": "execute_result"
    }
   ],
   "source": [
    "data.dtypes"
   ]
  },
  {
   "cell_type": "code",
   "execution_count": 6,
   "id": "e58a21cf-a33d-4bf0-aa99-5291284a2170",
   "metadata": {},
   "outputs": [
    {
     "data": {
      "text/plain": [
       "input     0\n",
       "target    0\n",
       "dtype: int64"
      ]
     },
     "execution_count": 6,
     "metadata": {},
     "output_type": "execute_result"
    }
   ],
   "source": [
    "data.isnull().sum()"
   ]
  },
  {
   "cell_type": "code",
   "execution_count": 7,
   "id": "3e5f864e-f528-4807-be9d-db4cca3cc5de",
   "metadata": {},
   "outputs": [
    {
     "data": {
      "image/png": "[encoded data removed]",
      "text/plain": [
       "<Figure size 640x480 with 1 Axes>"
      ]
     },
     "metadata": {},
     "output_type": "display_data"
    }
   ],
   "source": [
    "fig = plt.figure()\n",
    "ax = fig.add_subplot()\n",
    "colors = np.array([\"red\", \"green\"])\n",
    "ax.scatter(data['input'], data['target'], c=colors[np.ravel(data['target'].astype(int))])\n",
    "ax.set_xlabel('Input Variables')\n",
    "ax.set_ylabel('Target Variables')\n",
    "plt.show()"
   ]
  },
  {
   "cell_type": "code",
   "execution_count": 8,
   "id": "84b0b58b-3e81-42c4-a54e-6b0de1ee9b2c",
   "metadata": {},
   "outputs": [
    {
     "data": {
      "text/html": [
       "<div>\n",
       "<style scoped>\n",
       "    .dataframe tbody tr th:only-of-type {\n",
       "        vertical-align: middle;\n",
       "    }\n",
       "\n",
       "    .dataframe tbody tr th {\n",
       "        vertical-align: top;\n",
       "    }\n",
       "\n",
       "    .dataframe thead th {\n",
       "        text-align: right;\n",
       "    }\n",
       "</style>\n",
       "<table border=\"1\" class=\"dataframe\">\n",
       "  <thead>\n",
       "    <tr style=\"text-align: right;\">\n",
       "      <th></th>\n",
       "      <th>input</th>\n",
       "      <th>target</th>\n",
       "    </tr>\n",
       "  </thead>\n",
       "  <tbody>\n",
       "    <tr>\n",
       "      <th>count</th>\n",
       "      <td>1000.000000</td>\n",
       "      <td>1000.000000</td>\n",
       "    </tr>\n",
       "    <tr>\n",
       "      <th>mean</th>\n",
       "      <td>55.101735</td>\n",
       "      <td>0.508000</td>\n",
       "    </tr>\n",
       "    <tr>\n",
       "      <th>std</th>\n",
       "      <td>25.988103</td>\n",
       "      <td>0.500186</td>\n",
       "    </tr>\n",
       "    <tr>\n",
       "      <th>min</th>\n",
       "      <td>9.297066</td>\n",
       "      <td>0.000000</td>\n",
       "    </tr>\n",
       "    <tr>\n",
       "      <th>25%</th>\n",
       "      <td>32.705059</td>\n",
       "      <td>0.000000</td>\n",
       "    </tr>\n",
       "    <tr>\n",
       "      <th>50%</th>\n",
       "      <td>55.778229</td>\n",
       "      <td>1.000000</td>\n",
       "    </tr>\n",
       "    <tr>\n",
       "      <th>75%</th>\n",
       "      <td>77.739883</td>\n",
       "      <td>1.000000</td>\n",
       "    </tr>\n",
       "    <tr>\n",
       "      <th>max</th>\n",
       "      <td>100.852092</td>\n",
       "      <td>1.000000</td>\n",
       "    </tr>\n",
       "  </tbody>\n",
       "</table>\n",
       "</div>"
      ],
      "text/plain": [
       "             input       target\n",
       "count  1000.000000  1000.000000\n",
       "mean     55.101735     0.508000\n",
       "std      25.988103     0.500186\n",
       "min       9.297066     0.000000\n",
       "25%      32.705059     0.000000\n",
       "50%      55.778229     1.000000\n",
       "75%      77.739883     1.000000\n",
       "max     100.852092     1.000000"
      ]
     },
     "execution_count": 8,
     "metadata": {},
     "output_type": "execute_result"
    }
   ],
   "source": [
    "data.describe()"
   ]
  },
  {
   "cell_type": "markdown",
   "id": "265a2e05-e979-4eb1-be49-c81d948576a6",
   "metadata": {},
   "source": [
    "### Create a logistic model that best fits the data\n",
    "To avoid overfitting, I used a cross validation approach. This involves randoming splitting the data into a training and test dataset.I used 80/20 here."
   ]
  },
  {
   "cell_type": "code",
   "execution_count": 9,
   "id": "41ba67cb-1504-44c5-aa90-e4383acd169b",
   "metadata": {},
   "outputs": [],
   "source": [
    "X=data[['input']]\n",
    "y=data[['target']]"
   ]
  },
  {
   "cell_type": "code",
   "execution_count": 10,
   "id": "4bd77297-d2f7-413e-9230-e3cc22550d32",
   "metadata": {},
   "outputs": [],
   "source": [
    "X_train, X_test, y_train, y_test = train_test_split(X, y, test_size=0.20, random_state=1)"
   ]
  },
  {
   "cell_type": "code",
   "execution_count": 11,
   "id": "bfbfc92d-a529-48d7-85ec-933a932bcb68",
   "metadata": {},
   "outputs": [],
   "source": [
    "trainData = X_train.copy()\n",
    "trainData['target'] = y_train\n"
   ]
  },
  {
   "cell_type": "code",
   "execution_count": 12,
   "id": "7b403531-d88d-47b9-a6ff-000bd6e05710",
   "metadata": {},
   "outputs": [
    {
     "data": {
      "text/html": [
       "<div>\n",
       "<style scoped>\n",
       "    .dataframe tbody tr th:only-of-type {\n",
       "        vertical-align: middle;\n",
       "    }\n",
       "\n",
       "    .dataframe tbody tr th {\n",
       "        vertical-align: top;\n",
       "    }\n",
       "\n",
       "    .dataframe thead th {\n",
       "        text-align: right;\n",
       "    }\n",
       "</style>\n",
       "<table border=\"1\" class=\"dataframe\">\n",
       "  <thead>\n",
       "    <tr style=\"text-align: right;\">\n",
       "      <th></th>\n",
       "      <th>input</th>\n",
       "      <th>target</th>\n",
       "    </tr>\n",
       "  </thead>\n",
       "  <tbody>\n",
       "    <tr>\n",
       "      <th>382</th>\n",
       "      <td>97.763453</td>\n",
       "      <td>1</td>\n",
       "    </tr>\n",
       "    <tr>\n",
       "      <th>994</th>\n",
       "      <td>60.793732</td>\n",
       "      <td>1</td>\n",
       "    </tr>\n",
       "    <tr>\n",
       "      <th>982</th>\n",
       "      <td>90.153127</td>\n",
       "      <td>1</td>\n",
       "    </tr>\n",
       "    <tr>\n",
       "      <th>47</th>\n",
       "      <td>38.718991</td>\n",
       "      <td>0</td>\n",
       "    </tr>\n",
       "    <tr>\n",
       "      <th>521</th>\n",
       "      <td>63.016154</td>\n",
       "      <td>1</td>\n",
       "    </tr>\n",
       "  </tbody>\n",
       "</table>\n",
       "</div>"
      ],
      "text/plain": [
       "         input  target\n",
       "382  97.763453       1\n",
       "994  60.793732       1\n",
       "982  90.153127       1\n",
       "47   38.718991       0\n",
       "521  63.016154       1"
      ]
     },
     "execution_count": 12,
     "metadata": {},
     "output_type": "execute_result"
    }
   ],
   "source": [
    "trainData.head(5)"
   ]
  },
  {
   "cell_type": "code",
   "execution_count": 13,
   "id": "eeffab77-0d8d-42bf-aad6-f1ea5f1a1b63",
   "metadata": {
    "tags": []
   },
   "outputs": [],
   "source": [
    "testData = X_test.copy()\n",
    "testData['target'] = y_test"
   ]
  },
  {
   "cell_type": "code",
   "execution_count": 14,
   "id": "a33abcac-649b-4245-bff8-4e08669dd251",
   "metadata": {},
   "outputs": [
    {
     "data": {
      "text/html": [
       "<div>\n",
       "<style scoped>\n",
       "    .dataframe tbody tr th:only-of-type {\n",
       "        vertical-align: middle;\n",
       "    }\n",
       "\n",
       "    .dataframe tbody tr th {\n",
       "        vertical-align: top;\n",
       "    }\n",
       "\n",
       "    .dataframe thead th {\n",
       "        text-align: right;\n",
       "    }\n",
       "</style>\n",
       "<table border=\"1\" class=\"dataframe\">\n",
       "  <thead>\n",
       "    <tr style=\"text-align: right;\">\n",
       "      <th></th>\n",
       "      <th>input</th>\n",
       "      <th>target</th>\n",
       "    </tr>\n",
       "  </thead>\n",
       "  <tbody>\n",
       "    <tr>\n",
       "      <th>507</th>\n",
       "      <td>26.196076</td>\n",
       "      <td>0</td>\n",
       "    </tr>\n",
       "    <tr>\n",
       "      <th>818</th>\n",
       "      <td>71.969418</td>\n",
       "      <td>1</td>\n",
       "    </tr>\n",
       "    <tr>\n",
       "      <th>452</th>\n",
       "      <td>90.499055</td>\n",
       "      <td>1</td>\n",
       "    </tr>\n",
       "    <tr>\n",
       "      <th>368</th>\n",
       "      <td>56.341045</td>\n",
       "      <td>1</td>\n",
       "    </tr>\n",
       "    <tr>\n",
       "      <th>242</th>\n",
       "      <td>59.826121</td>\n",
       "      <td>1</td>\n",
       "    </tr>\n",
       "  </tbody>\n",
       "</table>\n",
       "</div>"
      ],
      "text/plain": [
       "         input  target\n",
       "507  26.196076       0\n",
       "818  71.969418       1\n",
       "452  90.499055       1\n",
       "368  56.341045       1\n",
       "242  59.826121       1"
      ]
     },
     "execution_count": 14,
     "metadata": {},
     "output_type": "execute_result"
    }
   ],
   "source": [
    "testData.head(5)"
   ]
  },
  {
   "cell_type": "markdown",
   "id": "f55d1327-576c-4813-823b-0d2de0c564b5",
   "metadata": {},
   "source": [
    "### Saving the test data to csv files"
   ]
  },
  {
   "cell_type": "markdown",
   "id": "5664a6b2-704e-43e1-b698-200bd5bb2599",
   "metadata": {},
   "source": [
    "### Fitting a logistic regression model"
   ]
  },
  {
   "cell_type": "code",
   "execution_count": 15,
   "id": "3a4f6142-b079-4b93-8681-d2d5a8e0390b",
   "metadata": {},
   "outputs": [],
   "source": [
    "log_reg = LogisticRegression().fit(X_train, np.ravel(y_train))"
   ]
  },
  {
   "cell_type": "markdown",
   "id": "7da6d748-b37c-44dd-81b3-5ad923d91e8c",
   "metadata": {},
   "source": [
    "### Adding a column to the dataframe with the predicted values"
   ]
  },
  {
   "cell_type": "code",
   "execution_count": 16,
   "id": "2567e2a8-d4fe-448b-935b-4a08c1b190c7",
   "metadata": {
    "tags": []
   },
   "outputs": [
    {
     "data": {
      "text/html": [
       "<div>\n",
       "<style scoped>\n",
       "    .dataframe tbody tr th:only-of-type {\n",
       "        vertical-align: middle;\n",
       "    }\n",
       "\n",
       "    .dataframe tbody tr th {\n",
       "        vertical-align: top;\n",
       "    }\n",
       "\n",
       "    .dataframe thead th {\n",
       "        text-align: right;\n",
       "    }\n",
       "</style>\n",
       "<table border=\"1\" class=\"dataframe\">\n",
       "  <thead>\n",
       "    <tr style=\"text-align: right;\">\n",
       "      <th></th>\n",
       "      <th>input</th>\n",
       "      <th>target</th>\n",
       "      <th>predicted</th>\n",
       "    </tr>\n",
       "  </thead>\n",
       "  <tbody>\n",
       "    <tr>\n",
       "      <th>0</th>\n",
       "      <td>48.257531</td>\n",
       "      <td>0</td>\n",
       "      <td>0</td>\n",
       "    </tr>\n",
       "    <tr>\n",
       "      <th>1</th>\n",
       "      <td>74.505000</td>\n",
       "      <td>1</td>\n",
       "      <td>1</td>\n",
       "    </tr>\n",
       "    <tr>\n",
       "      <th>2</th>\n",
       "      <td>10.824637</td>\n",
       "      <td>0</td>\n",
       "      <td>0</td>\n",
       "    </tr>\n",
       "    <tr>\n",
       "      <th>3</th>\n",
       "      <td>37.990401</td>\n",
       "      <td>0</td>\n",
       "      <td>0</td>\n",
       "    </tr>\n",
       "    <tr>\n",
       "      <th>4</th>\n",
       "      <td>21.743977</td>\n",
       "      <td>0</td>\n",
       "      <td>0</td>\n",
       "    </tr>\n",
       "  </tbody>\n",
       "</table>\n",
       "</div>"
      ],
      "text/plain": [
       "       input  target  predicted\n",
       "0  48.257531       0          0\n",
       "1  74.505000       1          1\n",
       "2  10.824637       0          0\n",
       "3  37.990401       0          0\n",
       "4  21.743977       0          0"
      ]
     },
     "execution_count": 16,
     "metadata": {},
     "output_type": "execute_result"
    }
   ],
   "source": [
    "data['predicted'] = log_reg.predict(X)\n",
    "data.head(5)"
   ]
  },
  {
   "cell_type": "markdown",
   "id": "9b11d08c-7196-47de-ae3c-d275733731e8",
   "metadata": {},
   "source": [
    "### Adding a column of the probabilities of being a 1"
   ]
  },
  {
   "cell_type": "code",
   "execution_count": 17,
   "id": "24e0796a-5934-4db5-b77b-6d971d6c0dfe",
   "metadata": {},
   "outputs": [
    {
     "data": {
      "text/html": [
       "<div>\n",
       "<style scoped>\n",
       "    .dataframe tbody tr th:only-of-type {\n",
       "        vertical-align: middle;\n",
       "    }\n",
       "\n",
       "    .dataframe tbody tr th {\n",
       "        vertical-align: top;\n",
       "    }\n",
       "\n",
       "    .dataframe thead th {\n",
       "        text-align: right;\n",
       "    }\n",
       "</style>\n",
       "<table border=\"1\" class=\"dataframe\">\n",
       "  <thead>\n",
       "    <tr style=\"text-align: right;\">\n",
       "      <th></th>\n",
       "      <th>input</th>\n",
       "      <th>target</th>\n",
       "      <th>predicted</th>\n",
       "      <th>pred_prob</th>\n",
       "    </tr>\n",
       "  </thead>\n",
       "  <tbody>\n",
       "    <tr>\n",
       "      <th>0</th>\n",
       "      <td>48.257531</td>\n",
       "      <td>0</td>\n",
       "      <td>0</td>\n",
       "      <td>5.863507e-08</td>\n",
       "    </tr>\n",
       "    <tr>\n",
       "      <th>1</th>\n",
       "      <td>74.505000</td>\n",
       "      <td>1</td>\n",
       "      <td>1</td>\n",
       "      <td>1.000000e+00</td>\n",
       "    </tr>\n",
       "    <tr>\n",
       "      <th>2</th>\n",
       "      <td>10.824637</td>\n",
       "      <td>0</td>\n",
       "      <td>0</td>\n",
       "      <td>3.540109e-48</td>\n",
       "    </tr>\n",
       "    <tr>\n",
       "      <th>3</th>\n",
       "      <td>37.990401</td>\n",
       "      <td>0</td>\n",
       "      <td>0</td>\n",
       "      <td>5.455237e-19</td>\n",
       "    </tr>\n",
       "    <tr>\n",
       "      <th>4</th>\n",
       "      <td>21.743977</td>\n",
       "      <td>0</td>\n",
       "      <td>0</td>\n",
       "      <td>1.910367e-36</td>\n",
       "    </tr>\n",
       "  </tbody>\n",
       "</table>\n",
       "</div>"
      ],
      "text/plain": [
       "       input  target  predicted     pred_prob\n",
       "0  48.257531       0          0  5.863507e-08\n",
       "1  74.505000       1          1  1.000000e+00\n",
       "2  10.824637       0          0  3.540109e-48\n",
       "3  37.990401       0          0  5.455237e-19\n",
       "4  21.743977       0          0  1.910367e-36"
      ]
     },
     "execution_count": 17,
     "metadata": {},
     "output_type": "execute_result"
    }
   ],
   "source": [
    "data['pred_prob'] = log_reg.predict_proba(X)[:,1]\n",
    "data.head(5)"
   ]
  },
  {
   "cell_type": "markdown",
   "id": "c92a04b9-ca3b-4ea0-b925-9806ba843f4a",
   "metadata": {},
   "source": [
    "### Giving a condition and adding a column to the data frame if the predicted value is coorect"
   ]
  },
  {
   "cell_type": "code",
   "execution_count": 18,
   "id": "ab8fe234-3238-4b7f-8857-3d577fda229e",
   "metadata": {},
   "outputs": [
    {
     "data": {
      "text/html": [
       "<div>\n",
       "<style scoped>\n",
       "    .dataframe tbody tr th:only-of-type {\n",
       "        vertical-align: middle;\n",
       "    }\n",
       "\n",
       "    .dataframe tbody tr th {\n",
       "        vertical-align: top;\n",
       "    }\n",
       "\n",
       "    .dataframe thead th {\n",
       "        text-align: right;\n",
       "    }\n",
       "</style>\n",
       "<table border=\"1\" class=\"dataframe\">\n",
       "  <thead>\n",
       "    <tr style=\"text-align: right;\">\n",
       "      <th></th>\n",
       "      <th>input</th>\n",
       "      <th>target</th>\n",
       "      <th>predicted</th>\n",
       "      <th>pred_prob</th>\n",
       "      <th>correct_prediction</th>\n",
       "    </tr>\n",
       "  </thead>\n",
       "  <tbody>\n",
       "    <tr>\n",
       "      <th>0</th>\n",
       "      <td>48.257531</td>\n",
       "      <td>0</td>\n",
       "      <td>0</td>\n",
       "      <td>5.863507e-08</td>\n",
       "      <td>True</td>\n",
       "    </tr>\n",
       "    <tr>\n",
       "      <th>1</th>\n",
       "      <td>74.505000</td>\n",
       "      <td>1</td>\n",
       "      <td>1</td>\n",
       "      <td>1.000000e+00</td>\n",
       "      <td>True</td>\n",
       "    </tr>\n",
       "    <tr>\n",
       "      <th>2</th>\n",
       "      <td>10.824637</td>\n",
       "      <td>0</td>\n",
       "      <td>0</td>\n",
       "      <td>3.540109e-48</td>\n",
       "      <td>True</td>\n",
       "    </tr>\n",
       "    <tr>\n",
       "      <th>3</th>\n",
       "      <td>37.990401</td>\n",
       "      <td>0</td>\n",
       "      <td>0</td>\n",
       "      <td>5.455237e-19</td>\n",
       "      <td>True</td>\n",
       "    </tr>\n",
       "    <tr>\n",
       "      <th>4</th>\n",
       "      <td>21.743977</td>\n",
       "      <td>0</td>\n",
       "      <td>0</td>\n",
       "      <td>1.910367e-36</td>\n",
       "      <td>True</td>\n",
       "    </tr>\n",
       "  </tbody>\n",
       "</table>\n",
       "</div>"
      ],
      "text/plain": [
       "       input  target  predicted     pred_prob  correct_prediction\n",
       "0  48.257531       0          0  5.863507e-08                True\n",
       "1  74.505000       1          1  1.000000e+00                True\n",
       "2  10.824637       0          0  3.540109e-48                True\n",
       "3  37.990401       0          0  5.455237e-19                True\n",
       "4  21.743977       0          0  1.910367e-36                True"
      ]
     },
     "execution_count": 18,
     "metadata": {},
     "output_type": "execute_result"
    }
   ],
   "source": [
    "data['correct_prediction'] = data['target'] == data['predicted']\n",
    "data.head(5)"
   ]
  },
  {
   "cell_type": "markdown",
   "id": "46c5e6db-bef1-4714-b2b9-91e4f33cf81b",
   "metadata": {},
   "source": [
    "### Displaying the probabilities and the predicted values"
   ]
  },
  {
   "cell_type": "code",
   "execution_count": 19,
   "id": "ae527bd5-88d5-4ab3-9af8-6eea98771279",
   "metadata": {},
   "outputs": [
    {
     "data": {
      "image/png": "[encoded data removed]",
      "text/plain": [
       "<Figure size 640x480 with 1 Axes>"
      ]
     },
     "metadata": {},
     "output_type": "display_data"
    }
   ],
   "source": [
    "fig = plt.figure()\n",
    "ax = fig.add_subplot()\n",
    "colors = np.array([\"red\", \"green\"])\n",
    "ax.scatter(X, y, c=colors[np.ravel(y.astype(int))])\n",
    "ax.scatter(X, data['pred_prob'], c=colors[np.ravel(y.astype(int))], alpha=0.4)\n",
    "plt.axhline(.5, color=\"black\", label=\"cutoff\", linestyle='--', alpha=.5)\n",
    "plt.axvline(55, color=\"black\", label=\"cutoff\", linestyle='--', alpha=.1)\n",
    "ax.set_xlabel('input variables')\n",
    "ax.set_ylabel('target variables')\n",
    "ax.set_title('Logistic Regression')\n",
    "plt.show()"
   ]
  },
  {
   "cell_type": "markdown",
   "id": "d3c808c1-4572-4023-9d41-9cb1b3790d77",
   "metadata": {},
   "source": [
    "In the above graph 0 being false and 1 being true."
   ]
  },
  {
   "cell_type": "markdown",
   "id": "78fcf583-b37f-4331-8355-b35f23017712",
   "metadata": {},
   "source": [
    "### Identify the coefficients and intercept."
   ]
  },
  {
   "cell_type": "code",
   "execution_count": 20,
   "id": "b7c83bcd-1381-471a-a350-2118fce432c5",
   "metadata": {},
   "outputs": [
    {
     "name": "stdout",
     "output_type": "stream",
     "text": [
      "Y = -136.04 + 2.47x\n",
      "R^2: 1.000\n"
     ]
    }
   ],
   "source": [
    "log_reg.coef_\n",
    "b0 = log_reg.intercept_[0]\n",
    "b1 = log_reg.coef_[0][0]\n",
    "r2 = log_reg.score(X, y)\n",
    "\n",
    "print(f\"Y = {b0:.2f} + {b1:.2f}x\")\n",
    "print(f\"R^2: {r2:.3f}\")"
   ]
  },
  {
   "cell_type": "markdown",
   "id": "bd0b1fa5-2f4e-4387-b59f-7fbeb2f1cbb5",
   "metadata": {},
   "source": [
    "### Percentage of times this model correctly predict the outcome"
   ]
  },
  {
   "cell_type": "code",
   "execution_count": 21,
   "id": "fc734b8f-6640-41d5-b89f-83ac271e7705",
   "metadata": {},
   "outputs": [
    {
     "name": "stdout",
     "output_type": "stream",
     "text": [
      "100.0 %\n"
     ]
    }
   ],
   "source": [
    "print(((data['correct_prediction'].sum() / data.shape[0])*100) , '%')"
   ]
  },
  {
   "cell_type": "markdown",
   "id": "a1de2f79-5939-4d51-9e44-8f91681416a9",
   "metadata": {},
   "source": [
    "## Interpretation of the logistic regression model\n",
    "\n",
    "The b1 coefficient is the change in the log odds of being a 1 for a 1 unit increase in the predictor variable. \n",
    "\n",
    "The log odds function is the natural log of the odds. It's also known as the logit function.\n",
    "\n",
    "> $\\log \\left(\\frac{p}{1-p}\\right)=\\operatorname{logit}(p)$\n",
    "\n",
    "Based on the results from our logistic regression above, we can see that the coefficient for `input` is 2.43. This means that for a 1 unit increase in input, the log odds of being a true increases by 2.43.\n",
    "\n",
    "\n",
    "$\\operatorname{logit}(p)=\\log \\left(\\frac{p}{1-p}\\right)=-132.89 + 2.43x$\n",
    "\n",
    "To find the probability of being a 1 we can use the inverse logit function (aka, logistic function).\n",
    "\n",
    "### Derive the predicted probability from the logistic model\n",
    "\n",
    "\n",
    "The logit function is defined as\n",
    "\n",
    "$\\operatorname{logit}(p)=\\log \\left(\\frac{p}{1-p}\\right)$\n",
    "\n",
    "The logistic function, is defined as \n",
    "\n",
    "$\\operatorname{logistic}(p)=\\frac{1}{e^{\\beta_0+\\beta_1x}}$\n",
    "\n",
    "\n",
    "When we use logistic regression (just as in regular regression), we are trying to find the best values for $\\beta_0$ and $\\beta_1$ that minimize the error between the predicted values and the actual values. But the interpretation of the coefficients is different.\n",
    "\n",
    "$\\operatorname{logit}(p)=\\log \\left(\\frac{p}{1-p}\\right)=\\beta_0+\\beta_1x$\n",
    "\n",
    "### For illustration, take this relationship and derive the function for the probability of being a 1.\n",
    "\n",
    "Exponentiate and take the multiplicative inverse of both sides, and we get the odds ratio.\n",
    "\n",
    "$\\frac{1-p}{p}=\\frac{1}{e^{\\beta_0+\\beta_1x}}$\n",
    "\n",
    "Partial out the fraction on the left-hand side of the equation and add one to both sides,\n",
    "\n",
    "$\\frac{1}{p}=1+\\frac{1}{e^{\\beta_0+\\beta_1x}}$\n",
    "\n",
    "Change 1 to a common denominator\n",
    "\n",
    "$\\frac{1}{p}=\\frac{e^{\\beta_0+\\beta_1 x}+1}{e^{\\beta_0+\\beta_1 x}}$\n",
    "\n",
    "Finally, take the multiplicative inverse again to obtain the formula for the probability P(target=1)\n",
    "\n",
    "$p=\\frac{e^{\\beta_0+\\beta_1 x}}{1+e^{\\beta_0+\\beta_1 x}}$\n"
   ]
  },
  {
   "cell_type": "code",
   "execution_count": 22,
   "id": "a571b9f2-a311-4def-80f9-443e44a739e5",
   "metadata": {},
   "outputs": [
    {
     "data": {
      "text/html": [
       "<div>\n",
       "<style scoped>\n",
       "    .dataframe tbody tr th:only-of-type {\n",
       "        vertical-align: middle;\n",
       "    }\n",
       "\n",
       "    .dataframe tbody tr th {\n",
       "        vertical-align: top;\n",
       "    }\n",
       "\n",
       "    .dataframe thead th {\n",
       "        text-align: right;\n",
       "    }\n",
       "</style>\n",
       "<table border=\"1\" class=\"dataframe\">\n",
       "  <thead>\n",
       "    <tr style=\"text-align: right;\">\n",
       "      <th></th>\n",
       "      <th>input</th>\n",
       "    </tr>\n",
       "  </thead>\n",
       "  <tbody>\n",
       "    <tr>\n",
       "      <th>0</th>\n",
       "      <td>5.863507e-08</td>\n",
       "    </tr>\n",
       "    <tr>\n",
       "      <th>1</th>\n",
       "      <td>1.000000e+00</td>\n",
       "    </tr>\n",
       "    <tr>\n",
       "      <th>2</th>\n",
       "      <td>3.540109e-48</td>\n",
       "    </tr>\n",
       "    <tr>\n",
       "      <th>3</th>\n",
       "      <td>5.455237e-19</td>\n",
       "    </tr>\n",
       "    <tr>\n",
       "      <th>4</th>\n",
       "      <td>1.910367e-36</td>\n",
       "    </tr>\n",
       "    <tr>\n",
       "      <th>...</th>\n",
       "      <td>...</td>\n",
       "    </tr>\n",
       "    <tr>\n",
       "      <th>995</th>\n",
       "      <td>1.000000e+00</td>\n",
       "    </tr>\n",
       "    <tr>\n",
       "      <th>996</th>\n",
       "      <td>3.733442e-19</td>\n",
       "    </tr>\n",
       "    <tr>\n",
       "      <th>997</th>\n",
       "      <td>1.000000e+00</td>\n",
       "    </tr>\n",
       "    <tr>\n",
       "      <th>998</th>\n",
       "      <td>3.198609e-15</td>\n",
       "    </tr>\n",
       "    <tr>\n",
       "      <th>999</th>\n",
       "      <td>1.000000e+00</td>\n",
       "    </tr>\n",
       "  </tbody>\n",
       "</table>\n",
       "<p>1000 rows × 1 columns</p>\n",
       "</div>"
      ],
      "text/plain": [
       "            input\n",
       "0    5.863507e-08\n",
       "1    1.000000e+00\n",
       "2    3.540109e-48\n",
       "3    5.455237e-19\n",
       "4    1.910367e-36\n",
       "..            ...\n",
       "995  1.000000e+00\n",
       "996  3.733442e-19\n",
       "997  1.000000e+00\n",
       "998  3.198609e-15\n",
       "999  1.000000e+00\n",
       "\n",
       "[1000 rows x 1 columns]"
      ]
     },
     "execution_count": 22,
     "metadata": {},
     "output_type": "execute_result"
    }
   ],
   "source": [
    "p_y_eq_1 = np.exp(b0 + b1 * X) / (1+ np.exp(b0 + b1 * X))\n",
    "p_y_eq_1"
   ]
  },
  {
   "cell_type": "code",
   "execution_count": 23,
   "id": "1a5a2da1-7e9d-4a12-932b-a4ee0b042430",
   "metadata": {},
   "outputs": [
    {
     "data": {
      "text/plain": [
       "0      5.863507e-08\n",
       "1      1.000000e+00\n",
       "2      3.540109e-48\n",
       "3      5.455237e-19\n",
       "4      1.910367e-36\n",
       "           ...     \n",
       "995    1.000000e+00\n",
       "996    3.733442e-19\n",
       "997    1.000000e+00\n",
       "998    3.198609e-15\n",
       "999    1.000000e+00\n",
       "Name: pred_prob, Length: 1000, dtype: float64"
      ]
     },
     "execution_count": 23,
     "metadata": {},
     "output_type": "execute_result"
    }
   ],
   "source": [
    "data.pred_prob"
   ]
  },
  {
   "cell_type": "markdown",
   "id": "05717598-f825-4a9a-aef2-fb5da638c391",
   "metadata": {},
   "source": [
    "## Performance analysis of classification models\n",
    "\n",
    "I will try to analyze the performance of the classification models that I have trained above. I am using the following metrics:\n",
    "* Accuracy\n",
    "* Precision\n",
    "* Recall\n",
    "* F1 score"
   ]
  },
  {
   "cell_type": "markdown",
   "id": "fc96a0ad-be15-40c2-86d9-105bf386961b",
   "metadata": {
    "tags": []
   },
   "source": [
    "### Loading and displaying the trained model and test data."
   ]
  },
  {
   "cell_type": "code",
   "execution_count": 24,
   "id": "3ae47af2-f040-4b95-b15c-69dbe6fc1613",
   "metadata": {},
   "outputs": [
    {
     "data": {
      "text/html": [
       "<div>\n",
       "<style scoped>\n",
       "    .dataframe tbody tr th:only-of-type {\n",
       "        vertical-align: middle;\n",
       "    }\n",
       "\n",
       "    .dataframe tbody tr th {\n",
       "        vertical-align: top;\n",
       "    }\n",
       "\n",
       "    .dataframe thead th {\n",
       "        text-align: right;\n",
       "    }\n",
       "</style>\n",
       "<table border=\"1\" class=\"dataframe\">\n",
       "  <thead>\n",
       "    <tr style=\"text-align: right;\">\n",
       "      <th></th>\n",
       "      <th>input</th>\n",
       "      <th>target</th>\n",
       "    </tr>\n",
       "  </thead>\n",
       "  <tbody>\n",
       "    <tr>\n",
       "      <th>507</th>\n",
       "      <td>26.196076</td>\n",
       "      <td>0</td>\n",
       "    </tr>\n",
       "    <tr>\n",
       "      <th>818</th>\n",
       "      <td>71.969418</td>\n",
       "      <td>1</td>\n",
       "    </tr>\n",
       "    <tr>\n",
       "      <th>452</th>\n",
       "      <td>90.499055</td>\n",
       "      <td>1</td>\n",
       "    </tr>\n",
       "    <tr>\n",
       "      <th>368</th>\n",
       "      <td>56.341045</td>\n",
       "      <td>1</td>\n",
       "    </tr>\n",
       "    <tr>\n",
       "      <th>242</th>\n",
       "      <td>59.826121</td>\n",
       "      <td>1</td>\n",
       "    </tr>\n",
       "  </tbody>\n",
       "</table>\n",
       "</div>"
      ],
      "text/plain": [
       "         input  target\n",
       "507  26.196076       0\n",
       "818  71.969418       1\n",
       "452  90.499055       1\n",
       "368  56.341045       1\n",
       "242  59.826121       1"
      ]
     },
     "execution_count": 24,
     "metadata": {},
     "output_type": "execute_result"
    }
   ],
   "source": [
    "testData.head(5)"
   ]
  },
  {
   "cell_type": "code",
   "execution_count": 25,
   "id": "8ea4967b-03a8-4763-9e9f-00bf42211599",
   "metadata": {
    "tags": []
   },
   "outputs": [
    {
     "name": "stdout",
     "output_type": "stream",
     "text": [
      "              precision    recall  f1-score   support\n",
      "\n",
      "           0     1.0000    1.0000    1.0000       103\n",
      "           1     1.0000    1.0000    1.0000        97\n",
      "\n",
      "    accuracy                         1.0000       200\n",
      "   macro avg     1.0000    1.0000    1.0000       200\n",
      "weighted avg     1.0000    1.0000    1.0000       200\n",
      "\n"
     ]
    }
   ],
   "source": [
    "y_pred = log_reg.predict(X_test)\n",
    "print(classification_report(y_test, y_pred, digits=4))"
   ]
  },
  {
   "cell_type": "markdown",
   "id": "c52d9a44-2db9-42a2-a362-3b3e330cf84c",
   "metadata": {},
   "source": [
    "### Creating and displaying the confusion matrix"
   ]
  },
  {
   "cell_type": "code",
   "execution_count": 26,
   "id": "6e8b90fe-f5f6-400b-a2a3-d927ee9e389c",
   "metadata": {},
   "outputs": [
    {
     "data": {
      "text/plain": [
       "array([[103,   0],\n",
       "       [  0,  97]], dtype=int64)"
      ]
     },
     "execution_count": 26,
     "metadata": {},
     "output_type": "execute_result"
    }
   ],
   "source": [
    "c_matrix = confusion_matrix(y_test, y_pred)\n",
    "c_matrix"
   ]
  },
  {
   "cell_type": "markdown",
   "id": "0ee3d95b-8c05-4b20-8cc4-d93251249580",
   "metadata": {},
   "source": [
    "### Deriving Accuracy, Precision, Recall, F1 score"
   ]
  },
  {
   "cell_type": "code",
   "execution_count": 27,
   "id": "ca382261-0122-4ed8-b8ac-6231af00ae55",
   "metadata": {},
   "outputs": [],
   "source": [
    "TP = c_matrix[1][1]\n",
    "TN = c_matrix[0][0]\n",
    "FP = c_matrix[0][1]\n",
    "FN = c_matrix[1][0]"
   ]
  },
  {
   "cell_type": "code",
   "execution_count": 29,
   "id": "5091e277-8a1f-4066-9a62-5321d388f0c1",
   "metadata": {},
   "outputs": [],
   "source": [
    "performance = pd.DataFrame({\"model\": [], \"Accuracy\": [], \"Precision\": [], \"Recall\": [], \"F1\": []})\n",
    "rmses = pd.DataFrame({\"model\": [], \"rmse\": []})"
   ]
  },
  {
   "cell_type": "code",
   "execution_count": 30,
   "id": "49d178d9-c1da-4e68-b579-42f2f7842914",
   "metadata": {},
   "outputs": [
    {
     "data": {
      "text/html": [
       "<div>\n",
       "<style scoped>\n",
       "    .dataframe tbody tr th:only-of-type {\n",
       "        vertical-align: middle;\n",
       "    }\n",
       "\n",
       "    .dataframe tbody tr th {\n",
       "        vertical-align: top;\n",
       "    }\n",
       "\n",
       "    .dataframe thead th {\n",
       "        text-align: right;\n",
       "    }\n",
       "</style>\n",
       "<table border=\"1\" class=\"dataframe\">\n",
       "  <thead>\n",
       "    <tr style=\"text-align: right;\">\n",
       "      <th></th>\n",
       "      <th>model</th>\n",
       "      <th>Accuracy</th>\n",
       "      <th>Precision</th>\n",
       "      <th>Recall</th>\n",
       "      <th>F1</th>\n",
       "    </tr>\n",
       "  </thead>\n",
       "  <tbody>\n",
       "    <tr>\n",
       "      <th>0</th>\n",
       "      <td>logistic Regression</td>\n",
       "      <td>1.0</td>\n",
       "      <td>1.0</td>\n",
       "      <td>1.0</td>\n",
       "      <td>1.0</td>\n",
       "    </tr>\n",
       "  </tbody>\n",
       "</table>\n",
       "</div>"
      ],
      "text/plain": [
       "                 model  Accuracy  Precision  Recall   F1\n",
       "0  logistic Regression       1.0        1.0     1.0  1.0"
      ]
     },
     "execution_count": 30,
     "metadata": {},
     "output_type": "execute_result"
    }
   ],
   "source": [
    "performance = pd.concat([performance, pd.DataFrame({'model':\"logistic Regression\", \n",
    "                                                    'Accuracy': [(TP+TN)/(TP+TN+FP+FN)], \n",
    "                                                    'Precision': [TP/(TP+FP)], \n",
    "                                                    'Recall': [TP/(TP+FN)], \n",
    "                                                    'F1': [2*TP/(2*TP+FP+FN)]\n",
    "                                                     }, index=[0])])\n",
    "performance"
   ]
  },
  {
   "cell_type": "code",
   "execution_count": 31,
   "id": "cc343f0f-2775-4e72-a4e1-adc273337d48",
   "metadata": {},
   "outputs": [
    {
     "name": "stdout",
     "output_type": "stream",
     "text": [
      "[('target', 1)]\n"
     ]
    },
    {
     "data": {
      "image/png": "[encoded data removed]",
      "text/plain": [
       "<Figure size 640x480 with 2 Axes>"
      ]
     },
     "metadata": {},
     "output_type": "display_data"
    }
   ],
   "source": [
    "counts = sorted(collections.Counter(y_test).items(), key=lambda i: i[0])\n",
    "print(counts)\n",
    "\n",
    "# display the confusion matrix\n",
    "cm = confusion_matrix(y_test, y_pred)\n",
    "disp = ConfusionMatrixDisplay(confusion_matrix=cm)\n",
    "disp.plot(cmap=plt.cm.Blues)\n",
    "plt.show()"
   ]
  },
  {
   "cell_type": "markdown",
   "id": "536be758-ff14-4617-aa24-f425d13a4685",
   "metadata": {},
   "source": [
    "### Performance metric rmse"
   ]
  },
  {
   "cell_type": "code",
   "execution_count": 32,
   "id": "96cbf201-6343-429d-912d-38c3d102bf1e",
   "metadata": {},
   "outputs": [
    {
     "name": "stdout",
     "output_type": "stream",
     "text": [
      "Logestic regression Test RMSE: 0.0\n"
     ]
    }
   ],
   "source": [
    "test_rmse = np.sqrt(mean_squared_error(y_test, y_pred))\n",
    "print(f\"Logestic regression Test RMSE: {test_rmse}\")\n",
    "\n",
    "rmses = pd.concat([rmses,pd.DataFrame({\"model\": 'Logestic Regression', \"rmse\": [test_rmse]})])"
   ]
  },
  {
   "cell_type": "markdown",
   "id": "457396be-0a2d-4f80-bde6-e72f8cc9b87a",
   "metadata": {},
   "source": [
    "## Prediction using neural network model (MLPClassifier)"
   ]
  },
  {
   "cell_type": "markdown",
   "id": "8dfcbd57-531b-489b-8ddf-ceb21c9ce75b",
   "metadata": {},
   "source": [
    "### Neural Network"
   ]
  },
  {
   "cell_type": "code",
   "execution_count": 33,
   "id": "5329608b-bebe-43ef-a6b3-2698eafde861",
   "metadata": {},
   "outputs": [
    {
     "name": "stdout",
     "output_type": "stream",
     "text": [
      "CPU times: total: 27 s\n",
      "Wall time: 25.5 s\n"
     ]
    }
   ],
   "source": [
    "%%time\n",
    "\n",
    "ann = MLPClassifier(hidden_layer_sizes=(128,64,32), solver='adam', max_iter=200)\n",
    "_ = ann.fit(X_train, np.ravel(y_train))"
   ]
  },
  {
   "cell_type": "code",
   "execution_count": 34,
   "id": "04d565d8-6b42-48ed-ab68-9e59115a1cc1",
   "metadata": {},
   "outputs": [
    {
     "name": "stdout",
     "output_type": "stream",
     "text": [
      "              precision    recall  f1-score   support\n",
      "\n",
      "           0     1.0000    0.9709    0.9852       103\n",
      "           1     0.9700    1.0000    0.9848        97\n",
      "\n",
      "    accuracy                         0.9850       200\n",
      "   macro avg     0.9850    0.9854    0.9850       200\n",
      "weighted avg     0.9855    0.9850    0.9850       200\n",
      "\n",
      "CPU times: total: 0 ns\n",
      "Wall time: 24 ms\n"
     ]
    }
   ],
   "source": [
    "%%time\n",
    "y_pred = ann.predict(X_test)\n",
    "print(classification_report(y_test, y_pred, digits=4))"
   ]
  },
  {
   "cell_type": "code",
   "execution_count": 35,
   "id": "3fb827ad-5fc5-4bd6-a540-95f9eb526d3f",
   "metadata": {},
   "outputs": [
    {
     "data": {
      "text/plain": [
       "array([[100,   3],\n",
       "       [  0,  97]], dtype=int64)"
      ]
     },
     "execution_count": 35,
     "metadata": {},
     "output_type": "execute_result"
    }
   ],
   "source": [
    "c_matrix = confusion_matrix(y_test, y_pred)\n",
    "c_matrix"
   ]
  },
  {
   "cell_type": "code",
   "execution_count": 36,
   "id": "21048aee-8c49-4477-9e7e-0a1f29ffd96b",
   "metadata": {},
   "outputs": [],
   "source": [
    "## Interpretting Confusion Matrix\n",
    "\n",
    "TP = c_matrix[1][1]\n",
    "TN = c_matrix[0][0]\n",
    "FP = c_matrix[0][1]\n",
    "FN = c_matrix[1][0]"
   ]
  },
  {
   "cell_type": "code",
   "execution_count": 38,
   "id": "4df88524-a86a-4c6f-9f03-e717f691e666",
   "metadata": {},
   "outputs": [
    {
     "data": {
      "text/html": [
       "<div>\n",
       "<style scoped>\n",
       "    .dataframe tbody tr th:only-of-type {\n",
       "        vertical-align: middle;\n",
       "    }\n",
       "\n",
       "    .dataframe tbody tr th {\n",
       "        vertical-align: top;\n",
       "    }\n",
       "\n",
       "    .dataframe thead th {\n",
       "        text-align: right;\n",
       "    }\n",
       "</style>\n",
       "<table border=\"1\" class=\"dataframe\">\n",
       "  <thead>\n",
       "    <tr style=\"text-align: right;\">\n",
       "      <th></th>\n",
       "      <th>model</th>\n",
       "      <th>Accuracy</th>\n",
       "      <th>Precision</th>\n",
       "      <th>Recall</th>\n",
       "      <th>F1</th>\n",
       "    </tr>\n",
       "  </thead>\n",
       "  <tbody>\n",
       "    <tr>\n",
       "      <th>0</th>\n",
       "      <td>logistic Regression</td>\n",
       "      <td>1.000</td>\n",
       "      <td>1.00</td>\n",
       "      <td>1.0</td>\n",
       "      <td>1.000000</td>\n",
       "    </tr>\n",
       "    <tr>\n",
       "      <th>0</th>\n",
       "      <td>Neural Networks</td>\n",
       "      <td>0.985</td>\n",
       "      <td>0.97</td>\n",
       "      <td>1.0</td>\n",
       "      <td>0.984772</td>\n",
       "    </tr>\n",
       "  </tbody>\n",
       "</table>\n",
       "</div>"
      ],
      "text/plain": [
       "                 model  Accuracy  Precision  Recall        F1\n",
       "0  logistic Regression     1.000       1.00     1.0  1.000000\n",
       "0      Neural Networks     0.985       0.97     1.0  0.984772"
      ]
     },
     "execution_count": 38,
     "metadata": {},
     "output_type": "execute_result"
    }
   ],
   "source": [
    "performance = pd.concat([performance, pd.DataFrame({'model':\"Neural Networks\", \n",
    "                                                    'Accuracy': [(TP+TN)/(TP+TN+FP+FN)], \n",
    "                                                    'Precision': [TP/(TP+FP)], \n",
    "                                                    'Recall': [TP/(TP+FN)], \n",
    "                                                    'F1': [2*TP/(2*TP+FP+FN)]\n",
    "                                                     }, index=[0])])\n",
    "performance\n",
    "\n"
   ]
  },
  {
   "cell_type": "code",
   "execution_count": 39,
   "id": "1392272d-3596-4bb9-8b0b-fe0f44e8156f",
   "metadata": {},
   "outputs": [
    {
     "name": "stdout",
     "output_type": "stream",
     "text": [
      "[('target', 1)]\n"
     ]
    },
    {
     "data": {
      "image/png": "[encoded data removed]",
      "text/plain": [
       "<Figure size 640x480 with 2 Axes>"
      ]
     },
     "metadata": {},
     "output_type": "display_data"
    }
   ],
   "source": [
    "counts = sorted(collections.Counter(y_test).items(), key=lambda i: i[0])\n",
    "print(counts)\n",
    "\n",
    "# display the confusion matrix\n",
    "cm = confusion_matrix(y_test, y_pred)\n",
    "disp = ConfusionMatrixDisplay(confusion_matrix=cm)\n",
    "disp.plot(cmap=plt.cm.Blues)\n",
    "plt.show()"
   ]
  },
  {
   "cell_type": "code",
   "execution_count": 40,
   "id": "244d8334-0e6b-47f1-b658-0c0abcb42976",
   "metadata": {},
   "outputs": [
    {
     "name": "stdout",
     "output_type": "stream",
     "text": [
      "Neural Network Test RMSE: 0.1224744871391589\n"
     ]
    }
   ],
   "source": [
    "test_rmse = np.sqrt(mean_squared_error(y_test, y_pred))\n",
    "print(f\"Neural Network Test RMSE: {test_rmse}\")\n",
    "\n",
    "rmses = pd.concat([rmses,pd.DataFrame({\"model\": 'Neural Networks', \"rmse\": [test_rmse]})])"
   ]
  },
  {
   "cell_type": "markdown",
   "id": "2222d98a-3966-4a16-b0ba-f9831197a0e0",
   "metadata": {},
   "source": [
    "### MLPClassifier using random search"
   ]
  },
  {
   "cell_type": "code",
   "execution_count": 41,
   "id": "e9130ea4-5f41-4394-85c0-60704addf42e",
   "metadata": {},
   "outputs": [
    {
     "name": "stdout",
     "output_type": "stream",
     "text": [
      "{'solver': 'adam', 'max_iter': 9000, 'learning_rate_init': 0.0001, 'learning_rate': 'invscaling', 'hidden_layer_sizes': (64, 32), 'alpha': 0.2, 'activation': 'relu'}\n",
      "CPU times: total: 13.8 s\n",
      "Wall time: 8min 37s\n"
     ]
    }
   ],
   "source": [
    "%%time\n",
    "\n",
    "score_measure = \"accuracy\"\n",
    "kfolds = 4\n",
    "\n",
    "param_grid = {\n",
    "    'hidden_layer_sizes': [ (32,), (64,), (128,), (32,16), (64,32)],\n",
    "    'activation': ['logistic', 'tanh', 'relu'],\n",
    "    'solver': ['adam', 'sgd'],\n",
    "    'alpha': [0.1, .2, .5, .7, 1],\n",
    "    'learning_rate': ['constant', 'invscaling', 'adaptive'],\n",
    "    'learning_rate_init': [0.0001, 0.001, 0.01],\n",
    "    'max_iter': [9000]\n",
    "}\n",
    "\n",
    "\n",
    "ann = MLPClassifier(random_state=1)\n",
    "rand_search = RandomizedSearchCV(\n",
    "    estimator = ann,                    # the model to use\n",
    "    param_distributions=param_grid,     # the parameter grid\n",
    "    cv=kfolds,                      # number of folds\n",
    "    n_iter=200,                     # number of iterations; this is the number of parameter settings that are sampled\n",
    "    scoring=score_measure,          # score measure used to evaluate parameter combinations\n",
    "    verbose=0,                      # verbose level; the higher, the more messages. 0 for no messages\n",
    "    n_jobs=-1,                      # number of parallel jobs to run >> n_jobs=-1 will utilize all available CPUs \n",
    "    random_state=1                  # random state ensures that the splits are the same for each iteration\n",
    ")\n",
    "\n",
    "rand_search.fit(X_train, np.ravel(y_train))\n",
    "\n",
    "bestMLPClassifier = rand_search.best_estimator_\n",
    "\n",
    "print(rand_search.best_params_)"
   ]
  },
  {
   "cell_type": "code",
   "execution_count": 42,
   "id": "e735ab0b-2df6-4bbc-9457-8ad0bdcf46ad",
   "metadata": {
    "tags": []
   },
   "outputs": [
    {
     "name": "stdout",
     "output_type": "stream",
     "text": [
      "              precision    recall  f1-score   support\n",
      "\n",
      "           0     1.0000    0.9806    0.9902       103\n",
      "           1     0.9798    1.0000    0.9898        97\n",
      "\n",
      "    accuracy                         0.9900       200\n",
      "   macro avg     0.9899    0.9903    0.9900       200\n",
      "weighted avg     0.9902    0.9900    0.9900       200\n",
      "\n",
      "CPU times: total: 15.6 ms\n",
      "Wall time: 15.5 ms\n"
     ]
    }
   ],
   "source": [
    "%%time\n",
    "y_pred = bestMLPClassifier.predict(X_test)\n",
    "\n",
    "print(classification_report(y_test, y_pred, digits=4))"
   ]
  },
  {
   "cell_type": "markdown",
   "id": "32a4150d-8fa8-436e-b490-075283b6829c",
   "metadata": {},
   "source": [
    "### Deriving performance metrics"
   ]
  },
  {
   "cell_type": "code",
   "execution_count": 43,
   "id": "7345ae9c-60ab-40b4-aa13-8f043566663d",
   "metadata": {},
   "outputs": [
    {
     "data": {
      "text/plain": [
       "array([[101,   2],\n",
       "       [  0,  97]], dtype=int64)"
      ]
     },
     "execution_count": 43,
     "metadata": {},
     "output_type": "execute_result"
    }
   ],
   "source": [
    "c_matrix = confusion_matrix(y_test, y_pred)\n",
    "c_matrix"
   ]
  },
  {
   "cell_type": "code",
   "execution_count": 44,
   "id": "21e4a950-c152-418f-90fc-ae5d89a61648",
   "metadata": {},
   "outputs": [],
   "source": [
    "TP = c_matrix[1][1]\n",
    "TN = c_matrix[0][0]\n",
    "FP = c_matrix[0][1]\n",
    "FN = c_matrix[1][0]"
   ]
  },
  {
   "cell_type": "code",
   "execution_count": 45,
   "id": "ab425ec0-f6c0-47ee-8506-c0889ff02553",
   "metadata": {
    "tags": []
   },
   "outputs": [
    {
     "data": {
      "text/html": [
       "<div>\n",
       "<style scoped>\n",
       "    .dataframe tbody tr th:only-of-type {\n",
       "        vertical-align: middle;\n",
       "    }\n",
       "\n",
       "    .dataframe tbody tr th {\n",
       "        vertical-align: top;\n",
       "    }\n",
       "\n",
       "    .dataframe thead th {\n",
       "        text-align: right;\n",
       "    }\n",
       "</style>\n",
       "<table border=\"1\" class=\"dataframe\">\n",
       "  <thead>\n",
       "    <tr style=\"text-align: right;\">\n",
       "      <th></th>\n",
       "      <th>model</th>\n",
       "      <th>Accuracy</th>\n",
       "      <th>Precision</th>\n",
       "      <th>Recall</th>\n",
       "      <th>F1</th>\n",
       "    </tr>\n",
       "  </thead>\n",
       "  <tbody>\n",
       "    <tr>\n",
       "      <th>0</th>\n",
       "      <td>logistic Regression</td>\n",
       "      <td>1.000</td>\n",
       "      <td>1.000000</td>\n",
       "      <td>1.0</td>\n",
       "      <td>1.000000</td>\n",
       "    </tr>\n",
       "    <tr>\n",
       "      <th>0</th>\n",
       "      <td>Neural Networks</td>\n",
       "      <td>0.985</td>\n",
       "      <td>0.970000</td>\n",
       "      <td>1.0</td>\n",
       "      <td>0.984772</td>\n",
       "    </tr>\n",
       "    <tr>\n",
       "      <th>0</th>\n",
       "      <td>Neural Networks Random Search</td>\n",
       "      <td>0.990</td>\n",
       "      <td>0.979798</td>\n",
       "      <td>1.0</td>\n",
       "      <td>0.989796</td>\n",
       "    </tr>\n",
       "  </tbody>\n",
       "</table>\n",
       "</div>"
      ],
      "text/plain": [
       "                           model  Accuracy  Precision  Recall        F1\n",
       "0            logistic Regression     1.000   1.000000     1.0  1.000000\n",
       "0                Neural Networks     0.985   0.970000     1.0  0.984772\n",
       "0  Neural Networks Random Search     0.990   0.979798     1.0  0.989796"
      ]
     },
     "execution_count": 45,
     "metadata": {},
     "output_type": "execute_result"
    }
   ],
   "source": [
    "performance = pd.concat([performance, pd.DataFrame({'model':\"Neural Networks Random Search\", \n",
    "                                                    'Accuracy': [(TP+TN)/(TP+TN+FP+FN)], \n",
    "                                                    'Precision': [TP/(TP+FP)], \n",
    "                                                    'Recall': [TP/(TP+FN)], \n",
    "                                                    'F1': [2*TP/(2*TP+FP+FN)]\n",
    "                                                     }, index=[0])])\n",
    "performance\n",
    "\n"
   ]
  },
  {
   "cell_type": "code",
   "execution_count": 46,
   "id": "8fc37aae-5bf2-4ff9-a4fd-96d57d58646a",
   "metadata": {},
   "outputs": [
    {
     "name": "stdout",
     "output_type": "stream",
     "text": [
      "[('target', 1)]\n"
     ]
    },
    {
     "data": {
      "image/png": "[encoded data removed]",
      "text/plain": [
       "<Figure size 640x480 with 2 Axes>"
      ]
     },
     "metadata": {},
     "output_type": "display_data"
    }
   ],
   "source": [
    "# for reference, list the frequency of each digit found in the y_test data\n",
    "counts = sorted(collections.Counter(y_test).items(), key=lambda i: i[0])\n",
    "print(counts)\n",
    "\n",
    "# display the confusion matrix\n",
    "cm = confusion_matrix(y_test, y_pred)\n",
    "disp = ConfusionMatrixDisplay(confusion_matrix=cm)\n",
    "disp.plot(cmap=plt.cm.Blues)\n",
    "plt.show()"
   ]
  },
  {
   "cell_type": "markdown",
   "id": "2fcd4fe5-cd16-47b5-9606-5c45b052d227",
   "metadata": {},
   "source": [
    "Two false positives are present in the prediction"
   ]
  },
  {
   "cell_type": "code",
   "execution_count": 47,
   "id": "0cfa8c77-7220-4876-a9fa-7469b45d3492",
   "metadata": {},
   "outputs": [
    {
     "name": "stdout",
     "output_type": "stream",
     "text": [
      "Neural Network Test RMSE: 0.1\n"
     ]
    }
   ],
   "source": [
    "test_rmse = np.sqrt(mean_squared_error(y_test, y_pred))\n",
    "print(f\"Neural Network Test RMSE: {test_rmse}\")\n",
    "\n",
    "rmses = pd.concat([rmses,pd.DataFrame({\"model\": 'Neural Networks Random Search', \"rmse\": [test_rmse]})])"
   ]
  },
  {
   "cell_type": "markdown",
   "id": "c941cb72-1a54-4a22-a904-4ff50ab5831d",
   "metadata": {},
   "source": [
    "### MLPClassifier using exhaustive grid search on random search"
   ]
  },
  {
   "cell_type": "code",
   "execution_count": 48,
   "id": "eefc6ecc-26f9-4f57-9e3d-4ebedb704f00",
   "metadata": {},
   "outputs": [
    {
     "name": "stdout",
     "output_type": "stream",
     "text": [
      "{'activation': 'relu', 'alpha': 0.1, 'hidden_layer_sizes': (129, 65), 'learning_rate': 'invscaling', 'learning_rate_init': 0.0001, 'max_iter': 5000, 'solver': 'adam'}\n",
      "CPU times: total: 3min 50s\n",
      "Wall time: 27min 11s\n"
     ]
    }
   ],
   "source": [
    "%%time\n",
    "\n",
    "score_measure = \"accuracy\"\n",
    "kfolds = 4\n",
    "\n",
    "activation = rand_search.best_params_['activation']\n",
    "solver = rand_search.best_params_['solver']\n",
    "alpha = rand_search.best_params_['alpha']\n",
    "learning_rate = rand_search.best_params_['learning_rate']\n",
    "learning_rate_init = rand_search.best_params_['learning_rate_init']\n",
    "max_iter = rand_search.best_params_['max_iter']\n",
    "\n",
    "param_grid = {\n",
    "    'hidden_layer_sizes': [ (127,63), (126,62), (125,61), (124,60), (129,65)],\n",
    "    'activation': [activation],\n",
    "    'solver': [solver],\n",
    "    'alpha': [alpha-0.1, alpha, alpha+0.1, alpha+0.2, alpha+0.3, alpha+0.4, alpha+0.5, alpha+0.6, alpha+0.7, alpha+0.8, alpha+0.9],\n",
    "    'learning_rate': [learning_rate],\n",
    "    'learning_rate_init': [learning_rate_init-0.00009, learning_rate_init, learning_rate_init+0.0005],\n",
    "    'max_iter': [5000]\n",
    "}\n",
    "\n",
    "ann = MLPClassifier(random_state=0)\n",
    "grid_search = GridSearchCV(\n",
    "    estimator = ann,        # the model that will be evaluated\n",
    "    param_grid=param_grid,  # the dictionary of hyperparameters\n",
    "    cv=kfolds,              # number of folds to use for k-fold cross validation\n",
    "    scoring=score_measure,  # the scoring metric to optimize for\n",
    "    verbose=0,              # controls the amount of diagnostic information displayed, 0 means none\n",
    "    n_jobs=-1,              # Number of similtaneous threads to run to accomplish this n_jobs=-1 will utilize all available CPUs \n",
    ")\n",
    "grid_search.fit(X_train, np.ravel(y_train))\n",
    "\n",
    "bestMLPClassifier = grid_search.best_estimator_\n",
    "\n",
    "print(grid_search.best_params_)"
   ]
  },
  {
   "cell_type": "code",
   "execution_count": 49,
   "id": "df65f79b-3d28-402e-bbff-e5a5665d9727",
   "metadata": {},
   "outputs": [
    {
     "name": "stdout",
     "output_type": "stream",
     "text": [
      "              precision    recall  f1-score   support\n",
      "\n",
      "           0     1.0000    0.9903    0.9951       103\n",
      "           1     0.9898    1.0000    0.9949        97\n",
      "\n",
      "    accuracy                         0.9950       200\n",
      "   macro avg     0.9949    0.9951    0.9950       200\n",
      "weighted avg     0.9951    0.9950    0.9950       200\n",
      "\n",
      "CPU times: total: 46.9 ms\n",
      "Wall time: 32 ms\n"
     ]
    }
   ],
   "source": [
    "%%time\n",
    "y_pred = bestMLPClassifier.predict(X_test)\n",
    "\n",
    "print(classification_report(y_test, y_pred, digits=4))"
   ]
  },
  {
   "cell_type": "markdown",
   "id": "a5a30307-154d-4192-84aa-b1065264458b",
   "metadata": {},
   "source": [
    "### Deriving performance metrics"
   ]
  },
  {
   "cell_type": "code",
   "execution_count": 50,
   "id": "0c0351f5-b11d-4337-9aaf-29855790c319",
   "metadata": {},
   "outputs": [
    {
     "data": {
      "text/plain": [
       "array([[102,   1],\n",
       "       [  0,  97]], dtype=int64)"
      ]
     },
     "execution_count": 50,
     "metadata": {},
     "output_type": "execute_result"
    }
   ],
   "source": [
    "c_matrix = confusion_matrix(y_test, y_pred)\n",
    "c_matrix"
   ]
  },
  {
   "cell_type": "code",
   "execution_count": 51,
   "id": "2f2307b4-b166-476e-8be5-64f551defad3",
   "metadata": {},
   "outputs": [],
   "source": [
    "TP = c_matrix[1][1]\n",
    "TN = c_matrix[0][0]\n",
    "FP = c_matrix[0][1]\n",
    "FN = c_matrix[1][0]"
   ]
  },
  {
   "cell_type": "code",
   "execution_count": 52,
   "id": "68ecfee6-6509-4d5e-adeb-09a538f3bf98",
   "metadata": {},
   "outputs": [
    {
     "data": {
      "text/html": [
       "<div>\n",
       "<style scoped>\n",
       "    .dataframe tbody tr th:only-of-type {\n",
       "        vertical-align: middle;\n",
       "    }\n",
       "\n",
       "    .dataframe tbody tr th {\n",
       "        vertical-align: top;\n",
       "    }\n",
       "\n",
       "    .dataframe thead th {\n",
       "        text-align: right;\n",
       "    }\n",
       "</style>\n",
       "<table border=\"1\" class=\"dataframe\">\n",
       "  <thead>\n",
       "    <tr style=\"text-align: right;\">\n",
       "      <th></th>\n",
       "      <th>model</th>\n",
       "      <th>Accuracy</th>\n",
       "      <th>Precision</th>\n",
       "      <th>Recall</th>\n",
       "      <th>F1</th>\n",
       "    </tr>\n",
       "  </thead>\n",
       "  <tbody>\n",
       "    <tr>\n",
       "      <th>0</th>\n",
       "      <td>logistic Regression</td>\n",
       "      <td>1.000</td>\n",
       "      <td>1.000000</td>\n",
       "      <td>1.0</td>\n",
       "      <td>1.000000</td>\n",
       "    </tr>\n",
       "    <tr>\n",
       "      <th>0</th>\n",
       "      <td>Neural Networks</td>\n",
       "      <td>0.985</td>\n",
       "      <td>0.970000</td>\n",
       "      <td>1.0</td>\n",
       "      <td>0.984772</td>\n",
       "    </tr>\n",
       "    <tr>\n",
       "      <th>0</th>\n",
       "      <td>Neural Networks Random Search</td>\n",
       "      <td>0.990</td>\n",
       "      <td>0.979798</td>\n",
       "      <td>1.0</td>\n",
       "      <td>0.989796</td>\n",
       "    </tr>\n",
       "    <tr>\n",
       "      <th>0</th>\n",
       "      <td>Neural Networks grid Search</td>\n",
       "      <td>0.995</td>\n",
       "      <td>0.989796</td>\n",
       "      <td>1.0</td>\n",
       "      <td>0.994872</td>\n",
       "    </tr>\n",
       "  </tbody>\n",
       "</table>\n",
       "</div>"
      ],
      "text/plain": [
       "                           model  Accuracy  Precision  Recall        F1\n",
       "0            logistic Regression     1.000   1.000000     1.0  1.000000\n",
       "0                Neural Networks     0.985   0.970000     1.0  0.984772\n",
       "0  Neural Networks Random Search     0.990   0.979798     1.0  0.989796\n",
       "0    Neural Networks grid Search     0.995   0.989796     1.0  0.994872"
      ]
     },
     "execution_count": 52,
     "metadata": {},
     "output_type": "execute_result"
    }
   ],
   "source": [
    "performance = pd.concat([performance, pd.DataFrame({'model':\"Neural Networks grid Search\", \n",
    "                                                    'Accuracy': [(TP+TN)/(TP+TN+FP+FN)], \n",
    "                                                    'Precision': [TP/(TP+FP)], \n",
    "                                                    'Recall': [TP/(TP+FN)], \n",
    "                                                    'F1': [2*TP/(2*TP+FP+FN)]\n",
    "                                                     }, index=[0])])\n",
    "performance\n"
   ]
  },
  {
   "cell_type": "code",
   "execution_count": 53,
   "id": "13bf20b2-ac97-4a1e-9794-e15adc3296c6",
   "metadata": {
    "tags": []
   },
   "outputs": [
    {
     "name": "stdout",
     "output_type": "stream",
     "text": [
      "[('target', 1)]\n"
     ]
    },
    {
     "data": {
      "image/png": "[encoded data removed]",
      "text/plain": [
       "<Figure size 640x480 with 2 Axes>"
      ]
     },
     "metadata": {},
     "output_type": "display_data"
    }
   ],
   "source": [
    "# for reference, list the frequency of each digit found in the y_test data\n",
    "counts = sorted(collections.Counter(y_test).items(), key=lambda i: i[0])\n",
    "print(counts)\n",
    "\n",
    "# display the confusion matrix\n",
    "cm = confusion_matrix(y_test, y_pred)\n",
    "disp = ConfusionMatrixDisplay(confusion_matrix=cm)\n",
    "disp.plot(cmap=plt.cm.Blues)\n",
    "plt.show()"
   ]
  },
  {
   "cell_type": "markdown",
   "id": "b638015e-2258-4191-aa74-9ec4e9211d66",
   "metadata": {},
   "source": [
    "Three false positives are present in the prediction"
   ]
  },
  {
   "cell_type": "code",
   "execution_count": 54,
   "id": "ba5b60b6-2211-4fb7-803a-f64a207ea83a",
   "metadata": {},
   "outputs": [
    {
     "name": "stdout",
     "output_type": "stream",
     "text": [
      "Neural Network Test RMSE: 0.07071067811865475\n"
     ]
    }
   ],
   "source": [
    "test_rmse = np.sqrt(mean_squared_error(y_test, y_pred))\n",
    "print(f\"Neural Network Test RMSE: {test_rmse}\")\n",
    "\n",
    "rmses = pd.concat([rmses,pd.DataFrame({\"model\": 'Neural Networks Grid search', \"rmse\": [test_rmse]})])"
   ]
  },
  {
   "cell_type": "code",
   "execution_count": 55,
   "id": "1ff28b86-19bf-4b92-9f22-830b68a77fbc",
   "metadata": {},
   "outputs": [
    {
     "data": {
      "text/html": [
       "<div>\n",
       "<style scoped>\n",
       "    .dataframe tbody tr th:only-of-type {\n",
       "        vertical-align: middle;\n",
       "    }\n",
       "\n",
       "    .dataframe tbody tr th {\n",
       "        vertical-align: top;\n",
       "    }\n",
       "\n",
       "    .dataframe thead th {\n",
       "        text-align: right;\n",
       "    }\n",
       "</style>\n",
       "<table border=\"1\" class=\"dataframe\">\n",
       "  <thead>\n",
       "    <tr style=\"text-align: right;\">\n",
       "      <th></th>\n",
       "      <th>model</th>\n",
       "      <th>rmse</th>\n",
       "    </tr>\n",
       "  </thead>\n",
       "  <tbody>\n",
       "    <tr>\n",
       "      <th>0</th>\n",
       "      <td>Logestic Regression</td>\n",
       "      <td>0.000000</td>\n",
       "    </tr>\n",
       "    <tr>\n",
       "      <th>0</th>\n",
       "      <td>Neural Networks</td>\n",
       "      <td>0.122474</td>\n",
       "    </tr>\n",
       "    <tr>\n",
       "      <th>0</th>\n",
       "      <td>Neural Networks Random Search</td>\n",
       "      <td>0.100000</td>\n",
       "    </tr>\n",
       "    <tr>\n",
       "      <th>0</th>\n",
       "      <td>Neural Networks Grid search</td>\n",
       "      <td>0.070711</td>\n",
       "    </tr>\n",
       "  </tbody>\n",
       "</table>\n",
       "</div>"
      ],
      "text/plain": [
       "                           model      rmse\n",
       "0            Logestic Regression  0.000000\n",
       "0                Neural Networks  0.122474\n",
       "0  Neural Networks Random Search  0.100000\n",
       "0    Neural Networks Grid search  0.070711"
      ]
     },
     "execution_count": 55,
     "metadata": {},
     "output_type": "execute_result"
    }
   ],
   "source": [
    "rmses"
   ]
  },
  {
   "cell_type": "code",
   "execution_count": 57,
   "id": "8af33471-5c09-4380-b7f6-23fbedabca3b",
   "metadata": {},
   "outputs": [
    {
     "data": {
      "text/html": [
       "<div>\n",
       "<style scoped>\n",
       "    .dataframe tbody tr th:only-of-type {\n",
       "        vertical-align: middle;\n",
       "    }\n",
       "\n",
       "    .dataframe tbody tr th {\n",
       "        vertical-align: top;\n",
       "    }\n",
       "\n",
       "    .dataframe thead th {\n",
       "        text-align: right;\n",
       "    }\n",
       "</style>\n",
       "<table border=\"1\" class=\"dataframe\">\n",
       "  <thead>\n",
       "    <tr style=\"text-align: right;\">\n",
       "      <th></th>\n",
       "      <th>model</th>\n",
       "      <th>Accuracy</th>\n",
       "      <th>Precision</th>\n",
       "      <th>Recall</th>\n",
       "      <th>F1</th>\n",
       "    </tr>\n",
       "  </thead>\n",
       "  <tbody>\n",
       "    <tr>\n",
       "      <th>0</th>\n",
       "      <td>logistic Regression</td>\n",
       "      <td>1.000</td>\n",
       "      <td>1.000000</td>\n",
       "      <td>1.0</td>\n",
       "      <td>1.000000</td>\n",
       "    </tr>\n",
       "    <tr>\n",
       "      <th>0</th>\n",
       "      <td>Neural Networks</td>\n",
       "      <td>0.985</td>\n",
       "      <td>0.970000</td>\n",
       "      <td>1.0</td>\n",
       "      <td>0.984772</td>\n",
       "    </tr>\n",
       "    <tr>\n",
       "      <th>0</th>\n",
       "      <td>Neural Networks Random Search</td>\n",
       "      <td>0.990</td>\n",
       "      <td>0.979798</td>\n",
       "      <td>1.0</td>\n",
       "      <td>0.989796</td>\n",
       "    </tr>\n",
       "    <tr>\n",
       "      <th>0</th>\n",
       "      <td>Neural Networks grid Search</td>\n",
       "      <td>0.995</td>\n",
       "      <td>0.989796</td>\n",
       "      <td>1.0</td>\n",
       "      <td>0.994872</td>\n",
       "    </tr>\n",
       "  </tbody>\n",
       "</table>\n",
       "</div>"
      ],
      "text/plain": [
       "                           model  Accuracy  Precision  Recall        F1\n",
       "0            logistic Regression     1.000   1.000000     1.0  1.000000\n",
       "0                Neural Networks     0.985   0.970000     1.0  0.984772\n",
       "0  Neural Networks Random Search     0.990   0.979798     1.0  0.989796\n",
       "0    Neural Networks grid Search     0.995   0.989796     1.0  0.994872"
      ]
     },
     "execution_count": 57,
     "metadata": {},
     "output_type": "execute_result"
    }
   ],
   "source": [
    "performance"
   ]
  },
  {
   "cell_type": "markdown",
   "id": "ab4c57d8-a080-413a-9d78-b8c831ab688d",
   "metadata": {},
   "source": [
    "## Conclusion\n",
    "\n",
    "Based on the results we got from each model\n",
    "\n",
    "* Logistic Regression: The logistic regression model displayed an impressive performance with 100% accuracy, precision, recall, and f1-score. The confusion matrix showed perfect classification, with no false positives or false negatives. The RMSE of the logistic regression model was 0.0, meaning there was no error between the observed and predicted values.\n",
    "\n",
    "* Neural Network (MLPClassifier): The performance of the MLPClassifier was slightly lower compared to the logistic regression. While it achieved 98% accuracy and precision, it made 3 errors (false positives), which can be seen in the confusion matrix. The model had an RMSE of 0.122, which indicates a small but present error in the model's predictions.\n",
    "\n",
    "* Neural Network (MLPClassifier) with Random Search: Using random search improved the performance of the MLPClassifier. It reduced the number of false positives to 2 and achieved a 99% score for all performance metrics. However, there were still minor errors, as indicated by an RMSE of 0.1.\n",
    "\n",
    "* Neural Network (MLPClassifier) with Exhaustive Grid Search on Random Search: The application of exhaustive grid search on random search further improved the MLPClassifier's performance. This model only made a single error (one false positive), resulting in 99.5% accuracy, precision, recall, and f1-score. The RMSE also decreased to 0.071, indicating the smallest prediction error among all neural network models.\n",
    "\n",
    "#### Note: I am using rmse to support our conclusions but not as a main score metric since the target variable is classification type.\n",
    "\n",
    "In conclusion, the Logistic Regression model achieved the best performance among all tested models. It showed perfect accuracy, precision, recall, and f1-score, and had no prediction error (RMSE = 0.0). The neural network models also performed commendably, particularly when hyperparameters were optimized using random search and exhaustive grid search. The slight errors in their performance underline the importance of fine-tuning model parameters to achieve the best predictive results.\n",
    "\n",
    "##### Logestic regression predicted the target perfectly because the target variable is binary. Logistic regression is especially well-suited for binary classification problems. When the decision boundary is linear and the classes are separable, logistic regression can yield excellent results. The quaility of data in my case is meaningful and extremely good.\n",
    "\n",
    "Sice I conducted predictions on synthetic data I can not exactly discuss cost of having FP and FN. It is always good to have FN, FPs as less as possible.\n",
    "\n",
    "If the problem at hand involves a high cost of misclassification, the logistic regression model should be chosen due to its perfect predictive performance. However, if computational cost and time are considerations, then a single run of the MLP Classifier might be more suitable. Its performance was only slightly inferior to the logistic regression model but is typically gives better results. The trade-off between accuracy and computational resources should be considered based on the specific requirements."
   ]
  }
 ],
 "metadata": {
  "kernelspec": {
   "display_name": "Python 3 (ipykernel)",
   "language": "python",
   "name": "python3"
  },
  "language_info": {
   "codemirror_mode": {
    "name": "ipython",
    "version": 3
   },
   "file_extension": ".py",
   "mimetype": "text/x-python",
   "name": "python",
   "nbconvert_exporter": "python",
   "pygments_lexer": "ipython3",
   "version": "3.10.11"
  }
 },
 "nbformat": 4,
 "nbformat_minor": 5
}
