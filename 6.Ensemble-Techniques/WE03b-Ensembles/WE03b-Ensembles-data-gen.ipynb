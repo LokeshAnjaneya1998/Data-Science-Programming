{
 "cells": [
  {
   "attachments": {},
   "cell_type": "markdown",
   "id": "83c0bfc1-1007-4eba-83f5-985b6198f05c",
   "metadata": {},
   "source": [
    "### WE03ab-Ensembles-data-gen\n",
    "#### Create a notebook that pre-processes this data for model fitting\n",
    "In this notebook, I will analyze and process the chosen data. Identify the target variable and input variables. I will include details about what I observed, what changes I am making, how I am making these changes, and why I am making these changes. I will save the results into csv files (these files should therefore be pre-processed and ready for model fitting. Later model fitting notebooks should not need data manipulation/processing."
   ]
  },
  {
   "attachments": {},
   "cell_type": "markdown",
   "id": "d5e0ebd7-dbba-4974-b15a-d59c00fea88c",
   "metadata": {},
   "source": [
    "## Identification of a problem/goal for analysis\n",
    "\n",
    "The data set is collecred from an online educational platform, oriented over programing and technology.\n",
    "##### Problem: \n",
    "The online educational platform is looking for and recommended system that show to students an specific cataloged depending of their developer profile.\n",
    "##### Goal:\n",
    "My goal is to analyze input variables such as number of courses taken for each category, number of hours spent on each couse, average score for each course and predict the target variable which is student's profile whether a student can be one of the following developer\n",
    "- beginner_front_end\n",
    "- advanced_front_end\n",
    "- beginner_back_end\n",
    "- advanced_back_end\n",
    "- beginner_data_science\n",
    "- advanced_data_science"
   ]
  },
  {
   "attachments": {},
   "cell_type": "markdown",
   "id": "78f0abfb-7570-44e5-85c8-13eaf8f3106f",
   "metadata": {},
   "source": [
    "### Importing necessary modules"
   ]
  },
  {
   "cell_type": "code",
   "execution_count": 1,
   "id": "18b4e02e-d6ec-4435-8cb3-1906d96c9c38",
   "metadata": {},
   "outputs": [],
   "source": [
    "import pandas as pd\n",
    "from matplotlib import pyplot as plt\n",
    "import numpy as np\n",
    "from sklearn.preprocessing import OneHotEncoder\n",
    "from sklearn.model_selection import train_test_split\n",
    "from sklearn import preprocessing\n",
    "from sklearn.impute import SimpleImputer\n",
    "from sklearn.metrics import confusion_matrix\n",
    "from sklearn.model_selection import GridSearchCV, RandomizedSearchCV\n",
    "from sklearn.tree import DecisionTreeClassifier \n",
    "from sklearn.preprocessing import StandardScaler\n",
    "\n",
    "np.random.seed(1)"
   ]
  },
  {
   "attachments": {},
   "cell_type": "markdown",
   "id": "cad52f0b-9485-4d61-9ce3-d72892f91ce0",
   "metadata": {},
   "source": [
    "### Reading and displaying data from the choosen data set."
   ]
  },
  {
   "cell_type": "code",
   "execution_count": 2,
   "id": "27f1ad40-b21f-44c6-b0a8-684e78d3f9f2",
   "metadata": {},
   "outputs": [],
   "source": [
    "df = pd.read_csv('WE03b-Ensembles-data.csv') "
   ]
  },
  {
   "cell_type": "code",
   "execution_count": 3,
   "id": "cb00f8f9-8613-4187-bfcf-8af4a97704d0",
   "metadata": {},
   "outputs": [
    {
     "data": {
      "text/html": [
       "<div>\n",
       "<style scoped>\n",
       "    .dataframe tbody tr th:only-of-type {\n",
       "        vertical-align: middle;\n",
       "    }\n",
       "\n",
       "    .dataframe tbody tr th {\n",
       "        vertical-align: top;\n",
       "    }\n",
       "\n",
       "    .dataframe thead th {\n",
       "        text-align: right;\n",
       "    }\n",
       "</style>\n",
       "<table border=\"1\" class=\"dataframe\">\n",
       "  <thead>\n",
       "    <tr style=\"text-align: right;\">\n",
       "      <th></th>\n",
       "      <th>Unnamed: 0</th>\n",
       "      <th>NAME</th>\n",
       "      <th>USER_ID</th>\n",
       "      <th>HOURS_DATASCIENCE</th>\n",
       "      <th>HOURS_BACKEND</th>\n",
       "      <th>HOURS_FRONTEND</th>\n",
       "      <th>NUM_COURSES_BEGINNER_DATASCIENCE</th>\n",
       "      <th>NUM_COURSES_BEGINNER_BACKEND</th>\n",
       "      <th>NUM_COURSES_BEGINNER_FRONTEND</th>\n",
       "      <th>NUM_COURSES_ADVANCED_DATASCIENCE</th>\n",
       "      <th>NUM_COURSES_ADVANCED_BACKEND</th>\n",
       "      <th>NUM_COURSES_ADVANCED_FRONTEND</th>\n",
       "      <th>AVG_SCORE_DATASCIENCE</th>\n",
       "      <th>AVG_SCORE_BACKEND</th>\n",
       "      <th>AVG_SCORE_FRONTEND</th>\n",
       "      <th>PROFILE</th>\n",
       "    </tr>\n",
       "  </thead>\n",
       "  <tbody>\n",
       "    <tr>\n",
       "      <th>0</th>\n",
       "      <td>28</td>\n",
       "      <td>Stormy Muto</td>\n",
       "      <td>58283940</td>\n",
       "      <td>7.0</td>\n",
       "      <td>39.0</td>\n",
       "      <td>29.0</td>\n",
       "      <td>2.0</td>\n",
       "      <td>4.0</td>\n",
       "      <td>0.0</td>\n",
       "      <td>2.0</td>\n",
       "      <td>5.0</td>\n",
       "      <td>0.0</td>\n",
       "      <td>84.0</td>\n",
       "      <td>74.0</td>\n",
       "      <td>NaN</td>\n",
       "      <td>beginner_front_end</td>\n",
       "    </tr>\n",
       "    <tr>\n",
       "      <th>1</th>\n",
       "      <td>81</td>\n",
       "      <td>Carlos Ferro</td>\n",
       "      <td>1357218</td>\n",
       "      <td>32.0</td>\n",
       "      <td>0.0</td>\n",
       "      <td>44.0</td>\n",
       "      <td>2.0</td>\n",
       "      <td>0.0</td>\n",
       "      <td>0.0</td>\n",
       "      <td>0.0</td>\n",
       "      <td>5.0</td>\n",
       "      <td>0.0</td>\n",
       "      <td>67.0</td>\n",
       "      <td>45.0</td>\n",
       "      <td>NaN</td>\n",
       "      <td>beginner_front_end</td>\n",
       "    </tr>\n",
       "    <tr>\n",
       "      <th>2</th>\n",
       "      <td>89</td>\n",
       "      <td>Robby Constantini</td>\n",
       "      <td>63212105</td>\n",
       "      <td>45.0</td>\n",
       "      <td>0.0</td>\n",
       "      <td>59.0</td>\n",
       "      <td>0.0</td>\n",
       "      <td>5.0</td>\n",
       "      <td>4.0</td>\n",
       "      <td>0.0</td>\n",
       "      <td>4.0</td>\n",
       "      <td>1.0</td>\n",
       "      <td>NaN</td>\n",
       "      <td>54.0</td>\n",
       "      <td>47.0</td>\n",
       "      <td>advanced_front_end</td>\n",
       "    </tr>\n",
       "    <tr>\n",
       "      <th>3</th>\n",
       "      <td>138</td>\n",
       "      <td>Paul Mckenny</td>\n",
       "      <td>23239851</td>\n",
       "      <td>36.0</td>\n",
       "      <td>19.0</td>\n",
       "      <td>28.0</td>\n",
       "      <td>0.0</td>\n",
       "      <td>5.0</td>\n",
       "      <td>7.0</td>\n",
       "      <td>0.0</td>\n",
       "      <td>5.0</td>\n",
       "      <td>3.0</td>\n",
       "      <td>NaN</td>\n",
       "      <td>71.0</td>\n",
       "      <td>89.0</td>\n",
       "      <td>beginner_data_science</td>\n",
       "    </tr>\n",
       "    <tr>\n",
       "      <th>4</th>\n",
       "      <td>143</td>\n",
       "      <td>Jean Webb</td>\n",
       "      <td>72234478</td>\n",
       "      <td>61.0</td>\n",
       "      <td>78.0</td>\n",
       "      <td>38.0</td>\n",
       "      <td>6.0</td>\n",
       "      <td>11.0</td>\n",
       "      <td>0.0</td>\n",
       "      <td>4.0</td>\n",
       "      <td>3.0</td>\n",
       "      <td>0.0</td>\n",
       "      <td>66.0</td>\n",
       "      <td>85.0</td>\n",
       "      <td>NaN</td>\n",
       "      <td>advanced_front_end</td>\n",
       "    </tr>\n",
       "  </tbody>\n",
       "</table>\n",
       "</div>"
      ],
      "text/plain": [
       "   Unnamed: 0               NAME   USER_ID  HOURS_DATASCIENCE  HOURS_BACKEND  \\\n",
       "0          28        Stormy Muto  58283940                7.0           39.0   \n",
       "1          81       Carlos Ferro   1357218               32.0            0.0   \n",
       "2          89  Robby Constantini  63212105               45.0            0.0   \n",
       "3         138       Paul Mckenny  23239851               36.0           19.0   \n",
       "4         143          Jean Webb  72234478               61.0           78.0   \n",
       "\n",
       "   HOURS_FRONTEND  NUM_COURSES_BEGINNER_DATASCIENCE  \\\n",
       "0            29.0                               2.0   \n",
       "1            44.0                               2.0   \n",
       "2            59.0                               0.0   \n",
       "3            28.0                               0.0   \n",
       "4            38.0                               6.0   \n",
       "\n",
       "   NUM_COURSES_BEGINNER_BACKEND  NUM_COURSES_BEGINNER_FRONTEND  \\\n",
       "0                           4.0                            0.0   \n",
       "1                           0.0                            0.0   \n",
       "2                           5.0                            4.0   \n",
       "3                           5.0                            7.0   \n",
       "4                          11.0                            0.0   \n",
       "\n",
       "   NUM_COURSES_ADVANCED_DATASCIENCE  NUM_COURSES_ADVANCED_BACKEND  \\\n",
       "0                               2.0                           5.0   \n",
       "1                               0.0                           5.0   \n",
       "2                               0.0                           4.0   \n",
       "3                               0.0                           5.0   \n",
       "4                               4.0                           3.0   \n",
       "\n",
       "   NUM_COURSES_ADVANCED_FRONTEND  AVG_SCORE_DATASCIENCE  AVG_SCORE_BACKEND  \\\n",
       "0                            0.0                   84.0               74.0   \n",
       "1                            0.0                   67.0               45.0   \n",
       "2                            1.0                    NaN               54.0   \n",
       "3                            3.0                    NaN               71.0   \n",
       "4                            0.0                   66.0               85.0   \n",
       "\n",
       "   AVG_SCORE_FRONTEND                PROFILE  \n",
       "0                 NaN     beginner_front_end  \n",
       "1                 NaN     beginner_front_end  \n",
       "2                47.0     advanced_front_end  \n",
       "3                89.0  beginner_data_science  \n",
       "4                 NaN     advanced_front_end  "
      ]
     },
     "execution_count": 3,
     "metadata": {},
     "output_type": "execute_result"
    }
   ],
   "source": [
    "df.head(5)"
   ]
  },
  {
   "attachments": {},
   "cell_type": "markdown",
   "id": "17631255-cbfd-4a9e-825b-0a8fb1308154",
   "metadata": {},
   "source": [
    "### Details of the data"
   ]
  },
  {
   "attachments": {},
   "cell_type": "markdown",
   "id": "d9e1620d-ff38-48d6-9805-40b47ba8d35b",
   "metadata": {},
   "source": [
    "Predictors (X)\n",
    "\n",
    "- Unnamed: 0 - Useless column (Not using for analysis, will be removed while cleaning the data)\n",
    "- NAME - Name of the student (Not using for analysis, will be removed while cleaning the data)\n",
    "- USER_ID - ID for each student (Not using for analysis, will be removed while cleaning the data)\n",
    "- HOURS_DATASCIENCE - Numbers of hours studied data science courses\n",
    "- HOURS_BACKEND - Numbers of hours studied web (Back-End)\n",
    "- HOURS_FRONTEND - Numbers of hours studied web (Front-End)\n",
    "- NUM_COURSES_BEGINNER_DATASCIENCE - Numbers of beginner courses of Data Science completed by the student\n",
    "- NUM_COURSES_BEGINNER_BACKEND - Numbers of beginner courses of Web (Back-End) completed by the student\n",
    "- NUM_COURSES_BEGINNER_FRONTEND - Numbers of beginner courses of Web (Front-End) completed by the student\n",
    "- NUM_COURSES_ADVANCED_DATASCIENCE -Numbers of advanced courses of Data Science completed by the student\n",
    "- NUM_COURSES_ADVANCED_BACKEND - Numbers of advanced courses of Web (Back-End) completed by the student\n",
    "- NUM_COURSES_ADVANCED_FRONTEND - Numbers of advanced courses of Web (Front-End) completed by the student\n",
    "- AVG_SCORE_DATASCIENCE - Average score in Data Science completed by the student\n",
    "- AVG_SCORE_BACKEND - Average score in Web (Back-End) completed by the student\n",
    "- AVG_SCORE_FRONTEND - Average score in Web (Front-End) completed by the student\n",
    "\n",
    "Target (Y)\n",
    "- PROFILE - Tech profile of the students\n",
    "\n",
    "(beginner_front_end, advanced_front_end, beginner_back_end, advanced_back_end, beginner_data_science, advanced_data_science)"
   ]
  },
  {
   "attachments": {},
   "cell_type": "markdown",
   "id": "03b88fde-cbb1-4028-8164-ee4378a61818",
   "metadata": {},
   "source": [
    "## Cleaning the data"
   ]
  },
  {
   "attachments": {},
   "cell_type": "markdown",
   "id": "8f98fa73-81ea-4bf7-8913-e320e166e1f6",
   "metadata": {},
   "source": [
    "### Replacing categorical values with binary values."
   ]
  },
  {
   "attachments": {},
   "cell_type": "markdown",
   "id": "ee9025f6-3948-4c77-a62a-c3c76c61e4f4",
   "metadata": {},
   "source": [
    "#### Cleaning up colum names, if there are some leading whitespace characters. \n",
    "Since it is best practice to clear any white spaces before starting to analyze."
   ]
  },
  {
   "cell_type": "code",
   "execution_count": 4,
   "id": "12471c60-33ac-4047-a926-cffc52b984a4",
   "metadata": {},
   "outputs": [
    {
     "data": {
      "text/plain": [
       "Index(['Unnamed: 0', 'NAME', 'USER_ID', 'HOURS_DATASCIENCE', 'HOURS_BACKEND',\n",
       "       'HOURS_FRONTEND', 'NUM_COURSES_BEGINNER_DATASCIENCE',\n",
       "       'NUM_COURSES_BEGINNER_BACKEND', 'NUM_COURSES_BEGINNER_FRONTEND',\n",
       "       'NUM_COURSES_ADVANCED_DATASCIENCE', 'NUM_COURSES_ADVANCED_BACKEND',\n",
       "       'NUM_COURSES_ADVANCED_FRONTEND', 'AVG_SCORE_DATASCIENCE',\n",
       "       'AVG_SCORE_BACKEND', 'AVG_SCORE_FRONTEND', 'PROFILE'],\n",
       "      dtype='object')"
      ]
     },
     "execution_count": 4,
     "metadata": {},
     "output_type": "execute_result"
    }
   ],
   "source": [
    "df.columns = [s.strip() for s in df.columns] \n",
    "df.columns"
   ]
  },
  {
   "attachments": {},
   "cell_type": "markdown",
   "id": "1b2ae989-6d86-4f38-a970-e0e9032fe542",
   "metadata": {},
   "source": [
    "### Dropping unnecessary columns Unnamed: 0, NAME, USER_ID. \n",
    "observed that Unnamed: 0 is serial numbers of data, all USR_ID and NAME are uniqe they are not related to analysis and modeling, I am not keeping them in the dataframe."
   ]
  },
  {
   "cell_type": "code",
   "execution_count": 5,
   "id": "a2e114a0-1e4c-40c5-a340-37c3a0eb08a0",
   "metadata": {},
   "outputs": [],
   "source": [
    "df = df.drop(['Unnamed: 0', 'NAME', 'USER_ID'], axis=1)"
   ]
  },
  {
   "attachments": {},
   "cell_type": "markdown",
   "id": "9329e340-d5a3-400d-832f-67e8d8669d03",
   "metadata": {},
   "source": [
    "### Properteis and observations of cleaned data"
   ]
  },
  {
   "cell_type": "code",
   "execution_count": 6,
   "id": "30aaeb12-0be1-4e24-afb1-52c59c664e37",
   "metadata": {},
   "outputs": [
    {
     "data": {
      "text/html": [
       "<div>\n",
       "<style scoped>\n",
       "    .dataframe tbody tr th:only-of-type {\n",
       "        vertical-align: middle;\n",
       "    }\n",
       "\n",
       "    .dataframe tbody tr th {\n",
       "        vertical-align: top;\n",
       "    }\n",
       "\n",
       "    .dataframe thead th {\n",
       "        text-align: right;\n",
       "    }\n",
       "</style>\n",
       "<table border=\"1\" class=\"dataframe\">\n",
       "  <thead>\n",
       "    <tr style=\"text-align: right;\">\n",
       "      <th></th>\n",
       "      <th>HOURS_DATASCIENCE</th>\n",
       "      <th>HOURS_BACKEND</th>\n",
       "      <th>HOURS_FRONTEND</th>\n",
       "      <th>NUM_COURSES_BEGINNER_DATASCIENCE</th>\n",
       "      <th>NUM_COURSES_BEGINNER_BACKEND</th>\n",
       "      <th>NUM_COURSES_BEGINNER_FRONTEND</th>\n",
       "      <th>NUM_COURSES_ADVANCED_DATASCIENCE</th>\n",
       "      <th>NUM_COURSES_ADVANCED_BACKEND</th>\n",
       "      <th>NUM_COURSES_ADVANCED_FRONTEND</th>\n",
       "      <th>AVG_SCORE_DATASCIENCE</th>\n",
       "      <th>AVG_SCORE_BACKEND</th>\n",
       "      <th>AVG_SCORE_FRONTEND</th>\n",
       "      <th>PROFILE</th>\n",
       "    </tr>\n",
       "  </thead>\n",
       "  <tbody>\n",
       "    <tr>\n",
       "      <th>0</th>\n",
       "      <td>7.0</td>\n",
       "      <td>39.0</td>\n",
       "      <td>29.0</td>\n",
       "      <td>2.0</td>\n",
       "      <td>4.0</td>\n",
       "      <td>0.0</td>\n",
       "      <td>2.0</td>\n",
       "      <td>5.0</td>\n",
       "      <td>0.0</td>\n",
       "      <td>84.0</td>\n",
       "      <td>74.0</td>\n",
       "      <td>NaN</td>\n",
       "      <td>beginner_front_end</td>\n",
       "    </tr>\n",
       "    <tr>\n",
       "      <th>1</th>\n",
       "      <td>32.0</td>\n",
       "      <td>0.0</td>\n",
       "      <td>44.0</td>\n",
       "      <td>2.0</td>\n",
       "      <td>0.0</td>\n",
       "      <td>0.0</td>\n",
       "      <td>0.0</td>\n",
       "      <td>5.0</td>\n",
       "      <td>0.0</td>\n",
       "      <td>67.0</td>\n",
       "      <td>45.0</td>\n",
       "      <td>NaN</td>\n",
       "      <td>beginner_front_end</td>\n",
       "    </tr>\n",
       "    <tr>\n",
       "      <th>2</th>\n",
       "      <td>45.0</td>\n",
       "      <td>0.0</td>\n",
       "      <td>59.0</td>\n",
       "      <td>0.0</td>\n",
       "      <td>5.0</td>\n",
       "      <td>4.0</td>\n",
       "      <td>0.0</td>\n",
       "      <td>4.0</td>\n",
       "      <td>1.0</td>\n",
       "      <td>NaN</td>\n",
       "      <td>54.0</td>\n",
       "      <td>47.0</td>\n",
       "      <td>advanced_front_end</td>\n",
       "    </tr>\n",
       "  </tbody>\n",
       "</table>\n",
       "</div>"
      ],
      "text/plain": [
       "   HOURS_DATASCIENCE  HOURS_BACKEND  HOURS_FRONTEND  \\\n",
       "0                7.0           39.0            29.0   \n",
       "1               32.0            0.0            44.0   \n",
       "2               45.0            0.0            59.0   \n",
       "\n",
       "   NUM_COURSES_BEGINNER_DATASCIENCE  NUM_COURSES_BEGINNER_BACKEND  \\\n",
       "0                               2.0                           4.0   \n",
       "1                               2.0                           0.0   \n",
       "2                               0.0                           5.0   \n",
       "\n",
       "   NUM_COURSES_BEGINNER_FRONTEND  NUM_COURSES_ADVANCED_DATASCIENCE  \\\n",
       "0                            0.0                               2.0   \n",
       "1                            0.0                               0.0   \n",
       "2                            4.0                               0.0   \n",
       "\n",
       "   NUM_COURSES_ADVANCED_BACKEND  NUM_COURSES_ADVANCED_FRONTEND  \\\n",
       "0                           5.0                            0.0   \n",
       "1                           5.0                            0.0   \n",
       "2                           4.0                            1.0   \n",
       "\n",
       "   AVG_SCORE_DATASCIENCE  AVG_SCORE_BACKEND  AVG_SCORE_FRONTEND  \\\n",
       "0                   84.0               74.0                 NaN   \n",
       "1                   67.0               45.0                 NaN   \n",
       "2                    NaN               54.0                47.0   \n",
       "\n",
       "              PROFILE  \n",
       "0  beginner_front_end  \n",
       "1  beginner_front_end  \n",
       "2  advanced_front_end  "
      ]
     },
     "execution_count": 6,
     "metadata": {},
     "output_type": "execute_result"
    }
   ],
   "source": [
    "df.head(3)"
   ]
  },
  {
   "cell_type": "code",
   "execution_count": 7,
   "id": "bcf6f04d-8aa7-4b3c-9e93-102359582be5",
   "metadata": {},
   "outputs": [
    {
     "data": {
      "text/plain": [
       "(20000, 13)"
      ]
     },
     "execution_count": 7,
     "metadata": {},
     "output_type": "execute_result"
    }
   ],
   "source": [
    "df.shape"
   ]
  },
  {
   "cell_type": "code",
   "execution_count": 8,
   "id": "1456b2b4-e281-4c26-9192-3e2e5c789603",
   "metadata": {},
   "outputs": [
    {
     "name": "stdout",
     "output_type": "stream",
     "text": [
      "<class 'pandas.core.frame.DataFrame'>\n",
      "RangeIndex: 20000 entries, 0 to 19999\n",
      "Data columns (total 13 columns):\n",
      " #   Column                            Non-Null Count  Dtype  \n",
      "---  ------                            --------------  -----  \n",
      " 0   HOURS_DATASCIENCE                 19986 non-null  float64\n",
      " 1   HOURS_BACKEND                     19947 non-null  float64\n",
      " 2   HOURS_FRONTEND                    19984 non-null  float64\n",
      " 3   NUM_COURSES_BEGINNER_DATASCIENCE  19974 non-null  float64\n",
      " 4   NUM_COURSES_BEGINNER_BACKEND      19982 non-null  float64\n",
      " 5   NUM_COURSES_BEGINNER_FRONTEND     19961 non-null  float64\n",
      " 6   NUM_COURSES_ADVANCED_DATASCIENCE  19998 non-null  float64\n",
      " 7   NUM_COURSES_ADVANCED_BACKEND      19992 non-null  float64\n",
      " 8   NUM_COURSES_ADVANCED_FRONTEND     19963 non-null  float64\n",
      " 9   AVG_SCORE_DATASCIENCE             19780 non-null  float64\n",
      " 10  AVG_SCORE_BACKEND                 19916 non-null  float64\n",
      " 11  AVG_SCORE_FRONTEND                19832 non-null  float64\n",
      " 12  PROFILE                           20000 non-null  object \n",
      "dtypes: float64(12), object(1)\n",
      "memory usage: 2.0+ MB\n"
     ]
    }
   ],
   "source": [
    "df.info()"
   ]
  },
  {
   "cell_type": "code",
   "execution_count": 9,
   "id": "bf9bcfba-5fe0-41f0-9c6e-87d116eafc33",
   "metadata": {},
   "outputs": [
    {
     "data": {
      "text/html": [
       "<div>\n",
       "<style scoped>\n",
       "    .dataframe tbody tr th:only-of-type {\n",
       "        vertical-align: middle;\n",
       "    }\n",
       "\n",
       "    .dataframe tbody tr th {\n",
       "        vertical-align: top;\n",
       "    }\n",
       "\n",
       "    .dataframe thead th {\n",
       "        text-align: right;\n",
       "    }\n",
       "</style>\n",
       "<table border=\"1\" class=\"dataframe\">\n",
       "  <thead>\n",
       "    <tr style=\"text-align: right;\">\n",
       "      <th></th>\n",
       "      <th>HOURS_DATASCIENCE</th>\n",
       "      <th>HOURS_BACKEND</th>\n",
       "      <th>HOURS_FRONTEND</th>\n",
       "      <th>NUM_COURSES_BEGINNER_DATASCIENCE</th>\n",
       "      <th>NUM_COURSES_BEGINNER_BACKEND</th>\n",
       "      <th>NUM_COURSES_BEGINNER_FRONTEND</th>\n",
       "      <th>NUM_COURSES_ADVANCED_DATASCIENCE</th>\n",
       "      <th>NUM_COURSES_ADVANCED_BACKEND</th>\n",
       "      <th>NUM_COURSES_ADVANCED_FRONTEND</th>\n",
       "      <th>AVG_SCORE_DATASCIENCE</th>\n",
       "      <th>AVG_SCORE_BACKEND</th>\n",
       "      <th>AVG_SCORE_FRONTEND</th>\n",
       "    </tr>\n",
       "  </thead>\n",
       "  <tbody>\n",
       "    <tr>\n",
       "      <th>count</th>\n",
       "      <td>19986.000000</td>\n",
       "      <td>19947.000000</td>\n",
       "      <td>19984.000000</td>\n",
       "      <td>19974.000000</td>\n",
       "      <td>19982.000000</td>\n",
       "      <td>19961.000000</td>\n",
       "      <td>19998.000000</td>\n",
       "      <td>19992.000000</td>\n",
       "      <td>19963.00000</td>\n",
       "      <td>19780.000000</td>\n",
       "      <td>19916.000000</td>\n",
       "      <td>19832.000000</td>\n",
       "    </tr>\n",
       "    <tr>\n",
       "      <th>mean</th>\n",
       "      <td>37.565296</td>\n",
       "      <td>43.552263</td>\n",
       "      <td>36.936599</td>\n",
       "      <td>3.698608</td>\n",
       "      <td>3.715144</td>\n",
       "      <td>4.048294</td>\n",
       "      <td>3.397140</td>\n",
       "      <td>4.344338</td>\n",
       "      <td>3.36783</td>\n",
       "      <td>65.070324</td>\n",
       "      <td>67.234535</td>\n",
       "      <td>67.130748</td>\n",
       "    </tr>\n",
       "    <tr>\n",
       "      <th>std</th>\n",
       "      <td>22.394805</td>\n",
       "      <td>22.387518</td>\n",
       "      <td>20.590381</td>\n",
       "      <td>2.001647</td>\n",
       "      <td>2.101863</td>\n",
       "      <td>2.296000</td>\n",
       "      <td>2.111437</td>\n",
       "      <td>2.161569</td>\n",
       "      <td>1.98784</td>\n",
       "      <td>13.950559</td>\n",
       "      <td>14.214591</td>\n",
       "      <td>14.446830</td>\n",
       "    </tr>\n",
       "    <tr>\n",
       "      <th>min</th>\n",
       "      <td>0.000000</td>\n",
       "      <td>0.000000</td>\n",
       "      <td>0.000000</td>\n",
       "      <td>0.000000</td>\n",
       "      <td>0.000000</td>\n",
       "      <td>0.000000</td>\n",
       "      <td>0.000000</td>\n",
       "      <td>0.000000</td>\n",
       "      <td>0.00000</td>\n",
       "      <td>7.000000</td>\n",
       "      <td>10.000000</td>\n",
       "      <td>0.000000</td>\n",
       "    </tr>\n",
       "    <tr>\n",
       "      <th>25%</th>\n",
       "      <td>21.000000</td>\n",
       "      <td>28.000000</td>\n",
       "      <td>22.000000</td>\n",
       "      <td>2.000000</td>\n",
       "      <td>2.000000</td>\n",
       "      <td>2.000000</td>\n",
       "      <td>2.000000</td>\n",
       "      <td>3.000000</td>\n",
       "      <td>2.00000</td>\n",
       "      <td>56.000000</td>\n",
       "      <td>58.000000</td>\n",
       "      <td>58.000000</td>\n",
       "    </tr>\n",
       "    <tr>\n",
       "      <th>50%</th>\n",
       "      <td>37.000000</td>\n",
       "      <td>43.000000</td>\n",
       "      <td>37.000000</td>\n",
       "      <td>4.000000</td>\n",
       "      <td>4.000000</td>\n",
       "      <td>4.000000</td>\n",
       "      <td>3.000000</td>\n",
       "      <td>4.000000</td>\n",
       "      <td>3.00000</td>\n",
       "      <td>65.000000</td>\n",
       "      <td>68.000000</td>\n",
       "      <td>68.000000</td>\n",
       "    </tr>\n",
       "    <tr>\n",
       "      <th>75%</th>\n",
       "      <td>53.000000</td>\n",
       "      <td>59.000000</td>\n",
       "      <td>51.000000</td>\n",
       "      <td>5.000000</td>\n",
       "      <td>5.000000</td>\n",
       "      <td>6.000000</td>\n",
       "      <td>5.000000</td>\n",
       "      <td>6.000000</td>\n",
       "      <td>5.00000</td>\n",
       "      <td>75.000000</td>\n",
       "      <td>77.000000</td>\n",
       "      <td>77.000000</td>\n",
       "    </tr>\n",
       "    <tr>\n",
       "      <th>max</th>\n",
       "      <td>127.000000</td>\n",
       "      <td>147.000000</td>\n",
       "      <td>124.000000</td>\n",
       "      <td>12.000000</td>\n",
       "      <td>12.000000</td>\n",
       "      <td>13.000000</td>\n",
       "      <td>13.000000</td>\n",
       "      <td>14.000000</td>\n",
       "      <td>12.00000</td>\n",
       "      <td>100.000000</td>\n",
       "      <td>100.000000</td>\n",
       "      <td>100.000000</td>\n",
       "    </tr>\n",
       "  </tbody>\n",
       "</table>\n",
       "</div>"
      ],
      "text/plain": [
       "       HOURS_DATASCIENCE  HOURS_BACKEND  HOURS_FRONTEND  \\\n",
       "count       19986.000000   19947.000000    19984.000000   \n",
       "mean           37.565296      43.552263       36.936599   \n",
       "std            22.394805      22.387518       20.590381   \n",
       "min             0.000000       0.000000        0.000000   \n",
       "25%            21.000000      28.000000       22.000000   \n",
       "50%            37.000000      43.000000       37.000000   \n",
       "75%            53.000000      59.000000       51.000000   \n",
       "max           127.000000     147.000000      124.000000   \n",
       "\n",
       "       NUM_COURSES_BEGINNER_DATASCIENCE  NUM_COURSES_BEGINNER_BACKEND  \\\n",
       "count                      19974.000000                  19982.000000   \n",
       "mean                           3.698608                      3.715144   \n",
       "std                            2.001647                      2.101863   \n",
       "min                            0.000000                      0.000000   \n",
       "25%                            2.000000                      2.000000   \n",
       "50%                            4.000000                      4.000000   \n",
       "75%                            5.000000                      5.000000   \n",
       "max                           12.000000                     12.000000   \n",
       "\n",
       "       NUM_COURSES_BEGINNER_FRONTEND  NUM_COURSES_ADVANCED_DATASCIENCE  \\\n",
       "count                   19961.000000                      19998.000000   \n",
       "mean                        4.048294                          3.397140   \n",
       "std                         2.296000                          2.111437   \n",
       "min                         0.000000                          0.000000   \n",
       "25%                         2.000000                          2.000000   \n",
       "50%                         4.000000                          3.000000   \n",
       "75%                         6.000000                          5.000000   \n",
       "max                        13.000000                         13.000000   \n",
       "\n",
       "       NUM_COURSES_ADVANCED_BACKEND  NUM_COURSES_ADVANCED_FRONTEND  \\\n",
       "count                  19992.000000                    19963.00000   \n",
       "mean                       4.344338                        3.36783   \n",
       "std                        2.161569                        1.98784   \n",
       "min                        0.000000                        0.00000   \n",
       "25%                        3.000000                        2.00000   \n",
       "50%                        4.000000                        3.00000   \n",
       "75%                        6.000000                        5.00000   \n",
       "max                       14.000000                       12.00000   \n",
       "\n",
       "       AVG_SCORE_DATASCIENCE  AVG_SCORE_BACKEND  AVG_SCORE_FRONTEND  \n",
       "count           19780.000000       19916.000000        19832.000000  \n",
       "mean               65.070324          67.234535           67.130748  \n",
       "std                13.950559          14.214591           14.446830  \n",
       "min                 7.000000          10.000000            0.000000  \n",
       "25%                56.000000          58.000000           58.000000  \n",
       "50%                65.000000          68.000000           68.000000  \n",
       "75%                75.000000          77.000000           77.000000  \n",
       "max               100.000000         100.000000          100.000000  "
      ]
     },
     "execution_count": 9,
     "metadata": {},
     "output_type": "execute_result"
    }
   ],
   "source": [
    "df.describe()"
   ]
  },
  {
   "attachments": {},
   "cell_type": "markdown",
   "id": "1164c278-ddfb-42be-9703-e6ae8885e730",
   "metadata": {},
   "source": [
    "### Looking for null values"
   ]
  },
  {
   "cell_type": "code",
   "execution_count": 10,
   "id": "0e7773dc-01fb-4f20-a692-61ef4affc55f",
   "metadata": {},
   "outputs": [
    {
     "data": {
      "text/plain": [
       "HOURS_DATASCIENCE                    14\n",
       "HOURS_BACKEND                        53\n",
       "HOURS_FRONTEND                       16\n",
       "NUM_COURSES_BEGINNER_DATASCIENCE     26\n",
       "NUM_COURSES_BEGINNER_BACKEND         18\n",
       "NUM_COURSES_BEGINNER_FRONTEND        39\n",
       "NUM_COURSES_ADVANCED_DATASCIENCE      2\n",
       "NUM_COURSES_ADVANCED_BACKEND          8\n",
       "NUM_COURSES_ADVANCED_FRONTEND        37\n",
       "AVG_SCORE_DATASCIENCE               220\n",
       "AVG_SCORE_BACKEND                    84\n",
       "AVG_SCORE_FRONTEND                  168\n",
       "PROFILE                               0\n",
       "dtype: int64"
      ]
     },
     "execution_count": 10,
     "metadata": {},
     "output_type": "execute_result"
    }
   ],
   "source": [
    "df.isna().sum()"
   ]
  },
  {
   "attachments": {},
   "cell_type": "markdown",
   "id": "80f55e15-b80d-4ed2-a39b-bea15d02b2b9",
   "metadata": {},
   "source": [
    "From the above observations I observed that\n",
    "* There are 13 columns in the data set which 12 of them are input variables and 1 (PROFILE) is target variable.\n",
    "* All input variables are continuous and are data type float\n",
    "* The target variable is categorical and data type is object\n",
    "* There are some minor null values present in all input variables whicj are < 10% of the no of rows\n",
    "* The target variable have no null values."
   ]
  },
  {
   "attachments": {},
   "cell_type": "markdown",
   "id": "7fd0fd5c-2408-4c5f-851f-b03a3932baa8",
   "metadata": {},
   "source": [
    "### Spliting the data for training and testing (data partitoning 70/30)\n",
    "\n",
    "The data set is a good one with 20,000 observations. So I decided to partiton the data for 70% for training and 30% for testing which I believe will give good results."
   ]
  },
  {
   "cell_type": "code",
   "execution_count": 11,
   "id": "0713211d-cca2-4e70-a71f-c2e48b9fb124",
   "metadata": {},
   "outputs": [],
   "source": [
    "train_df, test_df = train_test_split(df, test_size=0.3)"
   ]
  },
  {
   "attachments": {},
   "cell_type": "markdown",
   "id": "3caf98e4-ddc6-4b4a-8aae-f35d9861e175",
   "metadata": {},
   "source": [
    "### Seperating the predictors and traget variables"
   ]
  },
  {
   "cell_type": "code",
   "execution_count": 12,
   "id": "1225346e-006b-4871-973a-b7e0af0edf10",
   "metadata": {},
   "outputs": [],
   "source": [
    "target = 'PROFILE'\n",
    "predictors = list(df.columns)\n",
    "predictors.remove(target)"
   ]
  },
  {
   "attachments": {},
   "cell_type": "markdown",
   "id": "874547d2-d1f9-46e1-80ce-f818cee43556",
   "metadata": {},
   "source": [
    "### Looking for null values"
   ]
  },
  {
   "cell_type": "code",
   "execution_count": 13,
   "id": "45de7a00-72d0-42ee-aacf-911212101d26",
   "metadata": {
    "tags": []
   },
   "outputs": [
    {
     "data": {
      "text/plain": [
       "['HOURS_DATASCIENCE',\n",
       " 'HOURS_BACKEND',\n",
       " 'HOURS_FRONTEND',\n",
       " 'NUM_COURSES_BEGINNER_DATASCIENCE',\n",
       " 'NUM_COURSES_BEGINNER_BACKEND',\n",
       " 'NUM_COURSES_BEGINNER_FRONTEND',\n",
       " 'NUM_COURSES_ADVANCED_DATASCIENCE',\n",
       " 'NUM_COURSES_ADVANCED_BACKEND',\n",
       " 'NUM_COURSES_ADVANCED_FRONTEND',\n",
       " 'AVG_SCORE_DATASCIENCE',\n",
       " 'AVG_SCORE_BACKEND',\n",
       " 'AVG_SCORE_FRONTEND']"
      ]
     },
     "execution_count": 13,
     "metadata": {},
     "output_type": "execute_result"
    }
   ],
   "source": [
    "numeric_cols_with_nas = list(train_df.isna().sum()[train_df.isna().sum() > 0].index)\n",
    "numeric_cols_with_nas"
   ]
  },
  {
   "attachments": {},
   "cell_type": "markdown",
   "id": "f9e6617d-83c3-4623-992a-330a80d7644a",
   "metadata": {},
   "source": [
    "### Impute missing values\n",
    "Replacing the null values with median.\n",
    "\n",
    "Since all columns have very minor null values it is meaningless to drop the columns. So I am replacing null values with median.\n",
    "\n",
    "Also median is a robust measure of central tendency. It is less influenced by outliers and skewed data. "
   ]
  },
  {
   "cell_type": "code",
   "execution_count": 14,
   "id": "9dd423a4-9571-4c85-9a41-0f837667f685",
   "metadata": {},
   "outputs": [],
   "source": [
    "imputer = SimpleImputer(strategy=\"median\")\n",
    "\n",
    "train_df[numeric_cols_with_nas] = imputer.fit_transform(train_df[numeric_cols_with_nas])\n",
    "test_df[numeric_cols_with_nas] = imputer.transform(test_df[numeric_cols_with_nas])"
   ]
  },
  {
   "cell_type": "code",
   "execution_count": 15,
   "id": "3baa80d1-59d5-49ef-a454-b62715e6e437",
   "metadata": {},
   "outputs": [],
   "source": [
    "scaler = preprocessing.StandardScaler()\n",
    "train_df[predictors] = scaler.fit_transform(train_df[predictors])\n",
    "test_df[predictors] = scaler.transform(test_df[predictors])"
   ]
  },
  {
   "attachments": {},
   "cell_type": "markdown",
   "id": "8f7e7644-8261-4205-828e-83aa1fc82ef9",
   "metadata": {},
   "source": [
    "### Saving the datasets for testing and training"
   ]
  },
  {
   "cell_type": "code",
   "execution_count": 16,
   "id": "9011e313-733b-4a2f-9b64-8275251ee83f",
   "metadata": {},
   "outputs": [],
   "source": [
    "X_train = train_df[predictors]\n",
    "y_train = train_df[target]\n",
    "X_test = test_df[predictors]\n",
    "y_test = test_df[target]"
   ]
  },
  {
   "cell_type": "code",
   "execution_count": 17,
   "id": "4311ae31-003e-44a9-bd34-21e2d6ad9cf3",
   "metadata": {},
   "outputs": [
    {
     "data": {
      "text/plain": [
       "HOURS_DATASCIENCE                   0\n",
       "HOURS_BACKEND                       0\n",
       "HOURS_FRONTEND                      0\n",
       "NUM_COURSES_BEGINNER_DATASCIENCE    0\n",
       "NUM_COURSES_BEGINNER_BACKEND        0\n",
       "NUM_COURSES_BEGINNER_FRONTEND       0\n",
       "NUM_COURSES_ADVANCED_DATASCIENCE    0\n",
       "NUM_COURSES_ADVANCED_BACKEND        0\n",
       "NUM_COURSES_ADVANCED_FRONTEND       0\n",
       "AVG_SCORE_DATASCIENCE               0\n",
       "AVG_SCORE_BACKEND                   0\n",
       "AVG_SCORE_FRONTEND                  0\n",
       "dtype: int64"
      ]
     },
     "execution_count": 17,
     "metadata": {},
     "output_type": "execute_result"
    }
   ],
   "source": [
    "X_train.isna().sum()"
   ]
  },
  {
   "cell_type": "code",
   "execution_count": 18,
   "id": "01e06df2-b22b-4130-b6bf-c4de2617c39d",
   "metadata": {
    "tags": []
   },
   "outputs": [
    {
     "data": {
      "text/plain": [
       "0"
      ]
     },
     "execution_count": 18,
     "metadata": {},
     "output_type": "execute_result"
    }
   ],
   "source": [
    "y_train.isna().sum()"
   ]
  },
  {
   "cell_type": "code",
   "execution_count": 19,
   "id": "962217fa-a57c-4dc9-8ff8-79a07a2878f4",
   "metadata": {},
   "outputs": [
    {
     "data": {
      "text/plain": [
       "(14000, 12)"
      ]
     },
     "execution_count": 19,
     "metadata": {},
     "output_type": "execute_result"
    }
   ],
   "source": [
    "X_train.shape"
   ]
  },
  {
   "cell_type": "code",
   "execution_count": 20,
   "id": "741c0f45-b9dc-44c3-9aa2-8c1262f06861",
   "metadata": {},
   "outputs": [
    {
     "data": {
      "text/plain": [
       "(14000,)"
      ]
     },
     "execution_count": 20,
     "metadata": {},
     "output_type": "execute_result"
    }
   ],
   "source": [
    "y_train.shape"
   ]
  },
  {
   "cell_type": "code",
   "execution_count": 21,
   "id": "14a07d5e-149f-41dc-b636-8c95c94e5645",
   "metadata": {},
   "outputs": [
    {
     "data": {
      "text/plain": [
       "(6000, 12)"
      ]
     },
     "execution_count": 21,
     "metadata": {},
     "output_type": "execute_result"
    }
   ],
   "source": [
    "X_test.shape"
   ]
  },
  {
   "cell_type": "code",
   "execution_count": 22,
   "id": "4dc4a5f5-8396-4ce4-9d0f-38e23b5dd6cc",
   "metadata": {
    "tags": []
   },
   "outputs": [
    {
     "data": {
      "text/plain": [
       "(6000,)"
      ]
     },
     "execution_count": 22,
     "metadata": {},
     "output_type": "execute_result"
    }
   ],
   "source": [
    "y_test.shape"
   ]
  },
  {
   "cell_type": "code",
   "execution_count": 23,
   "id": "6d1196ac-2ff2-4162-b3c4-1bd7e29965cc",
   "metadata": {},
   "outputs": [
    {
     "data": {
      "text/html": [
       "<div>\n",
       "<style scoped>\n",
       "    .dataframe tbody tr th:only-of-type {\n",
       "        vertical-align: middle;\n",
       "    }\n",
       "\n",
       "    .dataframe tbody tr th {\n",
       "        vertical-align: top;\n",
       "    }\n",
       "\n",
       "    .dataframe thead th {\n",
       "        text-align: right;\n",
       "    }\n",
       "</style>\n",
       "<table border=\"1\" class=\"dataframe\">\n",
       "  <thead>\n",
       "    <tr style=\"text-align: right;\">\n",
       "      <th></th>\n",
       "      <th>HOURS_DATASCIENCE</th>\n",
       "      <th>HOURS_BACKEND</th>\n",
       "      <th>HOURS_FRONTEND</th>\n",
       "      <th>NUM_COURSES_BEGINNER_DATASCIENCE</th>\n",
       "      <th>NUM_COURSES_BEGINNER_BACKEND</th>\n",
       "      <th>NUM_COURSES_BEGINNER_FRONTEND</th>\n",
       "      <th>NUM_COURSES_ADVANCED_DATASCIENCE</th>\n",
       "      <th>NUM_COURSES_ADVANCED_BACKEND</th>\n",
       "      <th>NUM_COURSES_ADVANCED_FRONTEND</th>\n",
       "      <th>AVG_SCORE_DATASCIENCE</th>\n",
       "      <th>AVG_SCORE_BACKEND</th>\n",
       "      <th>AVG_SCORE_FRONTEND</th>\n",
       "    </tr>\n",
       "  </thead>\n",
       "  <tbody>\n",
       "    <tr>\n",
       "      <th>11408</th>\n",
       "      <td>0.780575</td>\n",
       "      <td>-1.954670</td>\n",
       "      <td>0.100108</td>\n",
       "      <td>-0.352817</td>\n",
       "      <td>1.092031</td>\n",
       "      <td>-0.896584</td>\n",
       "      <td>-1.618262</td>\n",
       "      <td>-0.618678</td>\n",
       "      <td>-0.690717</td>\n",
       "      <td>-0.656758</td>\n",
       "      <td>0.118214</td>\n",
       "      <td>-0.769307</td>\n",
       "    </tr>\n",
       "    <tr>\n",
       "      <th>3616</th>\n",
       "      <td>0.915025</td>\n",
       "      <td>0.508481</td>\n",
       "      <td>0.293976</td>\n",
       "      <td>0.148445</td>\n",
       "      <td>-1.292614</td>\n",
       "      <td>-1.333166</td>\n",
       "      <td>2.171182</td>\n",
       "      <td>0.766496</td>\n",
       "      <td>-0.690717</td>\n",
       "      <td>-0.151500</td>\n",
       "      <td>0.825419</td>\n",
       "      <td>1.721063</td>\n",
       "    </tr>\n",
       "    <tr>\n",
       "      <th>9747</th>\n",
       "      <td>0.377227</td>\n",
       "      <td>-1.193333</td>\n",
       "      <td>-0.190693</td>\n",
       "      <td>0.649708</td>\n",
       "      <td>0.138173</td>\n",
       "      <td>-0.460002</td>\n",
       "      <td>-0.197220</td>\n",
       "      <td>-0.618678</td>\n",
       "      <td>0.319895</td>\n",
       "      <td>0.065039</td>\n",
       "      <td>-0.235388</td>\n",
       "      <td>-0.700130</td>\n",
       "    </tr>\n",
       "  </tbody>\n",
       "</table>\n",
       "</div>"
      ],
      "text/plain": [
       "       HOURS_DATASCIENCE  HOURS_BACKEND  HOURS_FRONTEND  \\\n",
       "11408           0.780575      -1.954670        0.100108   \n",
       "3616            0.915025       0.508481        0.293976   \n",
       "9747            0.377227      -1.193333       -0.190693   \n",
       "\n",
       "       NUM_COURSES_BEGINNER_DATASCIENCE  NUM_COURSES_BEGINNER_BACKEND  \\\n",
       "11408                         -0.352817                      1.092031   \n",
       "3616                           0.148445                     -1.292614   \n",
       "9747                           0.649708                      0.138173   \n",
       "\n",
       "       NUM_COURSES_BEGINNER_FRONTEND  NUM_COURSES_ADVANCED_DATASCIENCE  \\\n",
       "11408                      -0.896584                         -1.618262   \n",
       "3616                       -1.333166                          2.171182   \n",
       "9747                       -0.460002                         -0.197220   \n",
       "\n",
       "       NUM_COURSES_ADVANCED_BACKEND  NUM_COURSES_ADVANCED_FRONTEND  \\\n",
       "11408                     -0.618678                      -0.690717   \n",
       "3616                       0.766496                      -0.690717   \n",
       "9747                      -0.618678                       0.319895   \n",
       "\n",
       "       AVG_SCORE_DATASCIENCE  AVG_SCORE_BACKEND  AVG_SCORE_FRONTEND  \n",
       "11408              -0.656758           0.118214           -0.769307  \n",
       "3616               -0.151500           0.825419            1.721063  \n",
       "9747                0.065039          -0.235388           -0.700130  "
      ]
     },
     "execution_count": 23,
     "metadata": {},
     "output_type": "execute_result"
    }
   ],
   "source": [
    "X_train.head(3)"
   ]
  },
  {
   "cell_type": "code",
   "execution_count": 24,
   "id": "c8b5c30c-041c-443c-b251-5fe8ef06a567",
   "metadata": {},
   "outputs": [
    {
     "data": {
      "text/plain": [
       "11408    advanced_front_end\n",
       "3616       beginner_backend\n",
       "9747     beginner_front_end\n",
       "Name: PROFILE, dtype: object"
      ]
     },
     "execution_count": 24,
     "metadata": {},
     "output_type": "execute_result"
    }
   ],
   "source": [
    "y_train.head(3)"
   ]
  },
  {
   "cell_type": "code",
   "execution_count": 25,
   "id": "8d45b48f-159e-4039-b7e0-9f0c2b009916",
   "metadata": {},
   "outputs": [
    {
     "data": {
      "text/html": [
       "<div>\n",
       "<style scoped>\n",
       "    .dataframe tbody tr th:only-of-type {\n",
       "        vertical-align: middle;\n",
       "    }\n",
       "\n",
       "    .dataframe tbody tr th {\n",
       "        vertical-align: top;\n",
       "    }\n",
       "\n",
       "    .dataframe thead th {\n",
       "        text-align: right;\n",
       "    }\n",
       "</style>\n",
       "<table border=\"1\" class=\"dataframe\">\n",
       "  <thead>\n",
       "    <tr style=\"text-align: right;\">\n",
       "      <th></th>\n",
       "      <th>HOURS_DATASCIENCE</th>\n",
       "      <th>HOURS_BACKEND</th>\n",
       "      <th>HOURS_FRONTEND</th>\n",
       "      <th>NUM_COURSES_BEGINNER_DATASCIENCE</th>\n",
       "      <th>NUM_COURSES_BEGINNER_BACKEND</th>\n",
       "      <th>NUM_COURSES_BEGINNER_FRONTEND</th>\n",
       "      <th>NUM_COURSES_ADVANCED_DATASCIENCE</th>\n",
       "      <th>NUM_COURSES_ADVANCED_BACKEND</th>\n",
       "      <th>NUM_COURSES_ADVANCED_FRONTEND</th>\n",
       "      <th>AVG_SCORE_DATASCIENCE</th>\n",
       "      <th>AVG_SCORE_BACKEND</th>\n",
       "      <th>AVG_SCORE_FRONTEND</th>\n",
       "    </tr>\n",
       "  </thead>\n",
       "  <tbody>\n",
       "    <tr>\n",
       "      <th>11456</th>\n",
       "      <td>-1.012084</td>\n",
       "      <td>0.329342</td>\n",
       "      <td>-1.450831</td>\n",
       "      <td>2.153497</td>\n",
       "      <td>2.045889</td>\n",
       "      <td>0.849745</td>\n",
       "      <td>1.223821</td>\n",
       "      <td>-1.542127</td>\n",
       "      <td>-0.185411</td>\n",
       "      <td>-0.656758</td>\n",
       "      <td>-0.235388</td>\n",
       "      <td>-0.561776</td>\n",
       "    </tr>\n",
       "    <tr>\n",
       "      <th>16528</th>\n",
       "      <td>-1.101717</td>\n",
       "      <td>1.941587</td>\n",
       "      <td>0.439376</td>\n",
       "      <td>0.649708</td>\n",
       "      <td>2.045889</td>\n",
       "      <td>-0.460002</td>\n",
       "      <td>0.750141</td>\n",
       "      <td>0.304771</td>\n",
       "      <td>0.319895</td>\n",
       "      <td>0.786836</td>\n",
       "      <td>0.542537</td>\n",
       "      <td>-0.423422</td>\n",
       "    </tr>\n",
       "    <tr>\n",
       "      <th>3253</th>\n",
       "      <td>-1.505066</td>\n",
       "      <td>1.001111</td>\n",
       "      <td>1.214846</td>\n",
       "      <td>-0.854080</td>\n",
       "      <td>0.138173</td>\n",
       "      <td>0.413163</td>\n",
       "      <td>1.223821</td>\n",
       "      <td>0.766496</td>\n",
       "      <td>-0.185411</td>\n",
       "      <td>1.292094</td>\n",
       "      <td>-1.791237</td>\n",
       "      <td>-0.285068</td>\n",
       "    </tr>\n",
       "  </tbody>\n",
       "</table>\n",
       "</div>"
      ],
      "text/plain": [
       "       HOURS_DATASCIENCE  HOURS_BACKEND  HOURS_FRONTEND  \\\n",
       "11456          -1.012084       0.329342       -1.450831   \n",
       "16528          -1.101717       1.941587        0.439376   \n",
       "3253           -1.505066       1.001111        1.214846   \n",
       "\n",
       "       NUM_COURSES_BEGINNER_DATASCIENCE  NUM_COURSES_BEGINNER_BACKEND  \\\n",
       "11456                          2.153497                      2.045889   \n",
       "16528                          0.649708                      2.045889   \n",
       "3253                          -0.854080                      0.138173   \n",
       "\n",
       "       NUM_COURSES_BEGINNER_FRONTEND  NUM_COURSES_ADVANCED_DATASCIENCE  \\\n",
       "11456                       0.849745                          1.223821   \n",
       "16528                      -0.460002                          0.750141   \n",
       "3253                        0.413163                          1.223821   \n",
       "\n",
       "       NUM_COURSES_ADVANCED_BACKEND  NUM_COURSES_ADVANCED_FRONTEND  \\\n",
       "11456                     -1.542127                      -0.185411   \n",
       "16528                      0.304771                       0.319895   \n",
       "3253                       0.766496                      -0.185411   \n",
       "\n",
       "       AVG_SCORE_DATASCIENCE  AVG_SCORE_BACKEND  AVG_SCORE_FRONTEND  \n",
       "11456              -0.656758          -0.235388           -0.561776  \n",
       "16528               0.786836           0.542537           -0.423422  \n",
       "3253                1.292094          -1.791237           -0.285068  "
      ]
     },
     "execution_count": 25,
     "metadata": {},
     "output_type": "execute_result"
    }
   ],
   "source": [
    "X_test.head(3)"
   ]
  },
  {
   "cell_type": "code",
   "execution_count": 26,
   "id": "29404c73-b7b4-4e7c-ae47-872337298ff2",
   "metadata": {},
   "outputs": [
    {
     "data": {
      "text/plain": [
       "11456      advanced_backend\n",
       "16528    advanced_front_end\n",
       "3253     advanced_front_end\n",
       "Name: PROFILE, dtype: object"
      ]
     },
     "execution_count": 26,
     "metadata": {},
     "output_type": "execute_result"
    }
   ],
   "source": [
    "y_test.head(3)"
   ]
  },
  {
   "cell_type": "code",
   "execution_count": 27,
   "id": "352301ce-9137-493c-9a52-729d38299b6e",
   "metadata": {},
   "outputs": [],
   "source": [
    "X_train.to_csv('WE03b-Ensembles-train_X-data.csv', index=False)\n",
    "y_train.to_csv('WE03b-Ensembles-train_y-data.csv', index=False)\n",
    "X_test.to_csv('WE03b-Ensembles-test_X-data.csv', index=False)\n",
    "y_test.to_csv('WE03b-Ensembles-test_y-data.csv', index=False)"
   ]
  },
  {
   "attachments": {},
   "cell_type": "markdown",
   "id": "971345ac-3405-4aef-bfc8-b7a401c829f1",
   "metadata": {},
   "source": [
    "## Conclusion\n",
    "\n",
    "In this note book I used the techniques covered in class to load and clean the data and saved the predictors and target variable containing test and train data sets in csv files. I will use these files in WE03b-Ensembels-model-fit notebook."
   ]
  }
 ],
 "metadata": {
  "kernelspec": {
   "display_name": "Python 3 (ipykernel)",
   "language": "python",
   "name": "python3"
  },
  "language_info": {
   "codemirror_mode": {
    "name": "ipython",
    "version": 3
   },
   "file_extension": ".py",
   "mimetype": "text/x-python",
   "name": "python",
   "nbconvert_exporter": "python",
   "pygments_lexer": "ipython3",
   "version": "3.10.11"
  }
 },
 "nbformat": 4,
 "nbformat_minor": 5
}
