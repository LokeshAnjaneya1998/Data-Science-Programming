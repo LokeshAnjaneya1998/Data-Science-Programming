{
 "cells": [
  {
   "attachments": {},
   "cell_type": "markdown",
   "id": "605e7275-c6aa-4ca7-a2c8-6f4191c63a5b",
   "metadata": {},
   "source": [
    "### ICP04-Gradient Descent\n",
    "Build upon the model fitting notebook created for WE01 part 2, specifically focusing on the third-order polynomial model. Update the notebook by incorporating another model, SGDGradientDescent, and comparing its performance to the standard linear regression techniques."
   ]
  },
  {
   "attachments": {},
   "cell_type": "markdown",
   "id": "66d01c8a-f0cd-42af-aff9-8ba0bbd3c47e",
   "metadata": {
    "slideshow": {
     "slide_type": "slide"
    },
    "tags": []
   },
   "source": [
    "# Predictive Modeling Example2: Data Generation\n",
    "\n",
    "This 'data gen' notebook follows the same sequence as the model1 data gen notebook. We will make a modification to the data generation process to create a more complex dataset. We will also add a number of new features to the dataset (x^2, x^3 and x^4). In the associated model fit notebook, we will then use a linear regression model as in model1 to see if the model can learn the new features.\n"
   ]
  },
  {
   "attachments": {},
   "cell_type": "markdown",
   "id": "049ea964-ba9d-46aa-af88-d13550f27638",
   "metadata": {
    "slideshow": {
     "slide_type": "slide"
    },
    "tags": []
   },
   "source": [
    "## Step 1: Import a number of libraries that we expect to use"
   ]
  },
  {
   "cell_type": "code",
   "execution_count": 1,
   "id": "cca96620-674f-43be-9633-3546127c263b",
   "metadata": {
    "slideshow": {
     "slide_type": "fragment"
    },
    "tags": []
   },
   "outputs": [],
   "source": [
    "import matplotlib.pyplot as plt\n",
    "import numpy as np\n",
    "import pandas as pd\n",
    "\n",
    "np.random.seed(1) # set this to ensure the results are repeatable. "
   ]
  },
  {
   "attachments": {},
   "cell_type": "markdown",
   "id": "bcc3ce3b-c9bd-4631-a2ae-c02ebcd2879b",
   "metadata": {
    "slideshow": {
     "slide_type": "subslide"
    },
    "tags": []
   },
   "source": [
    "## Step 2:  Define a hidden linear relationship/model\n",
    "\n",
    "First let's define our relationship (normally, this is hidden, but since we are creating the data, we will need to identify this)"
   ]
  },
  {
   "attachments": {},
   "cell_type": "markdown",
   "id": "fe0e1c6a-4e56-4410-a3d7-c354c2733db4",
   "metadata": {},
   "source": [
    "### WE02-Regression step 2: Update the data-generating notebook to generate data from a 3rd-order polynomial instead of the current 2nd-order polynomial. This modification will allow us to explore a more complex relationship between the input and output variables."
   ]
  },
  {
   "cell_type": "code",
   "execution_count": 2,
   "id": "73a337be-a2a5-46ab-9cfe-e92239ccc80f",
   "metadata": {
    "slideshow": {
     "slide_type": "fragment"
    },
    "tags": []
   },
   "outputs": [],
   "source": [
    "# our hidden relationship is a single input variable linear regression model\n",
    "# this will be in the form of y = b0 + b1*x1 + b2*x2^2 + b3*x3^3\n",
    "b0 = 0  # y intercept\n",
    "b1 = -1 # slope for x1\n",
    "b2 = 1 # slope for x2\n",
    "b3 = 2 # slope for x3"
   ]
  },
  {
   "attachments": {},
   "cell_type": "markdown",
   "id": "109c2612-b01f-4f95-b2f1-8058ef587cb9",
   "metadata": {
    "tags": []
   },
   "source": [
    "## Step 3: Create input and output data using the model"
   ]
  },
  {
   "attachments": {},
   "cell_type": "markdown",
   "id": "0a1f9324-21c7-4274-be39-739be7a23ef0",
   "metadata": {},
   "source": [
    "Let's set the number of observations that we will synthesize..."
   ]
  },
  {
   "cell_type": "code",
   "execution_count": 3,
   "id": "3297e902-0eb7-4370-a9d6-315105f13be1",
   "metadata": {},
   "outputs": [],
   "source": [
    "sample_size = 1000"
   ]
  },
  {
   "attachments": {},
   "cell_type": "markdown",
   "id": "cff2bfd5-dc57-4e16-91ba-82ebe8173eb8",
   "metadata": {},
   "source": [
    "We need to create a set of X (input) values. These values are independent, so we could choose any set of X values we like. We could simply create a simple linear sequence, or we could create draw random values from a distribution (uniform, or gaussian (aka normal). Though it doesn't affect our outcome (we are going to use a linear model), we will draw from a normal distribution (we often find data is normally distributed)."
   ]
  },
  {
   "cell_type": "code",
   "execution_count": 4,
   "id": "fa1e89d3",
   "metadata": {},
   "outputs": [],
   "source": [
    "# create a simple sequence of X values\n",
    "#X = np.linspace(0, 100, sample_size) # https://numpy.org/doc/stable/reference/generated/numpy.linspace.html#numpy.linspace\n",
    "\n",
    "# draw random samples from the uniform distribution\n",
    "#X = np.random.uniform(low=0.0, high=100.0, size=sample_size) # uniform distribution # https://numpy.org/doc/stable/reference/random/generated/numpy.random.uniform.html#numpy.random.uniform\n",
    "\n",
    "# draw samples from the normal distribution\n",
    "x1 =  np.random.normal(loc=0.0, scale=10.0, size=sample_size) # https://numpy.org/doc/stable/reference/random/generated/numpy.random.normal.html#numpy.random.normal"
   ]
  },
  {
   "cell_type": "code",
   "execution_count": 5,
   "id": "d6d9ded0",
   "metadata": {
    "tags": []
   },
   "outputs": [],
   "source": [
    "# create the x2\n",
    "x2 = x1**2"
   ]
  },
  {
   "cell_type": "code",
   "execution_count": 6,
   "id": "7179d6eb-5e2f-4236-8b22-3744fa68b196",
   "metadata": {},
   "outputs": [],
   "source": [
    "# create X3\n",
    "x3 = x1**3"
   ]
  },
  {
   "attachments": {},
   "cell_type": "markdown",
   "id": "ac088d37-d2bf-4cb9-82dd-52498c789381",
   "metadata": {},
   "source": [
    "Once we have the X values (input), we can generate y values using our 'hidden' model..."
   ]
  },
  {
   "cell_type": "code",
   "execution_count": 7,
   "id": "d19db905-c954-4fd8-8d7e-0c0fdec12170",
   "metadata": {},
   "outputs": [],
   "source": [
    "y = b0 + b1 * x1 + b2 * x2 + b3 * x3"
   ]
  },
  {
   "attachments": {},
   "cell_type": "markdown",
   "id": "a3a41310",
   "metadata": {},
   "source": [
    "To make it easier to work with this data, let's store x1, x2, x3 and y into a single dataframe..."
   ]
  },
  {
   "cell_type": "code",
   "execution_count": 8,
   "id": "4caedb57",
   "metadata": {},
   "outputs": [
    {
     "data": {
      "text/html": [
       "<div>\n",
       "<style scoped>\n",
       "    .dataframe tbody tr th:only-of-type {\n",
       "        vertical-align: middle;\n",
       "    }\n",
       "\n",
       "    .dataframe tbody tr th {\n",
       "        vertical-align: top;\n",
       "    }\n",
       "\n",
       "    .dataframe thead th {\n",
       "        text-align: right;\n",
       "    }\n",
       "</style>\n",
       "<table border=\"1\" class=\"dataframe\">\n",
       "  <thead>\n",
       "    <tr style=\"text-align: right;\">\n",
       "      <th></th>\n",
       "      <th>x1</th>\n",
       "      <th>x2</th>\n",
       "      <th>x3</th>\n",
       "      <th>y</th>\n",
       "    </tr>\n",
       "  </thead>\n",
       "  <tbody>\n",
       "    <tr>\n",
       "      <th>0</th>\n",
       "      <td>16.243454</td>\n",
       "      <td>263.849786</td>\n",
       "      <td>4285.831767</td>\n",
       "      <td>8819.269866</td>\n",
       "    </tr>\n",
       "    <tr>\n",
       "      <th>1</th>\n",
       "      <td>-6.117564</td>\n",
       "      <td>37.424591</td>\n",
       "      <td>-228.947336</td>\n",
       "      <td>-414.352516</td>\n",
       "    </tr>\n",
       "    <tr>\n",
       "      <th>2</th>\n",
       "      <td>-5.281718</td>\n",
       "      <td>27.896540</td>\n",
       "      <td>-147.341644</td>\n",
       "      <td>-261.505031</td>\n",
       "    </tr>\n",
       "    <tr>\n",
       "      <th>3</th>\n",
       "      <td>-10.729686</td>\n",
       "      <td>115.126166</td>\n",
       "      <td>-1235.267642</td>\n",
       "      <td>-2344.679430</td>\n",
       "    </tr>\n",
       "    <tr>\n",
       "      <th>4</th>\n",
       "      <td>8.654076</td>\n",
       "      <td>74.893036</td>\n",
       "      <td>648.130052</td>\n",
       "      <td>1362.499063</td>\n",
       "    </tr>\n",
       "  </tbody>\n",
       "</table>\n",
       "</div>"
      ],
      "text/plain": [
       "          x1          x2           x3            y\n",
       "0  16.243454  263.849786  4285.831767  8819.269866\n",
       "1  -6.117564   37.424591  -228.947336  -414.352516\n",
       "2  -5.281718   27.896540  -147.341644  -261.505031\n",
       "3 -10.729686  115.126166 -1235.267642 -2344.679430\n",
       "4   8.654076   74.893036   648.130052  1362.499063"
      ]
     },
     "execution_count": 8,
     "metadata": {},
     "output_type": "execute_result"
    }
   ],
   "source": [
    "data = {'x1': x1, 'x2': x2, 'x3' : x3, 'y': y}  # this is a dictionary data structure; which consists of key-value pairs\n",
    "# see lists_and_dictionaries.ipynb for more information on dictionaries (there are also many other resources online)\n",
    "\n",
    "df = pd.DataFrame(data) # create a dataframe from the dictionary\n",
    "# see more here https://pandas.pydata.org/docs/reference/api/pandas.DataFrame.html\n",
    "\n",
    "df.head(n=5) # display the first 5 rows NOTE: The default is 5, but you can change it to any number you want.\n",
    "# see more here https://pandas.pydata.org/docs/reference/api/pandas.DataFrame.head.html"
   ]
  },
  {
   "attachments": {},
   "cell_type": "markdown",
   "id": "01d31c4b",
   "metadata": {},
   "source": [
    "Now, let's plot this data using a scatter plot."
   ]
  },
  {
   "attachments": {},
   "cell_type": "markdown",
   "id": "7c3517d1",
   "metadata": {},
   "source": [
    "Since x2 is simply the square of x1, we can display the relationship between x and y as follows:"
   ]
  },
  {
   "cell_type": "code",
   "execution_count": 9,
   "id": "49b9990c",
   "metadata": {},
   "outputs": [
    {
     "data": {
      "image/png": "[encoded data removed]",
      "text/plain": [
       "<Figure size 640x480 with 1 Axes>"
      ]
     },
     "metadata": {},
     "output_type": "display_data"
    }
   ],
   "source": [
    "fig = plt.figure()\n",
    "ax = fig.add_subplot()\n",
    "\n",
    "ax.scatter(x1, y, color='blue')\n",
    "\n",
    "ax.set_xlabel('input')\n",
    "ax.set_ylabel('target')\n",
    "plt.tight_layout()\n",
    "plt.show()"
   ]
  },
  {
   "attachments": {},
   "cell_type": "markdown",
   "id": "9b752961",
   "metadata": {},
   "source": [
    "But, this is rather boring data to analyze, because the 'hidden' model is not really hidden at all... lt's fix that by adding some noise to the data."
   ]
  },
  {
   "attachments": {},
   "cell_type": "markdown",
   "id": "b6b39e70-09c6-48e9-bd2d-84336dbcee85",
   "metadata": {},
   "source": [
    "## Step 4: Add some random noise to 'hide' the model"
   ]
  },
  {
   "attachments": {},
   "cell_type": "markdown",
   "id": "612a9e2e-63ed-407d-bac1-82a0aaebf348",
   "metadata": {},
   "source": [
    "Now, let's obscure the model by adding noise to the data by adding errors that are randomly selected from a norma distribution"
   ]
  },
  {
   "cell_type": "code",
   "execution_count": 10,
   "id": "07667953-196d-42d2-808d-24d1d5120fdb",
   "metadata": {},
   "outputs": [],
   "source": [
    "e_mean = 0\n",
    "e_stdev = 100\n",
    "e = np.round(np.random.normal(e_mean, e_stdev, sample_size), 2) # round to two decimal places\n",
    "y = y + e"
   ]
  },
  {
   "attachments": {},
   "cell_type": "markdown",
   "id": "9599d4ef",
   "metadata": {},
   "source": [
    "Question to ask yourself: \n",
    "    1. What is the effect of the standard deviation of the noise on the data? \n",
    "    2. What happens if you increase or decrease the standard deviation? \n",
    "    3. What happens if you change the mean of the noise? (we will discuss this in the associated video for this notebooke)"
   ]
  },
  {
   "attachments": {},
   "cell_type": "markdown",
   "id": "82e031c0-87a9-4015-938a-0bf1eb51898b",
   "metadata": {
    "slideshow": {
     "slide_type": "fragment"
    },
    "tags": []
   },
   "source": [
    "Now, let's look at a scatter plot of both the X and y data with the noise added in..."
   ]
  },
  {
   "cell_type": "code",
   "execution_count": 11,
   "id": "c792dab9-889d-4eca-9d7f-5d10df52da3c",
   "metadata": {
    "slideshow": {
     "slide_type": "subslide"
    },
    "tags": []
   },
   "outputs": [
    {
     "data": {
      "image/png": "[encoded data removed]",
      "text/plain": [
       "<Figure size 640x480 with 1 Axes>"
      ]
     },
     "metadata": {},
     "output_type": "display_data"
    }
   ],
   "source": [
    "fig = plt.figure()\n",
    "ax = fig.add_subplot()\n",
    "\n",
    "ax.scatter(x1, y, color='blue')\n",
    "\n",
    "ax.set_xlabel('input')\n",
    "ax.set_ylabel('target')\n",
    "plt.tight_layout()\n",
    "plt.show()"
   ]
  },
  {
   "attachments": {},
   "cell_type": "markdown",
   "id": "b533d757-2f20-4893-b899-f945216ad4ee",
   "metadata": {},
   "source": [
    "## Step 5: Save our synthesized data to a file (we will save it as a csv file)"
   ]
  },
  {
   "attachments": {},
   "cell_type": "markdown",
   "id": "e103183b-7070-4bdf-9259-1332b67cfd8d",
   "metadata": {},
   "source": [
    "Since our goal is to generate data that we can analyze with another notebook (for practice), let's save this data to a csv.  We will use the `pandas` library to do this."
   ]
  },
  {
   "attachments": {},
   "cell_type": "markdown",
   "id": "700820b6",
   "metadata": {},
   "source": [
    "First we will create a dataframe with the data we just similated..."
   ]
  },
  {
   "cell_type": "code",
   "execution_count": 12,
   "id": "96ccd040-cf1d-4773-a801-30bcb5348e05",
   "metadata": {},
   "outputs": [
    {
     "data": {
      "text/html": [
       "<div>\n",
       "<style scoped>\n",
       "    .dataframe tbody tr th:only-of-type {\n",
       "        vertical-align: middle;\n",
       "    }\n",
       "\n",
       "    .dataframe tbody tr th {\n",
       "        vertical-align: top;\n",
       "    }\n",
       "\n",
       "    .dataframe thead th {\n",
       "        text-align: right;\n",
       "    }\n",
       "</style>\n",
       "<table border=\"1\" class=\"dataframe\">\n",
       "  <thead>\n",
       "    <tr style=\"text-align: right;\">\n",
       "      <th></th>\n",
       "      <th>input</th>\n",
       "      <th>target</th>\n",
       "    </tr>\n",
       "  </thead>\n",
       "  <tbody>\n",
       "    <tr>\n",
       "      <th>0</th>\n",
       "      <td>16.243454</td>\n",
       "      <td>8803.949866</td>\n",
       "    </tr>\n",
       "    <tr>\n",
       "      <th>1</th>\n",
       "      <td>-6.117564</td>\n",
       "      <td>-657.602516</td>\n",
       "    </tr>\n",
       "    <tr>\n",
       "      <th>2</th>\n",
       "      <td>-5.281718</td>\n",
       "      <td>-210.705031</td>\n",
       "    </tr>\n",
       "  </tbody>\n",
       "</table>\n",
       "</div>"
      ],
      "text/plain": [
       "       input       target\n",
       "0  16.243454  8803.949866\n",
       "1  -6.117564  -657.602516\n",
       "2  -5.281718  -210.705031"
      ]
     },
     "execution_count": 12,
     "metadata": {},
     "output_type": "execute_result"
    }
   ],
   "source": [
    "df = pd.DataFrame({'input': x1, 'target': y}) # notice: I've not saved x2 in the dataframe. x2 is a derived feature we created to generate the polynomial relationship.\n",
    "df.head(3)"
   ]
  },
  {
   "attachments": {},
   "cell_type": "markdown",
   "id": "b57643b6-1af2-4e03-905d-0c4dfb87534a",
   "metadata": {},
   "source": [
    "Now, let's save the data we created to a csv file. "
   ]
  },
  {
   "cell_type": "code",
   "execution_count": 13,
   "id": "bedb0d18-e61b-49e3-93ac-c0756abae6f7",
   "metadata": {
    "tags": []
   },
   "outputs": [],
   "source": [
    "df.to_csv('ICP04_dataset.csv', index=False) # NOTE: this is relative to the notebook location. Be sure to change this path to something that makes sense for your project."
   ]
  },
  {
   "attachments": {},
   "cell_type": "markdown",
   "id": "94dfff3c",
   "metadata": {},
   "source": [
    "## Conclusion"
   ]
  },
  {
   "attachments": {},
   "cell_type": "markdown",
   "id": "fe5affbb",
   "metadata": {},
   "source": [
    "In this notebook, we've synthesized a multi-variable relationship consists of x1, x2, x3 and a target. This is a special case where x2, x3 is a function of x1 (x1 squared), (x1 cubed). What we've now created/simulated is a polynomial relationship (3rd order polynomial in this case) between x1 and y. \n",
    "\n",
    "In the associtated model fit notebook, we will attempt to fit the data (remember, in the fit notebook, we do not know what the original relationship is - we will use polynomial regression, SGD Gradient Descent to find it and which model is best)."
   ]
  }
 ],
 "metadata": {
  "kernelspec": {
   "display_name": "Python 3 (ipykernel)",
   "language": "python",
   "name": "python3"
  },
  "language_info": {
   "codemirror_mode": {
    "name": "ipython",
    "version": 3
   },
   "file_extension": ".py",
   "mimetype": "text/x-python",
   "name": "python",
   "nbconvert_exporter": "python",
   "pygments_lexer": "ipython3",
   "version": "3.10.11"
  },
  "vscode": {
   "interpreter": {
    "hash": "b056086e24cb5602cbcb82122035cd3d6ee2ccbf5df29c16e348c108b0f83be3"
   }
  }
 },
 "nbformat": 4,
 "nbformat_minor": 5
}
