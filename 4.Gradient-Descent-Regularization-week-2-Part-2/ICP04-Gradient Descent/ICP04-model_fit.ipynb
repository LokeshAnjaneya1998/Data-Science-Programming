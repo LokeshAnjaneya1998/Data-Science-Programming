{
 "cells": [
  {
   "attachments": {},
   "cell_type": "markdown",
   "id": "be94e37e-c23f-4f42-b9a6-9e64201739ac",
   "metadata": {},
   "source": [
    "### ICP04-Gradient Descent Create a copy of the \"WE02-Regression\" model-fitting notebook. Rename the copied notebooks as \"model4-model_fit\""
   ]
  },
  {
   "attachments": {},
   "cell_type": "markdown",
   "id": "66d01c8a-f0cd-42af-aff9-8ba0bbd3c47e",
   "metadata": {
    "slideshow": {
     "slide_type": "slide"
    },
    "tags": []
   },
   "source": [
    "# Predictive Modeling Example: Model fit\n",
    "\n",
    "In this notebook, we will fit a model to the data we have prepared in the previous notebook. We will use the sci-kit learn library to fit a linear regression model to the data.\n",
    "\n",
    "1. Import libraries and modules\n",
    "2. Load data\n",
    "3. Explore data\n",
    "4. Fit model\n",
    "5. Evaluate model\n",
    "6. Save model"
   ]
  },
  {
   "attachments": {},
   "cell_type": "markdown",
   "id": "049ea964-ba9d-46aa-af88-d13550f27638",
   "metadata": {
    "slideshow": {
     "slide_type": "slide"
    },
    "tags": []
   },
   "source": [
    "## Step 1: Import the libraries we will use in this notebook"
   ]
  },
  {
   "cell_type": "code",
   "execution_count": 1,
   "id": "cca96620-674f-43be-9633-3546127c263b",
   "metadata": {
    "slideshow": {
     "slide_type": "fragment"
    },
    "tags": []
   },
   "outputs": [],
   "source": [
    "import matplotlib.pyplot as plt\n",
    "import numpy as np\n",
    "import pandas as pd\n",
    "from sklearn.linear_model import LinearRegression\n",
    "from sklearn.model_selection import train_test_split\n",
    "from sklearn.preprocessing import PolynomialFeatures\n",
    "from sklearn.metrics import mean_squared_error\n",
    "from sklearn.linear_model import SGDRegressor \n",
    "\n",
    "np.random.seed(1) # set this to ensure the results are repeatable. "
   ]
  },
  {
   "attachments": {},
   "cell_type": "markdown",
   "id": "31b63237-2a6b-40be-a7c9-9fd854b52339",
   "metadata": {},
   "source": [
    "## Step 2: Load the given data that we will model"
   ]
  },
  {
   "cell_type": "code",
   "execution_count": 2,
   "id": "7815e222-9aae-4b39-999e-689dcea5aeb8",
   "metadata": {},
   "outputs": [
    {
     "data": {
      "text/html": [
       "<div>\n",
       "<style scoped>\n",
       "    .dataframe tbody tr th:only-of-type {\n",
       "        vertical-align: middle;\n",
       "    }\n",
       "\n",
       "    .dataframe tbody tr th {\n",
       "        vertical-align: top;\n",
       "    }\n",
       "\n",
       "    .dataframe thead th {\n",
       "        text-align: right;\n",
       "    }\n",
       "</style>\n",
       "<table border=\"1\" class=\"dataframe\">\n",
       "  <thead>\n",
       "    <tr style=\"text-align: right;\">\n",
       "      <th></th>\n",
       "      <th>input</th>\n",
       "      <th>target</th>\n",
       "    </tr>\n",
       "  </thead>\n",
       "  <tbody>\n",
       "    <tr>\n",
       "      <th>0</th>\n",
       "      <td>16.243454</td>\n",
       "      <td>8803.949866</td>\n",
       "    </tr>\n",
       "    <tr>\n",
       "      <th>1</th>\n",
       "      <td>-6.117564</td>\n",
       "      <td>-657.602516</td>\n",
       "    </tr>\n",
       "    <tr>\n",
       "      <th>2</th>\n",
       "      <td>-5.281718</td>\n",
       "      <td>-210.705031</td>\n",
       "    </tr>\n",
       "  </tbody>\n",
       "</table>\n",
       "</div>"
      ],
      "text/plain": [
       "       input       target\n",
       "0  16.243454  8803.949866\n",
       "1  -6.117564  -657.602516\n",
       "2  -5.281718  -210.705031"
      ]
     },
     "execution_count": 2,
     "metadata": {},
     "output_type": "execute_result"
    }
   ],
   "source": [
    "df = pd.read_csv('ICP04_dataset.csv')\n",
    "\n",
    "df.head(3)"
   ]
  },
  {
   "cell_type": "code",
   "execution_count": 3,
   "id": "5a226a51-192d-43bb-95e0-7404fe75d8de",
   "metadata": {},
   "outputs": [],
   "source": [
    "X = df[['input']]\n",
    "y = df[['target']]"
   ]
  },
  {
   "attachments": {},
   "cell_type": "markdown",
   "id": "9659bd78-3ccf-4add-af07-ce79a5a197f1",
   "metadata": {},
   "source": [
    "For educational purposes, let's look at the first five values in X and y (note how X is an array of lists)"
   ]
  },
  {
   "attachments": {},
   "cell_type": "markdown",
   "id": "2251b80d-af86-4eb1-87b3-4852081028c3",
   "metadata": {},
   "source": [
    "## Step 3: Explore the given data\n",
    "\n",
    "Often we will do much more than this, but at least look at things using a scatterplot"
   ]
  },
  {
   "cell_type": "code",
   "execution_count": 4,
   "id": "8ba59a2e-a02a-4ea4-a73a-1ac6ba1d0056",
   "metadata": {},
   "outputs": [
    {
     "data": {
      "image/png": "[encoded data removed]",
      "text/plain": [
       "<Figure size 640x480 with 1 Axes>"
      ]
     },
     "metadata": {},
     "output_type": "display_data"
    }
   ],
   "source": [
    "fig = plt.figure()\n",
    "ax = fig.add_subplot()\n",
    "\n",
    "ax.scatter(df['input'], df['target'], color='blue')\n",
    "\n",
    "ax.set_xlabel('input')\n",
    "ax.set_ylabel('target')\n",
    "plt.tight_layout()\n",
    "plt.show()"
   ]
  },
  {
   "attachments": {},
   "cell_type": "markdown",
   "id": "ed7a97b8-1f4f-405c-9d2e-32eea8e86f9f",
   "metadata": {},
   "source": [
    "### WE02-Regression step 3: Modify the model fitting notebook to correctly identify the hidden relationship between the input and output variables. Start by fitting a second-order polynomial and observe the results. Then, in the section below, fit a 3rd-order polynomial to capture the higher-order relationship."
   ]
  },
  {
   "attachments": {},
   "cell_type": "markdown",
   "id": "37a3d946-30d2-493f-9c21-de582f8fe7b5",
   "metadata": {},
   "source": [
    "### incorporating data splitting (cross-validation) to train the models (using an 80/20 split)."
   ]
  },
  {
   "cell_type": "code",
   "execution_count": 5,
   "id": "664a9184-9f95-415e-bb4b-2c99ee2b9b35",
   "metadata": {},
   "outputs": [],
   "source": [
    "X_train, X_test, y_train, y_test = train_test_split(df[['input']], df[['target']], test_size=0.20, random_state=1)"
   ]
  },
  {
   "cell_type": "code",
   "execution_count": 6,
   "id": "77fd36e0-eade-4a3f-9075-783523be8374",
   "metadata": {},
   "outputs": [
    {
     "data": {
      "text/html": [
       "<div>\n",
       "<style scoped>\n",
       "    .dataframe tbody tr th:only-of-type {\n",
       "        vertical-align: middle;\n",
       "    }\n",
       "\n",
       "    .dataframe tbody tr th {\n",
       "        vertical-align: top;\n",
       "    }\n",
       "\n",
       "    .dataframe thead th {\n",
       "        text-align: right;\n",
       "    }\n",
       "</style>\n",
       "<table border=\"1\" class=\"dataframe\">\n",
       "  <thead>\n",
       "    <tr style=\"text-align: right;\">\n",
       "      <th></th>\n",
       "      <th>input</th>\n",
       "      <th>target</th>\n",
       "    </tr>\n",
       "  </thead>\n",
       "  <tbody>\n",
       "    <tr>\n",
       "      <th>382</th>\n",
       "      <td>-15.387932</td>\n",
       "      <td>-7251.253424</td>\n",
       "    </tr>\n",
       "    <tr>\n",
       "      <th>994</th>\n",
       "      <td>12.911889</td>\n",
       "      <td>4414.314652</td>\n",
       "    </tr>\n",
       "    <tr>\n",
       "      <th>982</th>\n",
       "      <td>1.751677</td>\n",
       "      <td>129.776296</td>\n",
       "    </tr>\n",
       "  </tbody>\n",
       "</table>\n",
       "</div>"
      ],
      "text/plain": [
       "         input       target\n",
       "382 -15.387932 -7251.253424\n",
       "994  12.911889  4414.314652\n",
       "982   1.751677   129.776296"
      ]
     },
     "execution_count": 6,
     "metadata": {},
     "output_type": "execute_result"
    }
   ],
   "source": [
    "trainData = X_train.copy()\n",
    "trainData['target'] = y_train\n",
    "trainData.head(3)"
   ]
  },
  {
   "cell_type": "code",
   "execution_count": 7,
   "id": "e9f509ae-1f7a-494d-b52e-f442122f6d56",
   "metadata": {},
   "outputs": [],
   "source": [
    "trainData.to_csv('ICP04_train_dataset.csv', index=False) # Saving train data in csv file for record"
   ]
  },
  {
   "cell_type": "code",
   "execution_count": 8,
   "id": "8d1f7303-1ab5-402c-bb8b-61e0dcb2cfb4",
   "metadata": {},
   "outputs": [
    {
     "data": {
      "text/html": [
       "<div>\n",
       "<style scoped>\n",
       "    .dataframe tbody tr th:only-of-type {\n",
       "        vertical-align: middle;\n",
       "    }\n",
       "\n",
       "    .dataframe tbody tr th {\n",
       "        vertical-align: top;\n",
       "    }\n",
       "\n",
       "    .dataframe thead th {\n",
       "        text-align: right;\n",
       "    }\n",
       "</style>\n",
       "<table border=\"1\" class=\"dataframe\">\n",
       "  <thead>\n",
       "    <tr style=\"text-align: right;\">\n",
       "      <th></th>\n",
       "      <th>input</th>\n",
       "      <th>target</th>\n",
       "    </tr>\n",
       "  </thead>\n",
       "  <tbody>\n",
       "    <tr>\n",
       "      <th>507</th>\n",
       "      <td>0.896864</td>\n",
       "      <td>-141.859686</td>\n",
       "    </tr>\n",
       "    <tr>\n",
       "      <th>818</th>\n",
       "      <td>-3.260613</td>\n",
       "      <td>87.151159</td>\n",
       "    </tr>\n",
       "    <tr>\n",
       "      <th>452</th>\n",
       "      <td>6.743961</td>\n",
       "      <td>670.791378</td>\n",
       "    </tr>\n",
       "  </tbody>\n",
       "</table>\n",
       "</div>"
      ],
      "text/plain": [
       "        input      target\n",
       "507  0.896864 -141.859686\n",
       "818 -3.260613   87.151159\n",
       "452  6.743961  670.791378"
      ]
     },
     "execution_count": 8,
     "metadata": {},
     "output_type": "execute_result"
    }
   ],
   "source": [
    "testData = X_test.copy()\n",
    "testData['target'] = y_test\n",
    "testData.head(3)"
   ]
  },
  {
   "cell_type": "code",
   "execution_count": 9,
   "id": "97bf3f2a-d37c-42b3-8a5d-85c9b43a9c07",
   "metadata": {},
   "outputs": [],
   "source": [
    "testData.to_csv('ICP04_test_dataset.csv', index=False) # Saving test data in csv file for record"
   ]
  },
  {
   "attachments": {},
   "cell_type": "markdown",
   "id": "7969938e-a072-40d2-a6a6-6a9593cab309",
   "metadata": {},
   "source": [
    "### Creating a dataframe to hold all the results of our models."
   ]
  },
  {
   "cell_type": "code",
   "execution_count": 10,
   "id": "8025b967-e7df-4126-827e-a73c3df5a70f",
   "metadata": {},
   "outputs": [],
   "source": [
    "results = pd.DataFrame(y_train, columns=[\"actual\"])\n",
    "\n",
    "rmses = pd.DataFrame({\"model\": [], \"itertions\": [], \"rmse\": []})"
   ]
  },
  {
   "attachments": {},
   "cell_type": "markdown",
   "id": "6545c4b0-4a61-4343-b7cf-db7f746b5d3c",
   "metadata": {
    "tags": []
   },
   "source": [
    "## Step 4a: Fit the model using a 1st order polynomial (linear regression)\n",
    "\n",
    "Let's imagine that you're very new at this and you did not recognize that the relationship between x and y is clearly not a linear (1st order polynomial) relationship. "
   ]
  },
  {
   "cell_type": "code",
   "execution_count": 11,
   "id": "8f566ef6-b1b2-4091-b9fb-f33c27832c5f",
   "metadata": {
    "tags": []
   },
   "outputs": [],
   "source": [
    "lin_reg=LinearRegression()\n",
    "\n",
    "lin_reg = LinearRegression().fit(X_train,y_train)"
   ]
  },
  {
   "attachments": {},
   "cell_type": "markdown",
   "id": "a296f899-c2ee-4849-adf4-34d56d4ce127",
   "metadata": {},
   "source": [
    "### Fitting the model on train data using 2nd order polynomial (linear regression technique)"
   ]
  },
  {
   "cell_type": "code",
   "execution_count": 12,
   "id": "937fc30f",
   "metadata": {},
   "outputs": [
    {
     "data": {
      "text/html": [
       "<div>\n",
       "<style scoped>\n",
       "    .dataframe tbody tr th:only-of-type {\n",
       "        vertical-align: middle;\n",
       "    }\n",
       "\n",
       "    .dataframe tbody tr th {\n",
       "        vertical-align: top;\n",
       "    }\n",
       "\n",
       "    .dataframe thead th {\n",
       "        text-align: right;\n",
       "    }\n",
       "</style>\n",
       "<table border=\"1\" class=\"dataframe\">\n",
       "  <thead>\n",
       "    <tr style=\"text-align: right;\">\n",
       "      <th></th>\n",
       "      <th>x1</th>\n",
       "      <th>x2</th>\n",
       "      <th>x3</th>\n",
       "      <th>y</th>\n",
       "    </tr>\n",
       "  </thead>\n",
       "  <tbody>\n",
       "    <tr>\n",
       "      <th>382</th>\n",
       "      <td>-15.387932</td>\n",
       "      <td>236.788465</td>\n",
       "      <td>-3643.684911</td>\n",
       "      <td>-7251.253424</td>\n",
       "    </tr>\n",
       "    <tr>\n",
       "      <th>994</th>\n",
       "      <td>12.911889</td>\n",
       "      <td>166.716878</td>\n",
       "      <td>2152.629832</td>\n",
       "      <td>4414.314652</td>\n",
       "    </tr>\n",
       "    <tr>\n",
       "      <th>982</th>\n",
       "      <td>1.751677</td>\n",
       "      <td>3.068373</td>\n",
       "      <td>5.374800</td>\n",
       "      <td>129.776296</td>\n",
       "    </tr>\n",
       "  </tbody>\n",
       "</table>\n",
       "</div>"
      ],
      "text/plain": [
       "            x1          x2           x3            y\n",
       "382 -15.387932  236.788465 -3643.684911 -7251.253424\n",
       "994  12.911889  166.716878  2152.629832  4414.314652\n",
       "982   1.751677    3.068373     5.374800   129.776296"
      ]
     },
     "execution_count": 12,
     "metadata": {},
     "output_type": "execute_result"
    }
   ],
   "source": [
    "new_df = pd.DataFrame()\n",
    "new_df['x1'] = trainData['input']\n",
    "new_df['x2'] = trainData['input']**2  # here we have engineered a new feature\n",
    "new_df['x3'] = trainData['input']**3 \n",
    "new_df['y'] = trainData['target']\n",
    "\n",
    "new_df.head(3)"
   ]
  },
  {
   "cell_type": "code",
   "execution_count": 13,
   "id": "bc9dcdd2-3658-4d01-abfe-42a45c1b88a1",
   "metadata": {
    "tags": []
   },
   "outputs": [
    {
     "name": "stdout",
     "output_type": "stream",
     "text": [
      "(800, 2)\n",
      "(800,)\n"
     ]
    }
   ],
   "source": [
    "X_2ndorder_train = new_df[['x1', 'x2']]\n",
    "y_2ndorder_train = new_df['y']\n",
    "\n",
    "print(X_2ndorder_train.shape)\n",
    "print(y_2ndorder_train.shape)\n"
   ]
  },
  {
   "cell_type": "code",
   "execution_count": 14,
   "id": "6a690b4e-31cd-4d7a-beb2-79d99942cde2",
   "metadata": {
    "tags": []
   },
   "outputs": [],
   "source": [
    "lin_reg_2ndorder=LinearRegression()\n",
    "\n",
    "lin_reg_2ndorder = LinearRegression().fit(new_df[['x1', 'x2']],new_df[['y']])"
   ]
  },
  {
   "cell_type": "code",
   "execution_count": 15,
   "id": "4b9073b5-af11-429d-af88-687f8c7263f5",
   "metadata": {
    "tags": []
   },
   "outputs": [
    {
     "data": {
      "image/png": "[encoded data removed]",
      "text/plain": [
       "<Figure size 640x480 with 1 Axes>"
      ]
     },
     "metadata": {},
     "output_type": "display_data"
    }
   ],
   "source": [
    "fig = plt.figure()\n",
    "ax = fig.add_subplot()\n",
    "\n",
    "ax.scatter(trainData['input'], trainData['target'], color='blue')\n",
    "ax.scatter(trainData['input'], lin_reg_2ndorder.predict(X_2ndorder_train), color='red')\n",
    "\n",
    "ax.set_title('Linear Regression')\n",
    "ax.set_xlabel('input')\n",
    "ax.set_ylabel('target')\n",
    "plt.tight_layout()\n",
    "plt.show()"
   ]
  },
  {
   "cell_type": "code",
   "execution_count": 16,
   "id": "0f925a20-50c7-47ec-a273-d5a4680d19fc",
   "metadata": {},
   "outputs": [],
   "source": [
    "b0 = lin_reg_2ndorder.intercept_[0]\n",
    "b1 = lin_reg_2ndorder.coef_[0][0]\n",
    "b2 = lin_reg_2ndorder.coef_[0][1]\n",
    "r2 = lin_reg_2ndorder.score(X_2ndorder_train, y_2ndorder_train)"
   ]
  },
  {
   "cell_type": "code",
   "execution_count": 17,
   "id": "b95d8038-c049-40a2-80d4-6fd156463570",
   "metadata": {},
   "outputs": [
    {
     "name": "stdout",
     "output_type": "stream",
     "text": [
      "y = -721.61 + 636.26x + 6.12x^2\n",
      "R^2: 0.558\n"
     ]
    }
   ],
   "source": [
    "print(f\"y = {b0:.2f} + {b1:.2f}x + {b2:.2f}x^2\")\n",
    "print(f\"R^2: {lin_reg_2ndorder.score(X_2ndorder_train, y_2ndorder_train):.3f}\")"
   ]
  },
  {
   "attachments": {},
   "cell_type": "markdown",
   "id": "d7ae76c4-082e-42ea-8c84-4f31912d9607",
   "metadata": {},
   "source": [
    "### Testing the model using 2nd order polynomial (linear regression technique)"
   ]
  },
  {
   "cell_type": "code",
   "execution_count": 18,
   "id": "75c2ea44-3d5d-4fea-9ecc-4cab6eb7abad",
   "metadata": {
    "tags": []
   },
   "outputs": [
    {
     "data": {
      "text/html": [
       "<div>\n",
       "<style scoped>\n",
       "    .dataframe tbody tr th:only-of-type {\n",
       "        vertical-align: middle;\n",
       "    }\n",
       "\n",
       "    .dataframe tbody tr th {\n",
       "        vertical-align: top;\n",
       "    }\n",
       "\n",
       "    .dataframe thead th {\n",
       "        text-align: right;\n",
       "    }\n",
       "</style>\n",
       "<table border=\"1\" class=\"dataframe\">\n",
       "  <thead>\n",
       "    <tr style=\"text-align: right;\">\n",
       "      <th></th>\n",
       "      <th>x1</th>\n",
       "      <th>x2</th>\n",
       "      <th>x3</th>\n",
       "      <th>y</th>\n",
       "    </tr>\n",
       "  </thead>\n",
       "  <tbody>\n",
       "    <tr>\n",
       "      <th>507</th>\n",
       "      <td>0.896864</td>\n",
       "      <td>0.804365</td>\n",
       "      <td>0.721406</td>\n",
       "      <td>-141.859686</td>\n",
       "    </tr>\n",
       "    <tr>\n",
       "      <th>818</th>\n",
       "      <td>-3.260613</td>\n",
       "      <td>10.631598</td>\n",
       "      <td>-34.665526</td>\n",
       "      <td>87.151159</td>\n",
       "    </tr>\n",
       "    <tr>\n",
       "      <th>452</th>\n",
       "      <td>6.743961</td>\n",
       "      <td>45.481011</td>\n",
       "      <td>306.722164</td>\n",
       "      <td>670.791378</td>\n",
       "    </tr>\n",
       "  </tbody>\n",
       "</table>\n",
       "</div>"
      ],
      "text/plain": [
       "           x1         x2          x3           y\n",
       "507  0.896864   0.804365    0.721406 -141.859686\n",
       "818 -3.260613  10.631598  -34.665526   87.151159\n",
       "452  6.743961  45.481011  306.722164  670.791378"
      ]
     },
     "execution_count": 18,
     "metadata": {},
     "output_type": "execute_result"
    }
   ],
   "source": [
    "new_test_df = pd.DataFrame()\n",
    "new_test_df['x1'] = testData['input']\n",
    "new_test_df['x2'] = testData['input']**2  # here we have engineered a new feature\n",
    "new_test_df['x3'] = testData['input']**3 \n",
    "new_test_df['y'] = testData['target']\n",
    "\n",
    "new_test_df.head(3)"
   ]
  },
  {
   "cell_type": "code",
   "execution_count": 19,
   "id": "87d9e96e-0d78-4c47-93f5-b17545b05bf1",
   "metadata": {},
   "outputs": [
    {
     "name": "stdout",
     "output_type": "stream",
     "text": [
      "(200, 2)\n",
      "(200,)\n"
     ]
    }
   ],
   "source": [
    "X_2ndorder_test = new_test_df[['x1', 'x2']]\n",
    "y_2ndorder_test = new_test_df['y']\n",
    "\n",
    "print(X_2ndorder_test.shape)\n",
    "print(y_2ndorder_test.shape)"
   ]
  },
  {
   "cell_type": "code",
   "execution_count": 20,
   "id": "8dec4033-cb74-4882-bc1a-50a967e5ba13",
   "metadata": {},
   "outputs": [
    {
     "name": "stdout",
     "output_type": "stream",
     "text": [
      "Linear regression wt 2nd order Polynomial input Test RMSE: 4318.280\n"
     ]
    }
   ],
   "source": [
    "lin_test_pred = lin_reg_2ndorder.predict(X_2ndorder_test)\n",
    "lin_test_rmse = np.sqrt(mean_squared_error(y_2ndorder_test, lin_test_pred))\n",
    "\n",
    "rmses = pd.concat([rmses, pd.DataFrame({'model':\"lin reg 2nd order Poly\", \"itertions\": \"NA\", 'rmse': lin_test_rmse}, index=[0])])\n",
    "\n",
    "print(f\"Linear regression wt 2nd order Polynomial input Test RMSE: {lin_test_rmse:.3f}\")"
   ]
  },
  {
   "attachments": {},
   "cell_type": "markdown",
   "id": "51117daf-a0b0-46c3-989c-52d9cfb947d2",
   "metadata": {},
   "source": [
    "### Fitting the model on train data using 3rd order polynomial (linear regression technique)"
   ]
  },
  {
   "cell_type": "code",
   "execution_count": 21,
   "id": "f34f1545",
   "metadata": {
    "tags": []
   },
   "outputs": [
    {
     "name": "stdout",
     "output_type": "stream",
     "text": [
      "(800, 3)\n",
      "(800,)\n"
     ]
    }
   ],
   "source": [
    "X_train_3rdorder = new_df[['x1', 'x2', 'x3']]\n",
    "y_train_3rdorder = new_df['y']\n",
    "\n",
    "print(X_train_3rdorder.shape)\n",
    "print(y_train_3rdorder.shape)\n"
   ]
  },
  {
   "cell_type": "code",
   "execution_count": 22,
   "id": "b409ae3b",
   "metadata": {
    "tags": []
   },
   "outputs": [],
   "source": [
    "lin_reg_3rdorder=LinearRegression()\n",
    "\n",
    "lin_reg_3rdorder = LinearRegression().fit(new_df[['x1', 'x2', 'x3']],new_df[['y']]) # note: the double square brackets are important! \n",
    "\n",
    "# see pandas_dataframe_demo.ipynb for more details on how to work with pandas dataframes"
   ]
  },
  {
   "attachments": {},
   "cell_type": "markdown",
   "id": "b45e77cb-607a-4ef4-87ae-8fde787ed7ad",
   "metadata": {},
   "source": [
    "## Step 5: Analyze the linear regression model's performance"
   ]
  },
  {
   "attachments": {},
   "cell_type": "markdown",
   "id": "ce57d2bf-91cd-4a8b-9383-621f0b0d1f68",
   "metadata": {},
   "source": [
    "Visualize the linear regression model results"
   ]
  },
  {
   "cell_type": "code",
   "execution_count": 23,
   "id": "847d4c77-85d5-4d8e-a939-6724e34413de",
   "metadata": {},
   "outputs": [
    {
     "data": {
      "image/png": "[encoded data removed]",
      "text/plain": [
       "<Figure size 640x480 with 1 Axes>"
      ]
     },
     "metadata": {},
     "output_type": "display_data"
    }
   ],
   "source": [
    "fig = plt.figure()\n",
    "ax = fig.add_subplot()\n",
    "\n",
    "ax.scatter(trainData['input'], trainData['target'], color='blue')\n",
    "ax.scatter(trainData['input'], lin_reg_3rdorder.predict(X_train_3rdorder), color='red')\n",
    "\n",
    "ax.set_title('Linear Regression')\n",
    "ax.set_xlabel('input')\n",
    "ax.set_ylabel('target')\n",
    "plt.tight_layout()\n",
    "plt.show()"
   ]
  },
  {
   "cell_type": "code",
   "execution_count": 24,
   "id": "0fbed7d8",
   "metadata": {},
   "outputs": [],
   "source": [
    "b0 = lin_reg_3rdorder.intercept_[0]\n",
    "b1 = lin_reg_3rdorder.coef_[0][0]\n",
    "b2 = lin_reg_3rdorder.coef_[0][1]\n",
    "b3 = lin_reg_3rdorder.coef_[0][2]\n",
    "r2 = lin_reg_3rdorder.score(X_train_3rdorder, y_train_3rdorder)"
   ]
  },
  {
   "attachments": {},
   "cell_type": "markdown",
   "id": "3119300c-f6c4-41f9-87fd-99915f171fdb",
   "metadata": {},
   "source": [
    "... using fstring formatting, we can display these values as follows..."
   ]
  },
  {
   "cell_type": "code",
   "execution_count": 25,
   "id": "2af1b220-0199-40aa-adc3-aecd7a9bb36d",
   "metadata": {
    "tags": []
   },
   "outputs": [
    {
     "name": "stdout",
     "output_type": "stream",
     "text": [
      "y = -0.99 + -1.15x + 1.03x^2 + 2.00x^3\n",
      "R^2: 1.000\n"
     ]
    }
   ],
   "source": [
    "print(f\"y = {b0:.2f} + {b1:.2f}x + {b2:.2f}x^2 + {b3:.2f}x^3\")\n",
    "print(f\"R^2: {lin_reg_3rdorder.score(X_train_3rdorder, y_train_3rdorder):.3f}\") \n",
    "# for more on fstrings see here...\n",
    "# https://www.freecodecamp.org/news/python-f-strings-tutorial-how-to-use-f-strings-for-string-formatting/"
   ]
  },
  {
   "attachments": {},
   "cell_type": "markdown",
   "id": "802fecee-1a33-4e83-9020-f8bc9247cea1",
   "metadata": {},
   "source": [
    "### Testing the model using 3rd order polynomial (linear regression technique)"
   ]
  },
  {
   "cell_type": "code",
   "execution_count": 26,
   "id": "055cede9-7165-4cc7-9374-6c27207c1b44",
   "metadata": {},
   "outputs": [
    {
     "name": "stdout",
     "output_type": "stream",
     "text": [
      "(200, 3)\n",
      "(200,)\n"
     ]
    }
   ],
   "source": [
    "X_test_3rdorder = new_test_df[['x1', 'x2', 'x3']]\n",
    "y_test_3rdorder = new_test_df['y']\n",
    "\n",
    "print(X_test_3rdorder.shape)\n",
    "print(y_test_3rdorder.shape)\n"
   ]
  },
  {
   "cell_type": "code",
   "execution_count": 27,
   "id": "ab37d716-50cb-4928-9292-d6136b01af59",
   "metadata": {},
   "outputs": [
    {
     "name": "stdout",
     "output_type": "stream",
     "text": [
      "Linear regression wt 3rd order Polynomial input Test RMSE: 102.176\n"
     ]
    }
   ],
   "source": [
    "lin3rd_test_pred = lin_reg_3rdorder.predict(X_test_3rdorder)\n",
    "lin3rd_test_rmse = np.sqrt(mean_squared_error(y_test_3rdorder, lin3rd_test_pred))\n",
    "\n",
    "rmses = pd.concat([rmses, pd.DataFrame({'model':\"lin reg 3rd order Poly\", \"itertions\": \"NA\", 'rmse': lin3rd_test_rmse}, index=[0])])\n",
    "\n",
    "print(f\"Linear regression wt 3rd order Polynomial input Test RMSE: {lin3rd_test_rmse:.3f}\")"
   ]
  },
  {
   "attachments": {},
   "cell_type": "markdown",
   "id": "a84904d8-ae8b-433f-9c92-ff7a7f5077cc",
   "metadata": {},
   "source": [
    "### Fit and test a Linear Regression Using Stochastic Gradient Descent"
   ]
  },
  {
   "cell_type": "code",
   "execution_count": 28,
   "id": "f42c9ec2-69dc-4ed3-a8ee-2b27a2c04d54",
   "metadata": {},
   "outputs": [
    {
     "name": "stdout",
     "output_type": "stream",
     "text": [
      "Number of iterations = 21\n"
     ]
    }
   ],
   "source": [
    "sgd_reg = SGDRegressor(max_iter=1000, penalty=None, eta0=0.01)\n",
    "sgd_reg.fit(X_train, np.ravel(y_train))\n",
    "noOfIterationslin = sgd_reg.n_iter_\n",
    "print(f\"Number of iterations = {noOfIterationslin}\")\n",
    "\n",
    "results[\"SGD_preds\"] = sgd_reg.predict(X_train)"
   ]
  },
  {
   "cell_type": "code",
   "execution_count": 29,
   "id": "8b43af57-4c72-486d-a2f7-523153b384bd",
   "metadata": {},
   "outputs": [
    {
     "name": "stdout",
     "output_type": "stream",
     "text": [
      "SGD Test RMSE: 4364.995\n"
     ]
    }
   ],
   "source": [
    "SGD_test_pred = sgd_reg.predict(X_test)\n",
    "SGD_test_rmse = np.sqrt(mean_squared_error(y_test, SGD_test_pred))\n",
    "\n",
    "rmses = pd.concat([rmses, pd.DataFrame({'model':\"SGD lin reg\", \"itertions\": noOfIterationslin, 'rmse': SGD_test_rmse}, index=[0])])\n",
    "\n",
    "print(f\"SGD Test RMSE: {SGD_test_rmse:.3f}\")"
   ]
  },
  {
   "attachments": {},
   "cell_type": "markdown",
   "id": "ab52ffe9-c866-4d87-bc59-7fdfd58a0acd",
   "metadata": {},
   "source": [
    "### Fitting the model on train data using 3rd order polynomial (SGD Gradient Descent)"
   ]
  },
  {
   "cell_type": "code",
   "execution_count": 30,
   "id": "f93805f0-b3e1-42d6-a9fd-3a6d8a4d0585",
   "metadata": {},
   "outputs": [],
   "source": [
    "poly_features = PolynomialFeatures(degree=2).fit(X_train)\n",
    "X_train_poly = poly_features.transform(X_train)\n",
    "X_test_poly = poly_features.transform(X_test)"
   ]
  },
  {
   "cell_type": "code",
   "execution_count": 31,
   "id": "bdef674f-6015-43ad-ac89-92e3f4f821a3",
   "metadata": {},
   "outputs": [
    {
     "data": {
      "text/plain": [
       "array([[  1.        , -15.38793246, 236.78846531],\n",
       "       [  1.        ,  12.91188903, 166.71687828],\n",
       "       [  1.        ,   1.75167729,   3.06837334],\n",
       "       ...,\n",
       "       [  1.        ,  18.03588981, 325.29332141],\n",
       "       [  1.        , -12.33120735, 152.05867482],\n",
       "       [  1.        ,   2.34415698,   5.49507194]])"
      ]
     },
     "execution_count": 31,
     "metadata": {},
     "output_type": "execute_result"
    }
   ],
   "source": [
    "X_train_poly"
   ]
  },
  {
   "cell_type": "code",
   "execution_count": 32,
   "id": "603aebaa-78a4-4289-98d6-e97203e7b6dd",
   "metadata": {},
   "outputs": [
    {
     "name": "stdout",
     "output_type": "stream",
     "text": [
      "Number of iterations = 20\n"
     ]
    }
   ],
   "source": [
    "poly_lin_reg = SGDRegressor(max_iter=1000, penalty=None, eta0=0.01) \n",
    "poly_lin_reg.fit(X_train_poly, np.ravel(y_train))\n",
    "noOfIterationspoly = poly_lin_reg.n_iter_\n",
    "print(f\"Number of iterations = {noOfIterationspoly}\")\n",
    "\n",
    "results[\"SGD_preds_ using 2nd order polynomial\"] = poly_lin_reg.predict(X_train_poly)"
   ]
  },
  {
   "attachments": {},
   "cell_type": "markdown",
   "id": "0ec931d1-8d11-4af5-93cb-a4c088d99b6b",
   "metadata": {},
   "source": [
    "### Testing the model on test data using 2nd order polynomial (SGD Gradient Descent)"
   ]
  },
  {
   "cell_type": "code",
   "execution_count": 33,
   "id": "ed96359d-9a40-4977-abcd-9bed732405be",
   "metadata": {},
   "outputs": [
    {
     "name": "stdout",
     "output_type": "stream",
     "text": [
      "SGD wt 3rd order Polynomial input Test RMSE: 17199581339538.365\n"
     ]
    }
   ],
   "source": [
    "poly_test_pred = poly_lin_reg.predict(X_test_poly)\n",
    "poly_test_rmse = np.sqrt(mean_squared_error(y_test, poly_test_pred))\n",
    "\n",
    "rmses = pd.concat([rmses, pd.DataFrame({'model':\"SGD 3rd order Poly\", \"itertions\": noOfIterationspoly, 'rmse': poly_test_rmse}, index=[0])])\n",
    "\n",
    "print(f\"SGD wt 3rd order Polynomial input Test RMSE: {poly_test_rmse:.3f}\")"
   ]
  },
  {
   "attachments": {},
   "cell_type": "markdown",
   "id": "99ca9593-50d2-434e-992c-b6cc91b86ddf",
   "metadata": {},
   "source": [
    "### Comparing results with standard linear regression techniques to SGD Gradient Descent"
   ]
  },
  {
   "cell_type": "code",
   "execution_count": 34,
   "id": "a3c08b9f-7407-4018-9d4d-978760983c44",
   "metadata": {},
   "outputs": [
    {
     "data": {
      "text/html": [
       "<div>\n",
       "<style scoped>\n",
       "    .dataframe tbody tr th:only-of-type {\n",
       "        vertical-align: middle;\n",
       "    }\n",
       "\n",
       "    .dataframe tbody tr th {\n",
       "        vertical-align: top;\n",
       "    }\n",
       "\n",
       "    .dataframe thead th {\n",
       "        text-align: right;\n",
       "    }\n",
       "</style>\n",
       "<table border=\"1\" class=\"dataframe\">\n",
       "  <thead>\n",
       "    <tr style=\"text-align: right;\">\n",
       "      <th></th>\n",
       "      <th>model</th>\n",
       "      <th>itertions</th>\n",
       "      <th>rmse</th>\n",
       "    </tr>\n",
       "  </thead>\n",
       "  <tbody>\n",
       "    <tr>\n",
       "      <th>0</th>\n",
       "      <td>SGD 3rd order Poly</td>\n",
       "      <td>20</td>\n",
       "      <td>1.719958e+13</td>\n",
       "    </tr>\n",
       "    <tr>\n",
       "      <th>0</th>\n",
       "      <td>SGD lin reg</td>\n",
       "      <td>21</td>\n",
       "      <td>4.364995e+03</td>\n",
       "    </tr>\n",
       "    <tr>\n",
       "      <th>0</th>\n",
       "      <td>lin reg 2nd order Poly</td>\n",
       "      <td>NA</td>\n",
       "      <td>4.318280e+03</td>\n",
       "    </tr>\n",
       "    <tr>\n",
       "      <th>0</th>\n",
       "      <td>lin reg 3rd order Poly</td>\n",
       "      <td>NA</td>\n",
       "      <td>1.021762e+02</td>\n",
       "    </tr>\n",
       "  </tbody>\n",
       "</table>\n",
       "</div>"
      ],
      "text/plain": [
       "                    model itertions          rmse\n",
       "0      SGD 3rd order Poly        20  1.719958e+13\n",
       "0             SGD lin reg        21  4.364995e+03\n",
       "0  lin reg 2nd order Poly        NA  4.318280e+03\n",
       "0  lin reg 3rd order Poly        NA  1.021762e+02"
      ]
     },
     "execution_count": 34,
     "metadata": {},
     "output_type": "execute_result"
    }
   ],
   "source": [
    "rmses.sort_values(by=['model'])"
   ]
  },
  {
   "attachments": {},
   "cell_type": "markdown",
   "id": "9c92d65e",
   "metadata": {},
   "source": [
    "### ICP04-Gradient Descent Conclusion\n",
    "\n",
    "\n",
    "From the results, I have evaluated the performance of different types of regression models on a given dataset. I can deduce following from the results\n",
    "\n",
    "* SGD on 3rd order Polynomial: This is a stochastic gradient descent model with a 3rd order polynomial feature transformation. The RMSE (Root Mean Square Error) for this model is extremely high (1.719958e+13), indicating that the model's predictions are, on average, off by a very large amount. This could suggest that the model is not a good fit for the data, or perhaps there might be some issues with the model setup or data processing.\n",
    "\n",
    "* SGD linear regression: This model uses stochastic gradient descent for linear regression. The RMSE is 4364.995, which is much lower than the SGD 3rd order Polynomial model, indicating that it's a much better fit for the data.\n",
    "\n",
    "* Linear regression 2nd order Polynomial: This is a linear regression model with a 2nd order polynomial feature transformation. The RMSE is even lower at 4318.280, which suggests it performs better than the above two models.\n",
    "\n",
    "* Linear regression 3rd order Polynomial: This model again uses linear regression, this time with a 3rd order polynomial feature transformation. The RMSE is extremely low (102.1762), indicating that it performs the best out of the four models.\n",
    "\n",
    "This results suggests that the data is best captured with a polynomial transformation.The linear regression models seem to perform better than the stochastic gradient descent models in this case. Also linear regression moddel for 3rd ordel polynomial has R^2 value 1 which I can coclude that Linear regression on 3rd order Polynomial is the best model and fit."
   ]
  }
 ],
 "metadata": {
  "kernelspec": {
   "display_name": "Python 3 (ipykernel)",
   "language": "python",
   "name": "python3"
  },
  "language_info": {
   "codemirror_mode": {
    "name": "ipython",
    "version": 3
   },
   "file_extension": ".py",
   "mimetype": "text/x-python",
   "name": "python",
   "nbconvert_exporter": "python",
   "pygments_lexer": "ipython3",
   "version": "3.10.11"
  }
 },
 "nbformat": 4,
 "nbformat_minor": 5
}
