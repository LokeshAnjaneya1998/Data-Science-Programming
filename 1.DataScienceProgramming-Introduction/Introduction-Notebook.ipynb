{
 "cells": [
  {
   "attachments": {},
   "cell_type": "markdown",
   "id": "77d7a01d-32e3-45d0-aa54-c0f5fd172654",
   "metadata": {
    "tags": []
   },
   "source": [
    "# Getting Started with Data Science Programming\n",
    "\n",
    "## Lokesh Anjaneya Pothana"
   ]
  },
  {
   "attachments": {},
   "cell_type": "markdown",
   "id": "8a3a5547-fb66-4bf4-a491-2405f6da4534",
   "metadata": {
    "tags": []
   },
   "source": [
    "![Lokesh_Profile_Picture](http://myweb.usf.edu/~lokeshanjaneya/img/LokeshLogo.jpg)\n",
    "\n",
    "My name is Lokesh Anjaneya Pothana. I am a graduate student at University of South Florida majoring in Business Analytics and Information Systems. I have 3 years of experience as a QA Automation Engineer at Accenture. During my experience I was involved in lots of Data driven Testing where I was involved and initiated various innovative concepts which led me to more curiosity and interest in Data Analytics and Data Science. Outside of my studies, professional work, I play chess often, I go hiking and trekking whenever possible. I love nature and gardening and I feel relaxed when I sit under a tree and plants around me. I also watch Movies, web series and anime.\n",
    "\n",
    "Feel free to connect with me on \n",
    "email: lokeshpothanaadm@gmail.com\n",
    "LinkedIn: https://www.linkedin.com/in/lokesh-a-pothana/"
   ]
  },
  {
   "cell_type": "code",
   "execution_count": 1,
   "id": "601ef4da-ee8f-4ff1-9ac6-8131bcfb4673",
   "metadata": {},
   "outputs": [
    {
     "name": "stdout",
     "output_type": "stream",
     "text": [
      "Hello Data Science World!\n"
     ]
    }
   ],
   "source": [
    "print(\"Hello Data Science World!\")"
   ]
  }
 ],
 "metadata": {
  "kernelspec": {
   "display_name": "Python 3 (ipykernel)",
   "language": "python",
   "name": "python3"
  },
  "language_info": {
   "codemirror_mode": {
    "name": "ipython",
    "version": 3
   },
   "file_extension": ".py",
   "mimetype": "text/x-python",
   "name": "python",
   "nbconvert_exporter": "python",
   "pygments_lexer": "ipython3",
   "version": "3.10.11"
  }
 },
 "nbformat": 4,
 "nbformat_minor": 5
}
