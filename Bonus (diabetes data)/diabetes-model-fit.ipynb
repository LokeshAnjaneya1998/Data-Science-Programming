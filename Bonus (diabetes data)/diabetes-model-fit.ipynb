{
 "cells": [
  {
   "cell_type": "markdown",
   "metadata": {
    "id": "LxGJbLsUhuc8",
    "tags": []
   },
   "source": [
    "# Bonus - Diabetes Prediction."
   ]
  },
  {
   "cell_type": "markdown",
   "metadata": {},
   "source": [
    "## Section 3"
   ]
  },
  {
   "cell_type": "markdown",
   "metadata": {
    "id": "LxGJbLsUhuc8",
    "tags": []
   },
   "source": [
    "In this notebook I will use different models to improve the recall of my models since having high true positives and less false negatives are very important. I will use the following:\n",
    "* Logestic Regression\n",
    "* Decission Tree\n",
    "* RandomForest\n",
    "* AdaBoost\n",
    "* Gradiant Boosting\n",
    "* XG Boosting\n",
    "* Neural Network\n",
    "* RandomizedSearchCV\n",
    "* GridSearchCV"
   ]
  },
  {
   "cell_type": "markdown",
   "metadata": {
    "id": "-tuXRZKEYrDa"
   },
   "source": [
    "## Identifying Performance metrics\n"
   ]
  },
  {
   "cell_type": "markdown",
   "metadata": {},
   "source": [
    "##### The performance metrics that I will use to measure the performance of the models are\n",
    "\n",
    "* Accuracy: This is the most intuitive performance measure. It is the ratio of correctly predicted observation to the total observations.\n",
    "\n",
    "* Precision: Precision is the ratio of correctly predicted positive observations to the total predicted positive observations. High precision relates to a low false positive rate.\n",
    "\n",
    "* Recall (Sensitivity): This is the ratio of correctly predicted positive observations to all actual positives.\n",
    "\n",
    "* F1 Score: This is the weighted average of precision and recall. Therefore, this score takes both false positives and false negatives into account. It is usually more useful than accuracy, especially if there is an an uneven class distribution.\n",
    "\n",
    "##### **I am going to use rmse and recall as my score measure since in my case it is important to have high true positives and less false negatives."
   ]
  },
  {
   "cell_type": "markdown",
   "metadata": {
    "id": "kmYLcm3aY8X5"
   },
   "source": [
    "## Import necessary packages"
   ]
  },
  {
   "cell_type": "code",
   "execution_count": 1,
   "metadata": {
    "id": "8zNdljvIhuc8",
    "tags": []
   },
   "outputs": [],
   "source": [
    "# import packages\n",
    "import pandas as pd\n",
    "import numpy as np\n",
    "from sklearn.model_selection import train_test_split, GridSearchCV, RandomizedSearchCV\n",
    "from sklearn.tree import DecisionTreeClassifier\n",
    "from sklearn.neural_network import MLPClassifier\n",
    "from sklearn.ensemble import RandomForestClassifier, GradientBoostingClassifier, AdaBoostClassifier\n",
    "from sklearn.metrics import confusion_matrix, accuracy_score, precision_score, recall_score, f1_score, classification_report, ConfusionMatrixDisplay\n",
    "from sklearn.linear_model import LogisticRegression\n",
    "from xgboost import XGBClassifier\n",
    "import matplotlib.pyplot as plt\n",
    "from sklearn.metrics import mean_squared_error\n",
    "import collections\n",
    "\n",
    "np.random.seed(1)"
   ]
  },
  {
   "cell_type": "markdown",
   "metadata": {
    "id": "sGgrXNQPZT3J",
    "tags": []
   },
   "source": [
    "## Loading the data "
   ]
  },
  {
   "cell_type": "code",
   "execution_count": 2,
   "metadata": {},
   "outputs": [],
   "source": [
    "X_train = pd.read_csv('bonus-train_X-data.csv') \n",
    "y_train = pd.read_csv('bonus-train_y-data.csv') \n",
    "X_test = pd.read_csv('bonus-test_X-data.csv') \n",
    "y_test = pd.read_csv('bonus-test_y-data.csv')"
   ]
  },
  {
   "cell_type": "code",
   "execution_count": 3,
   "metadata": {},
   "outputs": [],
   "source": [
    "performance = pd.DataFrame({\"model\": [], \"accuracy\": [], \"F1\": [], \">>recall\": [], \"precision\": []})\n",
    "rmses = pd.DataFrame({\"model\": [], \"rmse\": []})"
   ]
  },
  {
   "cell_type": "markdown",
   "metadata": {},
   "source": [
    "### Prediction using Logestic regression"
   ]
  },
  {
   "cell_type": "code",
   "execution_count": 4,
   "metadata": {},
   "outputs": [
    {
     "name": "stdout",
     "output_type": "stream",
     "text": [
      "              precision    recall  f1-score   support\n",
      "\n",
      "           0     0.7857    0.9041    0.8408       146\n",
      "           1     0.7778    0.5765    0.6622        85\n",
      "\n",
      "    accuracy                         0.7835       231\n",
      "   macro avg     0.7817    0.7403    0.7515       231\n",
      "weighted avg     0.7828    0.7835    0.7750       231\n",
      "\n"
     ]
    }
   ],
   "source": [
    "log_reg_model = LogisticRegression(penalty=None, max_iter=900)\n",
    "_ = log_reg_model.fit(X_train,np.ravel(y_train))\n",
    "\n",
    "y_pred = log_reg_model.predict(X_test)\n",
    "print(classification_report(y_test, y_pred, digits=4))\n"
   ]
  },
  {
   "cell_type": "code",
   "execution_count": 5,
   "metadata": {},
   "outputs": [
    {
     "name": "stdout",
     "output_type": "stream",
     "text": [
      "[('Outcome', 1)]\n"
     ]
    },
    {
     "data": {
      "image/png": "[encoded data removed]",
      "text/plain": [
       "<Figure size 640x480 with 2 Axes>"
      ]
     },
     "metadata": {},
     "output_type": "display_data"
    }
   ],
   "source": [
    "\n",
    "counts = sorted(collections.Counter(y_test).items(), key=lambda i: i[0])\n",
    "print(counts)\n",
    "\n",
    "# display the confusion matrix\n",
    "cm = confusion_matrix(y_test, y_pred)\n",
    "disp = ConfusionMatrixDisplay(confusion_matrix=cm)\n",
    "disp.plot(cmap=plt.cm.Blues)\n",
    "plt.show()"
   ]
  },
  {
   "cell_type": "code",
   "execution_count": 6,
   "metadata": {},
   "outputs": [
    {
     "name": "stdout",
     "output_type": "stream",
     "text": [
      "Accuracy:           0.7835\n",
      "F1:                 0.6622\n",
      ">>Recall:           0.5765\n",
      "Precision:          0.7778\n"
     ]
    }
   ],
   "source": [
    "accuracy = log_reg_model.score(X_test, y_test)\n",
    "print(f\"{'Accuracy:':20s}{accuracy:.4f}\")\n",
    "\n",
    "F1 = f1_score(y_test, y_pred)\n",
    "print(f\"{'F1:':20s}{F1:.4f}\")\n",
    "\n",
    "\n",
    "recall = recall_score(y_test, y_pred)\n",
    "print(f\"{'>>Recall:':20s}{recall:.4f}\")\n",
    "\n",
    "\n",
    "\n",
    "precision = precision_score(y_test, y_pred)\n",
    "print(f\"{'Precision:':20s}{precision:.4f}\")\n",
    "\n",
    "\n",
    "performance = pd.concat([performance, pd.DataFrame({\"model\": 'Logestic Regression', \"accuracy\": [accuracy], \n",
    "                                                    \"F1\": [F1], \">>recall\": [recall], \"precision\": [precision]})])\n"
   ]
  },
  {
   "cell_type": "code",
   "execution_count": 7,
   "metadata": {},
   "outputs": [
    {
     "name": "stdout",
     "output_type": "stream",
     "text": [
      "Logestic regression Test RMSE: 0.4652421051992354\n"
     ]
    }
   ],
   "source": [
    "test_rmse = np.sqrt(mean_squared_error(y_test, y_pred))\n",
    "print(f\"Logestic regression Test RMSE: {test_rmse}\")\n",
    "\n",
    "rmses = pd.concat([rmses,pd.DataFrame({\"model\": 'Logestic Regression', \"rmse\": [test_rmse]})])"
   ]
  },
  {
   "cell_type": "markdown",
   "metadata": {},
   "source": [
    "### Changing to liblinear solver"
   ]
  },
  {
   "cell_type": "code",
   "execution_count": 8,
   "metadata": {},
   "outputs": [
    {
     "name": "stdout",
     "output_type": "stream",
     "text": [
      "              precision    recall  f1-score   support\n",
      "\n",
      "           0     0.7857    0.9041    0.8408       146\n",
      "           1     0.7778    0.5765    0.6622        85\n",
      "\n",
      "    accuracy                         0.7835       231\n",
      "   macro avg     0.7817    0.7403    0.7515       231\n",
      "weighted avg     0.7828    0.7835    0.7750       231\n",
      "\n"
     ]
    }
   ],
   "source": [
    "log_reg_liblin_model = LogisticRegression(solver='liblinear').fit(X_train, np.ravel(y_train))\n",
    "y_pred = log_reg_liblin_model.predict(X_test)\n",
    "print(classification_report(y_test, y_pred, digits=4))"
   ]
  },
  {
   "cell_type": "code",
   "execution_count": 9,
   "metadata": {},
   "outputs": [
    {
     "name": "stdout",
     "output_type": "stream",
     "text": [
      "[('Outcome', 1)]\n"
     ]
    },
    {
     "data": {
      "image/png": "[encoded data removed]",
      "text/plain": [
       "<Figure size 640x480 with 2 Axes>"
      ]
     },
     "metadata": {},
     "output_type": "display_data"
    }
   ],
   "source": [
    "counts = sorted(collections.Counter(y_test).items(), key=lambda i: i[0])\n",
    "print(counts)\n",
    "\n",
    "# display the confusion matrix\n",
    "cm = confusion_matrix(y_test, y_pred)\n",
    "disp = ConfusionMatrixDisplay(confusion_matrix=cm)\n",
    "disp.plot(cmap=plt.cm.Blues)\n",
    "plt.show()"
   ]
  },
  {
   "cell_type": "code",
   "execution_count": 10,
   "metadata": {},
   "outputs": [
    {
     "name": "stdout",
     "output_type": "stream",
     "text": [
      "Accuracy:           0.7835\n",
      "F1:                 0.6622\n",
      ">>Recall:           0.5765\n",
      "Precision:          0.7778\n"
     ]
    }
   ],
   "source": [
    "accuracy = log_reg_liblin_model.score(X_test, y_test)\n",
    "print(f\"{'Accuracy:':20s}{accuracy:.4f}\")\n",
    "\n",
    "F1 = f1_score(y_test, y_pred)\n",
    "print(f\"{'F1:':20s}{F1:.4f}\")\n",
    "\n",
    "\n",
    "recall = recall_score(y_test, y_pred)\n",
    "print(f\"{'>>Recall:':20s}{recall:.4f}\")\n",
    "\n",
    "\n",
    "\n",
    "precision = precision_score(y_test, y_pred)\n",
    "print(f\"{'Precision:':20s}{precision:.4f}\")\n",
    "\n",
    "\n",
    "performance = pd.concat([performance, pd.DataFrame({\"model\": 'Logestic Regression liblin', \"accuracy\": [accuracy], \n",
    "                                                    \"F1\": [F1], \">>recall\": [recall], \"precision\": [precision]})])\n"
   ]
  },
  {
   "cell_type": "code",
   "execution_count": 11,
   "metadata": {},
   "outputs": [
    {
     "name": "stdout",
     "output_type": "stream",
     "text": [
      "Logestic regression liblin RMSE: 0.4652421051992354\n"
     ]
    }
   ],
   "source": [
    "test_rmse = np.sqrt(mean_squared_error(y_test, y_pred))\n",
    "print(f\"Logestic regression liblin RMSE: {test_rmse}\")\n",
    "rmses = pd.concat([rmses,pd.DataFrame({\"model\": 'Logestic Regression liblin', \"rmse\": [test_rmse]})])"
   ]
  },
  {
   "cell_type": "markdown",
   "metadata": {},
   "source": [
    "### Prediction using L2 Regularization"
   ]
  },
  {
   "cell_type": "code",
   "execution_count": 12,
   "metadata": {},
   "outputs": [
    {
     "name": "stdout",
     "output_type": "stream",
     "text": [
      "              precision    recall  f1-score   support\n",
      "\n",
      "           0     0.7857    0.9041    0.8408       146\n",
      "           1     0.7778    0.5765    0.6622        85\n",
      "\n",
      "    accuracy                         0.7835       231\n",
      "   macro avg     0.7817    0.7403    0.7515       231\n",
      "weighted avg     0.7828    0.7835    0.7750       231\n",
      "\n"
     ]
    }
   ],
   "source": [
    "log_reg_L2_model = LogisticRegression(penalty='l2', max_iter=1000)\n",
    "_ = log_reg_L2_model.fit(X_train, np.ravel(y_train))\n",
    "\n",
    "y_pred = log_reg_L2_model.predict(X_test)\n",
    "print(classification_report(y_test, y_pred, digits=4))"
   ]
  },
  {
   "cell_type": "code",
   "execution_count": 13,
   "metadata": {},
   "outputs": [
    {
     "name": "stdout",
     "output_type": "stream",
     "text": [
      "Accuracy:           0.7835\n",
      "F1:                 0.6622\n",
      ">>Recall:           0.5765\n",
      "Precision:          0.7778\n"
     ]
    }
   ],
   "source": [
    "accuracy = log_reg_L2_model.score(X_test, y_test)\n",
    "print(f\"{'Accuracy:':20s}{accuracy:.4f}\")\n",
    "\n",
    "F1 = f1_score(y_test, y_pred)\n",
    "print(f\"{'F1:':20s}{F1:.4f}\")\n",
    "\n",
    "\n",
    "recall = recall_score(y_test, y_pred)\n",
    "print(f\"{'>>Recall:':20s}{recall:.4f}\")\n",
    "\n",
    "\n",
    "\n",
    "precision = precision_score(y_test, y_pred)\n",
    "print(f\"{'Precision:':20s}{precision:.4f}\")\n",
    "\n",
    "\n",
    "performance = pd.concat([performance, pd.DataFrame({\"model\": 'Logestic Regression L2', \"accuracy\": [accuracy], \n",
    "                                                    \"F1\": [F1], \">>recall\": [recall], \"precision\": [precision]})])\n"
   ]
  },
  {
   "cell_type": "code",
   "execution_count": 14,
   "metadata": {},
   "outputs": [
    {
     "name": "stdout",
     "output_type": "stream",
     "text": [
      "Logestic Regression L2 RMSE: 0.4652421051992354\n"
     ]
    }
   ],
   "source": [
    "test_rmse = np.sqrt(mean_squared_error(y_test, y_pred))\n",
    "print(f\"Logestic Regression L2 RMSE: {test_rmse}\")\n",
    "\n",
    "rmses = pd.concat([rmses,pd.DataFrame({\"model\": 'Logestic Regression L2', \"rmse\": [test_rmse]})])"
   ]
  },
  {
   "cell_type": "markdown",
   "metadata": {},
   "source": [
    "### Prediction using L1 Regularization"
   ]
  },
  {
   "cell_type": "code",
   "execution_count": 15,
   "metadata": {},
   "outputs": [
    {
     "name": "stdout",
     "output_type": "stream",
     "text": [
      "              precision    recall  f1-score   support\n",
      "\n",
      "           0     0.7857    0.9041    0.8408       146\n",
      "           1     0.7778    0.5765    0.6622        85\n",
      "\n",
      "    accuracy                         0.7835       231\n",
      "   macro avg     0.7817    0.7403    0.7515       231\n",
      "weighted avg     0.7828    0.7835    0.7750       231\n",
      "\n"
     ]
    }
   ],
   "source": [
    "log_reg_L1_model = LogisticRegression(solver='liblinear', penalty='l1')\n",
    "_ = log_reg_L1_model.fit(X_train, np.ravel(y_train))\n",
    "\n",
    "y_pred = log_reg_L1_model.predict(X_test)\n",
    "print(classification_report(y_test, y_pred, digits=4))"
   ]
  },
  {
   "cell_type": "code",
   "execution_count": 16,
   "metadata": {},
   "outputs": [
    {
     "name": "stdout",
     "output_type": "stream",
     "text": [
      "[('Outcome', 1)]\n"
     ]
    },
    {
     "data": {
      "image/png": "[encoded data removed]",
      "text/plain": [
       "<Figure size 640x480 with 2 Axes>"
      ]
     },
     "metadata": {},
     "output_type": "display_data"
    }
   ],
   "source": [
    "\n",
    "counts = sorted(collections.Counter(y_test).items(), key=lambda i: i[0])\n",
    "print(counts)\n",
    "\n",
    "# display the confusion matrix\n",
    "cm = confusion_matrix(y_test, y_pred)\n",
    "disp = ConfusionMatrixDisplay(confusion_matrix=cm)\n",
    "disp.plot(cmap=plt.cm.Blues)\n",
    "plt.show()"
   ]
  },
  {
   "cell_type": "code",
   "execution_count": 17,
   "metadata": {},
   "outputs": [
    {
     "name": "stdout",
     "output_type": "stream",
     "text": [
      "Accuracy:           0.7835\n",
      "F1:                 0.6622\n",
      ">>Recall:           0.5765\n",
      "Precision:          0.7778\n"
     ]
    }
   ],
   "source": [
    "accuracy = log_reg_L1_model.score(X_test, y_test)\n",
    "print(f\"{'Accuracy:':20s}{accuracy:.4f}\")\n",
    "\n",
    "F1 = f1_score(y_test, y_pred)\n",
    "print(f\"{'F1:':20s}{F1:.4f}\")\n",
    "\n",
    "\n",
    "recall = recall_score(y_test, y_pred)\n",
    "print(f\"{'>>Recall:':20s}{recall:.4f}\")\n",
    "\n",
    "\n",
    "\n",
    "precision = precision_score(y_test, y_pred)\n",
    "print(f\"{'Precision:':20s}{precision:.4f}\")\n",
    "\n",
    "\n",
    "performance = pd.concat([performance, pd.DataFrame({\"model\": 'Logestic Regression L1', \"accuracy\": [accuracy], \n",
    "                                                    \"F1\": [F1], \">>recall\": [recall], \"precision\": [precision]})])\n"
   ]
  },
  {
   "cell_type": "code",
   "execution_count": 18,
   "metadata": {},
   "outputs": [
    {
     "name": "stdout",
     "output_type": "stream",
     "text": [
      "Logestic Regression L1 RMSE: 0.4652421051992354\n"
     ]
    }
   ],
   "source": [
    "test_rmse = np.sqrt(mean_squared_error(y_test, y_pred))\n",
    "print(f\"Logestic Regression L1 RMSE: {test_rmse}\")\n",
    "\n",
    "rmses = pd.concat([rmses,pd.DataFrame({\"model\": 'Logestic Regression L1', \"rmse\": [test_rmse]})])"
   ]
  },
  {
   "cell_type": "markdown",
   "metadata": {},
   "source": [
    "### Prediction using Elastic Net Regularization"
   ]
  },
  {
   "cell_type": "code",
   "execution_count": 19,
   "metadata": {},
   "outputs": [
    {
     "name": "stdout",
     "output_type": "stream",
     "text": [
      "              precision    recall  f1-score   support\n",
      "\n",
      "           0     0.7857    0.9041    0.8408       146\n",
      "           1     0.7778    0.5765    0.6622        85\n",
      "\n",
      "    accuracy                         0.7835       231\n",
      "   macro avg     0.7817    0.7403    0.7515       231\n",
      "weighted avg     0.7828    0.7835    0.7750       231\n",
      "\n"
     ]
    }
   ],
   "source": [
    "log_reg_elastic_model = LogisticRegression(solver='saga', penalty='elasticnet', l1_ratio=0.5, max_iter=1500)\n",
    "_ = log_reg_elastic_model.fit(X_train, np.ravel(y_train))\n",
    "\n",
    "y_pred = log_reg_liblin_model.predict(X_test)\n",
    "print(classification_report(y_test, y_pred, digits=4))"
   ]
  },
  {
   "cell_type": "code",
   "execution_count": 20,
   "metadata": {},
   "outputs": [
    {
     "name": "stdout",
     "output_type": "stream",
     "text": [
      "[('Outcome', 1)]\n"
     ]
    },
    {
     "data": {
      "image/png": "[encoded data removed]",
      "text/plain": [
       "<Figure size 640x480 with 2 Axes>"
      ]
     },
     "metadata": {},
     "output_type": "display_data"
    }
   ],
   "source": [
    "\n",
    "counts = sorted(collections.Counter(y_test).items(), key=lambda i: i[0])\n",
    "print(counts)\n",
    "\n",
    "# display the confusion matrix\n",
    "cm = confusion_matrix(y_test, y_pred)\n",
    "disp = ConfusionMatrixDisplay(confusion_matrix=cm)\n",
    "disp.plot(cmap=plt.cm.Blues)\n",
    "plt.show()"
   ]
  },
  {
   "cell_type": "code",
   "execution_count": 21,
   "metadata": {},
   "outputs": [
    {
     "name": "stdout",
     "output_type": "stream",
     "text": [
      "Accuracy:           0.7835\n",
      "F1:                 0.6622\n",
      ">>Recall:           0.5765\n",
      "Precision:          0.7778\n"
     ]
    }
   ],
   "source": [
    "accuracy = log_reg_elastic_model.score(X_test, y_test)\n",
    "print(f\"{'Accuracy:':20s}{accuracy:.4f}\")\n",
    "\n",
    "F1 = f1_score(y_test, y_pred)\n",
    "print(f\"{'F1:':20s}{F1:.4f}\")\n",
    "\n",
    "\n",
    "recall = recall_score(y_test, y_pred)\n",
    "print(f\"{'>>Recall:':20s}{recall:.4f}\")\n",
    "\n",
    "\n",
    "\n",
    "precision = precision_score(y_test, y_pred)\n",
    "print(f\"{'Precision:':20s}{precision:.4f}\")\n",
    "\n",
    "\n",
    "performance = pd.concat([performance, pd.DataFrame({\"model\": 'Logestic Regression Elastic', \"accuracy\": [accuracy], \n",
    "                                                    \"F1\": [F1], \">>recall\": [recall], \"precision\": [precision]})])\n"
   ]
  },
  {
   "cell_type": "code",
   "execution_count": 22,
   "metadata": {},
   "outputs": [
    {
     "name": "stdout",
     "output_type": "stream",
     "text": [
      "Logestic Regression Elastic RMSE: 0.4652421051992354\n"
     ]
    }
   ],
   "source": [
    "test_rmse = np.sqrt(mean_squared_error(y_test, y_pred))\n",
    "print(f\"Logestic Regression Elastic RMSE: {test_rmse}\")\n",
    "\n",
    "rmses = pd.concat([rmses,pd.DataFrame({\"model\": 'Logestic Regression Elastic', \"rmse\": [test_rmse]})])"
   ]
  },
  {
   "cell_type": "markdown",
   "metadata": {
    "id": "d2A_u7rQhuc_"
   },
   "source": [
    "## Prediction with Decision Tree (using default parameters)\n",
    "\n"
   ]
  },
  {
   "cell_type": "markdown",
   "metadata": {
    "id": "bbPfUmcEXf6K"
   },
   "source": [
    "Creating a decision tree using all of the default parameters"
   ]
  },
  {
   "cell_type": "code",
   "execution_count": 23,
   "metadata": {
    "id": "UZ60Vn1AhudK"
   },
   "outputs": [],
   "source": [
    "dtree=DecisionTreeClassifier()"
   ]
  },
  {
   "cell_type": "markdown",
   "metadata": {
    "id": "ntgxBhvJXkjp"
   },
   "source": [
    "Fit the model to the training data"
   ]
  },
  {
   "cell_type": "code",
   "execution_count": 24,
   "metadata": {},
   "outputs": [],
   "source": [
    "_ = dtree.fit(X_train, y_train)"
   ]
  },
  {
   "cell_type": "code",
   "execution_count": 25,
   "metadata": {
    "tags": []
   },
   "outputs": [],
   "source": [
    "y_pred = dtree.predict(X_test)"
   ]
  },
  {
   "cell_type": "code",
   "execution_count": 26,
   "metadata": {},
   "outputs": [
    {
     "name": "stdout",
     "output_type": "stream",
     "text": [
      "              precision    recall  f1-score   support\n",
      "\n",
      "           0     0.7582    0.7945    0.7759       146\n",
      "           1     0.6154    0.5647    0.5890        85\n",
      "\n",
      "    accuracy                         0.7100       231\n",
      "   macro avg     0.6868    0.6796    0.6824       231\n",
      "weighted avg     0.7056    0.7100    0.7071       231\n",
      "\n"
     ]
    }
   ],
   "source": [
    "print(classification_report(y_test, y_pred, digits=4))"
   ]
  },
  {
   "cell_type": "code",
   "execution_count": 27,
   "metadata": {},
   "outputs": [
    {
     "name": "stdout",
     "output_type": "stream",
     "text": [
      "[('Outcome', 1)]\n"
     ]
    },
    {
     "data": {
      "image/png": "[encoded data removed]",
      "text/plain": [
       "<Figure size 640x480 with 2 Axes>"
      ]
     },
     "metadata": {},
     "output_type": "display_data"
    }
   ],
   "source": [
    "\n",
    "counts = sorted(collections.Counter(y_test).items(), key=lambda i: i[0])\n",
    "print(counts)\n",
    "\n",
    "# display the confusion matrix\n",
    "cm = confusion_matrix(y_test, y_pred)\n",
    "disp = ConfusionMatrixDisplay(confusion_matrix=cm)\n",
    "disp.plot(cmap=plt.cm.Blues)\n",
    "plt.show()"
   ]
  },
  {
   "cell_type": "code",
   "execution_count": 28,
   "metadata": {},
   "outputs": [
    {
     "name": "stdout",
     "output_type": "stream",
     "text": [
      "Accuracy:           0.7100\n",
      "F1:                 0.5890\n",
      ">>Recall:           0.5647\n",
      "Precision:          0.6154\n"
     ]
    }
   ],
   "source": [
    "accuracy = dtree.score(X_test, y_test)\n",
    "print(f\"{'Accuracy:':20s}{accuracy:.4f}\")\n",
    "\n",
    "F1 = f1_score(y_test, y_pred)\n",
    "print(f\"{'F1:':20s}{F1:.4f}\")\n",
    "\n",
    "\n",
    "recall = recall_score(y_test, y_pred)\n",
    "print(f\"{'>>Recall:':20s}{recall:.4f}\")\n",
    "\n",
    "\n",
    "\n",
    "precision = precision_score(y_test, y_pred)\n",
    "print(f\"{'Precision:':20s}{precision:.4f}\")\n",
    "\n",
    "\n",
    "performance = pd.concat([performance, pd.DataFrame({\"model\": 'Decision Tree', \"accuracy\": [accuracy], \n",
    "                                                    \"F1\": [F1], \">>recall\": [recall], \"precision\": [precision]})])\n"
   ]
  },
  {
   "cell_type": "code",
   "execution_count": 29,
   "metadata": {},
   "outputs": [
    {
     "name": "stdout",
     "output_type": "stream",
     "text": [
      "Decision Tree Test RMSE: 0.5385566730097122\n"
     ]
    }
   ],
   "source": [
    "test_rmse = np.sqrt(mean_squared_error(y_test, y_pred))\n",
    "print(f\"Decision Tree Test RMSE: {test_rmse}\")\n",
    "\n",
    "rmses = pd.concat([rmses,pd.DataFrame({\"model\": 'Decision Tree', \"rmse\": [test_rmse]})])"
   ]
  },
  {
   "cell_type": "markdown",
   "metadata": {},
   "source": [
    "## Prediction with Decision Tree (using random search)"
   ]
  },
  {
   "cell_type": "code",
   "execution_count": 30,
   "metadata": {
    "colab": {
     "base_uri": "https://localhost:8080/",
     "height": 119
    },
    "id": "xPL4rRlVhudM",
    "outputId": "db26a1f0-23c9-4a02-87c5-34e3dbd71ccf"
   },
   "outputs": [
    {
     "name": "stdout",
     "output_type": "stream",
     "text": [
      "Fitting 4 folds for each of 200 candidates, totalling 800 fits\n",
      "The best recall score is 0.6503623188405797\n",
      "... with parameters: {'min_samples_split': 50, 'min_samples_leaf': 10, 'min_impurity_decrease': 0.001, 'max_leaf_nodes': 25, 'max_depth': 10, 'criterion': 'entropy'}\n",
      "CPU times: total: 1.12 s\n",
      "Wall time: 5.36 s\n"
     ]
    }
   ],
   "source": [
    "%%time\n",
    "\n",
    "score_measure = \"recall\"\n",
    "kfolds = 4\n",
    "\n",
    "param_grid = {\n",
    "    'min_samples_split': [5,10,50],  \n",
    "    'min_samples_leaf': [10,20,50],\n",
    "    'min_impurity_decrease': [0.0010, 0.0020, 0.0030],\n",
    "    'max_leaf_nodes': [5,25,50], \n",
    "    'max_depth': [10,20],\n",
    "    'criterion': ['entropy', 'gini'],\n",
    "}\n",
    "\n",
    "rand_search_dtree = RandomizedSearchCV(estimator = dtree, param_distributions=param_grid, cv=kfolds, n_iter=200,\n",
    "                           scoring=score_measure, verbose=1, n_jobs=-1,  # n_jobs=-1 will utilize all available CPUs \n",
    "                           return_train_score=True)\n",
    "_ = rand_search_dtree.fit(X_train, y_train)\n",
    "\n",
    "print(f\"The best {score_measure} score is {rand_search_dtree.best_score_}\")\n",
    "print(f\"... with parameters: {rand_search_dtree.best_params_}\")\n",
    "\n",
    "bestaccuracydTree = rand_search_dtree.best_estimator_"
   ]
  },
  {
   "cell_type": "code",
   "execution_count": 31,
   "metadata": {},
   "outputs": [],
   "source": [
    "y_pred = rand_search_dtree.predict(X_test)"
   ]
  },
  {
   "cell_type": "code",
   "execution_count": 32,
   "metadata": {},
   "outputs": [
    {
     "name": "stdout",
     "output_type": "stream",
     "text": [
      "              precision    recall  f1-score   support\n",
      "\n",
      "           0     0.7987    0.8699    0.8328       146\n",
      "           1     0.7361    0.6235    0.6752        85\n",
      "\n",
      "    accuracy                         0.7792       231\n",
      "   macro avg     0.7674    0.7467    0.7540       231\n",
      "weighted avg     0.7757    0.7792    0.7748       231\n",
      "\n"
     ]
    }
   ],
   "source": [
    "print(classification_report(y_test, y_pred, digits=4))"
   ]
  },
  {
   "cell_type": "code",
   "execution_count": 33,
   "metadata": {},
   "outputs": [
    {
     "name": "stdout",
     "output_type": "stream",
     "text": [
      "[('Outcome', 1)]\n"
     ]
    },
    {
     "data": {
      "image/png": "[encoded data removed]",
      "text/plain": [
       "<Figure size 640x480 with 2 Axes>"
      ]
     },
     "metadata": {},
     "output_type": "display_data"
    }
   ],
   "source": [
    "\n",
    "counts = sorted(collections.Counter(y_test).items(), key=lambda i: i[0])\n",
    "print(counts)\n",
    "\n",
    "# display the confusion matrix\n",
    "cm = confusion_matrix(y_test, y_pred)\n",
    "disp = ConfusionMatrixDisplay(confusion_matrix=cm)\n",
    "disp.plot(cmap=plt.cm.Blues)\n",
    "plt.show()"
   ]
  },
  {
   "cell_type": "code",
   "execution_count": 34,
   "metadata": {},
   "outputs": [
    {
     "name": "stdout",
     "output_type": "stream",
     "text": [
      "Accuracy:           0.6235\n",
      "F1:                 0.6752\n",
      ">>Recall:           0.6235\n",
      "Precision:          0.7361\n"
     ]
    }
   ],
   "source": [
    "accuracy = rand_search_dtree.score(X_test, y_test)\n",
    "print(f\"{'Accuracy:':20s}{accuracy:.4f}\")\n",
    "\n",
    "F1 = f1_score(y_test, y_pred)\n",
    "print(f\"{'F1:':20s}{F1:.4f}\")\n",
    "\n",
    "\n",
    "recall = recall_score(y_test, y_pred)\n",
    "print(f\"{'>>Recall:':20s}{recall:.4f}\")\n",
    "\n",
    "\n",
    "\n",
    "precision = precision_score(y_test, y_pred)\n",
    "print(f\"{'Precision:':20s}{precision:.4f}\")\n",
    "\n",
    "\n",
    "performance = pd.concat([performance, pd.DataFrame({\"model\": 'Decision Tree Random search', \"accuracy\": [accuracy], \n",
    "                                                    \"F1\": [F1], \">>recall\": [recall], \"precision\": [precision]})])\n"
   ]
  },
  {
   "cell_type": "code",
   "execution_count": 35,
   "metadata": {},
   "outputs": [
    {
     "name": "stdout",
     "output_type": "stream",
     "text": [
      "Decision Tree Random search RMSE: 0.4698714938993648\n"
     ]
    }
   ],
   "source": [
    "test_rmse = np.sqrt(mean_squared_error(y_test, y_pred))\n",
    "print(f\"Decision Tree Random search RMSE: {test_rmse}\")\n",
    "\n",
    "rmses = pd.concat([rmses,pd.DataFrame({\"model\": 'Decision Tree Random search', \"rmse\": [test_rmse]})])"
   ]
  },
  {
   "cell_type": "markdown",
   "metadata": {},
   "source": [
    "## Prediction with Decision Tree (using exhaustive grid search on random search)"
   ]
  },
  {
   "cell_type": "code",
   "execution_count": 36,
   "metadata": {},
   "outputs": [
    {
     "name": "stdout",
     "output_type": "stream",
     "text": [
      "Fitting 4 folds for each of 16 candidates, totalling 64 fits\n",
      "The best recall score is 0.6503623188405797\n",
      "... with parameters: {'criterion': 'entropy', 'max_depth': 9, 'max_leaf_nodes': 24, 'min_impurity_decrease': 0.0009, 'min_samples_leaf': 10, 'min_samples_split': 49}\n",
      "CPU times: total: 78.1 ms\n",
      "Wall time: 250 ms\n"
     ]
    }
   ],
   "source": [
    "%%time\n",
    "\n",
    "score_measure = \"recall\"\n",
    "\n",
    "kfolds = 4\n",
    "min_samples_split = rand_search_dtree.best_params_['min_samples_split']\n",
    "min_samples_leaf = rand_search_dtree.best_params_['min_samples_leaf']\n",
    "min_impurity_decrease = rand_search_dtree.best_params_['min_impurity_decrease']\n",
    "max_leaf_nodes = rand_search_dtree.best_params_['max_leaf_nodes']\n",
    "max_depth = rand_search_dtree.best_params_['max_depth']\n",
    "criterion = rand_search_dtree.best_params_['criterion']\n",
    "\n",
    "param_grid = {\n",
    "    'min_samples_split': np.arange(min_samples_split-1,min_samples_split+1),  \n",
    "    'min_samples_leaf': np.arange(min_samples_leaf-1,min_samples_leaf+1),\n",
    "    'min_impurity_decrease': np.arange(min_impurity_decrease-0.0001, min_impurity_decrease+0.0005),\n",
    "    'max_leaf_nodes': np.arange(max_leaf_nodes-1,max_leaf_nodes+1), \n",
    "    'max_depth': np.arange(max_depth-1,max_depth+1), \n",
    "    'criterion': [criterion]\n",
    "}\n",
    "\n",
    "grid_search_dtree = GridSearchCV(estimator = dtree, param_grid=param_grid, cv=kfolds, \n",
    "                           scoring=score_measure, verbose=1, n_jobs=-1,  # n_jobs=-1 will utilize all available CPUs \n",
    "                           return_train_score=True)\n",
    "\n",
    "_ = grid_search_dtree.fit(X_train, y_train)\n",
    "\n",
    "print(f\"The best {score_measure} score is {grid_search_dtree.best_score_}\")\n",
    "print(f\"... with parameters: {grid_search_dtree.best_params_}\")\n",
    "\n",
    "bestaccuracydTree = grid_search_dtree.best_estimator_"
   ]
  },
  {
   "cell_type": "markdown",
   "metadata": {
    "id": "AMvD4-9wXy_1"
   },
   "source": [
    "Review of the performance of the model on the validation/test data"
   ]
  },
  {
   "cell_type": "code",
   "execution_count": 37,
   "metadata": {},
   "outputs": [],
   "source": [
    "y_pred = grid_search_dtree.predict(X_test)"
   ]
  },
  {
   "cell_type": "code",
   "execution_count": 38,
   "metadata": {
    "colab": {
     "base_uri": "https://localhost:8080/",
     "height": 102
    },
    "id": "YAcO31dIX7JE",
    "outputId": "797a7c84-5c1c-4ec8-c75e-12c675ea8061"
   },
   "outputs": [
    {
     "name": "stdout",
     "output_type": "stream",
     "text": [
      "              precision    recall  f1-score   support\n",
      "\n",
      "           0     0.7987    0.8699    0.8328       146\n",
      "           1     0.7361    0.6235    0.6752        85\n",
      "\n",
      "    accuracy                         0.7792       231\n",
      "   macro avg     0.7674    0.7467    0.7540       231\n",
      "weighted avg     0.7757    0.7792    0.7748       231\n",
      "\n"
     ]
    }
   ],
   "source": [
    "print(classification_report(y_test, y_pred, digits=4))"
   ]
  },
  {
   "cell_type": "code",
   "execution_count": 39,
   "metadata": {
    "colab": {
     "base_uri": "https://localhost:8080/",
     "height": 102
    },
    "id": "YAcO31dIX7JE",
    "outputId": "797a7c84-5c1c-4ec8-c75e-12c675ea8061"
   },
   "outputs": [
    {
     "name": "stdout",
     "output_type": "stream",
     "text": [
      "[('Outcome', 1)]\n"
     ]
    },
    {
     "data": {
      "image/png": "[encoded data removed]",
      "text/plain": [
       "<Figure size 640x480 with 2 Axes>"
      ]
     },
     "metadata": {},
     "output_type": "display_data"
    }
   ],
   "source": [
    "\n",
    "counts = sorted(collections.Counter(y_test).items(), key=lambda i: i[0])\n",
    "print(counts)\n",
    "\n",
    "# display the confusion matrix\n",
    "cm = confusion_matrix(y_test, y_pred)\n",
    "disp = ConfusionMatrixDisplay(confusion_matrix=cm)\n",
    "disp.plot(cmap=plt.cm.Blues)\n",
    "plt.show()"
   ]
  },
  {
   "cell_type": "code",
   "execution_count": 40,
   "metadata": {
    "colab": {
     "base_uri": "https://localhost:8080/",
     "height": 102
    },
    "id": "YAcO31dIX7JE",
    "outputId": "797a7c84-5c1c-4ec8-c75e-12c675ea8061"
   },
   "outputs": [
    {
     "name": "stdout",
     "output_type": "stream",
     "text": [
      "Accuracy:           0.6235\n",
      "F1:                 0.6752\n",
      ">>Recall:           0.6235\n",
      "Precision:          0.7361\n"
     ]
    }
   ],
   "source": [
    "accuracy = grid_search_dtree.score(X_test, y_test)\n",
    "print(f\"{'Accuracy:':20s}{accuracy:.4f}\")\n",
    "\n",
    "F1 = f1_score(y_test, y_pred)\n",
    "print(f\"{'F1:':20s}{F1:.4f}\")\n",
    "\n",
    "\n",
    "recall = recall_score(y_test, y_pred)\n",
    "print(f\"{'>>Recall:':20s}{recall:.4f}\")\n",
    "\n",
    "\n",
    "\n",
    "precision = precision_score(y_test, y_pred)\n",
    "print(f\"{'Precision:':20s}{precision:.4f}\")\n",
    "\n",
    "\n",
    "performance = pd.concat([performance, pd.DataFrame({\"model\": 'Decision Tree grid search', \"accuracy\": [accuracy], \n",
    "                                                    \"F1\": [F1], \">>recall\": [recall], \"precision\": [precision]})])\n"
   ]
  },
  {
   "cell_type": "code",
   "execution_count": 41,
   "metadata": {},
   "outputs": [
    {
     "name": "stdout",
     "output_type": "stream",
     "text": [
      "Decision Tree grid search RMSE: 0.4698714938993648\n"
     ]
    }
   ],
   "source": [
    "test_rmse = np.sqrt(mean_squared_error(y_test, y_pred))\n",
    "print(f\"Decision Tree grid search RMSE: {test_rmse}\")\n",
    "\n",
    "rmses = pd.concat([rmses,pd.DataFrame({\"model\": 'Decision Tree grid search', \"rmse\": [test_rmse]})])"
   ]
  },
  {
   "cell_type": "markdown",
   "metadata": {},
   "source": [
    "## Prediction with RandomForest (using default parameters)"
   ]
  },
  {
   "cell_type": "code",
   "execution_count": 42,
   "metadata": {},
   "outputs": [],
   "source": [
    "rforest = RandomForestClassifier()"
   ]
  },
  {
   "cell_type": "code",
   "execution_count": 43,
   "metadata": {},
   "outputs": [],
   "source": [
    "_ = rforest.fit(X_train, np.ravel(y_train))"
   ]
  },
  {
   "cell_type": "code",
   "execution_count": 44,
   "metadata": {},
   "outputs": [],
   "source": [
    "y_pred = rforest.predict(X_test)"
   ]
  },
  {
   "cell_type": "code",
   "execution_count": 45,
   "metadata": {},
   "outputs": [
    {
     "name": "stdout",
     "output_type": "stream",
     "text": [
      "              precision    recall  f1-score   support\n",
      "\n",
      "           0     0.8239    0.8973    0.8590       146\n",
      "           1     0.7917    0.6706    0.7261        85\n",
      "\n",
      "    accuracy                         0.8139       231\n",
      "   macro avg     0.8078    0.7839    0.7926       231\n",
      "weighted avg     0.8120    0.8139    0.8101       231\n",
      "\n"
     ]
    }
   ],
   "source": [
    "print(classification_report(y_test, y_pred, digits=4))"
   ]
  },
  {
   "cell_type": "code",
   "execution_count": 46,
   "metadata": {},
   "outputs": [
    {
     "name": "stdout",
     "output_type": "stream",
     "text": [
      "[('Outcome', 1)]\n"
     ]
    },
    {
     "data": {
      "image/png": "[encoded data removed]",
      "text/plain": [
       "<Figure size 640x480 with 2 Axes>"
      ]
     },
     "metadata": {},
     "output_type": "display_data"
    }
   ],
   "source": [
    "\n",
    "counts = sorted(collections.Counter(y_test).items(), key=lambda i: i[0])\n",
    "print(counts)\n",
    "\n",
    "# display the confusion matrix\n",
    "cm = confusion_matrix(y_test, y_pred)\n",
    "disp = ConfusionMatrixDisplay(confusion_matrix=cm)\n",
    "disp.plot(cmap=plt.cm.Blues)\n",
    "plt.show()"
   ]
  },
  {
   "cell_type": "code",
   "execution_count": 47,
   "metadata": {},
   "outputs": [
    {
     "name": "stdout",
     "output_type": "stream",
     "text": [
      "Accuracy:           0.8139\n",
      "F1:                 0.7261\n",
      ">>Recall:           0.6706\n",
      "Precision:          0.7917\n"
     ]
    }
   ],
   "source": [
    "accuracy = rforest.score(X_test, y_test)\n",
    "print(f\"{'Accuracy:':20s}{accuracy:.4f}\")\n",
    "\n",
    "F1 = f1_score(y_test, y_pred)\n",
    "print(f\"{'F1:':20s}{F1:.4f}\")\n",
    "\n",
    "\n",
    "recall = recall_score(y_test, y_pred)\n",
    "print(f\"{'>>Recall:':20s}{recall:.4f}\")\n",
    "\n",
    "\n",
    "\n",
    "precision = precision_score(y_test, y_pred)\n",
    "print(f\"{'Precision:':20s}{precision:.4f}\")\n",
    "\n",
    "\n",
    "performance = pd.concat([performance, pd.DataFrame({\"model\": 'Random forest', \"accuracy\": [accuracy], \n",
    "                                                    \"F1\": [F1], \">>recall\": [recall], \"precision\": [precision]})])\n"
   ]
  },
  {
   "cell_type": "code",
   "execution_count": 48,
   "metadata": {},
   "outputs": [
    {
     "name": "stdout",
     "output_type": "stream",
     "text": [
      "Random forest Test RMSE: 0.43144777916589877\n"
     ]
    }
   ],
   "source": [
    "test_rmse = np.sqrt(mean_squared_error(y_test, y_pred))\n",
    "print(f\"Random forest Test RMSE: {test_rmse}\")\n",
    "\n",
    "rmses = pd.concat([rmses,pd.DataFrame({\"model\": 'Random forest', \"rmse\": [test_rmse]})])"
   ]
  },
  {
   "cell_type": "markdown",
   "metadata": {},
   "source": [
    "## Prediction with RandomForest (using random search)"
   ]
  },
  {
   "cell_type": "code",
   "execution_count": 49,
   "metadata": {},
   "outputs": [
    {
     "name": "stdout",
     "output_type": "stream",
     "text": [
      "Fitting 4 folds for each of 200 candidates, totalling 800 fits\n",
      "The best recall score is 0.5246376811594203\n",
      "... with parameters: {'min_samples_split': 10, 'min_samples_leaf': 10, 'min_impurity_decrease': 0.001, 'max_leaf_nodes': 25, 'max_depth': 20, 'criterion': 'gini'}\n",
      "CPU times: total: 1.98 s\n",
      "Wall time: 29.6 s\n"
     ]
    }
   ],
   "source": [
    "%%time\n",
    "score_measure = \"recall\"\n",
    "kfolds = 4\n",
    "\n",
    "param_grid = {\n",
    "    'min_samples_split': [5,10,50],  \n",
    "    'min_samples_leaf': [10,20,50],\n",
    "    'min_impurity_decrease': [0.0010, 0.0020, 0.0030],\n",
    "    'max_leaf_nodes': [5,25,50], \n",
    "    'max_depth': [10,20],\n",
    "    'criterion': ['entropy', 'gini'],\n",
    "}\n",
    "\n",
    "\n",
    "rand_search_rforest = RandomizedSearchCV(estimator = rforest, param_distributions=param_grid, cv=kfolds, n_iter=200,\n",
    "                           scoring=score_measure, verbose=1, n_jobs=-1,  # n_jobs=-1 will utilize all available CPUs \n",
    "                           return_train_score=True)\n",
    "_ = rand_search_rforest.fit(X_train, np.ravel(y_train))\n",
    "\n",
    "print(f\"The best {score_measure} score is {rand_search_rforest.best_score_}\")\n",
    "print(f\"... with parameters: {rand_search_rforest.best_params_}\")\n",
    "\n",
    "bestRecallrforest = rand_search_rforest.best_estimator_"
   ]
  },
  {
   "cell_type": "code",
   "execution_count": 50,
   "metadata": {},
   "outputs": [],
   "source": [
    "y_pred = rand_search_rforest.predict(X_test)"
   ]
  },
  {
   "cell_type": "code",
   "execution_count": 51,
   "metadata": {},
   "outputs": [
    {
     "name": "stdout",
     "output_type": "stream",
     "text": [
      "              precision    recall  f1-score   support\n",
      "\n",
      "           0     0.7778    0.9110    0.8391       146\n",
      "           1     0.7833    0.5529    0.6483        85\n",
      "\n",
      "    accuracy                         0.7792       231\n",
      "   macro avg     0.7806    0.7320    0.7437       231\n",
      "weighted avg     0.7798    0.7792    0.7689       231\n",
      "\n",
      "[('Outcome', 1)]\n"
     ]
    },
    {
     "data": {
      "image/png": "[encoded data removed]",
      "text/plain": [
       "<Figure size 640x480 with 2 Axes>"
      ]
     },
     "metadata": {},
     "output_type": "display_data"
    }
   ],
   "source": [
    "print(classification_report(y_test, y_pred, digits=4))\n",
    "\n",
    "\n",
    "counts = sorted(collections.Counter(y_test).items(), key=lambda i: i[0])\n",
    "print(counts)\n",
    "\n",
    "# display the confusion matrix\n",
    "cm = confusion_matrix(y_test, y_pred)\n",
    "disp = ConfusionMatrixDisplay(confusion_matrix=cm)\n",
    "disp.plot(cmap=plt.cm.Blues)\n",
    "plt.show()"
   ]
  },
  {
   "cell_type": "code",
   "execution_count": 52,
   "metadata": {},
   "outputs": [
    {
     "name": "stdout",
     "output_type": "stream",
     "text": [
      "Accuracy:           0.5529\n",
      "F1:                 0.6483\n",
      ">>Recall:           0.5529\n",
      "Precision:          0.7833\n"
     ]
    }
   ],
   "source": [
    "accuracy = rand_search_rforest.score(X_test, y_test)\n",
    "print(f\"{'Accuracy:':20s}{accuracy:.4f}\")\n",
    "\n",
    "F1 = f1_score(y_test, y_pred)\n",
    "print(f\"{'F1:':20s}{F1:.4f}\")\n",
    "\n",
    "\n",
    "recall = recall_score(y_test, y_pred)\n",
    "print(f\"{'>>Recall:':20s}{recall:.4f}\")\n",
    "\n",
    "\n",
    "\n",
    "precision = precision_score(y_test, y_pred)\n",
    "print(f\"{'Precision:':20s}{precision:.4f}\")\n",
    "\n",
    "\n",
    "performance = pd.concat([performance, pd.DataFrame({\"model\": 'Random forest random search', \"accuracy\": [accuracy], \n",
    "                                                    \"F1\": [F1], \">>recall\": [recall], \"precision\": [precision]})])\n"
   ]
  },
  {
   "cell_type": "code",
   "execution_count": 53,
   "metadata": {},
   "outputs": [
    {
     "name": "stdout",
     "output_type": "stream",
     "text": [
      "Random forest random search RMSE: 0.4698714938993648\n"
     ]
    }
   ],
   "source": [
    "test_rmse = np.sqrt(mean_squared_error(y_test, y_pred))\n",
    "print(f\"Random forest random search RMSE: {test_rmse}\")\n",
    "\n",
    "rmses = pd.concat([rmses,pd.DataFrame({\"model\": 'Random forest random search', \"rmse\": [test_rmse]})])"
   ]
  },
  {
   "cell_type": "markdown",
   "metadata": {},
   "source": [
    "## Prediction with RandomForest (using exhaustive grid search on random search)"
   ]
  },
  {
   "cell_type": "code",
   "execution_count": 54,
   "metadata": {},
   "outputs": [
    {
     "name": "stdout",
     "output_type": "stream",
     "text": [
      "Fitting 4 folds for each of 16 candidates, totalling 64 fits\n",
      "The best accuracy score is 0.7672056384742952\n",
      "... with parameters: {'criterion': 'gini', 'max_depth': 19, 'max_leaf_nodes': 25, 'min_impurity_decrease': 0.0009, 'min_samples_leaf': 10, 'min_samples_split': 10}\n",
      "CPU times: total: 266 ms\n",
      "Wall time: 2.75 s\n"
     ]
    }
   ],
   "source": [
    "%%time\n",
    "\n",
    "score_measure = \"accuracy\"\n",
    "\n",
    "kfolds = 4\n",
    "min_samples_split = rand_search_rforest.best_params_['min_samples_split']\n",
    "min_samples_leaf = rand_search_rforest.best_params_['min_samples_leaf']\n",
    "min_impurity_decrease = rand_search_rforest.best_params_['min_impurity_decrease']\n",
    "max_leaf_nodes = rand_search_rforest.best_params_['max_leaf_nodes']\n",
    "max_depth = rand_search_rforest.best_params_['max_depth']\n",
    "criterion = rand_search_rforest.best_params_['criterion']\n",
    "\n",
    "param_grid = {\n",
    "    'min_samples_split': np.arange(min_samples_split-1,min_samples_split+1),  \n",
    "    'min_samples_leaf': np.arange(min_samples_leaf-1,min_samples_leaf+1),\n",
    "    'min_impurity_decrease': np.arange(min_impurity_decrease-0.0001, min_impurity_decrease+0.0005),\n",
    "    'max_leaf_nodes': np.arange(max_leaf_nodes-1,max_leaf_nodes+1), \n",
    "    'max_depth': np.arange(max_depth-1,max_depth+1), \n",
    "    'criterion': [criterion]\n",
    "}\n",
    "\n",
    "\n",
    "grid_search_rforest = GridSearchCV(estimator = rforest, param_grid=param_grid, cv=kfolds, \n",
    "                           scoring=score_measure, verbose=1, n_jobs=-1,  # n_jobs=-1 will utilize all available CPUs \n",
    "                           return_train_score=True)\n",
    "\n",
    "_ = grid_search_rforest.fit(X_train, np.ravel(y_train))\n",
    "\n",
    "print(f\"The best {score_measure} score is {grid_search_rforest.best_score_}\")\n",
    "print(f\"... with parameters: {grid_search_rforest.best_params_}\")\n",
    "\n",
    "bestRecallTree = grid_search_rforest.best_estimator_"
   ]
  },
  {
   "cell_type": "code",
   "execution_count": 55,
   "metadata": {},
   "outputs": [],
   "source": [
    "y_pred = grid_search_rforest.predict(X_test)"
   ]
  },
  {
   "cell_type": "code",
   "execution_count": 56,
   "metadata": {},
   "outputs": [
    {
     "name": "stdout",
     "output_type": "stream",
     "text": [
      "              precision    recall  f1-score   support\n",
      "\n",
      "           0     0.7882    0.9178    0.8481       146\n",
      "           1     0.8033    0.5765    0.6712        85\n",
      "\n",
      "    accuracy                         0.7922       231\n",
      "   macro avg     0.7958    0.7471    0.7597       231\n",
      "weighted avg     0.7938    0.7922    0.7830       231\n",
      "\n"
     ]
    }
   ],
   "source": [
    "print(classification_report(y_test, y_pred, digits=4))"
   ]
  },
  {
   "cell_type": "code",
   "execution_count": 57,
   "metadata": {},
   "outputs": [
    {
     "name": "stdout",
     "output_type": "stream",
     "text": [
      "[('Outcome', 1)]\n"
     ]
    },
    {
     "data": {
      "image/png": "[encoded data removed]",
      "text/plain": [
       "<Figure size 640x480 with 2 Axes>"
      ]
     },
     "metadata": {},
     "output_type": "display_data"
    }
   ],
   "source": [
    "\n",
    "counts = sorted(collections.Counter(y_test).items(), key=lambda i: i[0])\n",
    "print(counts)\n",
    "\n",
    "# display the confusion matrix\n",
    "cm = confusion_matrix(y_test, y_pred)\n",
    "disp = ConfusionMatrixDisplay(confusion_matrix=cm)\n",
    "disp.plot(cmap=plt.cm.Blues)\n",
    "plt.show()"
   ]
  },
  {
   "cell_type": "code",
   "execution_count": 58,
   "metadata": {},
   "outputs": [
    {
     "name": "stdout",
     "output_type": "stream",
     "text": [
      "Accuracy:           0.7922\n",
      "F1:                 0.6712\n",
      ">>Recall:           0.5765\n",
      "Precision:          0.8033\n"
     ]
    }
   ],
   "source": [
    "accuracy = grid_search_rforest.score(X_test, y_test)\n",
    "print(f\"{'Accuracy:':20s}{accuracy:.4f}\")\n",
    "\n",
    "F1 = f1_score(y_test, y_pred)\n",
    "print(f\"{'F1:':20s}{F1:.4f}\")\n",
    "\n",
    "\n",
    "recall = recall_score(y_test, y_pred)\n",
    "print(f\"{'>>Recall:':20s}{recall:.4f}\")\n",
    "\n",
    "\n",
    "\n",
    "precision = precision_score(y_test, y_pred)\n",
    "print(f\"{'Precision:':20s}{precision:.4f}\")\n",
    "\n",
    "\n",
    "performance = pd.concat([performance, pd.DataFrame({\"model\": 'Random forest grid search', \"accuracy\": [accuracy], \n",
    "                                                    \"F1\": [F1], \">>recall\": [recall], \"precision\": [precision]})])\n"
   ]
  },
  {
   "cell_type": "code",
   "execution_count": 59,
   "metadata": {},
   "outputs": [
    {
     "name": "stdout",
     "output_type": "stream",
     "text": [
      "Random forest grid search RMSE: 0.4558423058385518\n"
     ]
    }
   ],
   "source": [
    "test_rmse = np.sqrt(mean_squared_error(y_test, y_pred))\n",
    "print(f\"Random forest grid search RMSE: {test_rmse}\")\n",
    "\n",
    "rmses = pd.concat([rmses,pd.DataFrame({\"model\": 'Random forest grid search', \"rmse\": [test_rmse]})])"
   ]
  },
  {
   "cell_type": "markdown",
   "metadata": {},
   "source": [
    "## Prediction with ADABoost (using default parameters)"
   ]
  },
  {
   "cell_type": "code",
   "execution_count": 60,
   "metadata": {},
   "outputs": [],
   "source": [
    "aboost = AdaBoostClassifier()"
   ]
  },
  {
   "cell_type": "code",
   "execution_count": 61,
   "metadata": {},
   "outputs": [],
   "source": [
    "_ = aboost.fit(X_train, np.ravel(y_train))"
   ]
  },
  {
   "cell_type": "code",
   "execution_count": 62,
   "metadata": {},
   "outputs": [],
   "source": [
    "y_pred = aboost.predict(X_test)"
   ]
  },
  {
   "cell_type": "code",
   "execution_count": 63,
   "metadata": {},
   "outputs": [
    {
     "name": "stdout",
     "output_type": "stream",
     "text": [
      "              precision    recall  f1-score   support\n",
      "\n",
      "           0     0.7892    0.8973    0.8397       146\n",
      "           1     0.7692    0.5882    0.6667        85\n",
      "\n",
      "    accuracy                         0.7835       231\n",
      "   macro avg     0.7792    0.7427    0.7532       231\n",
      "weighted avg     0.7818    0.7835    0.7761       231\n",
      "\n"
     ]
    }
   ],
   "source": [
    "print(classification_report(y_test, y_pred, digits=4))"
   ]
  },
  {
   "cell_type": "code",
   "execution_count": 64,
   "metadata": {},
   "outputs": [
    {
     "name": "stdout",
     "output_type": "stream",
     "text": [
      "[('Outcome', 1)]\n"
     ]
    },
    {
     "data": {
      "image/png": "[encoded data removed]",
      "text/plain": [
       "<Figure size 640x480 with 2 Axes>"
      ]
     },
     "metadata": {},
     "output_type": "display_data"
    }
   ],
   "source": [
    "\n",
    "counts = sorted(collections.Counter(y_test).items(), key=lambda i: i[0])\n",
    "print(counts)\n",
    "\n",
    "# display the confusion matrix\n",
    "cm = confusion_matrix(y_test, y_pred)\n",
    "disp = ConfusionMatrixDisplay(confusion_matrix=cm)\n",
    "disp.plot(cmap=plt.cm.Blues)\n",
    "plt.show()"
   ]
  },
  {
   "cell_type": "code",
   "execution_count": 65,
   "metadata": {},
   "outputs": [
    {
     "name": "stdout",
     "output_type": "stream",
     "text": [
      "Accuracy:           0.7835\n",
      "F1:                 0.6667\n",
      ">>Recall:           0.5882\n",
      "Precision:          0.7692\n"
     ]
    }
   ],
   "source": [
    "accuracy = aboost.score(X_test, y_test)\n",
    "print(f\"{'Accuracy:':20s}{accuracy:.4f}\")\n",
    "\n",
    "F1 = f1_score(y_test, y_pred)\n",
    "print(f\"{'F1:':20s}{F1:.4f}\")\n",
    "\n",
    "\n",
    "recall = recall_score(y_test, y_pred)\n",
    "print(f\"{'>>Recall:':20s}{recall:.4f}\")\n",
    "\n",
    "\n",
    "\n",
    "precision = precision_score(y_test, y_pred)\n",
    "print(f\"{'Precision:':20s}{precision:.4f}\")\n",
    "\n",
    "\n",
    "performance = pd.concat([performance, pd.DataFrame({\"model\": 'ADABoost', \"accuracy\": [accuracy], \n",
    "                                                    \"F1\": [F1], \">>recall\": [recall], \"precision\": [precision]})])\n"
   ]
  },
  {
   "cell_type": "code",
   "execution_count": 66,
   "metadata": {},
   "outputs": [
    {
     "name": "stdout",
     "output_type": "stream",
     "text": [
      "ADABoost Test RMSE: 0.4652421051992354\n"
     ]
    }
   ],
   "source": [
    "test_rmse = np.sqrt(mean_squared_error(y_test, y_pred))\n",
    "print(f\"ADABoost Test RMSE: {test_rmse}\")\n",
    "\n",
    "rmses = pd.concat([rmses,pd.DataFrame({\"model\": 'ADABoost', \"rmse\": [test_rmse]})])"
   ]
  },
  {
   "cell_type": "markdown",
   "metadata": {},
   "source": [
    "## Prediction with ADABoost (using random search)"
   ]
  },
  {
   "cell_type": "code",
   "execution_count": 67,
   "metadata": {},
   "outputs": [
    {
     "name": "stdout",
     "output_type": "stream",
     "text": [
      "Fitting 4 folds for each of 200 candidates, totalling 800 fits\n",
      "The best recall score is 0.6176328502415459\n",
      "... with parameters: {'random_state': 42, 'n_estimators': 484, 'learning_rate': 1.7329080141679256, 'algorithm': 'SAMME.R'}\n",
      "CPU times: total: 2.31 s\n",
      "Wall time: 1min 47s\n"
     ]
    }
   ],
   "source": [
    "%%time\n",
    "\n",
    "score_measure = \"recall\"\n",
    "kfolds = 4\n",
    "\n",
    "param_grid = {\n",
    "    ##'max_depth': np.arange(3,50), - can not use in random search\n",
    "    'algorithm': ['SAMME', 'SAMME.R'],\n",
    "    'learning_rate': np.logspace(0.1, 0.5),\n",
    "    'n_estimators': np.arange(50, 500),\n",
    "    'random_state': [42], #to control the randomness of the estimator\n",
    "}\n",
    "\n",
    "rand_search_aboost = RandomizedSearchCV(estimator = aboost, param_distributions=param_grid, cv=kfolds, n_iter=200,\n",
    "                           scoring=score_measure, verbose=1, n_jobs=-1,  # n_jobs=-1 will utilize all available CPUs \n",
    "                           return_train_score=True)\n",
    "_ = rand_search_aboost.fit(X_train,np.ravel( y_train))\n",
    "\n",
    "print(f\"The best {score_measure} score is {rand_search_aboost.best_score_}\")\n",
    "print(f\"... with parameters: {rand_search_aboost.best_params_}\")\n",
    "\n",
    "bestRecallTree = rand_search_aboost.best_estimator_"
   ]
  },
  {
   "cell_type": "code",
   "execution_count": 68,
   "metadata": {},
   "outputs": [],
   "source": [
    "y_pred = rand_search_aboost.predict(X_test)"
   ]
  },
  {
   "cell_type": "code",
   "execution_count": 69,
   "metadata": {},
   "outputs": [
    {
     "name": "stdout",
     "output_type": "stream",
     "text": [
      "              precision    recall  f1-score   support\n",
      "\n",
      "           0     0.7707    0.8288    0.7987       146\n",
      "           1     0.6622    0.5765    0.6164        85\n",
      "\n",
      "    accuracy                         0.7359       231\n",
      "   macro avg     0.7164    0.7026    0.7075       231\n",
      "weighted avg     0.7308    0.7359    0.7316       231\n",
      "\n"
     ]
    }
   ],
   "source": [
    "print(classification_report(y_test, y_pred, digits=4))"
   ]
  },
  {
   "cell_type": "code",
   "execution_count": 70,
   "metadata": {},
   "outputs": [
    {
     "name": "stdout",
     "output_type": "stream",
     "text": [
      "[('Outcome', 1)]\n"
     ]
    },
    {
     "data": {
      "image/png": "[encoded data removed]",
      "text/plain": [
       "<Figure size 640x480 with 2 Axes>"
      ]
     },
     "metadata": {},
     "output_type": "display_data"
    }
   ],
   "source": [
    "\n",
    "counts = sorted(collections.Counter(y_test).items(), key=lambda i: i[0])\n",
    "print(counts)\n",
    "\n",
    "# display the confusion matrix\n",
    "cm = confusion_matrix(y_test, y_pred)\n",
    "disp = ConfusionMatrixDisplay(confusion_matrix=cm)\n",
    "disp.plot(cmap=plt.cm.Blues)\n",
    "plt.show()"
   ]
  },
  {
   "cell_type": "code",
   "execution_count": 71,
   "metadata": {},
   "outputs": [
    {
     "name": "stdout",
     "output_type": "stream",
     "text": [
      "Accuracy:           0.5765\n",
      "F1:                 0.6164\n",
      ">>Recall:           0.5765\n",
      "Precision:          0.6622\n"
     ]
    }
   ],
   "source": [
    "accuracy = rand_search_aboost.score(X_test, y_test)\n",
    "print(f\"{'Accuracy:':20s}{accuracy:.4f}\")\n",
    "\n",
    "F1 = f1_score(y_test, y_pred)\n",
    "print(f\"{'F1:':20s}{F1:.4f}\")\n",
    "\n",
    "\n",
    "recall = recall_score(y_test, y_pred)\n",
    "print(f\"{'>>Recall:':20s}{recall:.4f}\")\n",
    "\n",
    "\n",
    "\n",
    "precision = precision_score(y_test, y_pred)\n",
    "print(f\"{'Precision:':20s}{precision:.4f}\")\n",
    "\n",
    "\n",
    "performance = pd.concat([performance, pd.DataFrame({\"model\": 'ADABoost random search', \"accuracy\": [accuracy], \n",
    "                                                    \"F1\": [F1], \">>recall\": [recall], \"precision\": [precision]})])\n"
   ]
  },
  {
   "cell_type": "code",
   "execution_count": 72,
   "metadata": {},
   "outputs": [
    {
     "name": "stdout",
     "output_type": "stream",
     "text": [
      "ADABoost random search Test RMSE: 0.513876701232177\n"
     ]
    }
   ],
   "source": [
    "test_rmse = np.sqrt(mean_squared_error(y_test, y_pred))\n",
    "print(f\"ADABoost random search Test RMSE: {test_rmse}\")\n",
    "\n",
    "rmses = pd.concat([rmses,pd.DataFrame({\"model\": 'ADABoost random search', \"rmse\": [test_rmse]})])"
   ]
  },
  {
   "cell_type": "markdown",
   "metadata": {},
   "source": [
    "## Prediction with ADABoost (using exhaustive grid search on random search)"
   ]
  },
  {
   "cell_type": "code",
   "execution_count": 73,
   "metadata": {},
   "outputs": [
    {
     "name": "stdout",
     "output_type": "stream",
     "text": [
      "Fitting 4 folds for each of 104 candidates, totalling 416 fits\n",
      "The best recall score is 0.5524154589371981\n",
      "... with parameters: {'algorithm': 'SAMME', 'learning_rate': 1.7229080141679256, 'n_estimators': 484, 'random_state': 0}\n",
      "CPU times: total: 1.61 s\n",
      "Wall time: 1min 33s\n"
     ]
    }
   ],
   "source": [
    "%%time\n",
    "\n",
    "score_measure = \"recall\"\n",
    "\n",
    "kfolds = 4\n",
    "\n",
    "    \n",
    "learning_rate = rand_search_aboost.best_params_['learning_rate']\n",
    "n_estimators = rand_search_aboost.best_params_['n_estimators']\n",
    "random_state = rand_search_aboost.best_params_['random_state']\n",
    "algorithm = rand_search_aboost.best_params_['algorithm']\n",
    "\n",
    "param_grid = {\n",
    "    'learning_rate': np.arange(learning_rate-0.01,learning_rate+0.01),  \n",
    "    'n_estimators': np.arange(n_estimators-1,n_estimators+1),\n",
    "    'random_state': np.arange(random_state+10),\n",
    "    'algorithm': ['SAMME']\n",
    "}\n",
    "\n",
    "grid_search_aboost = GridSearchCV(estimator = aboost, param_grid=param_grid, cv=kfolds,\n",
    "                           scoring=score_measure, verbose=1, n_jobs=-1, # n_jobs=-1 will utilize all available CPUs \n",
    "                           return_train_score=True)\n",
    "\n",
    "_ = grid_search_aboost.fit(X_train, np.ravel(y_train))\n",
    "\n",
    "print(f\"The best {score_measure} score is {grid_search_aboost.best_score_}\")\n",
    "print(f\"... with parameters: {grid_search_aboost.best_params_}\")\n",
    "\n",
    "bestRecallTree = grid_search_aboost.best_estimator_"
   ]
  },
  {
   "cell_type": "code",
   "execution_count": 74,
   "metadata": {},
   "outputs": [],
   "source": [
    "y_pred = grid_search_aboost.predict(X_test)"
   ]
  },
  {
   "cell_type": "code",
   "execution_count": 75,
   "metadata": {},
   "outputs": [
    {
     "name": "stdout",
     "output_type": "stream",
     "text": [
      "              precision    recall  f1-score   support\n",
      "\n",
      "           0     0.8067    0.8288    0.8176       146\n",
      "           1     0.6914    0.6588    0.6747        85\n",
      "\n",
      "    accuracy                         0.7662       231\n",
      "   macro avg     0.7490    0.7438    0.7461       231\n",
      "weighted avg     0.7642    0.7662    0.7650       231\n",
      "\n"
     ]
    }
   ],
   "source": [
    "print(classification_report(y_test, y_pred, digits=4))"
   ]
  },
  {
   "cell_type": "code",
   "execution_count": 76,
   "metadata": {},
   "outputs": [
    {
     "name": "stdout",
     "output_type": "stream",
     "text": [
      "[('Outcome', 1)]\n"
     ]
    },
    {
     "data": {
      "image/png": "[encoded data removed]",
      "text/plain": [
       "<Figure size 640x480 with 2 Axes>"
      ]
     },
     "metadata": {},
     "output_type": "display_data"
    }
   ],
   "source": [
    "\n",
    "counts = sorted(collections.Counter(y_test).items(), key=lambda i: i[0])\n",
    "print(counts)\n",
    "\n",
    "# display the confusion matrix\n",
    "cm = confusion_matrix(y_test, y_pred)\n",
    "disp = ConfusionMatrixDisplay(confusion_matrix=cm)\n",
    "disp.plot(cmap=plt.cm.Blues)\n",
    "plt.show()"
   ]
  },
  {
   "cell_type": "code",
   "execution_count": 77,
   "metadata": {},
   "outputs": [
    {
     "name": "stdout",
     "output_type": "stream",
     "text": [
      "Accuracy:           0.6588\n",
      "F1:                 0.6747\n",
      ">>Recall:           0.6588\n",
      "Precision:          0.6914\n"
     ]
    }
   ],
   "source": [
    "accuracy = grid_search_aboost.score(X_test, y_test)\n",
    "print(f\"{'Accuracy:':20s}{accuracy:.4f}\")\n",
    "\n",
    "F1 = f1_score(y_test, y_pred)\n",
    "print(f\"{'F1:':20s}{F1:.4f}\")\n",
    "\n",
    "\n",
    "recall = recall_score(y_test, y_pred)\n",
    "print(f\"{'>>Recall:':20s}{recall:.4f}\")\n",
    "\n",
    "\n",
    "\n",
    "precision = precision_score(y_test, y_pred)\n",
    "print(f\"{'Precision:':20s}{precision:.4f}\")\n",
    "\n",
    "\n",
    "performance = pd.concat([performance, pd.DataFrame({\"model\": 'ADABoost grid search', \"accuracy\": [accuracy], \n",
    "                                                    \"F1\": [F1], \">>recall\": [recall], \"precision\": [precision]})])\n"
   ]
  },
  {
   "cell_type": "code",
   "execution_count": 78,
   "metadata": {},
   "outputs": [
    {
     "name": "stdout",
     "output_type": "stream",
     "text": [
      "ADABoost grid search Test RMSE: 0.48349377841522817\n"
     ]
    }
   ],
   "source": [
    "test_rmse = np.sqrt(mean_squared_error(y_test, y_pred))\n",
    "print(f\"ADABoost grid search Test RMSE: {test_rmse}\")\n",
    "\n",
    "rmses = pd.concat([rmses,pd.DataFrame({\"model\": 'ADABoost grid search', \"rmse\": [test_rmse]})])"
   ]
  },
  {
   "cell_type": "markdown",
   "metadata": {},
   "source": [
    "## Prediction with GradientBoostingClassifier"
   ]
  },
  {
   "cell_type": "code",
   "execution_count": 79,
   "metadata": {},
   "outputs": [],
   "source": [
    "gboost = GradientBoostingClassifier()"
   ]
  },
  {
   "cell_type": "code",
   "execution_count": 80,
   "metadata": {},
   "outputs": [],
   "source": [
    "_ = gboost.fit(X_train, np.ravel(y_train))"
   ]
  },
  {
   "cell_type": "code",
   "execution_count": 81,
   "metadata": {},
   "outputs": [],
   "source": [
    "y_pred = gboost.predict(X_test)"
   ]
  },
  {
   "cell_type": "code",
   "execution_count": 82,
   "metadata": {},
   "outputs": [
    {
     "name": "stdout",
     "output_type": "stream",
     "text": [
      "              precision    recall  f1-score   support\n",
      "\n",
      "           0     0.8113    0.8836    0.8459       146\n",
      "           1     0.7639    0.6471    0.7006        85\n",
      "\n",
      "    accuracy                         0.7965       231\n",
      "   macro avg     0.7876    0.7653    0.7733       231\n",
      "weighted avg     0.7939    0.7965    0.7924       231\n",
      "\n",
      "[('Outcome', 1)]\n"
     ]
    },
    {
     "data": {
      "image/png": "[encoded data removed]",
      "text/plain": [
       "<Figure size 640x480 with 2 Axes>"
      ]
     },
     "metadata": {},
     "output_type": "display_data"
    }
   ],
   "source": [
    "print(classification_report(y_test, y_pred, digits=4))\n",
    "\n",
    "\n",
    "counts = sorted(collections.Counter(y_test).items(), key=lambda i: i[0])\n",
    "print(counts)\n",
    "\n",
    "# display the confusion matrix\n",
    "cm = confusion_matrix(y_test, y_pred)\n",
    "disp = ConfusionMatrixDisplay(confusion_matrix=cm)\n",
    "disp.plot(cmap=plt.cm.Blues)\n",
    "plt.show()"
   ]
  },
  {
   "cell_type": "code",
   "execution_count": 83,
   "metadata": {},
   "outputs": [
    {
     "name": "stdout",
     "output_type": "stream",
     "text": [
      "Accuracy:           0.7965\n",
      "F1:                 0.7006\n",
      ">>Recall:           0.6471\n",
      "Precision:          0.7639\n"
     ]
    }
   ],
   "source": [
    "accuracy = gboost.score(X_test, y_test)\n",
    "print(f\"{'Accuracy:':20s}{accuracy:.4f}\")\n",
    "\n",
    "F1 = f1_score(y_test, y_pred)\n",
    "print(f\"{'F1:':20s}{F1:.4f}\")\n",
    "\n",
    "\n",
    "recall = recall_score(y_test, y_pred)\n",
    "print(f\"{'>>Recall:':20s}{recall:.4f}\")\n",
    "\n",
    "\n",
    "\n",
    "precision = precision_score(y_test, y_pred)\n",
    "print(f\"{'Precision:':20s}{precision:.4f}\")\n",
    "\n",
    "\n",
    "performance = pd.concat([performance, pd.DataFrame({\"model\": 'GradientBoost', \"accuracy\": [accuracy], \n",
    "                                                    \"F1\": [F1], \">>recall\": [recall], \"precision\": [precision]})])\n"
   ]
  },
  {
   "cell_type": "markdown",
   "metadata": {},
   "source": [
    "Save the recall result from this model"
   ]
  },
  {
   "cell_type": "code",
   "execution_count": 84,
   "metadata": {
    "tags": []
   },
   "outputs": [
    {
     "name": "stdout",
     "output_type": "stream",
     "text": [
      "GradientBoost Test RMSE: 0.4510689564392605\n"
     ]
    }
   ],
   "source": [
    "test_rmse = np.sqrt(mean_squared_error(y_test, y_pred))\n",
    "print(f\"GradientBoost Test RMSE: {test_rmse}\")\n",
    "\n",
    "rmses = pd.concat([rmses,pd.DataFrame({\"model\": 'GradientBoost', \"rmse\": [test_rmse]})])"
   ]
  },
  {
   "cell_type": "markdown",
   "metadata": {},
   "source": [
    "## Prediction with GradientBoostingClassifier random search"
   ]
  },
  {
   "cell_type": "code",
   "execution_count": 85,
   "metadata": {},
   "outputs": [
    {
     "name": "stdout",
     "output_type": "stream",
     "text": [
      "Fitting 4 folds for each of 150 candidates, totalling 600 fits\n",
      "The best recall score is 0.585024154589372\n",
      "... with parameters: {'min_samples_split': 5, 'min_samples_leaf': 50, 'min_impurity_decrease': 0.001, 'max_leaf_nodes': 50, 'max_depth': 10, 'criterion': 'friedman_mse'}\n",
      "CPU times: total: 1.33 s\n",
      "Wall time: 30 s\n"
     ]
    }
   ],
   "source": [
    "%%time\n",
    "\n",
    "score_measure = \"recall\"\n",
    "kfolds = 4\n",
    "\n",
    "param_grid = {\n",
    "    'min_samples_split': [5,10,50],  \n",
    "    'min_samples_leaf': [10,20,50],\n",
    "    'min_impurity_decrease': [0.0010, 0.0020, 0.0030],\n",
    "    'max_leaf_nodes': [5,25,50], \n",
    "    'max_depth': [10,20], \n",
    "    'criterion': ['friedman_mse'],\n",
    "}\n",
    "\n",
    "\n",
    "rand_search_gboost = RandomizedSearchCV(estimator = gboost, param_distributions=param_grid, cv=kfolds, n_iter=150,\n",
    "                           scoring=score_measure, verbose=1, n_jobs=-1,  # n_jobs=-1 will utilize all available CPUs \n",
    "                           return_train_score=True)\n",
    "_ = rand_search_gboost.fit(X_train, np.ravel(y_train))\n",
    "\n",
    "print(f\"The best {score_measure} score is {rand_search_gboost.best_score_}\")\n",
    "print(f\"... with parameters: {rand_search_gboost.best_params_}\")\n",
    "\n",
    "bestRecallTree = rand_search_gboost.best_estimator_"
   ]
  },
  {
   "cell_type": "code",
   "execution_count": 86,
   "metadata": {},
   "outputs": [],
   "source": [
    "y_pred = rand_search_gboost.predict(X_test)"
   ]
  },
  {
   "cell_type": "code",
   "execution_count": 87,
   "metadata": {},
   "outputs": [
    {
     "name": "stdout",
     "output_type": "stream",
     "text": [
      "              precision    recall  f1-score   support\n",
      "\n",
      "           0     0.8075    0.8904    0.8469       146\n",
      "           1     0.7714    0.6353    0.6968        85\n",
      "\n",
      "    accuracy                         0.7965       231\n",
      "   macro avg     0.7894    0.7629    0.7718       231\n",
      "weighted avg     0.7942    0.7965    0.7917       231\n",
      "\n"
     ]
    }
   ],
   "source": [
    "print(classification_report(y_test, y_pred, digits=4))"
   ]
  },
  {
   "cell_type": "code",
   "execution_count": 88,
   "metadata": {},
   "outputs": [
    {
     "name": "stdout",
     "output_type": "stream",
     "text": [
      "[('Outcome', 1)]\n"
     ]
    },
    {
     "data": {
      "image/png": "[encoded data removed]",
      "text/plain": [
       "<Figure size 640x480 with 2 Axes>"
      ]
     },
     "metadata": {},
     "output_type": "display_data"
    }
   ],
   "source": [
    "\n",
    "counts = sorted(collections.Counter(y_test).items(), key=lambda i: i[0])\n",
    "print(counts)\n",
    "\n",
    "# display the confusion matrix\n",
    "cm = confusion_matrix(y_test, y_pred)\n",
    "disp = ConfusionMatrixDisplay(confusion_matrix=cm)\n",
    "disp.plot(cmap=plt.cm.Blues)\n",
    "plt.show()"
   ]
  },
  {
   "cell_type": "code",
   "execution_count": 89,
   "metadata": {},
   "outputs": [
    {
     "name": "stdout",
     "output_type": "stream",
     "text": [
      "Accuracy:           0.6353\n",
      "F1:                 0.6968\n",
      ">>Recall:           0.6353\n",
      "Precision:          0.7714\n"
     ]
    }
   ],
   "source": [
    "accuracy = rand_search_gboost.score(X_test, y_test)\n",
    "print(f\"{'Accuracy:':20s}{accuracy:.4f}\")\n",
    "\n",
    "F1 = f1_score(y_test, y_pred)\n",
    "print(f\"{'F1:':20s}{F1:.4f}\")\n",
    "\n",
    "\n",
    "recall = recall_score(y_test, y_pred)\n",
    "print(f\"{'>>Recall:':20s}{recall:.4f}\")\n",
    "\n",
    "\n",
    "\n",
    "precision = precision_score(y_test, y_pred)\n",
    "print(f\"{'Precision:':20s}{precision:.4f}\")\n",
    "\n",
    "\n",
    "performance = pd.concat([performance, pd.DataFrame({\"model\": 'Gradient Boost Random search', \"accuracy\": [accuracy], \n",
    "                                                    \"F1\": [F1], \">>recall\": [recall], \"precision\": [precision]})])\n"
   ]
  },
  {
   "cell_type": "code",
   "execution_count": 90,
   "metadata": {},
   "outputs": [
    {
     "name": "stdout",
     "output_type": "stream",
     "text": [
      "Gradient Boost Random search Test RMSE: 0.4510689564392605\n"
     ]
    }
   ],
   "source": [
    "test_rmse = np.sqrt(mean_squared_error(y_test, y_pred))\n",
    "print(f\"Gradient Boost Random search Test RMSE: {test_rmse}\")\n",
    "\n",
    "rmses = pd.concat([rmses,pd.DataFrame({\"model\": 'Gradient Boost Random search', \"rmse\": [test_rmse]})])"
   ]
  },
  {
   "cell_type": "markdown",
   "metadata": {},
   "source": [
    "## Prediction with GradientBoostingClassifier exhaustive grid search on random search"
   ]
  },
  {
   "cell_type": "code",
   "execution_count": 91,
   "metadata": {},
   "outputs": [
    {
     "name": "stdout",
     "output_type": "stream",
     "text": [
      "Fitting 4 folds for each of 16 candidates, totalling 64 fits\n",
      "The best recall score is 0.585024154589372\n",
      "... with parameters: {'criterion': 'friedman_mse', 'max_depth': 9, 'max_leaf_nodes': 49, 'min_impurity_decrease': 0.0009, 'min_samples_leaf': 50, 'min_samples_split': 4}\n",
      "CPU times: total: 328 ms\n",
      "Wall time: 2.31 s\n"
     ]
    }
   ],
   "source": [
    "%%time\n",
    "\n",
    "score_measure = \"recall\"\n",
    "\n",
    "kfolds = 4\n",
    "min_samples_split = rand_search_gboost.best_params_['min_samples_split']\n",
    "min_samples_leaf = rand_search_gboost.best_params_['min_samples_leaf']\n",
    "min_impurity_decrease = rand_search_gboost.best_params_['min_impurity_decrease']\n",
    "max_leaf_nodes = rand_search_gboost.best_params_['max_leaf_nodes']\n",
    "max_depth = rand_search_gboost.best_params_['max_depth']\n",
    "criterion = rand_search_gboost.best_params_['criterion']\n",
    "\n",
    "param_grid = {\n",
    "    'min_samples_split': np.arange(min_samples_split-1,min_samples_split+1),  \n",
    "    'min_samples_leaf': np.arange(min_samples_leaf-1,min_samples_leaf+1),\n",
    "    'min_impurity_decrease': np.arange(min_impurity_decrease-0.0001, min_impurity_decrease+0.0005),\n",
    "    'max_leaf_nodes': np.arange(max_leaf_nodes-1,max_leaf_nodes+1), \n",
    "    'max_depth': np.arange(max_depth-1,max_depth+1), \n",
    "    'criterion': [criterion]\n",
    "}\n",
    "\n",
    "\n",
    "grid_search_gboost = GridSearchCV(estimator = gboost, param_grid=param_grid, cv=kfolds, \n",
    "                           scoring=score_measure, verbose=1, n_jobs=-1,  # n_jobs=-1 will utilize all available CPUs \n",
    "                           return_train_score=True)\n",
    "\n",
    "_ = grid_search_gboost.fit(X_train, np.ravel(y_train))\n",
    "\n",
    "print(f\"The best {score_measure} score is {grid_search_gboost.best_score_}\")\n",
    "print(f\"... with parameters: {grid_search_gboost.best_params_}\")\n",
    "\n",
    "bestRecallTree = grid_search_gboost.best_estimator_"
   ]
  },
  {
   "cell_type": "code",
   "execution_count": 92,
   "metadata": {},
   "outputs": [],
   "source": [
    "y_pred = grid_search_gboost.predict(X_test)"
   ]
  },
  {
   "cell_type": "code",
   "execution_count": 93,
   "metadata": {},
   "outputs": [
    {
     "name": "stdout",
     "output_type": "stream",
     "text": [
      "              precision    recall  f1-score   support\n",
      "\n",
      "           0     0.8075    0.8904    0.8469       146\n",
      "           1     0.7714    0.6353    0.6968        85\n",
      "\n",
      "    accuracy                         0.7965       231\n",
      "   macro avg     0.7894    0.7629    0.7718       231\n",
      "weighted avg     0.7942    0.7965    0.7917       231\n",
      "\n"
     ]
    }
   ],
   "source": [
    "print(classification_report(y_test, y_pred, digits=4))"
   ]
  },
  {
   "cell_type": "code",
   "execution_count": 94,
   "metadata": {},
   "outputs": [
    {
     "name": "stdout",
     "output_type": "stream",
     "text": [
      "[('Outcome', 1)]\n"
     ]
    },
    {
     "data": {
      "image/png": "[encoded data removed]",
      "text/plain": [
       "<Figure size 640x480 with 2 Axes>"
      ]
     },
     "metadata": {},
     "output_type": "display_data"
    }
   ],
   "source": [
    "\n",
    "counts = sorted(collections.Counter(y_test).items(), key=lambda i: i[0])\n",
    "print(counts)\n",
    "\n",
    "# display the confusion matrix\n",
    "cm = confusion_matrix(y_test, y_pred)\n",
    "disp = ConfusionMatrixDisplay(confusion_matrix=cm)\n",
    "disp.plot(cmap=plt.cm.Blues)\n",
    "plt.show()"
   ]
  },
  {
   "cell_type": "code",
   "execution_count": 95,
   "metadata": {},
   "outputs": [
    {
     "name": "stdout",
     "output_type": "stream",
     "text": [
      "Accuracy:           0.6353\n",
      "F1:                 0.6968\n",
      ">>Recall:           0.6353\n",
      "Precision:          0.7714\n"
     ]
    }
   ],
   "source": [
    "accuracy = grid_search_gboost.score(X_test, y_test)\n",
    "print(f\"{'Accuracy:':20s}{accuracy:.4f}\")\n",
    "\n",
    "F1 = f1_score(y_test, y_pred)\n",
    "print(f\"{'F1:':20s}{F1:.4f}\")\n",
    "\n",
    "\n",
    "recall = recall_score(y_test, y_pred)\n",
    "print(f\"{'>>Recall:':20s}{recall:.4f}\")\n",
    "\n",
    "\n",
    "\n",
    "precision = precision_score(y_test, y_pred)\n",
    "print(f\"{'Precision:':20s}{precision:.4f}\")\n",
    "\n",
    "\n",
    "performance = pd.concat([performance, pd.DataFrame({\"model\": 'Gradient Boost grid search', \"accuracy\": [accuracy], \n",
    "                                                    \"F1\": [F1], \">>recall\": [recall], \"precision\": [precision]})])\n"
   ]
  },
  {
   "cell_type": "code",
   "execution_count": 96,
   "metadata": {},
   "outputs": [
    {
     "name": "stdout",
     "output_type": "stream",
     "text": [
      "Gradient Boost grid search Test RMSE: 0.4510689564392605\n"
     ]
    }
   ],
   "source": [
    "test_rmse = np.sqrt(mean_squared_error(y_test, y_pred))\n",
    "print(f\"Gradient Boost grid search Test RMSE: {test_rmse}\")\n",
    "\n",
    "rmses = pd.concat([rmses,pd.DataFrame({\"model\": 'Gradient Boost grid search', \"rmse\": [test_rmse]})])"
   ]
  },
  {
   "cell_type": "markdown",
   "metadata": {},
   "source": [
    "## Prediction with XGBoost"
   ]
  },
  {
   "cell_type": "code",
   "execution_count": 97,
   "metadata": {},
   "outputs": [],
   "source": [
    "xgboost = XGBClassifier()"
   ]
  },
  {
   "cell_type": "code",
   "execution_count": 98,
   "metadata": {},
   "outputs": [],
   "source": [
    "from sklearn import preprocessing\n",
    "le = preprocessing.LabelEncoder()\n",
    "y_train = le.fit_transform(np.ravel(y_train))\n",
    "y_test = le.fit_transform(np.ravel(y_test))"
   ]
  },
  {
   "cell_type": "code",
   "execution_count": 99,
   "metadata": {},
   "outputs": [],
   "source": [
    "_ = xgboost.fit(X_train, y_train)"
   ]
  },
  {
   "cell_type": "code",
   "execution_count": 100,
   "metadata": {},
   "outputs": [],
   "source": [
    "y_pred = xgboost.predict(X_test)"
   ]
  },
  {
   "cell_type": "code",
   "execution_count": 101,
   "metadata": {},
   "outputs": [
    {
     "name": "stdout",
     "output_type": "stream",
     "text": [
      "              precision    recall  f1-score   support\n",
      "\n",
      "           0     0.7875    0.8630    0.8235       146\n",
      "           1     0.7183    0.6000    0.6538        85\n",
      "\n",
      "    accuracy                         0.7662       231\n",
      "   macro avg     0.7529    0.7315    0.7387       231\n",
      "weighted avg     0.7620    0.7662    0.7611       231\n",
      "\n"
     ]
    }
   ],
   "source": [
    "print(classification_report(y_test, y_pred, digits=4))"
   ]
  },
  {
   "cell_type": "code",
   "execution_count": 102,
   "metadata": {},
   "outputs": [
    {
     "name": "stdout",
     "output_type": "stream",
     "text": [
      "[(0, 146), (1, 85)]\n"
     ]
    },
    {
     "data": {
      "image/png": "[encoded data removed]",
      "text/plain": [
       "<Figure size 640x480 with 2 Axes>"
      ]
     },
     "metadata": {},
     "output_type": "display_data"
    }
   ],
   "source": [
    "\n",
    "counts = sorted(collections.Counter(y_test).items(), key=lambda i: i[0])\n",
    "print(counts)\n",
    "\n",
    "# display the confusion matrix\n",
    "cm = confusion_matrix(y_test, y_pred)\n",
    "disp = ConfusionMatrixDisplay(confusion_matrix=cm)\n",
    "disp.plot(cmap=plt.cm.Blues)\n",
    "plt.show()"
   ]
  },
  {
   "cell_type": "code",
   "execution_count": 103,
   "metadata": {},
   "outputs": [
    {
     "name": "stdout",
     "output_type": "stream",
     "text": [
      "Accuracy:           0.7662\n",
      "F1:                 0.6538\n",
      ">>Recall:           0.6000\n",
      "Precision:          0.7183\n"
     ]
    }
   ],
   "source": [
    "accuracy = xgboost.score(X_test, y_test)\n",
    "print(f\"{'Accuracy:':20s}{accuracy:.4f}\")\n",
    "\n",
    "F1 = f1_score(y_test, y_pred)\n",
    "print(f\"{'F1:':20s}{F1:.4f}\")\n",
    "\n",
    "\n",
    "recall = recall_score(y_test, y_pred)\n",
    "print(f\"{'>>Recall:':20s}{recall:.4f}\")\n",
    "\n",
    "\n",
    "\n",
    "precision = precision_score(y_test, y_pred)\n",
    "print(f\"{'Precision:':20s}{precision:.4f}\")\n",
    "\n",
    "\n",
    "performance = pd.concat([performance, pd.DataFrame({\"model\": 'XGBoost', \"accuracy\": [accuracy], \n",
    "                                                    \"F1\": [F1], \">>recall\": [recall], \"precision\": [precision]})])\n"
   ]
  },
  {
   "cell_type": "markdown",
   "metadata": {},
   "source": [
    "Save the recall result from this model"
   ]
  },
  {
   "cell_type": "code",
   "execution_count": 104,
   "metadata": {},
   "outputs": [
    {
     "name": "stdout",
     "output_type": "stream",
     "text": [
      "XGBoost Test RMSE: 0.48349377841522817\n"
     ]
    }
   ],
   "source": [
    "test_rmse = np.sqrt(mean_squared_error(y_test, y_pred))\n",
    "print(f\"XGBoost Test RMSE: {test_rmse}\")\n",
    "\n",
    "rmses = pd.concat([rmses,pd.DataFrame({\"model\": 'XGBoost', \"rmse\": [test_rmse]})])"
   ]
  },
  {
   "cell_type": "markdown",
   "metadata": {},
   "source": [
    "## Prediction with XGBoost random search"
   ]
  },
  {
   "cell_type": "code",
   "execution_count": 105,
   "metadata": {},
   "outputs": [
    {
     "name": "stdout",
     "output_type": "stream",
     "text": [
      "Fitting 4 folds for each of 150 candidates, totalling 600 fits\n",
      "[00:58:31] WARNING: C:\\Users\\dev-admin\\croot2\\xgboost-split_1675461376218\\work\\src\\learner.cc:767: \n",
      "Parameters: { \"criterion\", \"max_leaf_nodes\", \"min_impurity_decrease\", \"min_samples_leaf\", \"min_samples_split\" } are not used.\n",
      "\n",
      "The best recall score is 0.5793478260869566\n",
      "... with parameters: {'min_samples_split': 5, 'min_samples_leaf': 20, 'min_impurity_decrease': 0.001, 'max_leaf_nodes': 25, 'max_depth': 20, 'criterion': 'friedman_mse'}\n",
      "CPU times: total: 2.11 s\n",
      "Wall time: 13.5 s\n"
     ]
    }
   ],
   "source": [
    "%%time\n",
    "\n",
    "score_measure = \"recall\"\n",
    "kfolds = 4\n",
    "\n",
    "param_grid = {\n",
    "    'min_samples_split': [5,10,50],  \n",
    "    'min_samples_leaf': [10,20,50],\n",
    "    'min_impurity_decrease': [0.0010, 0.0020, 0.0030],\n",
    "    'max_leaf_nodes': [5,25,50], \n",
    "    'max_depth': [10,20],\n",
    "    'criterion': ['friedman_mse'],\n",
    "}\n",
    "\n",
    "rand_search_xgboost = RandomizedSearchCV(estimator = xgboost, param_distributions=param_grid, cv=kfolds, n_iter=150,\n",
    "                           scoring=score_measure, verbose=1, n_jobs=-1,  # n_jobs=-1 will utilize all available CPUs \n",
    "                           return_train_score=True)\n",
    "\n",
    "_ = rand_search_xgboost.fit(X_train, y_train)\n",
    "\n",
    "print(f\"The best {score_measure} score is {rand_search_xgboost.best_score_}\")\n",
    "print(f\"... with parameters: {rand_search_xgboost.best_params_}\")\n",
    "\n",
    "bestRecallTree = rand_search_xgboost.best_estimator_"
   ]
  },
  {
   "cell_type": "code",
   "execution_count": 106,
   "metadata": {},
   "outputs": [],
   "source": [
    "y_pred = rand_search_xgboost.predict(X_test)"
   ]
  },
  {
   "cell_type": "code",
   "execution_count": 107,
   "metadata": {},
   "outputs": [
    {
     "name": "stdout",
     "output_type": "stream",
     "text": [
      "              precision    recall  f1-score   support\n",
      "\n",
      "           0     0.7987    0.8699    0.8328       146\n",
      "           1     0.7361    0.6235    0.6752        85\n",
      "\n",
      "    accuracy                         0.7792       231\n",
      "   macro avg     0.7674    0.7467    0.7540       231\n",
      "weighted avg     0.7757    0.7792    0.7748       231\n",
      "\n"
     ]
    }
   ],
   "source": [
    "print(classification_report(y_test, y_pred, digits=4))"
   ]
  },
  {
   "cell_type": "code",
   "execution_count": 108,
   "metadata": {},
   "outputs": [
    {
     "name": "stdout",
     "output_type": "stream",
     "text": [
      "[(0, 146), (1, 85)]\n"
     ]
    },
    {
     "data": {
      "image/png": "[encoded data removed]",
      "text/plain": [
       "<Figure size 640x480 with 2 Axes>"
      ]
     },
     "metadata": {},
     "output_type": "display_data"
    }
   ],
   "source": [
    "\n",
    "counts = sorted(collections.Counter(y_test).items(), key=lambda i: i[0])\n",
    "print(counts)\n",
    "\n",
    "# display the confusion matrix\n",
    "cm = confusion_matrix(y_test, y_pred)\n",
    "disp = ConfusionMatrixDisplay(confusion_matrix=cm)\n",
    "disp.plot(cmap=plt.cm.Blues)\n",
    "plt.show()"
   ]
  },
  {
   "cell_type": "code",
   "execution_count": 109,
   "metadata": {},
   "outputs": [
    {
     "name": "stdout",
     "output_type": "stream",
     "text": [
      "Accuracy:           0.6235\n",
      "F1:                 0.6752\n",
      ">>Recall:           0.6235\n",
      "Precision:          0.7361\n"
     ]
    }
   ],
   "source": [
    "accuracy = rand_search_xgboost.score(X_test, y_test)\n",
    "print(f\"{'Accuracy:':20s}{accuracy:.4f}\")\n",
    "\n",
    "F1 = f1_score(y_test, y_pred)\n",
    "print(f\"{'F1:':20s}{F1:.4f}\")\n",
    "\n",
    "\n",
    "recall = recall_score(y_test, y_pred)\n",
    "print(f\"{'>>Recall:':20s}{recall:.4f}\")\n",
    "\n",
    "\n",
    "\n",
    "precision = precision_score(y_test, y_pred)\n",
    "print(f\"{'Precision:':20s}{precision:.4f}\")\n",
    "\n",
    "\n",
    "performance = pd.concat([performance, pd.DataFrame({\"model\": 'XGBoost Random search', \"accuracy\": [accuracy], \n",
    "                                                    \"F1\": [F1], \">>recall\": [recall], \"precision\": [precision]})])\n"
   ]
  },
  {
   "cell_type": "code",
   "execution_count": 110,
   "metadata": {},
   "outputs": [
    {
     "name": "stdout",
     "output_type": "stream",
     "text": [
      "XGBoost Random search Test RMSE: 0.4698714938993648\n"
     ]
    }
   ],
   "source": [
    "test_rmse = np.sqrt(mean_squared_error(y_test, y_pred))\n",
    "print(f\"XGBoost Random search Test RMSE: {test_rmse}\")\n",
    "\n",
    "rmses = pd.concat([rmses,pd.DataFrame({\"model\": 'XGBoost Random search', \"rmse\": [test_rmse]})])"
   ]
  },
  {
   "cell_type": "markdown",
   "metadata": {},
   "source": [
    "## Prediction with XGBoost exhaustive grid search on random search"
   ]
  },
  {
   "cell_type": "code",
   "execution_count": 111,
   "metadata": {},
   "outputs": [
    {
     "name": "stdout",
     "output_type": "stream",
     "text": [
      "Fitting 4 folds for each of 16 candidates, totalling 64 fits\n",
      "[00:58:34] WARNING: C:\\Users\\dev-admin\\croot2\\xgboost-split_1675461376218\\work\\src\\learner.cc:767: \n",
      "Parameters: { \"criterion\", \"max_leaf_nodes\", \"min_impurity_decrease\", \"min_samples_leaf\", \"min_samples_split\" } are not used.\n",
      "\n",
      "The best recall score is 0.5793478260869566\n",
      "... with parameters: {'criterion': 'friedman_mse', 'max_depth': 19, 'max_leaf_nodes': 24, 'min_impurity_decrease': 0.0009, 'min_samples_leaf': 19, 'min_samples_split': 4}\n",
      "CPU times: total: 1.11 s\n",
      "Wall time: 2.14 s\n"
     ]
    }
   ],
   "source": [
    "%%time\n",
    "\n",
    "score_measure = \"recall\"\n",
    "\n",
    "kfolds = 4\n",
    "min_samples_split = rand_search_xgboost.best_params_['min_samples_split']\n",
    "min_samples_leaf = rand_search_xgboost.best_params_['min_samples_leaf']\n",
    "min_impurity_decrease = rand_search_xgboost.best_params_['min_impurity_decrease']\n",
    "max_leaf_nodes = rand_search_xgboost.best_params_['max_leaf_nodes']\n",
    "max_depth = rand_search_xgboost.best_params_['max_depth']\n",
    "criterion = rand_search_xgboost.best_params_['criterion']\n",
    "\n",
    "param_grid = {\n",
    "   'min_samples_split': np.arange(min_samples_split-1,min_samples_split+1),  \n",
    "    'min_samples_leaf': np.arange(min_samples_leaf-1,min_samples_leaf+1),\n",
    "    'min_impurity_decrease': np.arange(min_impurity_decrease-0.0001, min_impurity_decrease+0.0005),\n",
    "    'max_leaf_nodes': np.arange(max_leaf_nodes-1,max_leaf_nodes+1), \n",
    "    'max_depth': np.arange(max_depth-1,max_depth+1), \n",
    "    'criterion': [criterion]\n",
    "}\n",
    "\n",
    "\n",
    "grid_search_xgboost = GridSearchCV(estimator = xgboost, param_grid=param_grid, cv=kfolds, \n",
    "                           scoring=score_measure, verbose=1, n_jobs=-1,  # n_jobs=-1 will utilize all available CPUs \n",
    "                           return_train_score=True)\n",
    "\n",
    "_ = grid_search_xgboost.fit(X_train, y_train)\n",
    "\n",
    "print(f\"The best {score_measure} score is {grid_search_xgboost.best_score_}\")\n",
    "print(f\"... with parameters: {grid_search_xgboost.best_params_}\")\n",
    "\n",
    "bestRecallTree = grid_search_xgboost.best_estimator_"
   ]
  },
  {
   "cell_type": "code",
   "execution_count": 112,
   "metadata": {},
   "outputs": [],
   "source": [
    "y_pred = grid_search_xgboost.predict(X_test)"
   ]
  },
  {
   "cell_type": "code",
   "execution_count": 113,
   "metadata": {},
   "outputs": [
    {
     "name": "stdout",
     "output_type": "stream",
     "text": [
      "              precision    recall  f1-score   support\n",
      "\n",
      "           0     0.7987    0.8699    0.8328       146\n",
      "           1     0.7361    0.6235    0.6752        85\n",
      "\n",
      "    accuracy                         0.7792       231\n",
      "   macro avg     0.7674    0.7467    0.7540       231\n",
      "weighted avg     0.7757    0.7792    0.7748       231\n",
      "\n"
     ]
    }
   ],
   "source": [
    "print(classification_report(y_test, y_pred, digits=4))"
   ]
  },
  {
   "cell_type": "code",
   "execution_count": 114,
   "metadata": {},
   "outputs": [
    {
     "name": "stdout",
     "output_type": "stream",
     "text": [
      "[(0, 146), (1, 85)]\n"
     ]
    },
    {
     "data": {
      "image/png": "[encoded data removed]",
      "text/plain": [
       "<Figure size 640x480 with 2 Axes>"
      ]
     },
     "metadata": {},
     "output_type": "display_data"
    }
   ],
   "source": [
    "\n",
    "counts = sorted(collections.Counter(y_test).items(), key=lambda i: i[0])\n",
    "print(counts)\n",
    "\n",
    "# display the confusion matrix\n",
    "cm = confusion_matrix(y_test, y_pred)\n",
    "disp = ConfusionMatrixDisplay(confusion_matrix=cm)\n",
    "disp.plot(cmap=plt.cm.Blues)\n",
    "plt.show()"
   ]
  },
  {
   "cell_type": "code",
   "execution_count": 115,
   "metadata": {},
   "outputs": [
    {
     "name": "stdout",
     "output_type": "stream",
     "text": [
      "Accuracy:           0.6235\n",
      "F1:                 0.6752\n",
      ">>Recall:           0.6235\n",
      "Precision:          0.7361\n"
     ]
    }
   ],
   "source": [
    "accuracy = grid_search_xgboost.score(X_test, y_test)\n",
    "print(f\"{'Accuracy:':20s}{accuracy:.4f}\")\n",
    "\n",
    "F1 = f1_score(y_test, y_pred)\n",
    "print(f\"{'F1:':20s}{F1:.4f}\")\n",
    "\n",
    "\n",
    "recall = recall_score(y_test, y_pred)\n",
    "print(f\"{'>>Recall:':20s}{recall:.4f}\")\n",
    "\n",
    "\n",
    "\n",
    "precision = precision_score(y_test, y_pred)\n",
    "print(f\"{'Precision:':20s}{precision:.4f}\")\n",
    "\n",
    "\n",
    "performance = pd.concat([performance, pd.DataFrame({\"model\": 'XGBoost grid search', \"accuracy\": [accuracy], \n",
    "                                                    \"F1\": [F1], \">>recall\": [recall], \"precision\": [precision]})])\n"
   ]
  },
  {
   "cell_type": "code",
   "execution_count": 116,
   "metadata": {},
   "outputs": [
    {
     "name": "stdout",
     "output_type": "stream",
     "text": [
      "XGBoost grid search RMSE: 0.4698714938993648\n"
     ]
    }
   ],
   "source": [
    "test_rmse = np.sqrt(mean_squared_error(y_test, y_pred))\n",
    "print(f\"XGBoost grid search RMSE: {test_rmse}\")\n",
    "\n",
    "rmses = pd.concat([rmses,pd.DataFrame({\"model\": 'XGBoost grid search', \"rmse\": [test_rmse]})])"
   ]
  },
  {
   "cell_type": "markdown",
   "metadata": {},
   "source": [
    "### Prediction with Neural Networks"
   ]
  },
  {
   "cell_type": "code",
   "execution_count": 117,
   "metadata": {},
   "outputs": [
    {
     "name": "stdout",
     "output_type": "stream",
     "text": [
      "CPU times: total: 3.53 s\n",
      "Wall time: 1.61 s\n"
     ]
    }
   ],
   "source": [
    "%%time\n",
    "\n",
    "ann = MLPClassifier(hidden_layer_sizes=(128,64,32), solver='adam', max_iter=500)\n",
    "_ = ann.fit(X_train, y_train)"
   ]
  },
  {
   "cell_type": "code",
   "execution_count": 118,
   "metadata": {},
   "outputs": [
    {
     "name": "stdout",
     "output_type": "stream",
     "text": [
      "CPU times: total: 0 ns\n",
      "Wall time: 2.64 ms\n"
     ]
    }
   ],
   "source": [
    "%%time\n",
    "y_pred = ann.predict(X_test)"
   ]
  },
  {
   "cell_type": "code",
   "execution_count": 119,
   "metadata": {},
   "outputs": [
    {
     "name": "stdout",
     "output_type": "stream",
     "text": [
      "              precision    recall  f1-score   support\n",
      "\n",
      "           0     0.8108    0.8219    0.8163       146\n",
      "           1     0.6867    0.6706    0.6786        85\n",
      "\n",
      "    accuracy                         0.7662       231\n",
      "   macro avg     0.7488    0.7463    0.7474       231\n",
      "weighted avg     0.7652    0.7662    0.7656       231\n",
      "\n"
     ]
    }
   ],
   "source": [
    "print(classification_report(y_test, y_pred, digits=4))"
   ]
  },
  {
   "cell_type": "code",
   "execution_count": 120,
   "metadata": {},
   "outputs": [
    {
     "name": "stdout",
     "output_type": "stream",
     "text": [
      "[(0, 146), (1, 85)]\n"
     ]
    },
    {
     "data": {
      "image/png": "[encoded data removed]",
      "text/plain": [
       "<Figure size 640x480 with 2 Axes>"
      ]
     },
     "metadata": {},
     "output_type": "display_data"
    }
   ],
   "source": [
    "\n",
    "counts = sorted(collections.Counter(y_test).items(), key=lambda i: i[0])\n",
    "print(counts)\n",
    "\n",
    "# display the confusion matrix\n",
    "cm = confusion_matrix(y_test, y_pred)\n",
    "disp = ConfusionMatrixDisplay(confusion_matrix=cm)\n",
    "disp.plot(cmap=plt.cm.Blues)\n",
    "plt.show()"
   ]
  },
  {
   "cell_type": "code",
   "execution_count": 121,
   "metadata": {},
   "outputs": [
    {
     "name": "stdout",
     "output_type": "stream",
     "text": [
      "Accuracy:           0.7662\n",
      "F1:                 0.6786\n",
      ">>Recall:           0.6706\n",
      "Precision:          0.6867\n"
     ]
    }
   ],
   "source": [
    "accuracy = ann.score(X_test, y_test)\n",
    "print(f\"{'Accuracy:':20s}{accuracy:.4f}\")\n",
    "\n",
    "F1 = f1_score(y_test, y_pred)\n",
    "print(f\"{'F1:':20s}{F1:.4f}\")\n",
    "\n",
    "\n",
    "recall = recall_score(y_test, y_pred)\n",
    "print(f\"{'>>Recall:':20s}{recall:.4f}\")\n",
    "\n",
    "\n",
    "\n",
    "precision = precision_score(y_test, y_pred)\n",
    "print(f\"{'Precision:':20s}{precision:.4f}\")\n",
    "\n",
    "\n",
    "performance = pd.concat([performance, pd.DataFrame({\"model\": 'Neural Networks', \"accuracy\": [accuracy], \n",
    "                                                    \"F1\": [F1], \">>recall\": [recall], \"precision\": [precision]})])\n"
   ]
  },
  {
   "cell_type": "code",
   "execution_count": 122,
   "metadata": {},
   "outputs": [
    {
     "name": "stdout",
     "output_type": "stream",
     "text": [
      "Neural Networks Test RMSE: 0.48349377841522817\n"
     ]
    }
   ],
   "source": [
    "test_rmse = np.sqrt(mean_squared_error(y_test, y_pred))\n",
    "print(f\"Neural Networks Test RMSE: {test_rmse}\")\n",
    "\n",
    "rmses = pd.concat([rmses,pd.DataFrame({\"model\": 'Neural Networks', \"rmse\": [test_rmse]})])"
   ]
  },
  {
   "cell_type": "markdown",
   "metadata": {},
   "source": [
    "### Neural Networks With RandomizedSearchCV"
   ]
  },
  {
   "cell_type": "code",
   "execution_count": 123,
   "metadata": {},
   "outputs": [
    {
     "name": "stdout",
     "output_type": "stream",
     "text": [
      "{'solver': 'sgd', 'max_iter': 9000, 'learning_rate_init': 0.0001, 'learning_rate': 'invscaling', 'hidden_layer_sizes': (64, 32), 'alpha': 0.5, 'activation': 'relu'}\n",
      "CPU times: total: 2.05 s\n",
      "Wall time: 1min 5s\n"
     ]
    }
   ],
   "source": [
    "%%time\n",
    "\n",
    "score_measure = \"recall\"\n",
    "kfolds = 4\n",
    "\n",
    "param_grid = {\n",
    "    'hidden_layer_sizes': [ (32,), (64,), (128,), (32,16), (64,32)],\n",
    "    'activation': ['logistic', 'tanh', 'relu'],\n",
    "    'solver': ['adam', 'sgd'],\n",
    "    'alpha': [0, .2, .5, .7, 1],\n",
    "    'learning_rate': ['constant', 'invscaling', 'adaptive'],\n",
    "    'learning_rate_init': [0.0001, 0.001, 0.01],\n",
    "    'max_iter': [9000]\n",
    "}\n",
    "\n",
    "ann = MLPClassifier(random_state=1)\n",
    "rand_search = RandomizedSearchCV(\n",
    "    estimator = ann,                    # the model to use\n",
    "    param_distributions=param_grid,     # the parameter grid\n",
    "    cv=kfolds,                      # number of folds\n",
    "    n_iter=200,                     # number of iterations; this is the number of parameter settings that are sampled\n",
    "    scoring=score_measure,          # score measure used to evaluate parameter combinations\n",
    "    verbose=0,                      # verbose level; the higher, the more messages. 0 for no messages\n",
    "    n_jobs=-1,                      # number of parallel jobs to run >> n_jobs=-1 will utilize all available CPUs \n",
    "    random_state=1                  # random state ensures that the splits are the same for each iteration\n",
    ")\n",
    "\n",
    "rand_search.fit(X_train, y_train)\n",
    "\n",
    "bestMLPClassifier = rand_search.best_estimator_\n",
    "\n",
    "print(rand_search.best_params_)"
   ]
  },
  {
   "cell_type": "code",
   "execution_count": 124,
   "metadata": {},
   "outputs": [
    {
     "name": "stdout",
     "output_type": "stream",
     "text": [
      "              precision    recall  f1-score   support\n",
      "\n",
      "           0     0.7571    0.3630    0.4907       146\n",
      "           1     0.4224    0.8000    0.5528        85\n",
      "\n",
      "    accuracy                         0.5238       231\n",
      "   macro avg     0.5898    0.5815    0.5218       231\n",
      "weighted avg     0.6340    0.5238    0.5136       231\n",
      "\n",
      "CPU times: total: 0 ns\n",
      "Wall time: 11.9 ms\n"
     ]
    }
   ],
   "source": [
    "%%time\n",
    "y_pred = bestMLPClassifier.predict(X_test)\n",
    "\n",
    "print(classification_report(y_test, y_pred, digits=4))"
   ]
  },
  {
   "cell_type": "code",
   "execution_count": 125,
   "metadata": {},
   "outputs": [
    {
     "name": "stdout",
     "output_type": "stream",
     "text": [
      "[(0, 146), (1, 85)]\n"
     ]
    },
    {
     "data": {
      "image/png": "[encoded data removed]",
      "text/plain": [
       "<Figure size 640x480 with 2 Axes>"
      ]
     },
     "metadata": {},
     "output_type": "display_data"
    }
   ],
   "source": [
    "\n",
    "counts = sorted(collections.Counter(y_test).items(), key=lambda i: i[0])\n",
    "print(counts)\n",
    "\n",
    "# display the confusion matrix\n",
    "cm = confusion_matrix(y_test, y_pred)\n",
    "disp = ConfusionMatrixDisplay(confusion_matrix=cm)\n",
    "disp.plot(cmap=plt.cm.Blues)\n",
    "plt.show()"
   ]
  },
  {
   "cell_type": "code",
   "execution_count": 126,
   "metadata": {},
   "outputs": [
    {
     "name": "stdout",
     "output_type": "stream",
     "text": [
      "Accuracy:           0.5238\n",
      "F1:                 0.5528\n",
      ">>Recall:           0.8000\n",
      "Precision:          0.4224\n"
     ]
    }
   ],
   "source": [
    "accuracy = bestMLPClassifier.score(X_test, y_test)\n",
    "print(f\"{'Accuracy:':20s}{accuracy:.4f}\")\n",
    "\n",
    "F1 = f1_score(y_test, y_pred)\n",
    "print(f\"{'F1:':20s}{F1:.4f}\")\n",
    "\n",
    "\n",
    "recall = recall_score(y_test, y_pred)\n",
    "print(f\"{'>>Recall:':20s}{recall:.4f}\")\n",
    "\n",
    "\n",
    "\n",
    "precision = precision_score(y_test, y_pred)\n",
    "print(f\"{'Precision:':20s}{precision:.4f}\")\n",
    "\n",
    "\n",
    "performance = pd.concat([performance, pd.DataFrame({\"model\": 'Neural Networks random search', \"accuracy\": [accuracy], \n",
    "                                                    \"F1\": [F1], \">>recall\": [recall], \"precision\": [precision]})])\n"
   ]
  },
  {
   "cell_type": "code",
   "execution_count": 127,
   "metadata": {},
   "outputs": [
    {
     "name": "stdout",
     "output_type": "stream",
     "text": [
      "Neural Networks random search RMSE: 0.6900655593423543\n"
     ]
    }
   ],
   "source": [
    "test_rmse = np.sqrt(mean_squared_error(y_test, y_pred))\n",
    "print(f\"Neural Networks random search RMSE: {test_rmse}\")\n",
    "\n",
    "rmses = pd.concat([rmses,pd.DataFrame({\"model\": 'Neural Networks random search', \"rmse\": [test_rmse]})])"
   ]
  },
  {
   "cell_type": "markdown",
   "metadata": {},
   "source": [
    "## Step 6: Summarize results     \n"
   ]
  },
  {
   "cell_type": "code",
   "execution_count": 128,
   "metadata": {},
   "outputs": [
    {
     "data": {
      "text/html": [
       "<div>\n",
       "<style scoped>\n",
       "    .dataframe tbody tr th:only-of-type {\n",
       "        vertical-align: middle;\n",
       "    }\n",
       "\n",
       "    .dataframe tbody tr th {\n",
       "        vertical-align: top;\n",
       "    }\n",
       "\n",
       "    .dataframe thead th {\n",
       "        text-align: right;\n",
       "    }\n",
       "</style>\n",
       "<table border=\"1\" class=\"dataframe\">\n",
       "  <thead>\n",
       "    <tr style=\"text-align: right;\">\n",
       "      <th></th>\n",
       "      <th>model</th>\n",
       "      <th>accuracy</th>\n",
       "      <th>F1</th>\n",
       "      <th>&gt;&gt;recall</th>\n",
       "      <th>precision</th>\n",
       "    </tr>\n",
       "  </thead>\n",
       "  <tbody>\n",
       "    <tr>\n",
       "      <th>0</th>\n",
       "      <td>Logestic Regression</td>\n",
       "      <td>0.783550</td>\n",
       "      <td>0.662162</td>\n",
       "      <td>0.576471</td>\n",
       "      <td>0.777778</td>\n",
       "    </tr>\n",
       "    <tr>\n",
       "      <th>0</th>\n",
       "      <td>Logestic Regression liblin</td>\n",
       "      <td>0.783550</td>\n",
       "      <td>0.662162</td>\n",
       "      <td>0.576471</td>\n",
       "      <td>0.777778</td>\n",
       "    </tr>\n",
       "    <tr>\n",
       "      <th>0</th>\n",
       "      <td>Logestic Regression L2</td>\n",
       "      <td>0.783550</td>\n",
       "      <td>0.662162</td>\n",
       "      <td>0.576471</td>\n",
       "      <td>0.777778</td>\n",
       "    </tr>\n",
       "    <tr>\n",
       "      <th>0</th>\n",
       "      <td>Logestic Regression L1</td>\n",
       "      <td>0.783550</td>\n",
       "      <td>0.662162</td>\n",
       "      <td>0.576471</td>\n",
       "      <td>0.777778</td>\n",
       "    </tr>\n",
       "    <tr>\n",
       "      <th>0</th>\n",
       "      <td>Logestic Regression Elastic</td>\n",
       "      <td>0.783550</td>\n",
       "      <td>0.662162</td>\n",
       "      <td>0.576471</td>\n",
       "      <td>0.777778</td>\n",
       "    </tr>\n",
       "    <tr>\n",
       "      <th>0</th>\n",
       "      <td>Decision Tree</td>\n",
       "      <td>0.709957</td>\n",
       "      <td>0.588957</td>\n",
       "      <td>0.564706</td>\n",
       "      <td>0.615385</td>\n",
       "    </tr>\n",
       "    <tr>\n",
       "      <th>0</th>\n",
       "      <td>Decision Tree Random search</td>\n",
       "      <td>0.623529</td>\n",
       "      <td>0.675159</td>\n",
       "      <td>0.623529</td>\n",
       "      <td>0.736111</td>\n",
       "    </tr>\n",
       "    <tr>\n",
       "      <th>0</th>\n",
       "      <td>Decision Tree grid search</td>\n",
       "      <td>0.623529</td>\n",
       "      <td>0.675159</td>\n",
       "      <td>0.623529</td>\n",
       "      <td>0.736111</td>\n",
       "    </tr>\n",
       "    <tr>\n",
       "      <th>0</th>\n",
       "      <td>Random forest</td>\n",
       "      <td>0.813853</td>\n",
       "      <td>0.726115</td>\n",
       "      <td>0.670588</td>\n",
       "      <td>0.791667</td>\n",
       "    </tr>\n",
       "    <tr>\n",
       "      <th>0</th>\n",
       "      <td>Random forest random search</td>\n",
       "      <td>0.552941</td>\n",
       "      <td>0.648276</td>\n",
       "      <td>0.552941</td>\n",
       "      <td>0.783333</td>\n",
       "    </tr>\n",
       "    <tr>\n",
       "      <th>0</th>\n",
       "      <td>Random forest grid search</td>\n",
       "      <td>0.792208</td>\n",
       "      <td>0.671233</td>\n",
       "      <td>0.576471</td>\n",
       "      <td>0.803279</td>\n",
       "    </tr>\n",
       "    <tr>\n",
       "      <th>0</th>\n",
       "      <td>ADABoost</td>\n",
       "      <td>0.783550</td>\n",
       "      <td>0.666667</td>\n",
       "      <td>0.588235</td>\n",
       "      <td>0.769231</td>\n",
       "    </tr>\n",
       "    <tr>\n",
       "      <th>0</th>\n",
       "      <td>ADABoost random search</td>\n",
       "      <td>0.576471</td>\n",
       "      <td>0.616352</td>\n",
       "      <td>0.576471</td>\n",
       "      <td>0.662162</td>\n",
       "    </tr>\n",
       "    <tr>\n",
       "      <th>0</th>\n",
       "      <td>ADABoost grid search</td>\n",
       "      <td>0.658824</td>\n",
       "      <td>0.674699</td>\n",
       "      <td>0.658824</td>\n",
       "      <td>0.691358</td>\n",
       "    </tr>\n",
       "    <tr>\n",
       "      <th>0</th>\n",
       "      <td>GradientBoost</td>\n",
       "      <td>0.796537</td>\n",
       "      <td>0.700637</td>\n",
       "      <td>0.647059</td>\n",
       "      <td>0.763889</td>\n",
       "    </tr>\n",
       "    <tr>\n",
       "      <th>0</th>\n",
       "      <td>Gradient Boost Random search</td>\n",
       "      <td>0.635294</td>\n",
       "      <td>0.696774</td>\n",
       "      <td>0.635294</td>\n",
       "      <td>0.771429</td>\n",
       "    </tr>\n",
       "    <tr>\n",
       "      <th>0</th>\n",
       "      <td>Gradient Boost grid search</td>\n",
       "      <td>0.635294</td>\n",
       "      <td>0.696774</td>\n",
       "      <td>0.635294</td>\n",
       "      <td>0.771429</td>\n",
       "    </tr>\n",
       "    <tr>\n",
       "      <th>0</th>\n",
       "      <td>XGBoost</td>\n",
       "      <td>0.766234</td>\n",
       "      <td>0.653846</td>\n",
       "      <td>0.600000</td>\n",
       "      <td>0.718310</td>\n",
       "    </tr>\n",
       "    <tr>\n",
       "      <th>0</th>\n",
       "      <td>XGBoost Random search</td>\n",
       "      <td>0.623529</td>\n",
       "      <td>0.675159</td>\n",
       "      <td>0.623529</td>\n",
       "      <td>0.736111</td>\n",
       "    </tr>\n",
       "    <tr>\n",
       "      <th>0</th>\n",
       "      <td>XGBoost grid search</td>\n",
       "      <td>0.623529</td>\n",
       "      <td>0.675159</td>\n",
       "      <td>0.623529</td>\n",
       "      <td>0.736111</td>\n",
       "    </tr>\n",
       "    <tr>\n",
       "      <th>0</th>\n",
       "      <td>Neural Networks</td>\n",
       "      <td>0.766234</td>\n",
       "      <td>0.678571</td>\n",
       "      <td>0.670588</td>\n",
       "      <td>0.686747</td>\n",
       "    </tr>\n",
       "    <tr>\n",
       "      <th>0</th>\n",
       "      <td>Neural Networks random search</td>\n",
       "      <td>0.523810</td>\n",
       "      <td>0.552846</td>\n",
       "      <td>0.800000</td>\n",
       "      <td>0.422360</td>\n",
       "    </tr>\n",
       "  </tbody>\n",
       "</table>\n",
       "</div>"
      ],
      "text/plain": [
       "                           model  accuracy        F1  >>recall  precision\n",
       "0            Logestic Regression  0.783550  0.662162  0.576471   0.777778\n",
       "0     Logestic Regression liblin  0.783550  0.662162  0.576471   0.777778\n",
       "0         Logestic Regression L2  0.783550  0.662162  0.576471   0.777778\n",
       "0         Logestic Regression L1  0.783550  0.662162  0.576471   0.777778\n",
       "0    Logestic Regression Elastic  0.783550  0.662162  0.576471   0.777778\n",
       "0                  Decision Tree  0.709957  0.588957  0.564706   0.615385\n",
       "0    Decision Tree Random search  0.623529  0.675159  0.623529   0.736111\n",
       "0      Decision Tree grid search  0.623529  0.675159  0.623529   0.736111\n",
       "0                  Random forest  0.813853  0.726115  0.670588   0.791667\n",
       "0    Random forest random search  0.552941  0.648276  0.552941   0.783333\n",
       "0      Random forest grid search  0.792208  0.671233  0.576471   0.803279\n",
       "0                       ADABoost  0.783550  0.666667  0.588235   0.769231\n",
       "0         ADABoost random search  0.576471  0.616352  0.576471   0.662162\n",
       "0           ADABoost grid search  0.658824  0.674699  0.658824   0.691358\n",
       "0                  GradientBoost  0.796537  0.700637  0.647059   0.763889\n",
       "0   Gradient Boost Random search  0.635294  0.696774  0.635294   0.771429\n",
       "0     Gradient Boost grid search  0.635294  0.696774  0.635294   0.771429\n",
       "0                        XGBoost  0.766234  0.653846  0.600000   0.718310\n",
       "0          XGBoost Random search  0.623529  0.675159  0.623529   0.736111\n",
       "0            XGBoost grid search  0.623529  0.675159  0.623529   0.736111\n",
       "0                Neural Networks  0.766234  0.678571  0.670588   0.686747\n",
       "0  Neural Networks random search  0.523810  0.552846  0.800000   0.422360"
      ]
     },
     "execution_count": 128,
     "metadata": {},
     "output_type": "execute_result"
    }
   ],
   "source": [
    "performance"
   ]
  },
  {
   "cell_type": "code",
   "execution_count": 129,
   "metadata": {},
   "outputs": [
    {
     "data": {
      "text/html": [
       "<div>\n",
       "<style scoped>\n",
       "    .dataframe tbody tr th:only-of-type {\n",
       "        vertical-align: middle;\n",
       "    }\n",
       "\n",
       "    .dataframe tbody tr th {\n",
       "        vertical-align: top;\n",
       "    }\n",
       "\n",
       "    .dataframe thead th {\n",
       "        text-align: right;\n",
       "    }\n",
       "</style>\n",
       "<table border=\"1\" class=\"dataframe\">\n",
       "  <thead>\n",
       "    <tr style=\"text-align: right;\">\n",
       "      <th></th>\n",
       "      <th>model</th>\n",
       "      <th>rmse</th>\n",
       "    </tr>\n",
       "  </thead>\n",
       "  <tbody>\n",
       "    <tr>\n",
       "      <th>0</th>\n",
       "      <td>Logestic Regression</td>\n",
       "      <td>0.465242</td>\n",
       "    </tr>\n",
       "    <tr>\n",
       "      <th>0</th>\n",
       "      <td>Logestic Regression liblin</td>\n",
       "      <td>0.465242</td>\n",
       "    </tr>\n",
       "    <tr>\n",
       "      <th>0</th>\n",
       "      <td>Logestic Regression L2</td>\n",
       "      <td>0.465242</td>\n",
       "    </tr>\n",
       "    <tr>\n",
       "      <th>0</th>\n",
       "      <td>Logestic Regression L1</td>\n",
       "      <td>0.465242</td>\n",
       "    </tr>\n",
       "    <tr>\n",
       "      <th>0</th>\n",
       "      <td>Logestic Regression Elastic</td>\n",
       "      <td>0.465242</td>\n",
       "    </tr>\n",
       "    <tr>\n",
       "      <th>0</th>\n",
       "      <td>Decision Tree</td>\n",
       "      <td>0.538557</td>\n",
       "    </tr>\n",
       "    <tr>\n",
       "      <th>0</th>\n",
       "      <td>Decision Tree Random search</td>\n",
       "      <td>0.469871</td>\n",
       "    </tr>\n",
       "    <tr>\n",
       "      <th>0</th>\n",
       "      <td>Decision Tree grid search</td>\n",
       "      <td>0.469871</td>\n",
       "    </tr>\n",
       "    <tr>\n",
       "      <th>0</th>\n",
       "      <td>Random forest</td>\n",
       "      <td>0.431448</td>\n",
       "    </tr>\n",
       "    <tr>\n",
       "      <th>0</th>\n",
       "      <td>Random forest random search</td>\n",
       "      <td>0.469871</td>\n",
       "    </tr>\n",
       "    <tr>\n",
       "      <th>0</th>\n",
       "      <td>Random forest grid search</td>\n",
       "      <td>0.455842</td>\n",
       "    </tr>\n",
       "    <tr>\n",
       "      <th>0</th>\n",
       "      <td>ADABoost</td>\n",
       "      <td>0.465242</td>\n",
       "    </tr>\n",
       "    <tr>\n",
       "      <th>0</th>\n",
       "      <td>ADABoost random search</td>\n",
       "      <td>0.513877</td>\n",
       "    </tr>\n",
       "    <tr>\n",
       "      <th>0</th>\n",
       "      <td>ADABoost grid search</td>\n",
       "      <td>0.483494</td>\n",
       "    </tr>\n",
       "    <tr>\n",
       "      <th>0</th>\n",
       "      <td>GradientBoost</td>\n",
       "      <td>0.451069</td>\n",
       "    </tr>\n",
       "    <tr>\n",
       "      <th>0</th>\n",
       "      <td>Gradient Boost Random search</td>\n",
       "      <td>0.451069</td>\n",
       "    </tr>\n",
       "    <tr>\n",
       "      <th>0</th>\n",
       "      <td>Gradient Boost grid search</td>\n",
       "      <td>0.451069</td>\n",
       "    </tr>\n",
       "    <tr>\n",
       "      <th>0</th>\n",
       "      <td>XGBoost</td>\n",
       "      <td>0.483494</td>\n",
       "    </tr>\n",
       "    <tr>\n",
       "      <th>0</th>\n",
       "      <td>XGBoost Random search</td>\n",
       "      <td>0.469871</td>\n",
       "    </tr>\n",
       "    <tr>\n",
       "      <th>0</th>\n",
       "      <td>XGBoost grid search</td>\n",
       "      <td>0.469871</td>\n",
       "    </tr>\n",
       "    <tr>\n",
       "      <th>0</th>\n",
       "      <td>Neural Networks</td>\n",
       "      <td>0.483494</td>\n",
       "    </tr>\n",
       "    <tr>\n",
       "      <th>0</th>\n",
       "      <td>Neural Networks random search</td>\n",
       "      <td>0.690066</td>\n",
       "    </tr>\n",
       "  </tbody>\n",
       "</table>\n",
       "</div>"
      ],
      "text/plain": [
       "                           model      rmse\n",
       "0            Logestic Regression  0.465242\n",
       "0     Logestic Regression liblin  0.465242\n",
       "0         Logestic Regression L2  0.465242\n",
       "0         Logestic Regression L1  0.465242\n",
       "0    Logestic Regression Elastic  0.465242\n",
       "0                  Decision Tree  0.538557\n",
       "0    Decision Tree Random search  0.469871\n",
       "0      Decision Tree grid search  0.469871\n",
       "0                  Random forest  0.431448\n",
       "0    Random forest random search  0.469871\n",
       "0      Random forest grid search  0.455842\n",
       "0                       ADABoost  0.465242\n",
       "0         ADABoost random search  0.513877\n",
       "0           ADABoost grid search  0.483494\n",
       "0                  GradientBoost  0.451069\n",
       "0   Gradient Boost Random search  0.451069\n",
       "0     Gradient Boost grid search  0.451069\n",
       "0                        XGBoost  0.483494\n",
       "0          XGBoost Random search  0.469871\n",
       "0            XGBoost grid search  0.469871\n",
       "0                Neural Networks  0.483494\n",
       "0  Neural Networks random search  0.690066"
      ]
     },
     "execution_count": 129,
     "metadata": {},
     "output_type": "execute_result"
    }
   ],
   "source": [
    "rmses"
   ]
  },
  {
   "cell_type": "markdown",
   "metadata": {},
   "source": [
    "## Section 4"
   ]
  },
  {
   "cell_type": "markdown",
   "metadata": {},
   "source": [
    "## Conclusion\n",
    "\n",
    "##### Problem: \n",
    "The data set have measurements of different variables based on that we need to find the diabetic patients.\n",
    "##### Goal:\n",
    "My goal is to analyze input variables such as Pregnancies, Glucose, BloodPressure, SkinThickness, Insulin, BMI, DiabetesPedigreeFunction,Age and predict the target variable which is outcome, whether a patient can have a diabetes or not.\n",
    "\n",
    "The performance metrics that I used to measure the performance of the models are\n",
    "\n",
    "Confusion Matrix\n",
    "\n",
    "* TP - where I predict person have diabetes and really have diabetes. (Very important - The more TP I have the more profitable I am)\n",
    "* FP - where I redict preson have diabetes but really dont have diabetes. (important but Not so important - doesnt cost me much I a patient is not diabetec but predicted he is )\n",
    "* TN - where I predict person dont have diabetes and really dont have diabetes.(Important TN are also important for my profit so that I can give healthy information to patient and warn about future risk)\n",
    "* FN - where I predict person dont have diabetes but really have diabetes. (Very very important less FN are better. In this case FN costs me more than everything else)\n",
    "\n",
    "\n",
    "\n",
    "* Accuracy: This is the most intuitive performance measure. It is the ratio of correctly predicted observation to the total observations.\n",
    "\n",
    "* Precision: Precision is the ratio of correctly predicted positive observations to the total predicted positive observations. High precision relates to a low false positive rate.\n",
    "\n",
    "* Recall (Sensitivity): This is the ratio of correctly predicted positive observations to all actual positives. A model with a higher recall will have fewer false negatives.\n",
    "\n",
    "* F1 Score: This is the weighted average of precision and recall. Therefore, this score takes both false positives and false negatives into account. It is usually more useful than accuracy, especially if there is an an uneven class distribution.\n",
    "\n",
    "##### **I am going to use recall as my score measure since in my case it is important to have high true positives and less false negatives.\n",
    "\n",
    "##### ** As RMSE is not a good score measure for classification type of prblems I used RMSE to support our conclusion but not measure the score."
   ]
  },
  {
   "cell_type": "markdown",
   "metadata": {},
   "source": [
    "\n",
    "\n",
    "Based on the Individual and final results the report for the models used to predict the target variable:\n",
    "\n",
    "* Upon evaluation, the 'Random Forest' model exhibited the highest recall value of 0.670588, out of all models tested. Simultaneously, it also achieved the highest accuracy of 0.813853, an F1 score of 0.726115, and a respectable precision of 0.791667. The RMSE for the Random Forest model is relatively low (0.431448), which indicates a good model fit.\n",
    "\n",
    "* On the other hand, 'Neural Networks' showcased a slightly higher recall of 0.670588. However, it suffered from a lesser accuracy (0.766234), a lower F1 score (0.678571), and lower precision (0.686747). It also scored slightly higher on the RMSE (0.483494), signifying less accuracy in the prediction of continuous data points.\n",
    "\n",
    "* While the Neural Networks model using Random Search has high recall, it performs poorly in accuracy, precision, and F1 score. Its precision is notably low, indicating a high false-positive rate, which is problematic for medical diagnoses. Also, it has the highest RMSE value, suggesting a poor model fit. Therefore, despite its high recall, we cannot consider it as the best model due to its overall subpar performance.\n",
    "\n",
    "* Among the models optimized using Random Search and Grid Search techniques, none of them surpassed the standard Random Forest model in terms of Recall, Accuracy, F1-score, and Precision. But if we use more tuining with different parameters we might get more good results.\n",
    "\n",
    "In conclusion, the 'Random Forest' model seems to be the most suitable choice for this task considering the goal to maximize recall while ensuring adequate Accuracy, Precision, and F1 score. It also has a relatively low RMSE value. However, if the priority leans towards higher recall, we could also consider 'Neural Networks', acknowledging the trade-off in accuracy, precision, and a slightly higher RMSE."
   ]
  }
 ],
 "metadata": {
  "accelerator": "TPU",
  "colab": {
   "collapsed_sections": [],
   "include_colab_link": true,
   "machine_shape": "hm",
   "name": "Class08b-decision_tree_tuning.ipynb",
   "provenance": []
  },
  "kernelspec": {
   "display_name": "Python 3 (ipykernel)",
   "language": "python",
   "name": "python3"
  },
  "language_info": {
   "codemirror_mode": {
    "name": "ipython",
    "version": 3
   },
   "file_extension": ".py",
   "mimetype": "text/x-python",
   "name": "python",
   "nbconvert_exporter": "python",
   "pygments_lexer": "ipython3",
   "version": "3.10.11"
  },
  "vscode": {
   "interpreter": {
    "hash": "b056086e24cb5602cbcb82122035cd3d6ee2ccbf5df29c16e348c108b0f83be3"
   }
  }
 },
 "nbformat": 4,
 "nbformat_minor": 4
}
