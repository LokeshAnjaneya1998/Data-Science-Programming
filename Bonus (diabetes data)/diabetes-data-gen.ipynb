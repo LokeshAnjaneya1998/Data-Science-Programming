{
 "cells": [
  {
   "cell_type": "markdown",
   "id": "78185201-0d6d-4efd-8cd1-b7693d4c81f7",
   "metadata": {},
   "source": [
    "### Bonus Diabetes Data Generation"
   ]
  },
  {
   "cell_type": "markdown",
   "id": "24de08d4-bd07-4c57-b1eb-3439be7e8860",
   "metadata": {},
   "source": [
    "## Section 1"
   ]
  },
  {
   "cell_type": "markdown",
   "id": "bd834b92-3edd-4ac8-b15c-c112fc9bed25",
   "metadata": {},
   "source": [
    "#### Create a notebook that pre-processes this data for model fitting\n",
    "In this notebook, I will analyze and process the chosen data. Identify the target variable and input variables. I will include details about what I observed, what changes I am making, how I am making these changes, and why I am making these changes. I will save the results into csv files (these files should therefore be pre-processed and ready for model fitting. Later model fitting notebooks should not need data manipulation/processing."
   ]
  },
  {
   "cell_type": "markdown",
   "id": "d5e0ebd7-dbba-4974-b15a-d59c00fea88c",
   "metadata": {},
   "source": [
    "## Identification of a problem/goal for analysis\n",
    "\n",
    "The data set is collecred from kaggle and we need to predict whether a patient can have a diabetes or not.\n",
    "##### Problem: \n",
    "The data set have measurements of different variables based on that we need to find the diabetic patients.\n",
    "##### Goal:\n",
    "My goal is to analyze input variables such as Pregnancies, Glucose, BloodPressure, SkinThickness, Insulin, BMI, DiabetesPedigreeFunction,Age and predict the target variable which is outcome, whether a patient can have a diabetes or not."
   ]
  },
  {
   "cell_type": "markdown",
   "id": "78f0abfb-7570-44e5-85c8-13eaf8f3106f",
   "metadata": {},
   "source": [
    "### Importing necessary modules"
   ]
  },
  {
   "cell_type": "code",
   "execution_count": 1,
   "id": "18b4e02e-d6ec-4435-8cb3-1906d96c9c38",
   "metadata": {},
   "outputs": [],
   "source": [
    "import pandas as pd\n",
    "from matplotlib import pyplot as plt\n",
    "import numpy as np\n",
    "from sklearn.preprocessing import OneHotEncoder\n",
    "from sklearn.model_selection import train_test_split\n",
    "from sklearn import preprocessing\n",
    "from sklearn.impute import SimpleImputer\n",
    "from sklearn.metrics import confusion_matrix\n",
    "from sklearn.model_selection import GridSearchCV, RandomizedSearchCV\n",
    "from sklearn.tree import DecisionTreeClassifier \n",
    "from sklearn.preprocessing import StandardScaler\n",
    "\n",
    "np.random.seed(1)"
   ]
  },
  {
   "cell_type": "markdown",
   "id": "cad52f0b-9485-4d61-9ce3-d72892f91ce0",
   "metadata": {},
   "source": [
    "### Reading and displaying data from the choosen data set."
   ]
  },
  {
   "cell_type": "code",
   "execution_count": 2,
   "id": "27f1ad40-b21f-44c6-b0a8-684e78d3f9f2",
   "metadata": {},
   "outputs": [],
   "source": [
    "df = pd.read_csv('bonus-data-set.csv') "
   ]
  },
  {
   "cell_type": "code",
   "execution_count": 3,
   "id": "cb00f8f9-8613-4187-bfcf-8af4a97704d0",
   "metadata": {},
   "outputs": [
    {
     "data": {
      "text/html": [
       "<div>\n",
       "<style scoped>\n",
       "    .dataframe tbody tr th:only-of-type {\n",
       "        vertical-align: middle;\n",
       "    }\n",
       "\n",
       "    .dataframe tbody tr th {\n",
       "        vertical-align: top;\n",
       "    }\n",
       "\n",
       "    .dataframe thead th {\n",
       "        text-align: right;\n",
       "    }\n",
       "</style>\n",
       "<table border=\"1\" class=\"dataframe\">\n",
       "  <thead>\n",
       "    <tr style=\"text-align: right;\">\n",
       "      <th></th>\n",
       "      <th>Pregnancies</th>\n",
       "      <th>Glucose</th>\n",
       "      <th>BloodPressure</th>\n",
       "      <th>SkinThickness</th>\n",
       "      <th>Insulin</th>\n",
       "      <th>BMI</th>\n",
       "      <th>DiabetesPedigreeFunction</th>\n",
       "      <th>Age</th>\n",
       "      <th>Outcome</th>\n",
       "    </tr>\n",
       "  </thead>\n",
       "  <tbody>\n",
       "    <tr>\n",
       "      <th>0</th>\n",
       "      <td>6</td>\n",
       "      <td>148</td>\n",
       "      <td>72</td>\n",
       "      <td>35</td>\n",
       "      <td>0</td>\n",
       "      <td>33.6</td>\n",
       "      <td>0.627</td>\n",
       "      <td>50</td>\n",
       "      <td>1</td>\n",
       "    </tr>\n",
       "    <tr>\n",
       "      <th>1</th>\n",
       "      <td>1</td>\n",
       "      <td>85</td>\n",
       "      <td>66</td>\n",
       "      <td>29</td>\n",
       "      <td>0</td>\n",
       "      <td>26.6</td>\n",
       "      <td>0.351</td>\n",
       "      <td>31</td>\n",
       "      <td>0</td>\n",
       "    </tr>\n",
       "    <tr>\n",
       "      <th>2</th>\n",
       "      <td>8</td>\n",
       "      <td>183</td>\n",
       "      <td>64</td>\n",
       "      <td>0</td>\n",
       "      <td>0</td>\n",
       "      <td>23.3</td>\n",
       "      <td>0.672</td>\n",
       "      <td>32</td>\n",
       "      <td>1</td>\n",
       "    </tr>\n",
       "    <tr>\n",
       "      <th>3</th>\n",
       "      <td>1</td>\n",
       "      <td>89</td>\n",
       "      <td>66</td>\n",
       "      <td>23</td>\n",
       "      <td>94</td>\n",
       "      <td>28.1</td>\n",
       "      <td>0.167</td>\n",
       "      <td>21</td>\n",
       "      <td>0</td>\n",
       "    </tr>\n",
       "    <tr>\n",
       "      <th>4</th>\n",
       "      <td>0</td>\n",
       "      <td>137</td>\n",
       "      <td>40</td>\n",
       "      <td>35</td>\n",
       "      <td>168</td>\n",
       "      <td>43.1</td>\n",
       "      <td>2.288</td>\n",
       "      <td>33</td>\n",
       "      <td>1</td>\n",
       "    </tr>\n",
       "  </tbody>\n",
       "</table>\n",
       "</div>"
      ],
      "text/plain": [
       "   Pregnancies  Glucose  BloodPressure  SkinThickness  Insulin   BMI  \\\n",
       "0            6      148             72             35        0  33.6   \n",
       "1            1       85             66             29        0  26.6   \n",
       "2            8      183             64              0        0  23.3   \n",
       "3            1       89             66             23       94  28.1   \n",
       "4            0      137             40             35      168  43.1   \n",
       "\n",
       "   DiabetesPedigreeFunction  Age  Outcome  \n",
       "0                     0.627   50        1  \n",
       "1                     0.351   31        0  \n",
       "2                     0.672   32        1  \n",
       "3                     0.167   21        0  \n",
       "4                     2.288   33        1  "
      ]
     },
     "execution_count": 3,
     "metadata": {},
     "output_type": "execute_result"
    }
   ],
   "source": [
    "df.head(5)"
   ]
  },
  {
   "cell_type": "markdown",
   "id": "17631255-cbfd-4a9e-825b-0a8fb1308154",
   "metadata": {},
   "source": [
    "### Details of the data"
   ]
  },
  {
   "cell_type": "markdown",
   "id": "d9e1620d-ff38-48d6-9805-40b47ba8d35b",
   "metadata": {},
   "source": [
    "Predictors (X)\n",
    "- Pregnancies - Number of pregnancies person had\n",
    "- Glucose - Glucose level of person\n",
    "- BloodPressure - Blood Pressure of person\n",
    "- SkinThickness - Skin Thickness of person\n",
    "- Insulin - Insulin level of person\n",
    "- BMI - BMI of person\n",
    "- DiabetesPedigreeFunction - Diabetes Pedigree Function of person\n",
    "- Age - Glucose level of person\n",
    "Target (Y)\n",
    "- Outcome\n",
    "\n",
    "(0 - not diabetic, 1 - diabetic)"
   ]
  },
  {
   "cell_type": "markdown",
   "id": "03b88fde-cbb1-4028-8164-ee4378a61818",
   "metadata": {},
   "source": [
    "## Cleaning the data"
   ]
  },
  {
   "cell_type": "markdown",
   "id": "8f98fa73-81ea-4bf7-8913-e320e166e1f6",
   "metadata": {},
   "source": [
    "### Replacing categorical values with binary values."
   ]
  },
  {
   "cell_type": "markdown",
   "id": "ee9025f6-3948-4c77-a62a-c3c76c61e4f4",
   "metadata": {},
   "source": [
    "#### Cleaning up colum names, if there are some leading whitespace characters. \n",
    "Since it is best practice to clear any white spaces before starting to analyze."
   ]
  },
  {
   "cell_type": "code",
   "execution_count": 4,
   "id": "12471c60-33ac-4047-a926-cffc52b984a4",
   "metadata": {},
   "outputs": [
    {
     "data": {
      "text/plain": [
       "Index(['Pregnancies', 'Glucose', 'BloodPressure', 'SkinThickness', 'Insulin',\n",
       "       'BMI', 'DiabetesPedigreeFunction', 'Age', 'Outcome'],\n",
       "      dtype='object')"
      ]
     },
     "execution_count": 4,
     "metadata": {},
     "output_type": "execute_result"
    }
   ],
   "source": [
    "df.columns = [s.strip() for s in df.columns] \n",
    "df.columns"
   ]
  },
  {
   "cell_type": "markdown",
   "id": "1b2ae989-6d86-4f38-a970-e0e9032fe542",
   "metadata": {},
   "source": [
    "### No unnecessary columns to drop"
   ]
  },
  {
   "cell_type": "markdown",
   "id": "9329e340-d5a3-400d-832f-67e8d8669d03",
   "metadata": {},
   "source": [
    "### Properteis and observations of cleaned data"
   ]
  },
  {
   "cell_type": "code",
   "execution_count": 5,
   "id": "30aaeb12-0be1-4e24-afb1-52c59c664e37",
   "metadata": {},
   "outputs": [
    {
     "data": {
      "text/html": [
       "<div>\n",
       "<style scoped>\n",
       "    .dataframe tbody tr th:only-of-type {\n",
       "        vertical-align: middle;\n",
       "    }\n",
       "\n",
       "    .dataframe tbody tr th {\n",
       "        vertical-align: top;\n",
       "    }\n",
       "\n",
       "    .dataframe thead th {\n",
       "        text-align: right;\n",
       "    }\n",
       "</style>\n",
       "<table border=\"1\" class=\"dataframe\">\n",
       "  <thead>\n",
       "    <tr style=\"text-align: right;\">\n",
       "      <th></th>\n",
       "      <th>Pregnancies</th>\n",
       "      <th>Glucose</th>\n",
       "      <th>BloodPressure</th>\n",
       "      <th>SkinThickness</th>\n",
       "      <th>Insulin</th>\n",
       "      <th>BMI</th>\n",
       "      <th>DiabetesPedigreeFunction</th>\n",
       "      <th>Age</th>\n",
       "      <th>Outcome</th>\n",
       "    </tr>\n",
       "  </thead>\n",
       "  <tbody>\n",
       "    <tr>\n",
       "      <th>0</th>\n",
       "      <td>6</td>\n",
       "      <td>148</td>\n",
       "      <td>72</td>\n",
       "      <td>35</td>\n",
       "      <td>0</td>\n",
       "      <td>33.6</td>\n",
       "      <td>0.627</td>\n",
       "      <td>50</td>\n",
       "      <td>1</td>\n",
       "    </tr>\n",
       "    <tr>\n",
       "      <th>1</th>\n",
       "      <td>1</td>\n",
       "      <td>85</td>\n",
       "      <td>66</td>\n",
       "      <td>29</td>\n",
       "      <td>0</td>\n",
       "      <td>26.6</td>\n",
       "      <td>0.351</td>\n",
       "      <td>31</td>\n",
       "      <td>0</td>\n",
       "    </tr>\n",
       "    <tr>\n",
       "      <th>2</th>\n",
       "      <td>8</td>\n",
       "      <td>183</td>\n",
       "      <td>64</td>\n",
       "      <td>0</td>\n",
       "      <td>0</td>\n",
       "      <td>23.3</td>\n",
       "      <td>0.672</td>\n",
       "      <td>32</td>\n",
       "      <td>1</td>\n",
       "    </tr>\n",
       "  </tbody>\n",
       "</table>\n",
       "</div>"
      ],
      "text/plain": [
       "   Pregnancies  Glucose  BloodPressure  SkinThickness  Insulin   BMI  \\\n",
       "0            6      148             72             35        0  33.6   \n",
       "1            1       85             66             29        0  26.6   \n",
       "2            8      183             64              0        0  23.3   \n",
       "\n",
       "   DiabetesPedigreeFunction  Age  Outcome  \n",
       "0                     0.627   50        1  \n",
       "1                     0.351   31        0  \n",
       "2                     0.672   32        1  "
      ]
     },
     "execution_count": 5,
     "metadata": {},
     "output_type": "execute_result"
    }
   ],
   "source": [
    "df.head(3)"
   ]
  },
  {
   "cell_type": "code",
   "execution_count": 6,
   "id": "bcf6f04d-8aa7-4b3c-9e93-102359582be5",
   "metadata": {},
   "outputs": [
    {
     "data": {
      "text/plain": [
       "(768, 9)"
      ]
     },
     "execution_count": 6,
     "metadata": {},
     "output_type": "execute_result"
    }
   ],
   "source": [
    "df.shape"
   ]
  },
  {
   "cell_type": "code",
   "execution_count": 7,
   "id": "1456b2b4-e281-4c26-9192-3e2e5c789603",
   "metadata": {},
   "outputs": [
    {
     "name": "stdout",
     "output_type": "stream",
     "text": [
      "<class 'pandas.core.frame.DataFrame'>\n",
      "RangeIndex: 768 entries, 0 to 767\n",
      "Data columns (total 9 columns):\n",
      " #   Column                    Non-Null Count  Dtype  \n",
      "---  ------                    --------------  -----  \n",
      " 0   Pregnancies               768 non-null    int64  \n",
      " 1   Glucose                   768 non-null    int64  \n",
      " 2   BloodPressure             768 non-null    int64  \n",
      " 3   SkinThickness             768 non-null    int64  \n",
      " 4   Insulin                   768 non-null    int64  \n",
      " 5   BMI                       768 non-null    float64\n",
      " 6   DiabetesPedigreeFunction  768 non-null    float64\n",
      " 7   Age                       768 non-null    int64  \n",
      " 8   Outcome                   768 non-null    int64  \n",
      "dtypes: float64(2), int64(7)\n",
      "memory usage: 54.1 KB\n"
     ]
    }
   ],
   "source": [
    "df.info()"
   ]
  },
  {
   "cell_type": "code",
   "execution_count": 8,
   "id": "bf9bcfba-5fe0-41f0-9c6e-87d116eafc33",
   "metadata": {},
   "outputs": [
    {
     "data": {
      "text/html": [
       "<div>\n",
       "<style scoped>\n",
       "    .dataframe tbody tr th:only-of-type {\n",
       "        vertical-align: middle;\n",
       "    }\n",
       "\n",
       "    .dataframe tbody tr th {\n",
       "        vertical-align: top;\n",
       "    }\n",
       "\n",
       "    .dataframe thead th {\n",
       "        text-align: right;\n",
       "    }\n",
       "</style>\n",
       "<table border=\"1\" class=\"dataframe\">\n",
       "  <thead>\n",
       "    <tr style=\"text-align: right;\">\n",
       "      <th></th>\n",
       "      <th>Pregnancies</th>\n",
       "      <th>Glucose</th>\n",
       "      <th>BloodPressure</th>\n",
       "      <th>SkinThickness</th>\n",
       "      <th>Insulin</th>\n",
       "      <th>BMI</th>\n",
       "      <th>DiabetesPedigreeFunction</th>\n",
       "      <th>Age</th>\n",
       "      <th>Outcome</th>\n",
       "    </tr>\n",
       "  </thead>\n",
       "  <tbody>\n",
       "    <tr>\n",
       "      <th>count</th>\n",
       "      <td>768.000000</td>\n",
       "      <td>768.000000</td>\n",
       "      <td>768.000000</td>\n",
       "      <td>768.000000</td>\n",
       "      <td>768.000000</td>\n",
       "      <td>768.000000</td>\n",
       "      <td>768.000000</td>\n",
       "      <td>768.000000</td>\n",
       "      <td>768.000000</td>\n",
       "    </tr>\n",
       "    <tr>\n",
       "      <th>mean</th>\n",
       "      <td>3.845052</td>\n",
       "      <td>120.894531</td>\n",
       "      <td>69.105469</td>\n",
       "      <td>20.536458</td>\n",
       "      <td>79.799479</td>\n",
       "      <td>31.992578</td>\n",
       "      <td>0.471876</td>\n",
       "      <td>33.240885</td>\n",
       "      <td>0.348958</td>\n",
       "    </tr>\n",
       "    <tr>\n",
       "      <th>std</th>\n",
       "      <td>3.369578</td>\n",
       "      <td>31.972618</td>\n",
       "      <td>19.355807</td>\n",
       "      <td>15.952218</td>\n",
       "      <td>115.244002</td>\n",
       "      <td>7.884160</td>\n",
       "      <td>0.331329</td>\n",
       "      <td>11.760232</td>\n",
       "      <td>0.476951</td>\n",
       "    </tr>\n",
       "    <tr>\n",
       "      <th>min</th>\n",
       "      <td>0.000000</td>\n",
       "      <td>0.000000</td>\n",
       "      <td>0.000000</td>\n",
       "      <td>0.000000</td>\n",
       "      <td>0.000000</td>\n",
       "      <td>0.000000</td>\n",
       "      <td>0.078000</td>\n",
       "      <td>21.000000</td>\n",
       "      <td>0.000000</td>\n",
       "    </tr>\n",
       "    <tr>\n",
       "      <th>25%</th>\n",
       "      <td>1.000000</td>\n",
       "      <td>99.000000</td>\n",
       "      <td>62.000000</td>\n",
       "      <td>0.000000</td>\n",
       "      <td>0.000000</td>\n",
       "      <td>27.300000</td>\n",
       "      <td>0.243750</td>\n",
       "      <td>24.000000</td>\n",
       "      <td>0.000000</td>\n",
       "    </tr>\n",
       "    <tr>\n",
       "      <th>50%</th>\n",
       "      <td>3.000000</td>\n",
       "      <td>117.000000</td>\n",
       "      <td>72.000000</td>\n",
       "      <td>23.000000</td>\n",
       "      <td>30.500000</td>\n",
       "      <td>32.000000</td>\n",
       "      <td>0.372500</td>\n",
       "      <td>29.000000</td>\n",
       "      <td>0.000000</td>\n",
       "    </tr>\n",
       "    <tr>\n",
       "      <th>75%</th>\n",
       "      <td>6.000000</td>\n",
       "      <td>140.250000</td>\n",
       "      <td>80.000000</td>\n",
       "      <td>32.000000</td>\n",
       "      <td>127.250000</td>\n",
       "      <td>36.600000</td>\n",
       "      <td>0.626250</td>\n",
       "      <td>41.000000</td>\n",
       "      <td>1.000000</td>\n",
       "    </tr>\n",
       "    <tr>\n",
       "      <th>max</th>\n",
       "      <td>17.000000</td>\n",
       "      <td>199.000000</td>\n",
       "      <td>122.000000</td>\n",
       "      <td>99.000000</td>\n",
       "      <td>846.000000</td>\n",
       "      <td>67.100000</td>\n",
       "      <td>2.420000</td>\n",
       "      <td>81.000000</td>\n",
       "      <td>1.000000</td>\n",
       "    </tr>\n",
       "  </tbody>\n",
       "</table>\n",
       "</div>"
      ],
      "text/plain": [
       "       Pregnancies     Glucose  BloodPressure  SkinThickness     Insulin  \\\n",
       "count   768.000000  768.000000     768.000000     768.000000  768.000000   \n",
       "mean      3.845052  120.894531      69.105469      20.536458   79.799479   \n",
       "std       3.369578   31.972618      19.355807      15.952218  115.244002   \n",
       "min       0.000000    0.000000       0.000000       0.000000    0.000000   \n",
       "25%       1.000000   99.000000      62.000000       0.000000    0.000000   \n",
       "50%       3.000000  117.000000      72.000000      23.000000   30.500000   \n",
       "75%       6.000000  140.250000      80.000000      32.000000  127.250000   \n",
       "max      17.000000  199.000000     122.000000      99.000000  846.000000   \n",
       "\n",
       "              BMI  DiabetesPedigreeFunction         Age     Outcome  \n",
       "count  768.000000                768.000000  768.000000  768.000000  \n",
       "mean    31.992578                  0.471876   33.240885    0.348958  \n",
       "std      7.884160                  0.331329   11.760232    0.476951  \n",
       "min      0.000000                  0.078000   21.000000    0.000000  \n",
       "25%     27.300000                  0.243750   24.000000    0.000000  \n",
       "50%     32.000000                  0.372500   29.000000    0.000000  \n",
       "75%     36.600000                  0.626250   41.000000    1.000000  \n",
       "max     67.100000                  2.420000   81.000000    1.000000  "
      ]
     },
     "execution_count": 8,
     "metadata": {},
     "output_type": "execute_result"
    }
   ],
   "source": [
    "df.describe()"
   ]
  },
  {
   "cell_type": "markdown",
   "id": "1164c278-ddfb-42be-9703-e6ae8885e730",
   "metadata": {},
   "source": [
    "### Looking for null values"
   ]
  },
  {
   "cell_type": "code",
   "execution_count": 9,
   "id": "0e7773dc-01fb-4f20-a692-61ef4affc55f",
   "metadata": {},
   "outputs": [
    {
     "data": {
      "text/plain": [
       "Pregnancies                 0\n",
       "Glucose                     0\n",
       "BloodPressure               0\n",
       "SkinThickness               0\n",
       "Insulin                     0\n",
       "BMI                         0\n",
       "DiabetesPedigreeFunction    0\n",
       "Age                         0\n",
       "Outcome                     0\n",
       "dtype: int64"
      ]
     },
     "execution_count": 9,
     "metadata": {},
     "output_type": "execute_result"
    }
   ],
   "source": [
    "df.isna().sum()"
   ]
  },
  {
   "cell_type": "markdown",
   "id": "80f55e15-b80d-4ed2-a39b-bea15d02b2b9",
   "metadata": {},
   "source": [
    "Looks like there are no null values."
   ]
  },
  {
   "cell_type": "markdown",
   "id": "afe097fe-0099-4dd8-a109-381afeab9898",
   "metadata": {},
   "source": [
    "## Section 2"
   ]
  },
  {
   "cell_type": "markdown",
   "id": "7fd0fd5c-2408-4c5f-851f-b03a3932baa8",
   "metadata": {},
   "source": [
    "### Spliting the data for training and testing (data partitoning 70/30)\n",
    "\n",
    "The data set is a good one with 20,000 observations. So I decided to partiton the data for 70% for training and 30% for testing which I believe will give good results."
   ]
  },
  {
   "cell_type": "code",
   "execution_count": 10,
   "id": "0713211d-cca2-4e70-a71f-c2e48b9fb124",
   "metadata": {},
   "outputs": [],
   "source": [
    "train_df, test_df = train_test_split(df, test_size=0.3, random_state=1)"
   ]
  },
  {
   "cell_type": "markdown",
   "id": "3caf98e4-ddc6-4b4a-8aae-f35d9861e175",
   "metadata": {},
   "source": [
    "### Seperating the predictors and traget variables"
   ]
  },
  {
   "cell_type": "code",
   "execution_count": 11,
   "id": "1225346e-006b-4871-973a-b7e0af0edf10",
   "metadata": {},
   "outputs": [],
   "source": [
    "target = 'Outcome'\n",
    "predictors = list(df.columns)\n",
    "predictors.remove(target)"
   ]
  },
  {
   "cell_type": "markdown",
   "id": "874547d2-d1f9-46e1-80ce-f818cee43556",
   "metadata": {},
   "source": [
    "### Looking for null values"
   ]
  },
  {
   "cell_type": "code",
   "execution_count": 12,
   "id": "45de7a00-72d0-42ee-aacf-911212101d26",
   "metadata": {
    "tags": []
   },
   "outputs": [
    {
     "data": {
      "text/plain": [
       "[]"
      ]
     },
     "execution_count": 12,
     "metadata": {},
     "output_type": "execute_result"
    }
   ],
   "source": [
    "numeric_cols_with_nas = list(train_df.isna().sum()[train_df.isna().sum() > 0].index)\n",
    "numeric_cols_with_nas"
   ]
  },
  {
   "cell_type": "markdown",
   "id": "a23b4a27-3901-4356-a635-1380051d75ed",
   "metadata": {},
   "source": [
    "### Standardizing the input variables"
   ]
  },
  {
   "cell_type": "code",
   "execution_count": 13,
   "id": "3baa80d1-59d5-49ef-a454-b62715e6e437",
   "metadata": {},
   "outputs": [],
   "source": [
    "scaler = preprocessing.StandardScaler()\n",
    "train_df[predictors] = scaler.fit_transform(train_df[predictors])\n",
    "test_df[predictors] = scaler.transform(test_df[predictors])"
   ]
  },
  {
   "cell_type": "markdown",
   "id": "8f7e7644-8261-4205-828e-83aa1fc82ef9",
   "metadata": {},
   "source": [
    "### Saving the datasets for testing and training"
   ]
  },
  {
   "cell_type": "code",
   "execution_count": 14,
   "id": "9011e313-733b-4a2f-9b64-8275251ee83f",
   "metadata": {},
   "outputs": [],
   "source": [
    "X_train = train_df[predictors]\n",
    "y_train = train_df[target]\n",
    "X_test = test_df[predictors]\n",
    "y_test = test_df[target]"
   ]
  },
  {
   "cell_type": "code",
   "execution_count": 15,
   "id": "962217fa-a57c-4dc9-8ff8-79a07a2878f4",
   "metadata": {},
   "outputs": [
    {
     "data": {
      "text/plain": [
       "(537, 8)"
      ]
     },
     "execution_count": 15,
     "metadata": {},
     "output_type": "execute_result"
    }
   ],
   "source": [
    "X_train.shape"
   ]
  },
  {
   "cell_type": "code",
   "execution_count": 16,
   "id": "741c0f45-b9dc-44c3-9aa2-8c1262f06861",
   "metadata": {},
   "outputs": [
    {
     "data": {
      "text/plain": [
       "(537,)"
      ]
     },
     "execution_count": 16,
     "metadata": {},
     "output_type": "execute_result"
    }
   ],
   "source": [
    "y_train.shape"
   ]
  },
  {
   "cell_type": "code",
   "execution_count": 17,
   "id": "14a07d5e-149f-41dc-b636-8c95c94e5645",
   "metadata": {},
   "outputs": [
    {
     "data": {
      "text/plain": [
       "(231, 8)"
      ]
     },
     "execution_count": 17,
     "metadata": {},
     "output_type": "execute_result"
    }
   ],
   "source": [
    "X_test.shape"
   ]
  },
  {
   "cell_type": "code",
   "execution_count": 18,
   "id": "4dc4a5f5-8396-4ce4-9d0f-38e23b5dd6cc",
   "metadata": {
    "tags": []
   },
   "outputs": [
    {
     "data": {
      "text/plain": [
       "(231,)"
      ]
     },
     "execution_count": 18,
     "metadata": {},
     "output_type": "execute_result"
    }
   ],
   "source": [
    "y_test.shape"
   ]
  },
  {
   "cell_type": "code",
   "execution_count": 19,
   "id": "6d1196ac-2ff2-4162-b3c4-1bd7e29965cc",
   "metadata": {},
   "outputs": [
    {
     "data": {
      "text/html": [
       "<div>\n",
       "<style scoped>\n",
       "    .dataframe tbody tr th:only-of-type {\n",
       "        vertical-align: middle;\n",
       "    }\n",
       "\n",
       "    .dataframe tbody tr th {\n",
       "        vertical-align: top;\n",
       "    }\n",
       "\n",
       "    .dataframe thead th {\n",
       "        text-align: right;\n",
       "    }\n",
       "</style>\n",
       "<table border=\"1\" class=\"dataframe\">\n",
       "  <thead>\n",
       "    <tr style=\"text-align: right;\">\n",
       "      <th></th>\n",
       "      <th>Pregnancies</th>\n",
       "      <th>Glucose</th>\n",
       "      <th>BloodPressure</th>\n",
       "      <th>SkinThickness</th>\n",
       "      <th>Insulin</th>\n",
       "      <th>BMI</th>\n",
       "      <th>DiabetesPedigreeFunction</th>\n",
       "      <th>Age</th>\n",
       "    </tr>\n",
       "  </thead>\n",
       "  <tbody>\n",
       "    <tr>\n",
       "      <th>88</th>\n",
       "      <td>3.353608</td>\n",
       "      <td>0.480473</td>\n",
       "      <td>0.052170</td>\n",
       "      <td>0.781406</td>\n",
       "      <td>0.288597</td>\n",
       "      <td>0.686120</td>\n",
       "      <td>-0.946901</td>\n",
       "      <td>0.810205</td>\n",
       "    </tr>\n",
       "    <tr>\n",
       "      <th>467</th>\n",
       "      <td>-1.121017</td>\n",
       "      <td>-0.768911</td>\n",
       "      <td>-0.246393</td>\n",
       "      <td>1.032297</td>\n",
       "      <td>0.199796</td>\n",
       "      <td>0.646996</td>\n",
       "      <td>0.396130</td>\n",
       "      <td>-0.695262</td>\n",
       "    </tr>\n",
       "    <tr>\n",
       "      <th>550</th>\n",
       "      <td>-0.822709</td>\n",
       "      <td>-0.160237</td>\n",
       "      <td>0.052170</td>\n",
       "      <td>0.530515</td>\n",
       "      <td>-0.688222</td>\n",
       "      <td>-0.578899</td>\n",
       "      <td>-0.793670</td>\n",
       "      <td>-1.029810</td>\n",
       "    </tr>\n",
       "  </tbody>\n",
       "</table>\n",
       "</div>"
      ],
      "text/plain": [
       "     Pregnancies   Glucose  BloodPressure  SkinThickness   Insulin       BMI  \\\n",
       "88      3.353608  0.480473       0.052170       0.781406  0.288597  0.686120   \n",
       "467    -1.121017 -0.768911      -0.246393       1.032297  0.199796  0.646996   \n",
       "550    -0.822709 -0.160237       0.052170       0.530515 -0.688222 -0.578899   \n",
       "\n",
       "     DiabetesPedigreeFunction       Age  \n",
       "88                  -0.946901  0.810205  \n",
       "467                  0.396130 -0.695262  \n",
       "550                 -0.793670 -1.029810  "
      ]
     },
     "execution_count": 19,
     "metadata": {},
     "output_type": "execute_result"
    }
   ],
   "source": [
    "X_train.head(3)"
   ]
  },
  {
   "cell_type": "code",
   "execution_count": 20,
   "id": "c8b5c30c-041c-443c-b251-5fe8ef06a567",
   "metadata": {},
   "outputs": [
    {
     "data": {
      "text/plain": [
       "88     1\n",
       "467    0\n",
       "550    0\n",
       "Name: Outcome, dtype: int64"
      ]
     },
     "execution_count": 20,
     "metadata": {},
     "output_type": "execute_result"
    }
   ],
   "source": [
    "y_train.head(3)"
   ]
  },
  {
   "cell_type": "code",
   "execution_count": 21,
   "id": "8d45b48f-159e-4039-b7e0-9f0c2b009916",
   "metadata": {},
   "outputs": [
    {
     "data": {
      "text/html": [
       "<div>\n",
       "<style scoped>\n",
       "    .dataframe tbody tr th:only-of-type {\n",
       "        vertical-align: middle;\n",
       "    }\n",
       "\n",
       "    .dataframe tbody tr th {\n",
       "        vertical-align: top;\n",
       "    }\n",
       "\n",
       "    .dataframe thead th {\n",
       "        text-align: right;\n",
       "    }\n",
       "</style>\n",
       "<table border=\"1\" class=\"dataframe\">\n",
       "  <thead>\n",
       "    <tr style=\"text-align: right;\">\n",
       "      <th></th>\n",
       "      <th>Pregnancies</th>\n",
       "      <th>Glucose</th>\n",
       "      <th>BloodPressure</th>\n",
       "      <th>SkinThickness</th>\n",
       "      <th>Insulin</th>\n",
       "      <th>BMI</th>\n",
       "      <th>DiabetesPedigreeFunction</th>\n",
       "      <th>Age</th>\n",
       "    </tr>\n",
       "  </thead>\n",
       "  <tbody>\n",
       "    <tr>\n",
       "      <th>285</th>\n",
       "      <td>0.967141</td>\n",
       "      <td>0.480473</td>\n",
       "      <td>0.251212</td>\n",
       "      <td>0.405070</td>\n",
       "      <td>0.510602</td>\n",
       "      <td>-0.761478</td>\n",
       "      <td>0.537343</td>\n",
       "      <td>1.479301</td>\n",
       "    </tr>\n",
       "    <tr>\n",
       "      <th>101</th>\n",
       "      <td>-0.822709</td>\n",
       "      <td>0.961005</td>\n",
       "      <td>-0.445435</td>\n",
       "      <td>-1.225722</td>\n",
       "      <td>-0.688222</td>\n",
       "      <td>-0.748437</td>\n",
       "      <td>-0.868783</td>\n",
       "      <td>-0.946173</td>\n",
       "    </tr>\n",
       "    <tr>\n",
       "      <th>581</th>\n",
       "      <td>0.668833</td>\n",
       "      <td>-0.384485</td>\n",
       "      <td>-0.445435</td>\n",
       "      <td>0.467793</td>\n",
       "      <td>-0.688222</td>\n",
       "      <td>-0.891893</td>\n",
       "      <td>-0.787661</td>\n",
       "      <td>-0.527988</td>\n",
       "    </tr>\n",
       "  </tbody>\n",
       "</table>\n",
       "</div>"
      ],
      "text/plain": [
       "     Pregnancies   Glucose  BloodPressure  SkinThickness   Insulin       BMI  \\\n",
       "285     0.967141  0.480473       0.251212       0.405070  0.510602 -0.761478   \n",
       "101    -0.822709  0.961005      -0.445435      -1.225722 -0.688222 -0.748437   \n",
       "581     0.668833 -0.384485      -0.445435       0.467793 -0.688222 -0.891893   \n",
       "\n",
       "     DiabetesPedigreeFunction       Age  \n",
       "285                  0.537343  1.479301  \n",
       "101                 -0.868783 -0.946173  \n",
       "581                 -0.787661 -0.527988  "
      ]
     },
     "execution_count": 21,
     "metadata": {},
     "output_type": "execute_result"
    }
   ],
   "source": [
    "X_test.head(3)"
   ]
  },
  {
   "cell_type": "code",
   "execution_count": 22,
   "id": "29404c73-b7b4-4e7c-ae47-872337298ff2",
   "metadata": {},
   "outputs": [
    {
     "data": {
      "text/plain": [
       "285    0\n",
       "101    0\n",
       "581    0\n",
       "Name: Outcome, dtype: int64"
      ]
     },
     "execution_count": 22,
     "metadata": {},
     "output_type": "execute_result"
    }
   ],
   "source": [
    "y_test.head(3)"
   ]
  },
  {
   "cell_type": "code",
   "execution_count": 23,
   "id": "352301ce-9137-493c-9a52-729d38299b6e",
   "metadata": {},
   "outputs": [],
   "source": [
    "X_train.to_csv('bonus-train_X-data.csv', index=False)\n",
    "y_train.to_csv('bonus-train_y-data.csv', index=False)\n",
    "X_test.to_csv('bonus-test_X-data.csv', index=False)\n",
    "y_test.to_csv('bonus-test_y-data.csv', index=False)"
   ]
  },
  {
   "cell_type": "markdown",
   "id": "971345ac-3405-4aef-bfc8-b7a401c829f1",
   "metadata": {},
   "source": [
    "## Conclusion\n",
    "\n",
    "In this note book I used the techniques covered in class to load and clean the data and saved the predictors and target variable containing test and train data sets in csv files. I will use these files in bonus-model-fit notebook."
   ]
  }
 ],
 "metadata": {
  "kernelspec": {
   "display_name": "Python 3 (ipykernel)",
   "language": "python",
   "name": "python3"
  },
  "language_info": {
   "codemirror_mode": {
    "name": "ipython",
    "version": 3
   },
   "file_extension": ".py",
   "mimetype": "text/x-python",
   "name": "python",
   "nbconvert_exporter": "python",
   "pygments_lexer": "ipython3",
   "version": "3.10.11"
  }
 },
 "nbformat": 4,
 "nbformat_minor": 5
}
