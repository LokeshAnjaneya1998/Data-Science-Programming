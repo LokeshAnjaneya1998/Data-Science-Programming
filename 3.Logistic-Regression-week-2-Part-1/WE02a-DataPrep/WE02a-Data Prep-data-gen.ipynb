{
 "cells": [
  {
   "attachments": {},
   "cell_type": "markdown",
   "id": "79f833f4-aaeb-4170-a4e5-365e7ec574de",
   "metadata": {},
   "source": [
    "# Generating data for WE02a logistic regression\n",
    "In this notebook I am creating one input variable and one target variable. Randomly select input variables from a uniform distribution with values from 10 to 100 for a data size of1000.  A target variable where values greater than or equal to 55 are considered True, and any values less than 55, are considered False. "
   ]
  },
  {
   "attachments": {},
   "cell_type": "markdown",
   "id": "44a6e68c-a6a0-4c84-b18b-20d0dcc9f608",
   "metadata": {},
   "source": [
    "### Importing necessary libraries and set 1 as random seed"
   ]
  },
  {
   "cell_type": "code",
   "execution_count": 1,
   "id": "2bea6f19-dffb-4da7-8e62-fde8a0fd2066",
   "metadata": {},
   "outputs": [],
   "source": [
    "import matplotlib.pyplot as plt\n",
    "import numpy as np\n",
    "import pandas as pd\n",
    "\n",
    "np.random.seed(1)"
   ]
  },
  {
   "attachments": {},
   "cell_type": "markdown",
   "id": "25cbeacd-d437-4c90-abcc-1eab816a62eb",
   "metadata": {},
   "source": [
    "### Defining size of data set."
   ]
  },
  {
   "cell_type": "code",
   "execution_count": 2,
   "id": "3b5c628c-6a0a-4f02-b987-67a57dc9de8c",
   "metadata": {},
   "outputs": [],
   "source": [
    "dataSize = 1000"
   ]
  },
  {
   "attachments": {},
   "cell_type": "markdown",
   "id": "f5593854-ffd6-4e4d-bae2-debab81445d9",
   "metadata": {},
   "source": [
    "### Creating one input variable and one target variable. Randomly selecting input variables from a uniform distribution with values from 10 to 100."
   ]
  },
  {
   "cell_type": "code",
   "execution_count": 3,
   "id": "e7703222-0f81-4dcc-b056-27ff2d7d78d3",
   "metadata": {},
   "outputs": [],
   "source": [
    "input_variables = np.random.uniform(10,100,dataSize)"
   ]
  },
  {
   "attachments": {},
   "cell_type": "markdown",
   "id": "41fd0df1-09a7-4ba8-9fe7-8f4a8b3aba4b",
   "metadata": {},
   "source": [
    "### Creating a target variable where values greater than or equal to 55 are considered True, and any values less than 55, are considered False."
   ]
  },
  {
   "cell_type": "code",
   "execution_count": 4,
   "id": "f4de2684-b23a-4651-857b-c75681e6d216",
   "metadata": {},
   "outputs": [],
   "source": [
    "target_variables = input_variables >= 55"
   ]
  },
  {
   "attachments": {},
   "cell_type": "markdown",
   "id": "7725a03b-6476-43c1-b4f4-4c6df76d41ce",
   "metadata": {},
   "source": [
    "### Keeping the values in a data frame"
   ]
  },
  {
   "cell_type": "code",
   "execution_count": 5,
   "id": "31da4abc-ab04-4232-81e3-d10a4e2b4087",
   "metadata": {},
   "outputs": [],
   "source": [
    "data = pd.DataFrame({'input': input_variables, 'target': target_variables})"
   ]
  },
  {
   "cell_type": "code",
   "execution_count": 6,
   "id": "05b04be3-9596-4fc8-b179-abea1543128b",
   "metadata": {},
   "outputs": [
    {
     "name": "stdout",
     "output_type": "stream",
     "text": [
      "       input  target\n",
      "0  47.531980   False\n",
      "1  74.829204    True\n",
      "2  10.010294   False\n",
      "3  37.209932   False\n",
      "4  23.208030   False\n"
     ]
    }
   ],
   "source": [
    "print(data.head(5))"
   ]
  },
  {
   "cell_type": "code",
   "execution_count": 7,
   "id": "a7a72de3-a251-4c86-b69b-84d6f770b065",
   "metadata": {},
   "outputs": [
    {
     "data": {
      "text/plain": [
       "(1000, 2)"
      ]
     },
     "execution_count": 7,
     "metadata": {},
     "output_type": "execute_result"
    }
   ],
   "source": [
    "data.shape"
   ]
  },
  {
   "cell_type": "code",
   "execution_count": 8,
   "id": "6795b32d-a798-4866-a2f0-2628330546e4",
   "metadata": {},
   "outputs": [
    {
     "data": {
      "text/plain": [
       "input     float64\n",
       "target       bool\n",
       "dtype: object"
      ]
     },
     "execution_count": 8,
     "metadata": {},
     "output_type": "execute_result"
    }
   ],
   "source": [
    "data.dtypes"
   ]
  },
  {
   "cell_type": "code",
   "execution_count": 9,
   "id": "09e39f40-6ec1-4108-ab90-e47dd9b1e02e",
   "metadata": {},
   "outputs": [
    {
     "data": {
      "text/html": [
       "<div>\n",
       "<style scoped>\n",
       "    .dataframe tbody tr th:only-of-type {\n",
       "        vertical-align: middle;\n",
       "    }\n",
       "\n",
       "    .dataframe tbody tr th {\n",
       "        vertical-align: top;\n",
       "    }\n",
       "\n",
       "    .dataframe thead th {\n",
       "        text-align: right;\n",
       "    }\n",
       "</style>\n",
       "<table border=\"1\" class=\"dataframe\">\n",
       "  <thead>\n",
       "    <tr style=\"text-align: right;\">\n",
       "      <th></th>\n",
       "      <th>input</th>\n",
       "    </tr>\n",
       "  </thead>\n",
       "  <tbody>\n",
       "    <tr>\n",
       "      <th>count</th>\n",
       "      <td>1000.000000</td>\n",
       "    </tr>\n",
       "    <tr>\n",
       "      <th>mean</th>\n",
       "      <td>55.054414</td>\n",
       "    </tr>\n",
       "    <tr>\n",
       "      <th>std</th>\n",
       "      <td>25.965057</td>\n",
       "    </tr>\n",
       "    <tr>\n",
       "      <th>min</th>\n",
       "      <td>10.010294</td>\n",
       "    </tr>\n",
       "    <tr>\n",
       "      <th>25%</th>\n",
       "      <td>32.674114</td>\n",
       "    </tr>\n",
       "    <tr>\n",
       "      <th>50%</th>\n",
       "      <td>55.675073</td>\n",
       "    </tr>\n",
       "    <tr>\n",
       "      <th>75%</th>\n",
       "      <td>77.560414</td>\n",
       "    </tr>\n",
       "    <tr>\n",
       "      <th>max</th>\n",
       "      <td>99.759057</td>\n",
       "    </tr>\n",
       "  </tbody>\n",
       "</table>\n",
       "</div>"
      ],
      "text/plain": [
       "             input\n",
       "count  1000.000000\n",
       "mean     55.054414\n",
       "std      25.965057\n",
       "min      10.010294\n",
       "25%      32.674114\n",
       "50%      55.675073\n",
       "75%      77.560414\n",
       "max      99.759057"
      ]
     },
     "execution_count": 9,
     "metadata": {},
     "output_type": "execute_result"
    }
   ],
   "source": [
    "data.describe()"
   ]
  },
  {
   "attachments": {},
   "cell_type": "markdown",
   "id": "60b99682-4bcc-44bb-b831-3f6d2263cb8a",
   "metadata": {},
   "source": [
    "### Using scatter plot visualizing the data"
   ]
  },
  {
   "cell_type": "code",
   "execution_count": 10,
   "id": "3653c77f-dd84-4861-9433-ae692f3d4ed2",
   "metadata": {
    "tags": []
   },
   "outputs": [
    {
     "data": {
      "image/png": "[encoded data removed]",
      "text/plain": [
       "<Figure size 800x600 with 1 Axes>"
      ]
     },
     "metadata": {},
     "output_type": "display_data"
    }
   ],
   "source": [
    "fig = plt.figure(figsize=(8, 6))\n",
    "ax = fig.add_subplot()\n",
    "colors = np.array([\"red\", \"green\"])\n",
    "ax.scatter(data['input'], data['target'], c=colors[np.ravel(data['target'].astype(int))])\n",
    "plt.axvline(55, color=\"black\", label=\"cutoff\", linestyle='--', alpha=.1)\n",
    "ax.set_xlabel('Input Variables')\n",
    "ax.set_ylabel('Target Variables')\n",
    "plt.show()"
   ]
  },
  {
   "attachments": {},
   "cell_type": "markdown",
   "id": "d20a6e56-90da-44df-b8c0-d29328cca311",
   "metadata": {},
   "source": [
    "In the above graph 0 being false and 1 being true. "
   ]
  },
  {
   "attachments": {},
   "cell_type": "markdown",
   "id": "3ea5cd1e-d3d9-4168-998c-441209bcd5e8",
   "metadata": {},
   "source": [
    "### Saving the data to a csv file"
   ]
  },
  {
   "cell_type": "code",
   "execution_count": 11,
   "id": "c6b66baf-779c-4909-b669-e5a2ccecacea",
   "metadata": {
    "tags": []
   },
   "outputs": [],
   "source": [
    "data.to_csv('we02a_dataset.csv', index=False)"
   ]
  },
  {
   "attachments": {},
   "cell_type": "markdown",
   "id": "07f78655-891a-45cb-86ef-fe72c7c19aa7",
   "metadata": {},
   "source": [
    "## I have created a synthetic dataset that I can do logistic modeling in WE02a-DataPrep model fitting notebook."
   ]
  }
 ],
 "metadata": {
  "kernelspec": {
   "display_name": "Python 3 (ipykernel)",
   "language": "python",
   "name": "python3"
  },
  "language_info": {
   "codemirror_mode": {
    "name": "ipython",
    "version": 3
   },
   "file_extension": ".py",
   "mimetype": "text/x-python",
   "name": "python",
   "nbconvert_exporter": "python",
   "pygments_lexer": "ipython3",
   "version": "3.10.11"
  }
 },
 "nbformat": 4,
 "nbformat_minor": 5
}
