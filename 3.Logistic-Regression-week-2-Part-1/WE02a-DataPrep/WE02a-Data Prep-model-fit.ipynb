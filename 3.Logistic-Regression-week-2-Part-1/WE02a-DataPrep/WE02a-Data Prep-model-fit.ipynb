{
 "cells": [
  {
   "attachments": {},
   "cell_type": "markdown",
   "id": "4a3ea158-2f01-47ea-9ec1-55d74ee0bde2",
   "metadata": {},
   "source": [
    "# Fitting a logistic regression model and evaluating the performance.\n",
    "\n",
    "In this notebook, I will import data that was generated from WE02a-data-gen. I will  fit a logistic regression model to the data, and evaluate the resulting performance of this model (use the confusion matrix and associated metrics). Add a section at the end of the notebook and discuss how well the model performed on the test data."
   ]
  },
  {
   "attachments": {},
   "cell_type": "markdown",
   "id": "61f6a28c-eeef-4f18-94ae-f516586dc6c7",
   "metadata": {},
   "source": [
    "### Importing necessary libraries and set 1 as random seed"
   ]
  },
  {
   "cell_type": "code",
   "execution_count": 10,
   "id": "a77764bc-14d8-4f69-a28e-6c8c0da1463d",
   "metadata": {},
   "outputs": [],
   "source": [
    "import matplotlib.pyplot as plt\n",
    "import numpy as np\n",
    "import pandas as pd\n",
    "from sklearn.linear_model import LogisticRegression\n",
    "from sklearn.model_selection import train_test_split\n",
    "from sklearn.metrics import confusion_matrix\n",
    "import pickle\n",
    "\n",
    "np.random.seed(1)"
   ]
  },
  {
   "attachments": {},
   "cell_type": "markdown",
   "id": "914b9816-454d-408c-9f19-eade2d3ef474",
   "metadata": {},
   "source": [
    "### Load data from CSV file into dataframe"
   ]
  },
  {
   "cell_type": "code",
   "execution_count": 11,
   "id": "0392cb0e-165c-4280-b93c-754f577f1fa2",
   "metadata": {},
   "outputs": [],
   "source": [
    "data = pd.read_csv('we02a_dataset.csv')"
   ]
  },
  {
   "attachments": {},
   "cell_type": "markdown",
   "id": "abe78455-38a5-4dbd-ac7c-53638ac08093",
   "metadata": {},
   "source": [
    "## Conducting an initial exploration of the data\n",
    "\n",
    "Things are simple with this dataset. There is one input variable and one target variable. The input variable is continuous and the target is boolean. We can see that there are no missing values in the dataset.\n",
    "\n",
    "The following code will:\n",
    "* display the first 5 rows of the dataframe\n",
    "* check the dimensions of the dataframe\n",
    "* check the data types of the columns\n",
    "* check for missing values\n",
    "* develop scatterplot of the data\n",
    "* provide a statistical summary of the data\n"
   ]
  },
  {
   "cell_type": "code",
   "execution_count": 12,
   "id": "b85f2f1a-ce16-4f55-a9a2-c159ff7a57ab",
   "metadata": {},
   "outputs": [
    {
     "data": {
      "text/html": [
       "<div>\n",
       "<style scoped>\n",
       "    .dataframe tbody tr th:only-of-type {\n",
       "        vertical-align: middle;\n",
       "    }\n",
       "\n",
       "    .dataframe tbody tr th {\n",
       "        vertical-align: top;\n",
       "    }\n",
       "\n",
       "    .dataframe thead th {\n",
       "        text-align: right;\n",
       "    }\n",
       "</style>\n",
       "<table border=\"1\" class=\"dataframe\">\n",
       "  <thead>\n",
       "    <tr style=\"text-align: right;\">\n",
       "      <th></th>\n",
       "      <th>input</th>\n",
       "      <th>target</th>\n",
       "    </tr>\n",
       "  </thead>\n",
       "  <tbody>\n",
       "    <tr>\n",
       "      <th>0</th>\n",
       "      <td>47.531980</td>\n",
       "      <td>False</td>\n",
       "    </tr>\n",
       "    <tr>\n",
       "      <th>1</th>\n",
       "      <td>74.829204</td>\n",
       "      <td>True</td>\n",
       "    </tr>\n",
       "    <tr>\n",
       "      <th>2</th>\n",
       "      <td>10.010294</td>\n",
       "      <td>False</td>\n",
       "    </tr>\n",
       "    <tr>\n",
       "      <th>3</th>\n",
       "      <td>37.209932</td>\n",
       "      <td>False</td>\n",
       "    </tr>\n",
       "    <tr>\n",
       "      <th>4</th>\n",
       "      <td>23.208030</td>\n",
       "      <td>False</td>\n",
       "    </tr>\n",
       "  </tbody>\n",
       "</table>\n",
       "</div>"
      ],
      "text/plain": [
       "       input  target\n",
       "0  47.531980   False\n",
       "1  74.829204    True\n",
       "2  10.010294   False\n",
       "3  37.209932   False\n",
       "4  23.208030   False"
      ]
     },
     "execution_count": 12,
     "metadata": {},
     "output_type": "execute_result"
    }
   ],
   "source": [
    "data.head(5)"
   ]
  },
  {
   "cell_type": "code",
   "execution_count": 13,
   "id": "0f9fcace-0a7a-49a5-bbba-d64bda146b23",
   "metadata": {},
   "outputs": [
    {
     "data": {
      "text/plain": [
       "(1000, 2)"
      ]
     },
     "execution_count": 13,
     "metadata": {},
     "output_type": "execute_result"
    }
   ],
   "source": [
    "data.shape"
   ]
  },
  {
   "cell_type": "code",
   "execution_count": 14,
   "id": "9180a559-e27d-4303-bc23-1953c753ecfd",
   "metadata": {},
   "outputs": [
    {
     "data": {
      "text/plain": [
       "input     float64\n",
       "target       bool\n",
       "dtype: object"
      ]
     },
     "execution_count": 14,
     "metadata": {},
     "output_type": "execute_result"
    }
   ],
   "source": [
    "data.dtypes"
   ]
  },
  {
   "cell_type": "code",
   "execution_count": 15,
   "id": "e58a21cf-a33d-4bf0-aa99-5291284a2170",
   "metadata": {},
   "outputs": [
    {
     "data": {
      "text/plain": [
       "input     0\n",
       "target    0\n",
       "dtype: int64"
      ]
     },
     "execution_count": 15,
     "metadata": {},
     "output_type": "execute_result"
    }
   ],
   "source": [
    "data.isnull().sum()"
   ]
  },
  {
   "cell_type": "code",
   "execution_count": 16,
   "id": "3e5f864e-f528-4807-be9d-db4cca3cc5de",
   "metadata": {},
   "outputs": [
    {
     "data": {
      "image/png": "[encoded data removed]",
      "text/plain": [
       "<Figure size 640x480 with 1 Axes>"
      ]
     },
     "metadata": {},
     "output_type": "display_data"
    }
   ],
   "source": [
    "fig = plt.figure()\n",
    "ax = fig.add_subplot()\n",
    "colors = np.array([\"red\", \"green\"])\n",
    "ax.scatter(data['input'], data['target'], c=colors[np.ravel(data['target'].astype(int))])\n",
    "ax.set_xlabel('Input Variables')\n",
    "ax.set_ylabel('Target Variables')\n",
    "plt.show()"
   ]
  },
  {
   "cell_type": "code",
   "execution_count": 17,
   "id": "84b0b58b-3e81-42c4-a54e-6b0de1ee9b2c",
   "metadata": {},
   "outputs": [
    {
     "data": {
      "text/html": [
       "<div>\n",
       "<style scoped>\n",
       "    .dataframe tbody tr th:only-of-type {\n",
       "        vertical-align: middle;\n",
       "    }\n",
       "\n",
       "    .dataframe tbody tr th {\n",
       "        vertical-align: top;\n",
       "    }\n",
       "\n",
       "    .dataframe thead th {\n",
       "        text-align: right;\n",
       "    }\n",
       "</style>\n",
       "<table border=\"1\" class=\"dataframe\">\n",
       "  <thead>\n",
       "    <tr style=\"text-align: right;\">\n",
       "      <th></th>\n",
       "      <th>input</th>\n",
       "    </tr>\n",
       "  </thead>\n",
       "  <tbody>\n",
       "    <tr>\n",
       "      <th>count</th>\n",
       "      <td>1000.000000</td>\n",
       "    </tr>\n",
       "    <tr>\n",
       "      <th>mean</th>\n",
       "      <td>55.054414</td>\n",
       "    </tr>\n",
       "    <tr>\n",
       "      <th>std</th>\n",
       "      <td>25.965057</td>\n",
       "    </tr>\n",
       "    <tr>\n",
       "      <th>min</th>\n",
       "      <td>10.010294</td>\n",
       "    </tr>\n",
       "    <tr>\n",
       "      <th>25%</th>\n",
       "      <td>32.674114</td>\n",
       "    </tr>\n",
       "    <tr>\n",
       "      <th>50%</th>\n",
       "      <td>55.675073</td>\n",
       "    </tr>\n",
       "    <tr>\n",
       "      <th>75%</th>\n",
       "      <td>77.560414</td>\n",
       "    </tr>\n",
       "    <tr>\n",
       "      <th>max</th>\n",
       "      <td>99.759057</td>\n",
       "    </tr>\n",
       "  </tbody>\n",
       "</table>\n",
       "</div>"
      ],
      "text/plain": [
       "             input\n",
       "count  1000.000000\n",
       "mean     55.054414\n",
       "std      25.965057\n",
       "min      10.010294\n",
       "25%      32.674114\n",
       "50%      55.675073\n",
       "75%      77.560414\n",
       "max      99.759057"
      ]
     },
     "execution_count": 17,
     "metadata": {},
     "output_type": "execute_result"
    }
   ],
   "source": [
    "data.describe()"
   ]
  },
  {
   "attachments": {},
   "cell_type": "markdown",
   "id": "265a2e05-e979-4eb1-be49-c81d948576a6",
   "metadata": {},
   "source": [
    "### Create a logistic model that best fits the data\n",
    "To avoid overfitting, I used a cross validation approach. This involves randoming splitting the data into a training and test dataset.I used 80/20 here."
   ]
  },
  {
   "cell_type": "code",
   "execution_count": 18,
   "id": "41ba67cb-1504-44c5-aa90-e4383acd169b",
   "metadata": {},
   "outputs": [],
   "source": [
    "X=data[['input']]\n",
    "y=data[['target']]"
   ]
  },
  {
   "cell_type": "code",
   "execution_count": 19,
   "id": "4bd77297-d2f7-413e-9230-e3cc22550d32",
   "metadata": {},
   "outputs": [],
   "source": [
    "X_train, X_test, y_train, y_test = train_test_split(X, y, test_size=0.20, random_state=1)"
   ]
  },
  {
   "cell_type": "code",
   "execution_count": 20,
   "id": "bfbfc92d-a529-48d7-85ec-933a932bcb68",
   "metadata": {},
   "outputs": [],
   "source": [
    "trainData = X_train.copy()\n",
    "trainData['target'] = y_train\n"
   ]
  },
  {
   "cell_type": "code",
   "execution_count": 21,
   "id": "7b403531-d88d-47b9-a6ff-000bd6e05710",
   "metadata": {},
   "outputs": [
    {
     "data": {
      "text/html": [
       "<div>\n",
       "<style scoped>\n",
       "    .dataframe tbody tr th:only-of-type {\n",
       "        vertical-align: middle;\n",
       "    }\n",
       "\n",
       "    .dataframe tbody tr th {\n",
       "        vertical-align: top;\n",
       "    }\n",
       "\n",
       "    .dataframe thead th {\n",
       "        text-align: right;\n",
       "    }\n",
       "</style>\n",
       "<table border=\"1\" class=\"dataframe\">\n",
       "  <thead>\n",
       "    <tr style=\"text-align: right;\">\n",
       "      <th></th>\n",
       "      <th>input</th>\n",
       "      <th>target</th>\n",
       "    </tr>\n",
       "  </thead>\n",
       "  <tbody>\n",
       "    <tr>\n",
       "      <th>382</th>\n",
       "      <td>99.077654</td>\n",
       "      <td>True</td>\n",
       "    </tr>\n",
       "    <tr>\n",
       "      <th>994</th>\n",
       "      <td>59.920058</td>\n",
       "      <td>True</td>\n",
       "    </tr>\n",
       "    <tr>\n",
       "      <th>982</th>\n",
       "      <td>88.317257</td>\n",
       "      <td>True</td>\n",
       "    </tr>\n",
       "    <tr>\n",
       "      <th>47</th>\n",
       "      <td>36.425273</td>\n",
       "      <td>False</td>\n",
       "    </tr>\n",
       "    <tr>\n",
       "      <th>521</th>\n",
       "      <td>63.493536</td>\n",
       "      <td>True</td>\n",
       "    </tr>\n",
       "  </tbody>\n",
       "</table>\n",
       "</div>"
      ],
      "text/plain": [
       "         input  target\n",
       "382  99.077654    True\n",
       "994  59.920058    True\n",
       "982  88.317257    True\n",
       "47   36.425273   False\n",
       "521  63.493536    True"
      ]
     },
     "execution_count": 21,
     "metadata": {},
     "output_type": "execute_result"
    }
   ],
   "source": [
    "trainData.head(5)"
   ]
  },
  {
   "attachments": {},
   "cell_type": "markdown",
   "id": "6fdb19ee-a826-47d6-9126-9e37ce9ea7ef",
   "metadata": {},
   "source": [
    "### Saving the train data to csv files"
   ]
  },
  {
   "cell_type": "code",
   "execution_count": 22,
   "id": "8c3e829e-7931-4814-ae81-834e31768b25",
   "metadata": {
    "tags": []
   },
   "outputs": [],
   "source": [
    "trainData.to_csv('we02a_train_dataset.csv', index=False)"
   ]
  },
  {
   "cell_type": "code",
   "execution_count": 23,
   "id": "eeffab77-0d8d-42bf-aad6-f1ea5f1a1b63",
   "metadata": {
    "tags": []
   },
   "outputs": [],
   "source": [
    "testData = X_test.copy()\n",
    "testData['target'] = y_test"
   ]
  },
  {
   "cell_type": "code",
   "execution_count": 24,
   "id": "a33abcac-649b-4245-bff8-4e08669dd251",
   "metadata": {},
   "outputs": [
    {
     "data": {
      "text/html": [
       "<div>\n",
       "<style scoped>\n",
       "    .dataframe tbody tr th:only-of-type {\n",
       "        vertical-align: middle;\n",
       "    }\n",
       "\n",
       "    .dataframe tbody tr th {\n",
       "        vertical-align: top;\n",
       "    }\n",
       "\n",
       "    .dataframe thead th {\n",
       "        text-align: right;\n",
       "    }\n",
       "</style>\n",
       "<table border=\"1\" class=\"dataframe\">\n",
       "  <thead>\n",
       "    <tr style=\"text-align: right;\">\n",
       "      <th></th>\n",
       "      <th>input</th>\n",
       "      <th>target</th>\n",
       "    </tr>\n",
       "  </thead>\n",
       "  <tbody>\n",
       "    <tr>\n",
       "      <th>507</th>\n",
       "      <td>26.661736</td>\n",
       "      <td>False</td>\n",
       "    </tr>\n",
       "    <tr>\n",
       "      <th>818</th>\n",
       "      <td>74.509373</td>\n",
       "      <td>True</td>\n",
       "    </tr>\n",
       "    <tr>\n",
       "      <th>452</th>\n",
       "      <td>91.522855</td>\n",
       "      <td>True</td>\n",
       "    </tr>\n",
       "    <tr>\n",
       "      <th>368</th>\n",
       "      <td>57.378334</td>\n",
       "      <td>True</td>\n",
       "    </tr>\n",
       "    <tr>\n",
       "      <th>242</th>\n",
       "      <td>62.007149</td>\n",
       "      <td>True</td>\n",
       "    </tr>\n",
       "  </tbody>\n",
       "</table>\n",
       "</div>"
      ],
      "text/plain": [
       "         input  target\n",
       "507  26.661736   False\n",
       "818  74.509373    True\n",
       "452  91.522855    True\n",
       "368  57.378334    True\n",
       "242  62.007149    True"
      ]
     },
     "execution_count": 24,
     "metadata": {},
     "output_type": "execute_result"
    }
   ],
   "source": [
    "testData.head(5)"
   ]
  },
  {
   "attachments": {},
   "cell_type": "markdown",
   "id": "f55d1327-576c-4813-823b-0d2de0c564b5",
   "metadata": {},
   "source": [
    "### Saving the test data to csv files"
   ]
  },
  {
   "cell_type": "code",
   "execution_count": 25,
   "id": "6931d64d-cec6-4f7a-b3b2-06355b026bbb",
   "metadata": {},
   "outputs": [],
   "source": [
    "testData.to_csv('we02a_test_dataset.csv', index=False)"
   ]
  },
  {
   "attachments": {},
   "cell_type": "markdown",
   "id": "5664a6b2-704e-43e1-b698-200bd5bb2599",
   "metadata": {},
   "source": [
    "### Fitting a logistic regression model"
   ]
  },
  {
   "cell_type": "code",
   "execution_count": 26,
   "id": "3a4f6142-b079-4b93-8681-d2d5a8e0390b",
   "metadata": {},
   "outputs": [],
   "source": [
    "log_reg = LogisticRegression().fit(X_train, np.ravel(y_train))"
   ]
  },
  {
   "attachments": {},
   "cell_type": "markdown",
   "id": "7da6d748-b37c-44dd-81b3-5ad923d91e8c",
   "metadata": {},
   "source": [
    "### Adding a column to the dataframe with the predicted values"
   ]
  },
  {
   "cell_type": "code",
   "execution_count": 27,
   "id": "2567e2a8-d4fe-448b-935b-4a08c1b190c7",
   "metadata": {
    "tags": []
   },
   "outputs": [
    {
     "data": {
      "text/html": [
       "<div>\n",
       "<style scoped>\n",
       "    .dataframe tbody tr th:only-of-type {\n",
       "        vertical-align: middle;\n",
       "    }\n",
       "\n",
       "    .dataframe tbody tr th {\n",
       "        vertical-align: top;\n",
       "    }\n",
       "\n",
       "    .dataframe thead th {\n",
       "        text-align: right;\n",
       "    }\n",
       "</style>\n",
       "<table border=\"1\" class=\"dataframe\">\n",
       "  <thead>\n",
       "    <tr style=\"text-align: right;\">\n",
       "      <th></th>\n",
       "      <th>input</th>\n",
       "      <th>target</th>\n",
       "      <th>predicted</th>\n",
       "    </tr>\n",
       "  </thead>\n",
       "  <tbody>\n",
       "    <tr>\n",
       "      <th>0</th>\n",
       "      <td>47.531980</td>\n",
       "      <td>False</td>\n",
       "      <td>False</td>\n",
       "    </tr>\n",
       "    <tr>\n",
       "      <th>1</th>\n",
       "      <td>74.829204</td>\n",
       "      <td>True</td>\n",
       "      <td>True</td>\n",
       "    </tr>\n",
       "    <tr>\n",
       "      <th>2</th>\n",
       "      <td>10.010294</td>\n",
       "      <td>False</td>\n",
       "      <td>False</td>\n",
       "    </tr>\n",
       "    <tr>\n",
       "      <th>3</th>\n",
       "      <td>37.209932</td>\n",
       "      <td>False</td>\n",
       "      <td>False</td>\n",
       "    </tr>\n",
       "    <tr>\n",
       "      <th>4</th>\n",
       "      <td>23.208030</td>\n",
       "      <td>False</td>\n",
       "      <td>False</td>\n",
       "    </tr>\n",
       "  </tbody>\n",
       "</table>\n",
       "</div>"
      ],
      "text/plain": [
       "       input  target  predicted\n",
       "0  47.531980   False      False\n",
       "1  74.829204    True       True\n",
       "2  10.010294   False      False\n",
       "3  37.209932   False      False\n",
       "4  23.208030   False      False"
      ]
     },
     "execution_count": 27,
     "metadata": {},
     "output_type": "execute_result"
    }
   ],
   "source": [
    "data['predicted'] = log_reg.predict(X)\n",
    "data.head(5)"
   ]
  },
  {
   "attachments": {},
   "cell_type": "markdown",
   "id": "9b11d08c-7196-47de-ae3c-d275733731e8",
   "metadata": {},
   "source": [
    "### Adding a column of the probabilities of being a 1"
   ]
  },
  {
   "cell_type": "code",
   "execution_count": 28,
   "id": "24e0796a-5934-4db5-b77b-6d971d6c0dfe",
   "metadata": {},
   "outputs": [
    {
     "data": {
      "text/html": [
       "<div>\n",
       "<style scoped>\n",
       "    .dataframe tbody tr th:only-of-type {\n",
       "        vertical-align: middle;\n",
       "    }\n",
       "\n",
       "    .dataframe tbody tr th {\n",
       "        vertical-align: top;\n",
       "    }\n",
       "\n",
       "    .dataframe thead th {\n",
       "        text-align: right;\n",
       "    }\n",
       "</style>\n",
       "<table border=\"1\" class=\"dataframe\">\n",
       "  <thead>\n",
       "    <tr style=\"text-align: right;\">\n",
       "      <th></th>\n",
       "      <th>input</th>\n",
       "      <th>target</th>\n",
       "      <th>predicted</th>\n",
       "      <th>pred_prob</th>\n",
       "    </tr>\n",
       "  </thead>\n",
       "  <tbody>\n",
       "    <tr>\n",
       "      <th>0</th>\n",
       "      <td>47.531980</td>\n",
       "      <td>False</td>\n",
       "      <td>False</td>\n",
       "      <td>5.373407e-09</td>\n",
       "    </tr>\n",
       "    <tr>\n",
       "      <th>1</th>\n",
       "      <td>74.829204</td>\n",
       "      <td>True</td>\n",
       "      <td>True</td>\n",
       "      <td>1.000000e+00</td>\n",
       "    </tr>\n",
       "    <tr>\n",
       "      <th>2</th>\n",
       "      <td>10.010294</td>\n",
       "      <td>False</td>\n",
       "      <td>False</td>\n",
       "      <td>4.819180e-50</td>\n",
       "    </tr>\n",
       "    <tr>\n",
       "      <th>3</th>\n",
       "      <td>37.209932</td>\n",
       "      <td>False</td>\n",
       "      <td>False</td>\n",
       "      <td>2.743638e-20</td>\n",
       "    </tr>\n",
       "    <tr>\n",
       "      <th>4</th>\n",
       "      <td>23.208030</td>\n",
       "      <td>False</td>\n",
       "      <td>False</td>\n",
       "      <td>1.320649e-35</td>\n",
       "    </tr>\n",
       "  </tbody>\n",
       "</table>\n",
       "</div>"
      ],
      "text/plain": [
       "       input  target  predicted     pred_prob\n",
       "0  47.531980   False      False  5.373407e-09\n",
       "1  74.829204    True       True  1.000000e+00\n",
       "2  10.010294   False      False  4.819180e-50\n",
       "3  37.209932   False      False  2.743638e-20\n",
       "4  23.208030   False      False  1.320649e-35"
      ]
     },
     "execution_count": 28,
     "metadata": {},
     "output_type": "execute_result"
    }
   ],
   "source": [
    "data['pred_prob'] = log_reg.predict_proba(X)[:,1]\n",
    "data.head(5)"
   ]
  },
  {
   "attachments": {},
   "cell_type": "markdown",
   "id": "c92a04b9-ca3b-4ea0-b925-9806ba843f4a",
   "metadata": {},
   "source": [
    "### Giving a condition and adding a column to the data frame if the predicted value is coorect"
   ]
  },
  {
   "cell_type": "code",
   "execution_count": 29,
   "id": "ab8fe234-3238-4b7f-8857-3d577fda229e",
   "metadata": {},
   "outputs": [
    {
     "data": {
      "text/html": [
       "<div>\n",
       "<style scoped>\n",
       "    .dataframe tbody tr th:only-of-type {\n",
       "        vertical-align: middle;\n",
       "    }\n",
       "\n",
       "    .dataframe tbody tr th {\n",
       "        vertical-align: top;\n",
       "    }\n",
       "\n",
       "    .dataframe thead th {\n",
       "        text-align: right;\n",
       "    }\n",
       "</style>\n",
       "<table border=\"1\" class=\"dataframe\">\n",
       "  <thead>\n",
       "    <tr style=\"text-align: right;\">\n",
       "      <th></th>\n",
       "      <th>input</th>\n",
       "      <th>target</th>\n",
       "      <th>predicted</th>\n",
       "      <th>pred_prob</th>\n",
       "      <th>correct_prediction</th>\n",
       "    </tr>\n",
       "  </thead>\n",
       "  <tbody>\n",
       "    <tr>\n",
       "      <th>0</th>\n",
       "      <td>47.531980</td>\n",
       "      <td>False</td>\n",
       "      <td>False</td>\n",
       "      <td>5.373407e-09</td>\n",
       "      <td>True</td>\n",
       "    </tr>\n",
       "    <tr>\n",
       "      <th>1</th>\n",
       "      <td>74.829204</td>\n",
       "      <td>True</td>\n",
       "      <td>True</td>\n",
       "      <td>1.000000e+00</td>\n",
       "      <td>True</td>\n",
       "    </tr>\n",
       "    <tr>\n",
       "      <th>2</th>\n",
       "      <td>10.010294</td>\n",
       "      <td>False</td>\n",
       "      <td>False</td>\n",
       "      <td>4.819180e-50</td>\n",
       "      <td>True</td>\n",
       "    </tr>\n",
       "    <tr>\n",
       "      <th>3</th>\n",
       "      <td>37.209932</td>\n",
       "      <td>False</td>\n",
       "      <td>False</td>\n",
       "      <td>2.743638e-20</td>\n",
       "      <td>True</td>\n",
       "    </tr>\n",
       "    <tr>\n",
       "      <th>4</th>\n",
       "      <td>23.208030</td>\n",
       "      <td>False</td>\n",
       "      <td>False</td>\n",
       "      <td>1.320649e-35</td>\n",
       "      <td>True</td>\n",
       "    </tr>\n",
       "  </tbody>\n",
       "</table>\n",
       "</div>"
      ],
      "text/plain": [
       "       input  target  predicted     pred_prob  correct_prediction\n",
       "0  47.531980   False      False  5.373407e-09                True\n",
       "1  74.829204    True       True  1.000000e+00                True\n",
       "2  10.010294   False      False  4.819180e-50                True\n",
       "3  37.209932   False      False  2.743638e-20                True\n",
       "4  23.208030   False      False  1.320649e-35                True"
      ]
     },
     "execution_count": 29,
     "metadata": {},
     "output_type": "execute_result"
    }
   ],
   "source": [
    "data['correct_prediction'] = data['target'] == data['predicted']\n",
    "data.head(5)"
   ]
  },
  {
   "attachments": {},
   "cell_type": "markdown",
   "id": "46c5e6db-bef1-4714-b2b9-91e4f33cf81b",
   "metadata": {},
   "source": [
    "### Displaying the probabilities and the predicted values"
   ]
  },
  {
   "cell_type": "code",
   "execution_count": 30,
   "id": "ae527bd5-88d5-4ab3-9af8-6eea98771279",
   "metadata": {},
   "outputs": [
    {
     "data": {
      "image/png": "[encoded data removed]",
      "text/plain": [
       "<Figure size 640x480 with 1 Axes>"
      ]
     },
     "metadata": {},
     "output_type": "display_data"
    }
   ],
   "source": [
    "fig = plt.figure()\n",
    "ax = fig.add_subplot()\n",
    "colors = np.array([\"red\", \"green\"])\n",
    "ax.scatter(X, y, c=colors[np.ravel(y.astype(int))])\n",
    "ax.scatter(X, data['pred_prob'], c=colors[np.ravel(y.astype(int))], alpha=0.4)\n",
    "plt.axhline(.5, color=\"black\", label=\"cutoff\", linestyle='--', alpha=.5)\n",
    "plt.axvline(55, color=\"black\", label=\"cutoff\", linestyle='--', alpha=.1)\n",
    "ax.set_xlabel('input variables')\n",
    "ax.set_ylabel('target variables')\n",
    "ax.set_title('Logistic Regression')\n",
    "plt.show()"
   ]
  },
  {
   "attachments": {},
   "cell_type": "markdown",
   "id": "d3c808c1-4572-4023-9d41-9cb1b3790d77",
   "metadata": {},
   "source": [
    "In the above graph 0 being false and 1 being true."
   ]
  },
  {
   "attachments": {},
   "cell_type": "markdown",
   "id": "78fcf583-b37f-4331-8355-b35f23017712",
   "metadata": {},
   "source": [
    "### Identify the coefficients and intercept."
   ]
  },
  {
   "cell_type": "code",
   "execution_count": 31,
   "id": "b7c83bcd-1381-471a-a350-2118fce432c5",
   "metadata": {},
   "outputs": [
    {
     "name": "stdout",
     "output_type": "stream",
     "text": [
      "Y = -138.77 + 2.52x\n",
      "R^2: 1.000\n"
     ]
    }
   ],
   "source": [
    "log_reg.coef_\n",
    "b0 = log_reg.intercept_[0]\n",
    "b1 = log_reg.coef_[0][0]\n",
    "r2 = log_reg.score(X, y)\n",
    "\n",
    "print(f\"Y = {b0:.2f} + {b1:.2f}x\")\n",
    "print(f\"R^2: {r2:.3f}\")"
   ]
  },
  {
   "attachments": {},
   "cell_type": "markdown",
   "id": "bd0b1fa5-2f4e-4387-b59f-7fbeb2f1cbb5",
   "metadata": {},
   "source": [
    "### Percentage of times this model correctly predict the outcome"
   ]
  },
  {
   "cell_type": "code",
   "execution_count": 32,
   "id": "fc734b8f-6640-41d5-b89f-83ac271e7705",
   "metadata": {},
   "outputs": [
    {
     "name": "stdout",
     "output_type": "stream",
     "text": [
      "100.0 %\n"
     ]
    }
   ],
   "source": [
    "print(((data['correct_prediction'].sum() / data.shape[0])*100) , '%')"
   ]
  },
  {
   "cell_type": "code",
   "execution_count": 33,
   "id": "1d5af33c-4241-4c04-9b87-ea5680128dfb",
   "metadata": {},
   "outputs": [],
   "source": [
    "pickle.dump(log_reg, open('we02a-logistic-model.pkl', \"wb\")) #Saving the model to disk for record"
   ]
  },
  {
   "attachments": {},
   "cell_type": "markdown",
   "id": "a1de2f79-5939-4d51-9e44-8f91681416a9",
   "metadata": {},
   "source": [
    "## Interpretation of the logistic regression model\n",
    "\n",
    "The b1 coefficient is the change in the log odds of being a 1 for a 1 unit increase in the predictor variable. \n",
    "\n",
    "The log odds function is the natural log of the odds. It's also known as the logit function.\n",
    "\n",
    "> $\\log \\left(\\frac{p}{1-p}\\right)=\\operatorname{logit}(p)$\n",
    "\n",
    "Based on the results from our logistic regression above, we can see that the coefficient for `input` is 2.43. This means that for a 1 unit increase in input, the log odds of being a true increases by 2.43.\n",
    "\n",
    "\n",
    "$\\operatorname{logit}(p)=\\log \\left(\\frac{p}{1-p}\\right)=-132.89 + 2.43x$\n",
    "\n",
    "To find the probability of being a 1 we can use the inverse logit function (aka, logistic function).\n",
    "\n",
    "### Derive the predicted probability from the logistic model\n",
    "\n",
    "\n",
    "The logit function is defined as\n",
    "\n",
    "$\\operatorname{logit}(p)=\\log \\left(\\frac{p}{1-p}\\right)$\n",
    "\n",
    "The logistic function, is defined as \n",
    "\n",
    "$\\operatorname{logistic}(p)=\\frac{1}{e^{\\beta_0+\\beta_1x}}$\n",
    "\n",
    "\n",
    "When we use logistic regression (just as in regular regression), we are trying to find the best values for $\\beta_0$ and $\\beta_1$ that minimize the error between the predicted values and the actual values. But the interpretation of the coefficients is different.\n",
    "\n",
    "$\\operatorname{logit}(p)=\\log \\left(\\frac{p}{1-p}\\right)=\\beta_0+\\beta_1x$\n",
    "\n",
    "### For illustration, take this relationship and derive the function for the probability of being a 1.\n",
    "\n",
    "Exponentiate and take the multiplicative inverse of both sides, and we get the odds ratio.\n",
    "\n",
    "$\\frac{1-p}{p}=\\frac{1}{e^{\\beta_0+\\beta_1x}}$\n",
    "\n",
    "Partial out the fraction on the left-hand side of the equation and add one to both sides,\n",
    "\n",
    "$\\frac{1}{p}=1+\\frac{1}{e^{\\beta_0+\\beta_1x}}$\n",
    "\n",
    "Change 1 to a common denominator\n",
    "\n",
    "$\\frac{1}{p}=\\frac{e^{\\beta_0+\\beta_1 x}+1}{e^{\\beta_0+\\beta_1 x}}$\n",
    "\n",
    "Finally, take the multiplicative inverse again to obtain the formula for the probability P(target=1)\n",
    "\n",
    "$p=\\frac{e^{\\beta_0+\\beta_1 x}}{1+e^{\\beta_0+\\beta_1 x}}$\n"
   ]
  },
  {
   "cell_type": "code",
   "execution_count": 34,
   "id": "a571b9f2-a311-4def-80f9-443e44a739e5",
   "metadata": {},
   "outputs": [
    {
     "data": {
      "text/html": [
       "<div>\n",
       "<style scoped>\n",
       "    .dataframe tbody tr th:only-of-type {\n",
       "        vertical-align: middle;\n",
       "    }\n",
       "\n",
       "    .dataframe tbody tr th {\n",
       "        vertical-align: top;\n",
       "    }\n",
       "\n",
       "    .dataframe thead th {\n",
       "        text-align: right;\n",
       "    }\n",
       "</style>\n",
       "<table border=\"1\" class=\"dataframe\">\n",
       "  <thead>\n",
       "    <tr style=\"text-align: right;\">\n",
       "      <th></th>\n",
       "      <th>input</th>\n",
       "    </tr>\n",
       "  </thead>\n",
       "  <tbody>\n",
       "    <tr>\n",
       "      <th>0</th>\n",
       "      <td>5.373407e-09</td>\n",
       "    </tr>\n",
       "    <tr>\n",
       "      <th>1</th>\n",
       "      <td>1.000000e+00</td>\n",
       "    </tr>\n",
       "    <tr>\n",
       "      <th>2</th>\n",
       "      <td>4.819180e-50</td>\n",
       "    </tr>\n",
       "    <tr>\n",
       "      <th>3</th>\n",
       "      <td>2.743638e-20</td>\n",
       "    </tr>\n",
       "    <tr>\n",
       "      <th>4</th>\n",
       "      <td>1.320649e-35</td>\n",
       "    </tr>\n",
       "    <tr>\n",
       "      <th>...</th>\n",
       "      <td>...</td>\n",
       "    </tr>\n",
       "    <tr>\n",
       "      <th>995</th>\n",
       "      <td>1.000000e+00</td>\n",
       "    </tr>\n",
       "    <tr>\n",
       "      <th>996</th>\n",
       "      <td>2.295611e-19</td>\n",
       "    </tr>\n",
       "    <tr>\n",
       "      <th>997</th>\n",
       "      <td>1.000000e+00</td>\n",
       "    </tr>\n",
       "    <tr>\n",
       "      <th>998</th>\n",
       "      <td>5.825199e-18</td>\n",
       "    </tr>\n",
       "    <tr>\n",
       "      <th>999</th>\n",
       "      <td>1.000000e+00</td>\n",
       "    </tr>\n",
       "  </tbody>\n",
       "</table>\n",
       "<p>1000 rows × 1 columns</p>\n",
       "</div>"
      ],
      "text/plain": [
       "            input\n",
       "0    5.373407e-09\n",
       "1    1.000000e+00\n",
       "2    4.819180e-50\n",
       "3    2.743638e-20\n",
       "4    1.320649e-35\n",
       "..            ...\n",
       "995  1.000000e+00\n",
       "996  2.295611e-19\n",
       "997  1.000000e+00\n",
       "998  5.825199e-18\n",
       "999  1.000000e+00\n",
       "\n",
       "[1000 rows x 1 columns]"
      ]
     },
     "execution_count": 34,
     "metadata": {},
     "output_type": "execute_result"
    }
   ],
   "source": [
    "p_y_eq_1 = np.exp(b0 + b1 * X) / (1+ np.exp(b0 + b1 * X))\n",
    "p_y_eq_1"
   ]
  },
  {
   "cell_type": "code",
   "execution_count": 35,
   "id": "1a5a2da1-7e9d-4a12-932b-a4ee0b042430",
   "metadata": {},
   "outputs": [
    {
     "data": {
      "text/plain": [
       "0      5.373407e-09\n",
       "1      1.000000e+00\n",
       "2      4.819180e-50\n",
       "3      2.743638e-20\n",
       "4      1.320649e-35\n",
       "           ...     \n",
       "995    1.000000e+00\n",
       "996    2.295611e-19\n",
       "997    1.000000e+00\n",
       "998    5.825199e-18\n",
       "999    1.000000e+00\n",
       "Name: pred_prob, Length: 1000, dtype: float64"
      ]
     },
     "execution_count": 35,
     "metadata": {},
     "output_type": "execute_result"
    }
   ],
   "source": [
    "data.pred_prob"
   ]
  },
  {
   "attachments": {},
   "cell_type": "markdown",
   "id": "05717598-f825-4a9a-aef2-fb5da638c391",
   "metadata": {},
   "source": [
    "## Performance analysis of classification models\n",
    "\n",
    "I will try to analyze the performance of the classification models that I have trained above. I am using the following metrics:\n",
    "* Accuracy\n",
    "* Precision\n",
    "* Recall\n",
    "* F1 score"
   ]
  },
  {
   "attachments": {},
   "cell_type": "markdown",
   "id": "fc96a0ad-be15-40c2-86d9-105bf386961b",
   "metadata": {
    "tags": []
   },
   "source": [
    "### Loading and displaying the trained model and test data."
   ]
  },
  {
   "cell_type": "code",
   "execution_count": 36,
   "id": "6b8a36a0-d872-4128-a2ad-77b58195c504",
   "metadata": {},
   "outputs": [],
   "source": [
    "Xtest = testData[['input']]\n",
    "ytest = testData[['target']]"
   ]
  },
  {
   "cell_type": "code",
   "execution_count": 37,
   "id": "3ae47af2-f040-4b95-b15c-69dbe6fc1613",
   "metadata": {},
   "outputs": [
    {
     "data": {
      "text/html": [
       "<div>\n",
       "<style scoped>\n",
       "    .dataframe tbody tr th:only-of-type {\n",
       "        vertical-align: middle;\n",
       "    }\n",
       "\n",
       "    .dataframe tbody tr th {\n",
       "        vertical-align: top;\n",
       "    }\n",
       "\n",
       "    .dataframe thead th {\n",
       "        text-align: right;\n",
       "    }\n",
       "</style>\n",
       "<table border=\"1\" class=\"dataframe\">\n",
       "  <thead>\n",
       "    <tr style=\"text-align: right;\">\n",
       "      <th></th>\n",
       "      <th>input</th>\n",
       "      <th>target</th>\n",
       "    </tr>\n",
       "  </thead>\n",
       "  <tbody>\n",
       "    <tr>\n",
       "      <th>507</th>\n",
       "      <td>26.661736</td>\n",
       "      <td>False</td>\n",
       "    </tr>\n",
       "    <tr>\n",
       "      <th>818</th>\n",
       "      <td>74.509373</td>\n",
       "      <td>True</td>\n",
       "    </tr>\n",
       "    <tr>\n",
       "      <th>452</th>\n",
       "      <td>91.522855</td>\n",
       "      <td>True</td>\n",
       "    </tr>\n",
       "    <tr>\n",
       "      <th>368</th>\n",
       "      <td>57.378334</td>\n",
       "      <td>True</td>\n",
       "    </tr>\n",
       "    <tr>\n",
       "      <th>242</th>\n",
       "      <td>62.007149</td>\n",
       "      <td>True</td>\n",
       "    </tr>\n",
       "  </tbody>\n",
       "</table>\n",
       "</div>"
      ],
      "text/plain": [
       "         input  target\n",
       "507  26.661736   False\n",
       "818  74.509373    True\n",
       "452  91.522855    True\n",
       "368  57.378334    True\n",
       "242  62.007149    True"
      ]
     },
     "execution_count": 37,
     "metadata": {},
     "output_type": "execute_result"
    }
   ],
   "source": [
    "testData.head(5)"
   ]
  },
  {
   "cell_type": "code",
   "execution_count": 38,
   "id": "8ea4967b-03a8-4763-9e9f-00bf42211599",
   "metadata": {
    "tags": []
   },
   "outputs": [],
   "source": [
    "model_preds = log_reg.predict(Xtest)"
   ]
  },
  {
   "attachments": {},
   "cell_type": "markdown",
   "id": "c52d9a44-2db9-42a2-a362-3b3e330cf84c",
   "metadata": {},
   "source": [
    "### Creating and displaying the confusion matrix"
   ]
  },
  {
   "cell_type": "code",
   "execution_count": 39,
   "id": "6e8b90fe-f5f6-400b-a2a3-d927ee9e389c",
   "metadata": {},
   "outputs": [
    {
     "data": {
      "text/plain": [
       "array([[104,   0],\n",
       "       [  0,  96]], dtype=int64)"
      ]
     },
     "execution_count": 39,
     "metadata": {},
     "output_type": "execute_result"
    }
   ],
   "source": [
    "c_matrix = confusion_matrix(ytest, model_preds)\n",
    "c_matrix"
   ]
  },
  {
   "attachments": {},
   "cell_type": "markdown",
   "id": "0ee3d95b-8c05-4b20-8cc4-d93251249580",
   "metadata": {},
   "source": [
    "### Deriving Accuracy, Precision, Recall, F1 score"
   ]
  },
  {
   "cell_type": "code",
   "execution_count": 40,
   "id": "ca382261-0122-4ed8-b8ac-6231af00ae55",
   "metadata": {},
   "outputs": [],
   "source": [
    "TP = c_matrix[1][1]\n",
    "TN = c_matrix[0][0]\n",
    "FP = c_matrix[0][1]\n",
    "FN = c_matrix[1][0]"
   ]
  },
  {
   "cell_type": "code",
   "execution_count": 41,
   "id": "8cfa92f4-30ee-4fad-9b8a-3c785d7cce9b",
   "metadata": {},
   "outputs": [],
   "source": [
    "accuracy = (TP + TN) / (TP + TN + FP + FN)\n",
    "precision = TP / (TP + FP)\n",
    "recall = TP / (TP + FN)\n",
    "f1 = 2 * (precision * recall) / (precision + recall)"
   ]
  },
  {
   "cell_type": "code",
   "execution_count": 42,
   "id": "49d178d9-c1da-4e68-b579-42f2f7842914",
   "metadata": {},
   "outputs": [
    {
     "name": "stdout",
     "output_type": "stream",
     "text": [
      "Accuracy:   1.00\n",
      "Precision:  1.00\n",
      "Recall:     1.00\n",
      "F1:         1.00\n"
     ]
    }
   ],
   "source": [
    "print(f'{\"Accuracy:\":12s}{accuracy:.2f}')\n",
    "print(f'{\"Precision:\":12s}{precision:.2f}')\n",
    "print(f'{\"Recall:\":12s}{recall:>.2f}')\n",
    "print(f'{\"F1:\":12s}{f1:>.2f}')"
   ]
  },
  {
   "attachments": {},
   "cell_type": "markdown",
   "id": "ab4c57d8-a080-413a-9d78-b8c831ab688d",
   "metadata": {},
   "source": [
    "## Conclusion\n",
    "\n",
    "Based on the metrics I got, it appears that the logistic regression model performed extremely well on the test data set. I observed the following in each metrics\n",
    "\n",
    "* Confusion Matrix: The confusion matrix for the model has no false positives and no false negatives, meaning every prediction was correct.\n",
    "\n",
    "* Accuracy: This is the proportion of true results (both true positives and true negatives) in the total dataset. An accuracy of 1.0 indicates that the model made no mistakes on test set.\n",
    "\n",
    "* Precision: Proportion of predicted Positives is truly Positive. A score of 1.0 means every item labeled as positive was indeed positive (no false positives).\n",
    "\n",
    "* Recall: Proportion of actual Positives was identified correctly. A score of 1.0 means every positive item was identified correctly (no false negatives).\n",
    "\n",
    "* F1 Score: F1 score reaches its best value at 1 (perfect precision and recall) and worst at 0. The model has an F1 score of 1, meaning it had perfect precision and recall.\n",
    "\n",
    "According to the above metrics, the model has achieved perfect classification on test set. Further more I have implemnted cross validation and the model got perfect R^2 value which is 1. So I would say the logestic regression model is the best fit for the data."
   ]
  }
 ],
 "metadata": {
  "kernelspec": {
   "display_name": "Python 3 (ipykernel)",
   "language": "python",
   "name": "python3"
  },
  "language_info": {
   "codemirror_mode": {
    "name": "ipython",
    "version": 3
   },
   "file_extension": ".py",
   "mimetype": "text/x-python",
   "name": "python",
   "nbconvert_exporter": "python",
   "pygments_lexer": "ipython3",
   "version": "3.10.11"
  }
 },
 "nbformat": 4,
 "nbformat_minor": 5
}
