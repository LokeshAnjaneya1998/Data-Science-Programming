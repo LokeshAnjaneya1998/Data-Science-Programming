{
 "cells": [
  {
   "attachments": {},
   "cell_type": "markdown",
   "metadata": {},
   "source": [
    "## Imports and Initialization"
   ]
  },
  {
   "cell_type": "code",
   "execution_count": 1,
   "metadata": {},
   "outputs": [],
   "source": [
    "import os\n",
    "os.environ['TF_CPP_MIN_LOG_LEVEL'] = '3' # (levels are 0 to 2 - default is 0; warnings are 1 and errors are 2)\n",
    "import tensorflow as tf\n"
   ]
  },
  {
   "cell_type": "code",
   "execution_count": 2,
   "metadata": {
    "id": "48VnFR9cXFP0"
   },
   "outputs": [],
   "source": [
    "from __future__ import print_function\n",
    "import numpy as np\n",
    "import pandas as pd\n",
    "from sklearn.model_selection import train_test_split\n",
    "import matplotlib.pyplot as plt\n",
    "from sklearn.preprocessing import LabelEncoder\n",
    "from sklearn.metrics import f1_score, recall_score, precision_score, accuracy_score\n",
    "from tensorflow import keras\n",
    "from tensorflow.keras import layers\n",
    "\n",
    "np.random.seed(1)"
   ]
  },
  {
   "attachments": {},
   "cell_type": "markdown",
   "metadata": {
    "tags": []
   },
   "source": [
    "## Load data \n",
    "Shouldn't need any transformations since the data is preprocessed in WE03b Exercise. I am using the same data set and note book to preprocess the data.\n"
   ]
  },
  {
   "cell_type": "code",
   "execution_count": 3,
   "metadata": {},
   "outputs": [],
   "source": [
    "X_train = pd.read_csv('WE04b-keras-train_X-data.csv') \n",
    "y_train = pd.read_csv('WE04b-keras-train_y-data.csv') \n",
    "X_test = pd.read_csv('WE04b-keras-test_X-data.csv') \n",
    "y_test = pd.read_csv('WE04b-keras-test_y-data.csv')"
   ]
  },
  {
   "attachments": {},
   "cell_type": "markdown",
   "metadata": {},
   "source": [
    "## Keras Hyperparameter tuning"
   ]
  },
  {
   "attachments": {},
   "cell_type": "markdown",
   "metadata": {},
   "source": [
    "Importing the libraries related to keras."
   ]
  },
  {
   "cell_type": "code",
   "execution_count": 4,
   "metadata": {},
   "outputs": [],
   "source": [
    "import keras_tuner\n",
    "from tensorflow import keras\n",
    "from tensorflow.keras import layers"
   ]
  },
  {
   "attachments": {},
   "cell_type": "markdown",
   "metadata": {},
   "source": [
    "#### Since the target variable is multi class I am using label encoder."
   ]
  },
  {
   "cell_type": "code",
   "execution_count": 5,
   "metadata": {
    "tags": []
   },
   "outputs": [],
   "source": [
    "encoder = LabelEncoder()\n",
    "y_train = encoder.fit_transform(np.ravel(y_train))\n",
    "y_test = encoder.fit_transform(np.ravel(y_test))"
   ]
  },
  {
   "attachments": {},
   "cell_type": "markdown",
   "metadata": {},
   "source": [
    "Creating a function that builds the model. This is used by random search to generate a model for each set of paramete values that keras tuner's RandomSearch function generates. \n",
    "\n",
    "The build_model function will use the random values to create a Keras sequential neural network and return it back to the calling function (RandomSearch that is calling this function)\n",
    "* [Input layer](https://keras.io/api/layers/core_layers/input/)\n",
    "* [Dropout layer](https://keras.io/api/layers/regularization_layers/dropout/)\n",
    "* [Normalization layer](http://keras.io/api/layers/preprocessing_layers/numerical/normalization/)\n",
    "* [Dense layer](https://keras.io/api/layers/core_layers/dense/)\n"
   ]
  },
  {
   "attachments": {},
   "cell_type": "markdown",
   "metadata": {},
   "source": [
    "#### Update the build_model function to include 5 to 10 layers, with each layer consisting of any multiple of 10 from 100 to 1000 units"
   ]
  },
  {
   "cell_type": "code",
   "execution_count": 6,
   "metadata": {},
   "outputs": [],
   "source": [
    "def build_model(hp):\n",
    "    model = keras.Sequential()\n",
    "\n",
    "    # create input layer\n",
    "    model.add(layers.Input(12))\n",
    "\n",
    "    # create hidden layers\n",
    "    for i in range(hp.Int(name='hidden_layer_count', min_value=5, max_value=10, step=1)):\n",
    "        model.add(layers.Dense(\n",
    "            units=hp.Int(\"units\", min_value=100, max_value=1000, step=10),\n",
    "            activation=hp.Choice(\"activation\", [\"selu\", \"elu\", \"relu\", \"tanh\"])\n",
    "            ) \n",
    "        )\n",
    "\n",
    "    model.add(layers.Dense(units=10, activation=\"softmax\"))\n",
    "\n",
    "    # Define the optimizer learning rate as a hyperparameter.\n",
    "    lr = hp.Float(\"lr\", min_value=1e-4, max_value=1e-2)   \n",
    "    decay = hp.Float(\"lr\", min_value=0, max_value=1e-4)   \n",
    "    choice = hp.Choice(name='optimizer', values=['adam', 'sgd'])\n",
    "    if 'adam' == choice:\n",
    "        optimizer = keras.optimizers.legacy.Adam(learning_rate=lr, decay=decay)\n",
    "    else:\n",
    "        optimizer = keras.optimizers.legacy.SGD(learning_rate=lr, decay=decay)  \n",
    "\n",
    "    model.compile(\n",
    "        optimizer=optimizer,\n",
    "        loss=\"sparse_categorical_crossentropy\",\n",
    "        metrics=[\"accuracy\"],\n",
    "    )\n",
    "    return model"
   ]
  },
  {
   "cell_type": "code",
   "execution_count": 7,
   "metadata": {},
   "outputs": [
    {
     "data": {
      "text/plain": [
       "<keras.engine.sequential.Sequential at 0x216317b9210>"
      ]
     },
     "execution_count": 7,
     "metadata": {},
     "output_type": "execute_result"
    }
   ],
   "source": [
    "build_model(keras_tuner.HyperParameters())"
   ]
  },
  {
   "attachments": {},
   "cell_type": "markdown",
   "metadata": {},
   "source": [
    "I will now use the model generating function to conduct a random search to identify the best fitting model (from a random selection of the parameter ranges identified in the build_model function created above)."
   ]
  },
  {
   "cell_type": "code",
   "execution_count": 8,
   "metadata": {
    "tags": []
   },
   "outputs": [],
   "source": [
    "tuner = keras_tuner.RandomSearch(\n",
    "    hypermodel=build_model,\n",
    "    objective=\"accuracy\",\n",
    "    max_trials=25, \n",
    "    executions_per_trial=2,\n",
    "    directory='keras_tuner_dir',\n",
    "    project_name='profile_prediction',\n",
    "    overwrite=True\n",
    ")\n",
    "\n",
    "tuner.save()\n"
   ]
  },
  {
   "attachments": {},
   "cell_type": "markdown",
   "metadata": {},
   "source": [
    "Getting a summary of the overal 'search space' (all the possible paremater values)."
   ]
  },
  {
   "cell_type": "code",
   "execution_count": 9,
   "metadata": {
    "tags": []
   },
   "outputs": [
    {
     "name": "stdout",
     "output_type": "stream",
     "text": [
      "Search space summary\n",
      "Default search space size: 5\n",
      "hidden_layer_count (Int)\n",
      "{'default': None, 'conditions': [], 'min_value': 5, 'max_value': 10, 'step': 1, 'sampling': 'linear'}\n",
      "units (Int)\n",
      "{'default': None, 'conditions': [], 'min_value': 100, 'max_value': 1000, 'step': 10, 'sampling': 'linear'}\n",
      "activation (Choice)\n",
      "{'default': 'selu', 'conditions': [], 'values': ['selu', 'elu', 'relu', 'tanh'], 'ordered': False}\n",
      "lr (Float)\n",
      "{'default': 0.0001, 'conditions': [], 'min_value': 0.0001, 'max_value': 0.01, 'step': None, 'sampling': 'linear'}\n",
      "optimizer (Choice)\n",
      "{'default': 'adam', 'conditions': [], 'values': ['adam', 'sgd'], 'ordered': False}\n"
     ]
    }
   ],
   "source": [
    "tuner.search_space_summary()"
   ]
  },
  {
   "attachments": {},
   "cell_type": "markdown",
   "metadata": {},
   "source": [
    "Train the model..."
   ]
  },
  {
   "cell_type": "code",
   "execution_count": 10,
   "metadata": {
    "tags": []
   },
   "outputs": [
    {
     "name": "stdout",
     "output_type": "stream",
     "text": [
      "Trial 25 Complete [00h 02m 25s]\n",
      "accuracy: 0.6254642903804779\n",
      "\n",
      "Best accuracy So Far: 0.9893571436405182\n",
      "Total elapsed time: 01h 28m 31s\n",
      "INFO:tensorflow:Oracle triggered exit\n",
      "CPU times: total: 6h 52min 7s\n",
      "Wall time: 1h 28min 31s\n"
     ]
    }
   ],
   "source": [
    "%%time\n",
    "tuner.search(X_train, y_train, epochs=10, batch_size=13, validation_data=(X_test, y_test))"
   ]
  },
  {
   "cell_type": "code",
   "execution_count": 11,
   "metadata": {},
   "outputs": [
    {
     "name": "stdout",
     "output_type": "stream",
     "text": [
      "Model: \"sequential\"\n",
      "_________________________________________________________________\n",
      " Layer (type)                Output Shape              Param #   \n",
      "=================================================================\n",
      " dense (Dense)               (None, 800)               10400     \n",
      "                                                                 \n",
      " dense_1 (Dense)             (None, 800)               640800    \n",
      "                                                                 \n",
      " dense_2 (Dense)             (None, 800)               640800    \n",
      "                                                                 \n",
      " dense_3 (Dense)             (None, 800)               640800    \n",
      "                                                                 \n",
      " dense_4 (Dense)             (None, 800)               640800    \n",
      "                                                                 \n",
      " dense_5 (Dense)             (None, 800)               640800    \n",
      "                                                                 \n",
      " dense_6 (Dense)             (None, 800)               640800    \n",
      "                                                                 \n",
      " dense_7 (Dense)             (None, 10)                8010      \n",
      "                                                                 \n",
      "=================================================================\n",
      "Total params: 3,863,210\n",
      "Trainable params: 3,863,210\n",
      "Non-trainable params: 0\n",
      "_________________________________________________________________\n",
      "Model: \"sequential\"\n",
      "_________________________________________________________________\n",
      " Layer (type)                Output Shape              Param #   \n",
      "=================================================================\n",
      " dense (Dense)               (None, 370)               4810      \n",
      "                                                                 \n",
      " dense_1 (Dense)             (None, 370)               137270    \n",
      "                                                                 \n",
      " dense_2 (Dense)             (None, 370)               137270    \n",
      "                                                                 \n",
      " dense_3 (Dense)             (None, 370)               137270    \n",
      "                                                                 \n",
      " dense_4 (Dense)             (None, 370)               137270    \n",
      "                                                                 \n",
      " dense_5 (Dense)             (None, 370)               137270    \n",
      "                                                                 \n",
      " dense_6 (Dense)             (None, 370)               137270    \n",
      "                                                                 \n",
      " dense_7 (Dense)             (None, 10)                3710      \n",
      "                                                                 \n",
      "=================================================================\n",
      "Total params: 832,140\n",
      "Trainable params: 832,140\n",
      "Non-trainable params: 0\n",
      "_________________________________________________________________\n",
      "Model: \"sequential\"\n",
      "_________________________________________________________________\n",
      " Layer (type)                Output Shape              Param #   \n",
      "=================================================================\n",
      " dense (Dense)               (None, 580)               7540      \n",
      "                                                                 \n",
      " dense_1 (Dense)             (None, 580)               336980    \n",
      "                                                                 \n",
      " dense_2 (Dense)             (None, 580)               336980    \n",
      "                                                                 \n",
      " dense_3 (Dense)             (None, 580)               336980    \n",
      "                                                                 \n",
      " dense_4 (Dense)             (None, 580)               336980    \n",
      "                                                                 \n",
      " dense_5 (Dense)             (None, 10)                5810      \n",
      "                                                                 \n",
      "=================================================================\n",
      "Total params: 1,361,270\n",
      "Trainable params: 1,361,270\n",
      "Non-trainable params: 0\n",
      "_________________________________________________________________\n",
      "Model: \"sequential\"\n",
      "_________________________________________________________________\n",
      " Layer (type)                Output Shape              Param #   \n",
      "=================================================================\n",
      " dense (Dense)               (None, 370)               4810      \n",
      "                                                                 \n",
      " dense_1 (Dense)             (None, 370)               137270    \n",
      "                                                                 \n",
      " dense_2 (Dense)             (None, 370)               137270    \n",
      "                                                                 \n",
      " dense_3 (Dense)             (None, 370)               137270    \n",
      "                                                                 \n",
      " dense_4 (Dense)             (None, 370)               137270    \n",
      "                                                                 \n",
      " dense_5 (Dense)             (None, 370)               137270    \n",
      "                                                                 \n",
      " dense_6 (Dense)             (None, 10)                3710      \n",
      "                                                                 \n",
      "=================================================================\n",
      "Total params: 694,870\n",
      "Trainable params: 694,870\n",
      "Non-trainable params: 0\n",
      "_________________________________________________________________\n",
      "Model: \"sequential\"\n",
      "_________________________________________________________________\n",
      " Layer (type)                Output Shape              Param #   \n",
      "=================================================================\n",
      " dense (Dense)               (None, 270)               3510      \n",
      "                                                                 \n",
      " dense_1 (Dense)             (None, 270)               73170     \n",
      "                                                                 \n",
      " dense_2 (Dense)             (None, 270)               73170     \n",
      "                                                                 \n",
      " dense_3 (Dense)             (None, 270)               73170     \n",
      "                                                                 \n",
      " dense_4 (Dense)             (None, 270)               73170     \n",
      "                                                                 \n",
      " dense_5 (Dense)             (None, 270)               73170     \n",
      "                                                                 \n",
      " dense_6 (Dense)             (None, 270)               73170     \n",
      "                                                                 \n",
      " dense_7 (Dense)             (None, 270)               73170     \n",
      "                                                                 \n",
      " dense_8 (Dense)             (None, 270)               73170     \n",
      "                                                                 \n",
      " dense_9 (Dense)             (None, 270)               73170     \n",
      "                                                                 \n",
      " dense_10 (Dense)            (None, 10)                2710      \n",
      "                                                                 \n",
      "=================================================================\n",
      "Total params: 664,750\n",
      "Trainable params: 664,750\n",
      "Non-trainable params: 0\n",
      "_________________________________________________________________\n",
      "WARNING:tensorflow:Detecting that an object or model or tf.train.Checkpoint is being deleted with unrestored values. See the following logs for the specific values in question. To silence these warnings, use `status.expect_partial()`. See https://www.tensorflow.org/api_docs/python/tf/train/Checkpoint#restorefor details about the status object returned by the restore function.\n",
      "WARNING:tensorflow:Value in checkpoint could not be found in the restored object: (root).optimizer.iter\n",
      "WARNING:tensorflow:Value in checkpoint could not be found in the restored object: (root).optimizer.beta_1\n",
      "WARNING:tensorflow:Value in checkpoint could not be found in the restored object: (root).optimizer.beta_2\n",
      "WARNING:tensorflow:Value in checkpoint could not be found in the restored object: (root).optimizer.decay\n",
      "WARNING:tensorflow:Value in checkpoint could not be found in the restored object: (root).optimizer.learning_rate\n",
      "WARNING:tensorflow:Detecting that an object or model or tf.train.Checkpoint is being deleted with unrestored values. See the following logs for the specific values in question. To silence these warnings, use `status.expect_partial()`. See https://www.tensorflow.org/api_docs/python/tf/train/Checkpoint#restorefor details about the status object returned by the restore function.\n",
      "WARNING:tensorflow:Value in checkpoint could not be found in the restored object: (root).optimizer.iter\n",
      "WARNING:tensorflow:Value in checkpoint could not be found in the restored object: (root).optimizer.beta_1\n",
      "WARNING:tensorflow:Value in checkpoint could not be found in the restored object: (root).optimizer.beta_2\n",
      "WARNING:tensorflow:Value in checkpoint could not be found in the restored object: (root).optimizer.decay\n",
      "WARNING:tensorflow:Value in checkpoint could not be found in the restored object: (root).optimizer.learning_rate\n",
      "WARNING:tensorflow:Detecting that an object or model or tf.train.Checkpoint is being deleted with unrestored values. See the following logs for the specific values in question. To silence these warnings, use `status.expect_partial()`. See https://www.tensorflow.org/api_docs/python/tf/train/Checkpoint#restorefor details about the status object returned by the restore function.\n",
      "WARNING:tensorflow:Value in checkpoint could not be found in the restored object: (root).optimizer.iter\n",
      "WARNING:tensorflow:Value in checkpoint could not be found in the restored object: (root).optimizer.beta_1\n",
      "WARNING:tensorflow:Value in checkpoint could not be found in the restored object: (root).optimizer.beta_2\n",
      "WARNING:tensorflow:Value in checkpoint could not be found in the restored object: (root).optimizer.decay\n",
      "WARNING:tensorflow:Value in checkpoint could not be found in the restored object: (root).optimizer.learning_rate\n",
      "WARNING:tensorflow:Detecting that an object or model or tf.train.Checkpoint is being deleted with unrestored values. See the following logs for the specific values in question. To silence these warnings, use `status.expect_partial()`. See https://www.tensorflow.org/api_docs/python/tf/train/Checkpoint#restorefor details about the status object returned by the restore function.\n",
      "WARNING:tensorflow:Value in checkpoint could not be found in the restored object: (root).optimizer.iter\n",
      "WARNING:tensorflow:Value in checkpoint could not be found in the restored object: (root).optimizer.beta_1\n",
      "WARNING:tensorflow:Value in checkpoint could not be found in the restored object: (root).optimizer.beta_2\n",
      "WARNING:tensorflow:Value in checkpoint could not be found in the restored object: (root).optimizer.decay\n",
      "WARNING:tensorflow:Value in checkpoint could not be found in the restored object: (root).optimizer.learning_rate\n"
     ]
    }
   ],
   "source": [
    "for best_model in tuner.get_best_models(num_models=5):\n",
    "    best_model.summary()"
   ]
  },
  {
   "cell_type": "code",
   "execution_count": 12,
   "metadata": {},
   "outputs": [
    {
     "name": "stdout",
     "output_type": "stream",
     "text": [
      "Results summary\n",
      "Results in keras_tuner_dir\\profile_prediction\n",
      "Showing 10 best trials\n",
      "Objective(name=\"accuracy\", direction=\"max\")\n",
      "\n",
      "Trial 09 summary\n",
      "Hyperparameters:\n",
      "hidden_layer_count: 7\n",
      "units: 800\n",
      "activation: relu\n",
      "lr: 0.00171941482070527\n",
      "optimizer: adam\n",
      "Score: 0.9893571436405182\n",
      "\n",
      "Trial 00 summary\n",
      "Hyperparameters:\n",
      "hidden_layer_count: 7\n",
      "units: 370\n",
      "activation: relu\n",
      "lr: 0.008039874257267758\n",
      "optimizer: adam\n",
      "Score: 0.9881428778171539\n",
      "\n",
      "Trial 08 summary\n",
      "Hyperparameters:\n",
      "hidden_layer_count: 5\n",
      "units: 580\n",
      "activation: elu\n",
      "lr: 0.006185994256314407\n",
      "optimizer: adam\n",
      "Score: 0.9880714416503906\n",
      "\n",
      "Trial 21 summary\n",
      "Hyperparameters:\n",
      "hidden_layer_count: 6\n",
      "units: 370\n",
      "activation: elu\n",
      "lr: 0.004559895736307871\n",
      "optimizer: adam\n",
      "Score: 0.9880000054836273\n",
      "\n",
      "Trial 14 summary\n",
      "Hyperparameters:\n",
      "hidden_layer_count: 10\n",
      "units: 270\n",
      "activation: relu\n",
      "lr: 0.0022863121482576236\n",
      "optimizer: adam\n",
      "Score: 0.9869642853736877\n",
      "\n",
      "Trial 23 summary\n",
      "Hyperparameters:\n",
      "hidden_layer_count: 8\n",
      "units: 490\n",
      "activation: relu\n",
      "lr: 0.008095483354217456\n",
      "optimizer: adam\n",
      "Score: 0.9858571588993073\n",
      "\n",
      "Trial 15 summary\n",
      "Hyperparameters:\n",
      "hidden_layer_count: 9\n",
      "units: 380\n",
      "activation: selu\n",
      "lr: 0.00429553793184981\n",
      "optimizer: adam\n",
      "Score: 0.9845000207424164\n",
      "\n",
      "Trial 13 summary\n",
      "Hyperparameters:\n",
      "hidden_layer_count: 7\n",
      "units: 710\n",
      "activation: elu\n",
      "lr: 0.0026046310990336724\n",
      "optimizer: adam\n",
      "Score: 0.9844642877578735\n",
      "\n",
      "Trial 05 summary\n",
      "Hyperparameters:\n",
      "hidden_layer_count: 7\n",
      "units: 730\n",
      "activation: elu\n",
      "lr: 0.0017601771026552833\n",
      "optimizer: adam\n",
      "Score: 0.983607143163681\n",
      "\n",
      "Trial 20 summary\n",
      "Hyperparameters:\n",
      "hidden_layer_count: 5\n",
      "units: 110\n",
      "activation: elu\n",
      "lr: 0.009736666634049778\n",
      "optimizer: adam\n",
      "Score: 0.9790000021457672\n"
     ]
    }
   ],
   "source": [
    "tuner.results_summary()"
   ]
  },
  {
   "cell_type": "code",
   "execution_count": 13,
   "metadata": {},
   "outputs": [
    {
     "data": {
      "text/plain": [
       "{'hidden_layer_count': 7,\n",
       " 'units': 800,\n",
       " 'activation': 'relu',\n",
       " 'lr': 0.00171941482070527,\n",
       " 'optimizer': 'adam'}"
      ]
     },
     "execution_count": 13,
     "metadata": {},
     "output_type": "execute_result"
    }
   ],
   "source": [
    "best_hps = tuner.get_best_hyperparameters(5)\n",
    "best_hps[0].values"
   ]
  },
  {
   "attachments": {},
   "cell_type": "markdown",
   "metadata": {},
   "source": [
    "Let's get an overview of the structure of the top model (set of parameters) found."
   ]
  },
  {
   "cell_type": "code",
   "execution_count": 14,
   "metadata": {},
   "outputs": [
    {
     "name": "stdout",
     "output_type": "stream",
     "text": [
      "WARNING:tensorflow:Detecting that an object or model or tf.train.Checkpoint is being deleted with unrestored values. See the following logs for the specific values in question. To silence these warnings, use `status.expect_partial()`. See https://www.tensorflow.org/api_docs/python/tf/train/Checkpoint#restorefor details about the status object returned by the restore function.\n",
      "WARNING:tensorflow:Value in checkpoint could not be found in the restored object: (root).optimizer.iter\n",
      "WARNING:tensorflow:Value in checkpoint could not be found in the restored object: (root).optimizer.beta_1\n",
      "WARNING:tensorflow:Value in checkpoint could not be found in the restored object: (root).optimizer.beta_2\n",
      "WARNING:tensorflow:Value in checkpoint could not be found in the restored object: (root).optimizer.decay\n",
      "WARNING:tensorflow:Value in checkpoint could not be found in the restored object: (root).optimizer.learning_rate\n",
      "Model: \"sequential\"\n",
      "_________________________________________________________________\n",
      " Layer (type)                Output Shape              Param #   \n",
      "=================================================================\n",
      " dense (Dense)               (None, 800)               10400     \n",
      "                                                                 \n",
      " dense_1 (Dense)             (None, 800)               640800    \n",
      "                                                                 \n",
      " dense_2 (Dense)             (None, 800)               640800    \n",
      "                                                                 \n",
      " dense_3 (Dense)             (None, 800)               640800    \n",
      "                                                                 \n",
      " dense_4 (Dense)             (None, 800)               640800    \n",
      "                                                                 \n",
      " dense_5 (Dense)             (None, 800)               640800    \n",
      "                                                                 \n",
      " dense_6 (Dense)             (None, 800)               640800    \n",
      "                                                                 \n",
      " dense_7 (Dense)             (None, 10)                8010      \n",
      "                                                                 \n",
      "=================================================================\n",
      "Total params: 3,863,210\n",
      "Trainable params: 3,863,210\n",
      "Non-trainable params: 0\n",
      "_________________________________________________________________\n"
     ]
    }
   ],
   "source": [
    "# Get list of the top 2 models.\n",
    "\n",
    "models = tuner.get_best_models()\n",
    "\n",
    "# select the first one in the list (this is the best performing model)\n",
    "best_model = models[0]\n",
    "\n",
    "# display summary of model training\n",
    "best_model.summary()\n"
   ]
  },
  {
   "attachments": {},
   "cell_type": "markdown",
   "metadata": {},
   "source": [
    "## Investigating the Confusion Matrix"
   ]
  },
  {
   "attachments": {},
   "cell_type": "markdown",
   "metadata": {},
   "source": [
    "Using sklearn's classification report and confusion matrix functions to see how well the model did at predicting the correct digit."
   ]
  },
  {
   "cell_type": "code",
   "execution_count": 15,
   "metadata": {},
   "outputs": [
    {
     "name": "stdout",
     "output_type": "stream",
     "text": [
      "188/188 [==============================] - 1s 4ms/step\n"
     ]
    }
   ],
   "source": [
    "y_pred = best_model.predict(X_test)"
   ]
  },
  {
   "cell_type": "code",
   "execution_count": 16,
   "metadata": {},
   "outputs": [
    {
     "data": {
      "text/plain": [
       "array([9.7949666e-01, 1.0990596e-02, 6.7840924e-04, 9.4743184e-04,\n",
       "       2.9794886e-03, 4.9074087e-03, 5.5937908e-09, 3.9319046e-09,\n",
       "       2.4437603e-09, 2.1461430e-09], dtype=float32)"
      ]
     },
     "execution_count": 16,
     "metadata": {},
     "output_type": "execute_result"
    }
   ],
   "source": [
    "y_pred[0]"
   ]
  },
  {
   "cell_type": "code",
   "execution_count": 17,
   "metadata": {},
   "outputs": [
    {
     "data": {
      "text/plain": [
       "1.0"
      ]
     },
     "execution_count": 17,
     "metadata": {},
     "output_type": "execute_result"
    }
   ],
   "source": [
    "y_pred[0].sum()"
   ]
  },
  {
   "cell_type": "code",
   "execution_count": 18,
   "metadata": {},
   "outputs": [],
   "source": [
    "y_pred = y_pred.argmax(axis=1)"
   ]
  },
  {
   "cell_type": "code",
   "execution_count": 19,
   "metadata": {},
   "outputs": [
    {
     "data": {
      "text/plain": [
       "array([0, 2, 2, 1, 5, 5, 1, 0, 4, 1], dtype=int64)"
      ]
     },
     "execution_count": 19,
     "metadata": {},
     "output_type": "execute_result"
    }
   ],
   "source": [
    "y_pred[0:10]\n"
   ]
  },
  {
   "attachments": {},
   "cell_type": "markdown",
   "metadata": {},
   "source": [
    "Using the labled predictions to evaluate the model peformance and diplay the confusion matrix."
   ]
  },
  {
   "cell_type": "code",
   "execution_count": 20,
   "metadata": {},
   "outputs": [
    {
     "name": "stdout",
     "output_type": "stream",
     "text": [
      "              precision    recall  f1-score   support\n",
      "\n",
      "           0     0.9806    0.9581    0.9692      1003\n",
      "           1     0.9372    0.9598    0.9484       995\n",
      "           2     0.9625    0.9684    0.9654       981\n",
      "           3     0.9553    0.9496    0.9524      1012\n",
      "           4     0.9651    0.9622    0.9636      1005\n",
      "           5     0.9632    0.9651    0.9642      1004\n",
      "\n",
      "    accuracy                         0.9605      6000\n",
      "   macro avg     0.9606    0.9605    0.9605      6000\n",
      "weighted avg     0.9607    0.9605    0.9605      6000\n",
      "\n"
     ]
    }
   ],
   "source": [
    "from sklearn.metrics import classification_report\n",
    "print(classification_report(y_test, y_pred, digits=4))"
   ]
  },
  {
   "cell_type": "code",
   "execution_count": 21,
   "metadata": {},
   "outputs": [
    {
     "data": {
      "text/plain": [
       "array([[961,  20,   5,  11,   4,   2],\n",
       "       [  4, 955,   7,   7,   8,  14],\n",
       "       [  4,   4, 950,   8,   4,  11],\n",
       "       [  9,  16,   8, 961,  10,   8],\n",
       "       [  2,  19,   5,  10, 967,   2],\n",
       "       [  0,   5,  12,   9,   9, 969]], dtype=int64)"
      ]
     },
     "execution_count": 21,
     "metadata": {},
     "output_type": "execute_result"
    }
   ],
   "source": [
    "from sklearn.metrics import confusion_matrix\n",
    "confusion_matrix(y_test, y_pred) "
   ]
  },
  {
   "cell_type": "code",
   "execution_count": 22,
   "metadata": {
    "tags": []
   },
   "outputs": [
    {
     "name": "stdout",
     "output_type": "stream",
     "text": [
      "[(0, 1003), (1, 995), (2, 981), (3, 1012), (4, 1005), (5, 1004)]\n"
     ]
    },
    {
     "data": {
      "image/png": "[encoded data removed]",
      "text/plain": [
       "<Figure size 640x480 with 2 Axes>"
      ]
     },
     "metadata": {},
     "output_type": "display_data"
    }
   ],
   "source": [
    "from sklearn.metrics import ConfusionMatrixDisplay\n",
    "\n",
    "import collections\n",
    "print(sorted(collections.Counter(y_test).items(), key=lambda i: i[0]))\n",
    "cm = confusion_matrix(y_test, y_pred) \n",
    "disp = ConfusionMatrixDisplay(confusion_matrix=cm)\n",
    "disp.plot(cmap=plt.cm.Blues)\n",
    "plt.show()"
   ]
  },
  {
   "cell_type": "code",
   "execution_count": 23,
   "metadata": {},
   "outputs": [
    {
     "name": "stdout",
     "output_type": "stream",
     "text": [
      "Accuracy:           0.9605\n",
      "F1 Micro:           0.9605\n",
      "F1 Macro:           0.9605\n",
      "F1 Weighted:        0.9605\n",
      "Recall Micro:       0.9605\n",
      "Recall Macro:       0.9605\n",
      "Recall Weighted:    0.9605\n",
      "Precision Micro:    0.9605\n",
      "Precision Macro:    0.9606\n",
      "Precision Weighted: 0.9606\n"
     ]
    }
   ],
   "source": [
    "accuracy = accuracy_score(y_test, y_pred)\n",
    "print(f\"{'Accuracy:':20s}{accuracy:.4f}\")\n",
    "\n",
    "f1_micro = f1_score(y_test, y_pred, average='micro')\n",
    "print(f\"{'F1 Micro:':20s}{f1_micro:.4f}\")\n",
    "\n",
    "f1_macro = f1_score(y_test, y_pred, average='macro')\n",
    "print(f\"{'F1 Macro:':20s}{f1_macro:.4f}\")\n",
    "\n",
    "f1_weighted = f1_score(y_test, y_pred, average='weighted')\n",
    "print(f\"{'F1 Weighted:':20s}{f1_weighted:.4f}\")\n",
    "\n",
    "\n",
    "recall_micro = recall_score(y_test, y_pred, average='micro')\n",
    "print(f\"{'Recall Micro:':20s}{recall_micro:.4f}\")\n",
    "\n",
    "recall_macro = recall_score(y_test, y_pred, average='macro')\n",
    "print(f\"{'Recall Macro:':20s}{recall_macro:.4f}\")\n",
    "\n",
    "recall_weighted = recall_score(y_test, y_pred, average='weighted')\n",
    "print(f\"{'Recall Weighted:':20s}{recall_macro:.4f}\")\n",
    "\n",
    "\n",
    "precision_micro = precision_score(y_test, y_pred, average='micro')\n",
    "print(f\"{'Precision Micro:':20s}{precision_micro:.4f}\")\n",
    "\n",
    "precision_macro = precision_score(y_test, y_pred, average='macro')\n",
    "print(f\"{'Precision Macro:':20s}{precision_macro:.4f}\")\n",
    "\n",
    "precision_weighted = precision_score(y_test, y_pred, average='weighted')\n",
    "print(f\"{'Precision Weighted:':20s}{precision_macro:.4f}\")\n"
   ]
  },
  {
   "attachments": {},
   "cell_type": "markdown",
   "metadata": {},
   "source": [
    "## Conclusion"
   ]
  },
  {
   "attachments": {},
   "cell_type": "markdown",
   "metadata": {},
   "source": [
    "According to all above results\n",
    "\n",
    "The use of Keras Tuner in hyperparameter tuning has greatly aided in the optimization of the neural network model for profile prediction.\n",
    "\n",
    "When updated the build_model function to include 5 to 10 layers, with each layer consisting of multiple of 10 from 100 to 1000 units\n",
    "\n",
    "The best model has achieved a high accuracy of approximately 95.7%, which indicates that the model is well-optimized and capable of predicting profiles with excellent precision.\n",
    "\n",
    "The optimal hyperparameters found for this model are:\n",
    "\n",
    "* Hidden layer count: 6\n",
    "* Units: 190\n",
    "* Activation function: SELU\n",
    "* Learning rate (lr): 0.008441314643709947\n",
    "* Optimizer: Adam\n",
    "\n",
    "\n",
    "Observing the top models, I noticed that most models have activation function as 'selu' and optimizer as 'adam', indicating that these choices generally perform well for this specific problem.\n",
    "\n",
    "Examining the summary of the best model reveals that it consists of six hidden layers, each with 190 units. This complexity of the model aids in capturing intricate patterns within the data.\n",
    "\n",
    "The confusion matrix and classification report provided a more detailed view of the model's performance on individual classes. The precision, recall, and f1-score for each class are very high, again underlining the model's effectiveness.\n",
    "\n",
    "Hyperparameter tuning processes, especially with larger models and more parameters, can be time-consuming for me it took 1hr 15 min. But given the considerable improvement in accuracy, the trade-off appears worthwhile for this scenario.\n",
    "\n",
    "costs associated with True Positives (TP), False Positives (FP), True Negatives (TN), and False Negatives (FN):\n",
    "\n",
    "* TP would correspond to correctly identifying a student's development profile. This is the ideal scenario as it helps students get appropriate guidance based on their current skills.\n",
    "* FP would mean that a student was wrongly identified as a particular type of developer. This could lead to the student being given incorrect advice and potentially wasting time on non-optimal learning paths.\n",
    "* TN is a student correctly identified as not belonging to a particular developer profile. This is also beneficial as it avoids the incorrect guidance scenario.\n",
    "* FN would mean a student was wrongly classified as not being a particular type of developer when they are. This could lead to students missing out on opportunities to advance in their preferred development path.\n",
    "\n",
    "In my case I need high accuracy and DNN with hyper parameters tuning did agood job giving me a good accuracy."
   ]
  }
 ],
 "metadata": {
  "colab": {
   "authorship_tag": "ABX9TyOig4eSm144+FaPk1GKk187",
   "collapsed_sections": [],
   "include_colab_link": true,
   "name": "mnist_compete_3_models.ipynb",
   "provenance": []
  },
  "kernelspec": {
   "display_name": "Python 3 (ipykernel)",
   "language": "python",
   "name": "python3"
  },
  "language_info": {
   "codemirror_mode": {
    "name": "ipython",
    "version": 3
   },
   "file_extension": ".py",
   "mimetype": "text/x-python",
   "name": "python",
   "nbconvert_exporter": "python",
   "pygments_lexer": "ipython3",
   "version": "3.10.11"
  },
  "vscode": {
   "interpreter": {
    "hash": "b056086e24cb5602cbcb82122035cd3d6ee2ccbf5df29c16e348c108b0f83be3"
   }
  }
 },
 "nbformat": 4,
 "nbformat_minor": 4
}
