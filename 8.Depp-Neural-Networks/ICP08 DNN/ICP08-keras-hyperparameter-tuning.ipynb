{
 "cells": [
  {
   "attachments": {},
   "cell_type": "markdown",
   "metadata": {
    "id": "w0tyra0NWJvI"
   },
   "source": [
    "# ICP08 DNN - Assignment\n",
    "\n",
    "In this exercise I will update 03-keras-hyperparameter-tuning by adding a model loss and model accuracy plot.\n",
    "\n",
    "MNIST data set;\n",
    "\n",
    "![mnist data](https://upload.wikimedia.org/wikipedia/commons/2/27/MnistExamples.png)"
   ]
  },
  {
   "attachments": {},
   "cell_type": "markdown",
   "metadata": {},
   "source": [
    "## Imports and Initialization"
   ]
  },
  {
   "cell_type": "code",
   "execution_count": 1,
   "metadata": {},
   "outputs": [],
   "source": [
    "import os\n",
    "os.environ['TF_CPP_MIN_LOG_LEVEL'] = '3' # (levels are 0 to 2 - default is 0; warnings are 1 and errors are 2)\n",
    "import tensorflow as tf\n"
   ]
  },
  {
   "cell_type": "code",
   "execution_count": 2,
   "metadata": {
    "id": "48VnFR9cXFP0"
   },
   "outputs": [],
   "source": [
    "from __future__ import print_function\n",
    "import numpy as np\n",
    "from sklearn.model_selection import train_test_split\n",
    "import matplotlib.pyplot as plt\n",
    "\n",
    "from tensorflow import keras\n",
    "from tensorflow.keras import layers\n",
    "from sklearn import datasets\n",
    "\n",
    "np.random.seed(1)"
   ]
  },
  {
   "attachments": {},
   "cell_type": "markdown",
   "metadata": {
    "tags": []
   },
   "source": [
    "## Load data (shouldn't need any transformations)\n",
    "\n",
    "> NOTE1: The features of this data are all pixel grayscale values.  All of these measures are the same scale, so we don't need to do any scaling or normalization. If we did have differing scales, we should be sure to scale them to the same range. Neural networks are sensitive to scale, and features with larger scales can dominate the training process.\n",
    "\n",
    "> NOTE2: Some might argue that you should scale every time your fit a neural network. This is a good idea, but it is not necessary if you are using a good optimizer.  We will use the Adam optimizer, which is a good optimizer."
   ]
  },
  {
   "attachments": {},
   "cell_type": "markdown",
   "metadata": {},
   "source": [
    "Load the MNIST digits dataset. It's originally from UCI machine learning library, but included in SKLearn."
   ]
  },
  {
   "cell_type": "code",
   "execution_count": 3,
   "metadata": {
    "colab": {
     "base_uri": "https://localhost:8080/",
     "height": 34
    },
    "id": "M8CjaVlYW2Jx",
    "outputId": "e90a4dd3-3781-477f-b02f-97ac3e75be91"
   },
   "outputs": [],
   "source": [
    "mnist = datasets.load_digits() # sklearn includes this data set .. https://archive.ics.uci.edu/ml/datasets/Optical+Recognition+of+Handwritten+Digits"
   ]
  },
  {
   "cell_type": "code",
   "execution_count": 4,
   "metadata": {
    "colab": {
     "base_uri": "https://localhost:8080/",
     "height": 34
    },
    "id": "rTQ7qNp4ffaW",
    "outputId": "3d267533-ac01-4747-abee-369aae5d3d79"
   },
   "outputs": [
    {
     "name": "stdout",
     "output_type": "stream",
     "text": [
      "1797\n"
     ]
    }
   ],
   "source": [
    "print(len(mnist.data))"
   ]
  },
  {
   "attachments": {},
   "cell_type": "markdown",
   "metadata": {},
   "source": [
    "And, for each image we have a target value"
   ]
  },
  {
   "cell_type": "code",
   "execution_count": 5,
   "metadata": {
    "tags": []
   },
   "outputs": [
    {
     "name": "stdout",
     "output_type": "stream",
     "text": [
      "1797\n"
     ]
    }
   ],
   "source": [
    "print(len(mnist.target))"
   ]
  },
  {
   "attachments": {},
   "cell_type": "markdown",
   "metadata": {},
   "source": [
    "## Split data into training and test sets\n"
   ]
  },
  {
   "cell_type": "code",
   "execution_count": 6,
   "metadata": {},
   "outputs": [],
   "source": [
    "X_train, X_test, y_train, y_test = train_test_split(mnist.data, mnist.target, test_size=0.2, random_state=1)"
   ]
  },
  {
   "attachments": {},
   "cell_type": "markdown",
   "metadata": {},
   "source": [
    "## Keras Hyperparameter tuning"
   ]
  },
  {
   "attachments": {},
   "cell_type": "markdown",
   "metadata": {},
   "source": [
    "Import the libraries we will use"
   ]
  },
  {
   "cell_type": "code",
   "execution_count": 7,
   "metadata": {},
   "outputs": [],
   "source": [
    "import keras_tuner # you will most likely need to install this using ```conda install -c conda-forge keras-tuner``` or ```pip install keras-tuner```\n",
    "from tensorflow import keras\n",
    "from tensorflow.keras import layers"
   ]
  },
  {
   "attachments": {},
   "cell_type": "markdown",
   "metadata": {},
   "source": [
    "Create a function that builds the model. This is used by random search to generate a model for each set of paramete values that keras tuner's RandomSearch function generates. \n",
    "\n",
    "Notice that there are a number of references to 'hp' in this function. Hp is a keras hyper parameter object that RandomSearch will send to our build_model function. The hp.Boolean, hb.Int, hp.Float methods will generate a random value based on the parameters given to each method. \n",
    "\n",
    "These hyperparameter randomization methods are well documented [here](https://keras.io/api/keras_tuner/hyperparameters/).\n",
    "* hp.Boolean\n",
    "* hp.Int\n",
    "* hp.Float\n",
    "* hp.Choice\n",
    "\n",
    "The build_model function will use the random values to create a Keras sequential neural network and return it back to the calling function (RandomSearch that is calling this function)\n",
    "* [Input layer](https://keras.io/api/layers/core_layers/input/)\n",
    "* [Dropout layer](https://keras.io/api/layers/regularization_layers/dropout/)\n",
    "* [Normalization layer](http://keras.io/api/layers/preprocessing_layers/numerical/normalization/)\n",
    "* [Dense layer](https://keras.io/api/layers/core_layers/dense/)\n"
   ]
  },
  {
   "cell_type": "code",
   "execution_count": 8,
   "metadata": {},
   "outputs": [],
   "source": [
    "def build_mnist_model(hp):\n",
    "    model = keras.Sequential()\n",
    "\n",
    "    # create input layer\n",
    "    model.add(layers.Input(64))\n",
    "\n",
    "    # create hidden layers\n",
    "    for i in range(hp.Int(name='hidden_layer_count', min_value=1, max_value=5, step=1)):\n",
    "        model.add(layers.Dense(\n",
    "            units=hp.Int(\"units\", min_value=32, max_value=1024, step=32),\n",
    "            activation=hp.Choice(\"activation\", [\"selu\", \"elu\", \"relu\", \"tanh\"])\n",
    "            ) \n",
    "        )\n",
    "\n",
    "    model.add(layers.Dense(units=10, activation=\"softmax\"))\n",
    "\n",
    "    # Define the optimizer learning rate as a hyperparameter.\n",
    "    lr = hp.Float(\"lr\", min_value=1e-4, max_value=1e-2)   \n",
    "    decay = hp.Float(\"lr\", min_value=0, max_value=1e-4)   \n",
    "    choice = hp.Choice(name='optimizer', values=['adam', 'sgd'])\n",
    "    if 'adam' == choice:\n",
    "#        optimizer = keras.optimizers.legacy.Adam(learning_rate=lr)\n",
    "        optimizer = keras.optimizers.legacy.Adam(learning_rate=lr, decay=decay)\n",
    "    else:\n",
    "#        optimizer = keras.optimizers.legacy.SGD(learning_rate=lr) \n",
    "        optimizer = keras.optimizers.legacy.SGD(learning_rate=lr, decay=decay)  \n",
    "\n",
    "    model.compile(\n",
    "        optimizer=optimizer,\n",
    "        loss=\"sparse_categorical_crossentropy\",\n",
    "        metrics=[\"accuracy\"],\n",
    "    )\n",
    "    return model"
   ]
  },
  {
   "cell_type": "code",
   "execution_count": 9,
   "metadata": {},
   "outputs": [
    {
     "data": {
      "text/plain": [
       "<keras.engine.sequential.Sequential at 0x26a83ca60e0>"
      ]
     },
     "execution_count": 9,
     "metadata": {},
     "output_type": "execute_result"
    }
   ],
   "source": [
    "build_mnist_model(keras_tuner.HyperParameters())"
   ]
  },
  {
   "attachments": {},
   "cell_type": "markdown",
   "metadata": {},
   "source": [
    "We now use our model generating function to conduct a random search to identify the best fitting model (from a random selection of the parameter ranges identified in the build_model function we created above).\n",
    "\n",
    "NOTE: That the number of trials represents the number of unique combinations of hyperparameters that will be tested. the executions per trial are how many trials of of a model with this chosen set of parameters will be tested. So, if we have 10 trials and 3 executions, we will train 30 times... 3 times per each 10 sets of parameters."
   ]
  },
  {
   "cell_type": "code",
   "execution_count": 10,
   "metadata": {
    "tags": []
   },
   "outputs": [],
   "source": [
    "tuner = keras_tuner.RandomSearch(\n",
    "    hypermodel=build_mnist_model,\n",
    "    objective=\"accuracy\",\n",
    "    max_trials=25, # max_trials represents the number of hyperparameter combinations that will be tested by the tuner (like n_iter in sklearn random search)\n",
    "    executions_per_trial=2, # max number of models to fit per set of set of hyperparameters combinations\n",
    "    directory='keras_tuner_dir',\n",
    "    project_name='kt_intro_mnist',\n",
    "    overwrite=True\n",
    ")\n",
    "\n",
    "tuner.save()\n"
   ]
  },
  {
   "attachments": {},
   "cell_type": "markdown",
   "metadata": {},
   "source": [
    "Get a summary of the overal 'search space' (all the possible paremater values)."
   ]
  },
  {
   "cell_type": "code",
   "execution_count": 11,
   "metadata": {
    "tags": []
   },
   "outputs": [
    {
     "name": "stdout",
     "output_type": "stream",
     "text": [
      "Search space summary\n",
      "Default search space size: 5\n",
      "hidden_layer_count (Int)\n",
      "{'default': None, 'conditions': [], 'min_value': 1, 'max_value': 5, 'step': 1, 'sampling': 'linear'}\n",
      "units (Int)\n",
      "{'default': None, 'conditions': [], 'min_value': 32, 'max_value': 1024, 'step': 32, 'sampling': 'linear'}\n",
      "activation (Choice)\n",
      "{'default': 'selu', 'conditions': [], 'values': ['selu', 'elu', 'relu', 'tanh'], 'ordered': False}\n",
      "lr (Float)\n",
      "{'default': 0.0001, 'conditions': [], 'min_value': 0.0001, 'max_value': 0.01, 'step': None, 'sampling': 'linear'}\n",
      "optimizer (Choice)\n",
      "{'default': 'adam', 'conditions': [], 'values': ['adam', 'sgd'], 'ordered': False}\n"
     ]
    }
   ],
   "source": [
    "tuner.search_space_summary()"
   ]
  },
  {
   "attachments": {},
   "cell_type": "markdown",
   "metadata": {},
   "source": [
    "Train the model..."
   ]
  },
  {
   "cell_type": "code",
   "execution_count": 12,
   "metadata": {
    "tags": []
   },
   "outputs": [
    {
     "name": "stdout",
     "output_type": "stream",
     "text": [
      "Trial 25 Complete [00h 00m 17s]\n",
      "accuracy: 0.9993041157722473\n",
      "\n",
      "Best accuracy So Far: 1.0\n",
      "Total elapsed time: 00h 07m 33s\n",
      "INFO:tensorflow:Oracle triggered exit\n",
      "CPU times: total: 27min 18s\n",
      "Wall time: 7min 33s\n"
     ]
    }
   ],
   "source": [
    "%%time\n",
    "tuner.search(X_train, y_train, epochs=10, batch_size=13, validation_data=(X_test, y_test))"
   ]
  },
  {
   "cell_type": "code",
   "execution_count": 13,
   "metadata": {},
   "outputs": [],
   "source": [
    "histories = []"
   ]
  },
  {
   "cell_type": "code",
   "execution_count": 14,
   "metadata": {},
   "outputs": [
    {
     "name": "stdout",
     "output_type": "stream",
     "text": [
      "Model: \"sequential\"\n",
      "_________________________________________________________________\n",
      " Layer (type)                Output Shape              Param #   \n",
      "=================================================================\n",
      " dense (Dense)               (None, 1024)              66560     \n",
      "                                                                 \n",
      " dense_1 (Dense)             (None, 10)                10250     \n",
      "                                                                 \n",
      "=================================================================\n",
      "Total params: 76,810\n",
      "Trainable params: 76,810\n",
      "Non-trainable params: 0\n",
      "_________________________________________________________________\n",
      "Model: \"sequential\"\n",
      "_________________________________________________________________\n",
      " Layer (type)                Output Shape              Param #   \n",
      "=================================================================\n",
      " dense (Dense)               (None, 736)               47840     \n",
      "                                                                 \n",
      " dense_1 (Dense)             (None, 736)               542432    \n",
      "                                                                 \n",
      " dense_2 (Dense)             (None, 736)               542432    \n",
      "                                                                 \n",
      " dense_3 (Dense)             (None, 10)                7370      \n",
      "                                                                 \n",
      "=================================================================\n",
      "Total params: 1,140,074\n",
      "Trainable params: 1,140,074\n",
      "Non-trainable params: 0\n",
      "_________________________________________________________________\n",
      "Model: \"sequential\"\n",
      "_________________________________________________________________\n",
      " Layer (type)                Output Shape              Param #   \n",
      "=================================================================\n",
      " dense (Dense)               (None, 512)               33280     \n",
      "                                                                 \n",
      " dense_1 (Dense)             (None, 10)                5130      \n",
      "                                                                 \n",
      "=================================================================\n",
      "Total params: 38,410\n",
      "Trainable params: 38,410\n",
      "Non-trainable params: 0\n",
      "_________________________________________________________________\n",
      "Model: \"sequential\"\n",
      "_________________________________________________________________\n",
      " Layer (type)                Output Shape              Param #   \n",
      "=================================================================\n",
      " dense (Dense)               (None, 704)               45760     \n",
      "                                                                 \n",
      " dense_1 (Dense)             (None, 10)                7050      \n",
      "                                                                 \n",
      "=================================================================\n",
      "Total params: 52,810\n",
      "Trainable params: 52,810\n",
      "Non-trainable params: 0\n",
      "_________________________________________________________________\n",
      "Model: \"sequential\"\n",
      "_________________________________________________________________\n",
      " Layer (type)                Output Shape              Param #   \n",
      "=================================================================\n",
      " dense (Dense)               (None, 480)               31200     \n",
      "                                                                 \n",
      " dense_1 (Dense)             (None, 480)               230880    \n",
      "                                                                 \n",
      " dense_2 (Dense)             (None, 10)                4810      \n",
      "                                                                 \n",
      "=================================================================\n",
      "Total params: 266,890\n",
      "Trainable params: 266,890\n",
      "Non-trainable params: 0\n",
      "_________________________________________________________________\n",
      "WARNING:tensorflow:Detecting that an object or model or tf.train.Checkpoint is being deleted with unrestored values. See the following logs for the specific values in question. To silence these warnings, use `status.expect_partial()`. See https://www.tensorflow.org/api_docs/python/tf/train/Checkpoint#restorefor details about the status object returned by the restore function.\n",
      "WARNING:tensorflow:Value in checkpoint could not be found in the restored object: (root).optimizer.iter\n",
      "WARNING:tensorflow:Value in checkpoint could not be found in the restored object: (root).optimizer.beta_1\n",
      "WARNING:tensorflow:Value in checkpoint could not be found in the restored object: (root).optimizer.beta_2\n",
      "WARNING:tensorflow:Value in checkpoint could not be found in the restored object: (root).optimizer.decay\n",
      "WARNING:tensorflow:Value in checkpoint could not be found in the restored object: (root).optimizer.learning_rate\n",
      "WARNING:tensorflow:Detecting that an object or model or tf.train.Checkpoint is being deleted with unrestored values. See the following logs for the specific values in question. To silence these warnings, use `status.expect_partial()`. See https://www.tensorflow.org/api_docs/python/tf/train/Checkpoint#restorefor details about the status object returned by the restore function.\n",
      "WARNING:tensorflow:Value in checkpoint could not be found in the restored object: (root).optimizer.iter\n",
      "WARNING:tensorflow:Value in checkpoint could not be found in the restored object: (root).optimizer.beta_1\n",
      "WARNING:tensorflow:Value in checkpoint could not be found in the restored object: (root).optimizer.beta_2\n",
      "WARNING:tensorflow:Value in checkpoint could not be found in the restored object: (root).optimizer.decay\n",
      "WARNING:tensorflow:Value in checkpoint could not be found in the restored object: (root).optimizer.learning_rate\n",
      "WARNING:tensorflow:Detecting that an object or model or tf.train.Checkpoint is being deleted with unrestored values. See the following logs for the specific values in question. To silence these warnings, use `status.expect_partial()`. See https://www.tensorflow.org/api_docs/python/tf/train/Checkpoint#restorefor details about the status object returned by the restore function.\n",
      "WARNING:tensorflow:Value in checkpoint could not be found in the restored object: (root).optimizer.iter\n",
      "WARNING:tensorflow:Value in checkpoint could not be found in the restored object: (root).optimizer.beta_1\n",
      "WARNING:tensorflow:Value in checkpoint could not be found in the restored object: (root).optimizer.beta_2\n",
      "WARNING:tensorflow:Value in checkpoint could not be found in the restored object: (root).optimizer.decay\n",
      "WARNING:tensorflow:Value in checkpoint could not be found in the restored object: (root).optimizer.learning_rate\n",
      "WARNING:tensorflow:Detecting that an object or model or tf.train.Checkpoint is being deleted with unrestored values. See the following logs for the specific values in question. To silence these warnings, use `status.expect_partial()`. See https://www.tensorflow.org/api_docs/python/tf/train/Checkpoint#restorefor details about the status object returned by the restore function.\n",
      "WARNING:tensorflow:Value in checkpoint could not be found in the restored object: (root).optimizer.iter\n",
      "WARNING:tensorflow:Value in checkpoint could not be found in the restored object: (root).optimizer.beta_1\n",
      "WARNING:tensorflow:Value in checkpoint could not be found in the restored object: (root).optimizer.beta_2\n",
      "WARNING:tensorflow:Value in checkpoint could not be found in the restored object: (root).optimizer.decay\n",
      "WARNING:tensorflow:Value in checkpoint could not be found in the restored object: (root).optimizer.learning_rate\n"
     ]
    }
   ],
   "source": [
    "for best_model in tuner.get_best_models(num_models=5):\n",
    "    best_model.summary()"
   ]
  },
  {
   "cell_type": "code",
   "execution_count": 15,
   "metadata": {},
   "outputs": [
    {
     "name": "stdout",
     "output_type": "stream",
     "text": [
      "Results summary\n",
      "Results in keras_tuner_dir\\kt_intro_mnist\n",
      "Showing 10 best trials\n",
      "Objective(name=\"accuracy\", direction=\"max\")\n",
      "\n",
      "Trial 01 summary\n",
      "Hyperparameters:\n",
      "hidden_layer_count: 1\n",
      "units: 1024\n",
      "activation: selu\n",
      "lr: 0.004509248348283874\n",
      "optimizer: adam\n",
      "Score: 1.0\n",
      "\n",
      "Trial 10 summary\n",
      "Hyperparameters:\n",
      "hidden_layer_count: 3\n",
      "units: 736\n",
      "activation: elu\n",
      "lr: 0.002646990167532869\n",
      "optimizer: adam\n",
      "Score: 1.0\n",
      "\n",
      "Trial 16 summary\n",
      "Hyperparameters:\n",
      "hidden_layer_count: 1\n",
      "units: 512\n",
      "activation: selu\n",
      "lr: 0.006349380983864907\n",
      "optimizer: adam\n",
      "Score: 1.0\n",
      "\n",
      "Trial 17 summary\n",
      "Hyperparameters:\n",
      "hidden_layer_count: 1\n",
      "units: 704\n",
      "activation: tanh\n",
      "lr: 0.007488291519549304\n",
      "optimizer: adam\n",
      "Score: 1.0\n",
      "\n",
      "Trial 20 summary\n",
      "Hyperparameters:\n",
      "hidden_layer_count: 2\n",
      "units: 480\n",
      "activation: tanh\n",
      "lr: 0.0008343647183259987\n",
      "optimizer: adam\n",
      "Score: 1.0\n",
      "\n",
      "Trial 18 summary\n",
      "Hyperparameters:\n",
      "hidden_layer_count: 1\n",
      "units: 160\n",
      "activation: elu\n",
      "lr: 0.0032854510509754903\n",
      "optimizer: adam\n",
      "Score: 0.9996520578861237\n",
      "\n",
      "Trial 24 summary\n",
      "Hyperparameters:\n",
      "hidden_layer_count: 4\n",
      "units: 512\n",
      "activation: selu\n",
      "lr: 0.009674093671527271\n",
      "optimizer: sgd\n",
      "Score: 0.9993041157722473\n",
      "\n",
      "Trial 13 summary\n",
      "Hyperparameters:\n",
      "hidden_layer_count: 5\n",
      "units: 480\n",
      "activation: relu\n",
      "lr: 0.00113399930604179\n",
      "optimizer: adam\n",
      "Score: 0.9982602596282959\n",
      "\n",
      "Trial 04 summary\n",
      "Hyperparameters:\n",
      "hidden_layer_count: 3\n",
      "units: 512\n",
      "activation: selu\n",
      "lr: 0.0027685132400107134\n",
      "optimizer: sgd\n",
      "Score: 0.9975643455982208\n",
      "\n",
      "Trial 03 summary\n",
      "Hyperparameters:\n",
      "hidden_layer_count: 4\n",
      "units: 640\n",
      "activation: selu\n",
      "lr: 0.004059475953138281\n",
      "optimizer: adam\n",
      "Score: 0.9972164332866669\n"
     ]
    }
   ],
   "source": [
    "tuner.results_summary()"
   ]
  },
  {
   "cell_type": "code",
   "execution_count": 16,
   "metadata": {},
   "outputs": [
    {
     "data": {
      "text/plain": [
       "{'hidden_layer_count': 1,\n",
       " 'units': 1024,\n",
       " 'activation': 'selu',\n",
       " 'lr': 0.004509248348283874,\n",
       " 'optimizer': 'adam'}"
      ]
     },
     "execution_count": 16,
     "metadata": {},
     "output_type": "execute_result"
    }
   ],
   "source": [
    "best_hps = tuner.get_best_hyperparameters(5)\n",
    "best_hps[0].values"
   ]
  },
  {
   "attachments": {},
   "cell_type": "markdown",
   "metadata": {},
   "source": [
    "Let's get an overview of the structure of the top model (set of parameters) found."
   ]
  },
  {
   "cell_type": "code",
   "execution_count": 17,
   "metadata": {},
   "outputs": [
    {
     "name": "stdout",
     "output_type": "stream",
     "text": [
      "WARNING:tensorflow:Detecting that an object or model or tf.train.Checkpoint is being deleted with unrestored values. See the following logs for the specific values in question. To silence these warnings, use `status.expect_partial()`. See https://www.tensorflow.org/api_docs/python/tf/train/Checkpoint#restorefor details about the status object returned by the restore function.\n",
      "WARNING:tensorflow:Value in checkpoint could not be found in the restored object: (root).optimizer.iter\n",
      "WARNING:tensorflow:Value in checkpoint could not be found in the restored object: (root).optimizer.beta_1\n",
      "WARNING:tensorflow:Value in checkpoint could not be found in the restored object: (root).optimizer.beta_2\n",
      "WARNING:tensorflow:Value in checkpoint could not be found in the restored object: (root).optimizer.decay\n",
      "WARNING:tensorflow:Value in checkpoint could not be found in the restored object: (root).optimizer.learning_rate\n",
      "Model: \"sequential\"\n",
      "_________________________________________________________________\n",
      " Layer (type)                Output Shape              Param #   \n",
      "=================================================================\n",
      " dense (Dense)               (None, 1024)              66560     \n",
      "                                                                 \n",
      " dense_1 (Dense)             (None, 10)                10250     \n",
      "                                                                 \n",
      "=================================================================\n",
      "Total params: 76,810\n",
      "Trainable params: 76,810\n",
      "Non-trainable params: 0\n",
      "_________________________________________________________________\n"
     ]
    }
   ],
   "source": [
    "# Get list of the top 2 models.\n",
    "#models = tuner.get_best_models(num_models=1)\n",
    "models = tuner.get_best_models()\n",
    "\n",
    "# select the first one in the list (this is the best performing model)\n",
    "best_model = models[0] # select the first one\n",
    "\n",
    "# display summary of model training\n",
    "best_model.summary()\n",
    "\n",
    "# NOTE: If you get them, y=ou can ignore warnings about tf.train.Checkpoint."
   ]
  },
  {
   "cell_type": "code",
   "execution_count": 18,
   "metadata": {},
   "outputs": [
    {
     "name": "stdout",
     "output_type": "stream",
     "text": [
      "Epoch 1/20\n",
      "13/13 [==============================] - 2s 53ms/step - loss: 9.2554e-04 - accuracy: 1.0000 - val_loss: 0.1021 - val_accuracy: 0.9778\n",
      "Epoch 2/20\n",
      "13/13 [==============================] - 0s 10ms/step - loss: 9.1260e-04 - accuracy: 1.0000 - val_loss: 0.1008 - val_accuracy: 0.9806\n",
      "Epoch 3/20\n",
      "13/13 [==============================] - 0s 11ms/step - loss: 7.0316e-04 - accuracy: 1.0000 - val_loss: 0.0997 - val_accuracy: 0.9806\n",
      "Epoch 4/20\n",
      "13/13 [==============================] - 0s 17ms/step - loss: 5.9138e-04 - accuracy: 1.0000 - val_loss: 0.0992 - val_accuracy: 0.9833\n",
      "Epoch 5/20\n",
      "13/13 [==============================] - 0s 17ms/step - loss: 5.6502e-04 - accuracy: 1.0000 - val_loss: 0.0990 - val_accuracy: 0.9833\n",
      "Epoch 6/20\n",
      "13/13 [==============================] - 0s 9ms/step - loss: 5.5928e-04 - accuracy: 1.0000 - val_loss: 0.0986 - val_accuracy: 0.9833\n",
      "Epoch 7/20\n",
      "13/13 [==============================] - 0s 10ms/step - loss: 5.4833e-04 - accuracy: 1.0000 - val_loss: 0.0985 - val_accuracy: 0.9833\n",
      "Epoch 8/20\n",
      "13/13 [==============================] - 0s 9ms/step - loss: 5.4326e-04 - accuracy: 1.0000 - val_loss: 0.0984 - val_accuracy: 0.9806\n",
      "Epoch 9/20\n",
      "13/13 [==============================] - 0s 10ms/step - loss: 5.3976e-04 - accuracy: 1.0000 - val_loss: 0.0981 - val_accuracy: 0.9806\n",
      "Epoch 10/20\n",
      "13/13 [==============================] - 0s 10ms/step - loss: 5.3270e-04 - accuracy: 1.0000 - val_loss: 0.0981 - val_accuracy: 0.9806\n",
      "Epoch 11/20\n",
      "13/13 [==============================] - 0s 11ms/step - loss: 5.2610e-04 - accuracy: 1.0000 - val_loss: 0.0979 - val_accuracy: 0.9806\n",
      "Epoch 12/20\n",
      "13/13 [==============================] - 0s 9ms/step - loss: 5.1985e-04 - accuracy: 1.0000 - val_loss: 0.0979 - val_accuracy: 0.9806\n",
      "Epoch 13/20\n",
      "13/13 [==============================] - 0s 8ms/step - loss: 5.1425e-04 - accuracy: 1.0000 - val_loss: 0.0978 - val_accuracy: 0.9806\n",
      "Epoch 14/20\n",
      "13/13 [==============================] - 0s 8ms/step - loss: 5.1123e-04 - accuracy: 1.0000 - val_loss: 0.0978 - val_accuracy: 0.9806\n",
      "Epoch 15/20\n",
      "13/13 [==============================] - 0s 8ms/step - loss: 5.0491e-04 - accuracy: 1.0000 - val_loss: 0.0977 - val_accuracy: 0.9806\n",
      "Epoch 16/20\n",
      "13/13 [==============================] - 0s 9ms/step - loss: 5.0209e-04 - accuracy: 1.0000 - val_loss: 0.0976 - val_accuracy: 0.9806\n",
      "Epoch 17/20\n",
      "13/13 [==============================] - 0s 9ms/step - loss: 4.9637e-04 - accuracy: 1.0000 - val_loss: 0.0975 - val_accuracy: 0.9806\n",
      "Epoch 18/20\n",
      "13/13 [==============================] - 0s 9ms/step - loss: 4.9283e-04 - accuracy: 1.0000 - val_loss: 0.0975 - val_accuracy: 0.9806\n",
      "Epoch 19/20\n",
      "13/13 [==============================] - 0s 8ms/step - loss: 4.8780e-04 - accuracy: 1.0000 - val_loss: 0.0974 - val_accuracy: 0.9806\n",
      "Epoch 20/20\n",
      "13/13 [==============================] - 0s 8ms/step - loss: 4.8358e-04 - accuracy: 1.0000 - val_loss: 0.0974 - val_accuracy: 0.9806\n"
     ]
    }
   ],
   "source": [
    "history = best_model.fit(X_train, y_train, epochs=20, batch_size=111, validation_data=(X_test, y_test))"
   ]
  },
  {
   "cell_type": "code",
   "execution_count": 19,
   "metadata": {},
   "outputs": [
    {
     "name": "stdout",
     "output_type": "stream",
     "text": [
      "12/12 [==============================] - 0s 3ms/step - loss: 0.0974 - accuracy: 0.9806\n",
      "Loss 0.09739\n",
      "Accuracy 0.98056\n"
     ]
    }
   ],
   "source": [
    "loss, accuracy = best_model.evaluate(X_test, y_test)\n",
    "print(f\"Loss {loss:.5f}\\nAccuracy {accuracy:.5f}\")"
   ]
  },
  {
   "cell_type": "code",
   "execution_count": 20,
   "metadata": {},
   "outputs": [
    {
     "name": "stdout",
     "output_type": "stream",
     "text": [
      "dict_keys(['loss', 'accuracy', 'val_loss', 'val_accuracy'])\n"
     ]
    }
   ],
   "source": [
    "# list all data in history\n",
    "print(history.history.keys())"
   ]
  },
  {
   "cell_type": "code",
   "execution_count": 21,
   "metadata": {
    "tags": []
   },
   "outputs": [
    {
     "data": {
      "image/png": "[encoded data removed]",
      "text/plain": [
       "<Figure size 640x480 with 1 Axes>"
      ]
     },
     "metadata": {},
     "output_type": "display_data"
    }
   ],
   "source": [
    "# summarize history for accuracy\n",
    "plt.plot(history.history['accuracy'])\n",
    "plt.plot(history.history['val_accuracy'])\n",
    "plt.title('model accuracy')\n",
    "plt.ylabel('accuracy')\n",
    "plt.xlabel('epoch')\n",
    "plt.legend(['train', 'validation'], loc='upper left')\n",
    "plt.show()\n"
   ]
  },
  {
   "cell_type": "code",
   "execution_count": 22,
   "metadata": {},
   "outputs": [
    {
     "data": {
      "image/png": "[encoded data removed]",
      "text/plain": [
       "<Figure size 640x480 with 1 Axes>"
      ]
     },
     "metadata": {},
     "output_type": "display_data"
    }
   ],
   "source": [
    "# summarize history for loss\n",
    "plt.plot(history.history['loss'])\n",
    "plt.plot(history.history['val_loss'])\n",
    "plt.title('model loss')\n",
    "plt.ylabel('loss')\n",
    "plt.xlabel('epoch')\n",
    "plt.legend(['train', 'validation'], loc='upper left')\n",
    "plt.show()"
   ]
  },
  {
   "attachments": {},
   "cell_type": "markdown",
   "metadata": {},
   "source": [
    "## Investigating the Confusion Matrix"
   ]
  },
  {
   "attachments": {},
   "cell_type": "markdown",
   "metadata": {},
   "source": [
    "We can use sklearn's classification report and confusion matrix functions to see how well our model did at predicting the correct digit.\n",
    "\n",
    "First though, we need get predictions from our model for the test data. "
   ]
  },
  {
   "cell_type": "code",
   "execution_count": 23,
   "metadata": {},
   "outputs": [
    {
     "name": "stdout",
     "output_type": "stream",
     "text": [
      "12/12 [==============================] - 0s 1ms/step\n"
     ]
    }
   ],
   "source": [
    "y_pred = best_model.predict(X_test)"
   ]
  },
  {
   "attachments": {},
   "cell_type": "markdown",
   "metadata": {},
   "source": [
    "But, the resulting predictions are an array of 10 values, each with a probability associated with each of the 10 digits. We need to convert this to a single digit prediction. We can do this by using the argmax function to get the index of the highest probability value."
   ]
  },
  {
   "cell_type": "code",
   "execution_count": 24,
   "metadata": {},
   "outputs": [
    {
     "data": {
      "text/plain": [
       "array([3.4696111e-16, 9.9965072e-01, 3.4276202e-12, 1.0881993e-14,\n",
       "       6.2508105e-09, 1.4317520e-13, 6.5610811e-10, 1.4615162e-11,\n",
       "       3.4923427e-04, 7.3334022e-10], dtype=float32)"
      ]
     },
     "execution_count": 24,
     "metadata": {},
     "output_type": "execute_result"
    }
   ],
   "source": [
    "y_pred[0] # note that the results from the model are probabilities for each class"
   ]
  },
  {
   "cell_type": "code",
   "execution_count": 25,
   "metadata": {},
   "outputs": [
    {
     "data": {
      "text/plain": [
       "0.99999994"
      ]
     },
     "execution_count": 25,
     "metadata": {},
     "output_type": "execute_result"
    }
   ],
   "source": [
    "y_pred[0].sum() # the probabilities sum to 1; this is a requirement for a softmax output layer"
   ]
  },
  {
   "cell_type": "code",
   "execution_count": 26,
   "metadata": {},
   "outputs": [],
   "source": [
    "y_pred = y_pred.argmax(axis=1) # convert the probabilities to class labels"
   ]
  },
  {
   "cell_type": "code",
   "execution_count": 27,
   "metadata": {},
   "outputs": [
    {
     "data": {
      "text/plain": [
       "array([1, 5, 0, 7, 1, 0, 6, 1, 5, 4], dtype=int64)"
      ]
     },
     "execution_count": 27,
     "metadata": {},
     "output_type": "execute_result"
    }
   ],
   "source": [
    "y_pred[0:10] # the class labels for the first 10 test samples\n"
   ]
  },
  {
   "attachments": {},
   "cell_type": "markdown",
   "metadata": {},
   "source": [
    "Now that we have the labeled predictions, let's use these to evaluate the model peformance and diplay the confusion matrix."
   ]
  },
  {
   "cell_type": "code",
   "execution_count": 28,
   "metadata": {},
   "outputs": [
    {
     "name": "stdout",
     "output_type": "stream",
     "text": [
      "              precision    recall  f1-score   support\n",
      "\n",
      "           0     1.0000    0.9767    0.9882        43\n",
      "           1     1.0000    1.0000    1.0000        35\n",
      "           2     1.0000    1.0000    1.0000        36\n",
      "           3     0.9762    1.0000    0.9880        41\n",
      "           4     0.9500    1.0000    0.9744        38\n",
      "           5     0.9062    0.9667    0.9355        30\n",
      "           6     1.0000    1.0000    1.0000        37\n",
      "           7     1.0000    0.9189    0.9577        37\n",
      "           8     0.9655    0.9655    0.9655        29\n",
      "           9     1.0000    0.9706    0.9851        34\n",
      "\n",
      "    accuracy                         0.9806       360\n",
      "   macro avg     0.9798    0.9798    0.9794       360\n",
      "weighted avg     0.9814    0.9806    0.9806       360\n",
      "\n"
     ]
    }
   ],
   "source": [
    "from sklearn.metrics import classification_report\n",
    "print(classification_report(y_test, y_pred, digits=4))"
   ]
  },
  {
   "cell_type": "code",
   "execution_count": 29,
   "metadata": {
    "tags": []
   },
   "outputs": [
    {
     "name": "stdout",
     "output_type": "stream",
     "text": [
      "[(0, 43), (1, 35), (2, 36), (3, 41), (4, 38), (5, 30), (6, 37), (7, 37), (8, 29), (9, 34)]\n"
     ]
    },
    {
     "data": {
      "image/png": "[encoded data removed]",
      "text/plain": [
       "<Figure size 640x480 with 2 Axes>"
      ]
     },
     "metadata": {},
     "output_type": "display_data"
    }
   ],
   "source": [
    "from sklearn.metrics import ConfusionMatrixDisplay\n",
    "from sklearn.metrics import confusion_matrix\n",
    "import collections\n",
    "\n",
    "# for reference, list the frequency of each digit found in the y_test data\n",
    "print(sorted(collections.Counter(y_test).items(), key=lambda i: i[0]))\n",
    "      \n",
    "# display the confusion matrix\n",
    "cm = confusion_matrix(y_test, y_pred)  #\n",
    "disp = ConfusionMatrixDisplay(confusion_matrix=cm)\n",
    "disp.plot(cmap=plt.cm.Blues)\n",
    "plt.show()"
   ]
  },
  {
   "attachments": {},
   "cell_type": "markdown",
   "metadata": {},
   "source": [
    "### Evaluate The Model's Performance\n",
    "Now, we need to evaluate the model on the test data. We can do this with the evaluate() method."
   ]
  },
  {
   "attachments": {},
   "cell_type": "markdown",
   "metadata": {},
   "source": [
    "## Plots discussion"
   ]
  },
  {
   "attachments": {},
   "cell_type": "markdown",
   "metadata": {},
   "source": [
    "#### Note: I used hyperparameter tuning to get the best model and then refitted that best model\n",
    "**Accuracy vs Epochs:** The model has achieved 100% accuracy on the training set, which is excellent for the MNIST dataset since it is relatively simple and clean. However, the validation accuracy being stuck at around 97.78% which suggests that there might be some examples in the test set that are inherently difficult to classify, perhaps due to the handwriting or digit style.\n",
    "\n",
    "**Loss vs Epochs:** The training loss is consistently decreasing, indicating that the model is learning and improving its predictions on the training data with each epoch. However, the validation loss appears to be more or less constant, with very slight fluctuations. The model seems to achieve its minimum validation loss at around epoch 6, after which it very slightly increases. This indicates that the model might not be generalizing well to the validation data after the 6th epoch.\n",
    "\n",
    "In the case of using MNIST data, it's worth noting that 97.78% accuracy on the validation set is a reasonable result. This is a relatively high level of accuracy, given the complexity and variability of handwritten digits. But as I used hyperparameter tuning to get the best model and then refitted that model, a higher accuracy is obvious considering that DNNs are capable of achieving above 99% accuracy on this dataset."
   ]
  }
 ],
 "metadata": {
  "colab": {
   "authorship_tag": "ABX9TyOig4eSm144+FaPk1GKk187",
   "collapsed_sections": [],
   "include_colab_link": true,
   "name": "mnist_compete_3_models.ipynb",
   "provenance": []
  },
  "kernelspec": {
   "display_name": "Python 3 (ipykernel)",
   "language": "python",
   "name": "python3"
  },
  "language_info": {
   "codemirror_mode": {
    "name": "ipython",
    "version": 3
   },
   "file_extension": ".py",
   "mimetype": "text/x-python",
   "name": "python",
   "nbconvert_exporter": "python",
   "pygments_lexer": "ipython3",
   "version": "3.10.11"
  },
  "vscode": {
   "interpreter": {
    "hash": "b056086e24cb5602cbcb82122035cd3d6ee2ccbf5df29c16e348c108b0f83be3"
   }
  }
 },
 "nbformat": 4,
 "nbformat_minor": 4
}
